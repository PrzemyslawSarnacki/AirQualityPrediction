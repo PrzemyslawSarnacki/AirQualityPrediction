{
 "metadata": {
  "language_info": {
   "codemirror_mode": {
    "name": "ipython",
    "version": 3
   },
   "file_extension": ".py",
   "mimetype": "text/x-python",
   "name": "python",
   "nbconvert_exporter": "python",
   "pygments_lexer": "ipython3",
   "version": "3.8.2-final"
  },
  "orig_nbformat": 2,
  "kernelspec": {
   "name": "Python 3.8.2 64-bit",
   "display_name": "Python 3.8.2 64-bit",
   "metadata": {
    "interpreter": {
     "hash": "3c5cd7c20a6c0cf497e9818a6a41625112a64e77db59a22834d719e0aba27e13"
    }
   }
  }
 },
 "nbformat": 4,
 "nbformat_minor": 2,
 "cells": [
  {
   "cell_type": "code",
   "execution_count": 11,
   "metadata": {},
   "outputs": [],
   "source": [
    "# string = \"OPEAMPHVZQVD E APSVQF TMEZRPHZU V RVSZU QDJTV DQXVZSLTVZXP\"\n",
    "string = \"APSVQF\"\n",
    "\n",
    "dictionary = {\n",
    "'V': 'I' ,\n",
    "'Z': 'E' ,\n",
    "'P': 'O' ,\n",
    "'Q': 'N' ,\n",
    "'D': 'A' ,\n",
    "'E': 'Z' ,\n",
    "'S': 'L' ,\n",
    "'T': 'K' ,\n",
    "'A': 'D' ,\n",
    "'H': 'W' ,\n",
    "'M': 'R' ,\n",
    "'R': 'M' ,\n",
    "'U': 'J' ,\n",
    "'X': 'G' ,\n",
    "'F': 'Y' ,\n",
    "'J': 'U' ,\n",
    "'L': 'S' ,\n",
    "'O': 'P'\n",
    " }\n"
   ]
  },
  {
   "cell_type": "code",
   "execution_count": 12,
   "metadata": {},
   "outputs": [
    {
     "output_type": "execute_result",
     "data": {
      "text/plain": [
       "'APSVQF'"
      ]
     },
     "metadata": {},
     "execution_count": 12
    }
   ],
   "source": [
    "string"
   ]
  },
  {
   "cell_type": "code",
   "execution_count": 13,
   "metadata": {},
   "outputs": [
    {
     "output_type": "execute_result",
     "data": {
      "text/plain": [
       "'DPSINY'"
      ]
     },
     "metadata": {},
     "execution_count": 13
    }
   ],
   "source": [
    "result = string\n",
    "for key, value in zip(dictionary, dictionary.values()):\n",
    "    result = result.replace(key, value)\n",
    "result"
   ]
  },
  {
   "cell_type": "code",
   "execution_count": null,
   "metadata": {},
   "outputs": [],
   "source": []
  }
 ]
}