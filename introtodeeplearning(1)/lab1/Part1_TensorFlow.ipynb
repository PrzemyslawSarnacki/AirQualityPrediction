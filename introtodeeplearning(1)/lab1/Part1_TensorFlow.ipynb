{
    "nbformat": 4,
    "nbformat_minor": 0,
    "metadata": {
        "colab": {
            "name": "Part1_TensorFlow.ipynb",
            "provenance": [
                {
                    "file_id": "https://github.com/aamini/introtodeeplearning/blob/master/lab1/Part1_tensorflow_solution.ipynb",
                    "timestamp": 1577671276005
                }
            ],
            "collapsed_sections": [
                "WBk0ZDWY-ff8"
            ]
        },
        "kernelspec": {
            "name": "python3",
            "display_name": "Python 3"
        },
        "accelerator": "GPU"
    },
    "cells": [
        {
            "cell_type": "markdown",
            "metadata": {
                "id": "WBk0ZDWY-ff8",
                "colab_type": "text"
            },
            "source": [
                "<table align=\"center\">\n",
                "  <td align=\"center\"><a target=\"_blank\" href=\"http://introtodeeplearning.com\">\n",
                "        <img src=\"http://introtodeeplearning.com/images/colab/mit.png\" style=\"padding-bottom:5px;\" />\n",
                "      Visit MIT Deep Learning</a></td>\n",
                "  <td align=\"center\"><a target=\"_blank\" href=\"https://colab.research.google.com/github/aamini/introtodeeplearning/blob/master/lab1/Part1_TensorFlow.ipynb\">\n",
                "        <img src=\"http://introtodeeplearning.com/images/colab/colab.png?v2.0\"  style=\"padding-bottom:5px;\" />Run in Google Colab</a></td>\n",
                "  <td align=\"center\"><a target=\"_blank\" href=\"https://github.com/aamini/introtodeeplearning/blob/master/lab1/Part1_TensorFlow.ipynb\">\n",
                "        <img src=\"http://introtodeeplearning.com/images/colab/github.png\"  height=\"70px\" style=\"padding-bottom:5px;\"  />View Source on GitHub</a></td>\n",
                "</table>\n",
                "\n",
                "# Copyright Information\n"
            ]
        },
        {
            "cell_type": "code",
            "metadata": {
                "id": "3eI6DUic-6jo",
                "colab_type": "code",
                "colab": {}
            },
            "source": [
                "# Copyright 2020 MIT 6.S191 Introduction to Deep Learning. All Rights Reserved.\n",
                "# \n",
                "# Licensed under the MIT License. You may not use this file except in compliance\n",
                "# with the License. Use and/or modification of this code outside of 6.S191 must\n",
                "# reference:\n",
                "#\n",
                "# © MIT 6.S191: Introduction to Deep Learning\n",
                "# http://introtodeeplearning.com\n",
                "#"
            ],
            "execution_count": 0,
            "outputs": []
        },
        {
            "cell_type": "markdown",
            "metadata": {
                "id": "57knM8jrYZ2t",
                "colab_type": "text"
            },
            "source": [
                "# Lab 1: Intro to TensorFlow and Music Generation with RNNs\n",
                "\n",
                "In this lab, you'll get exposure to using TensorFlow and learn how it can be used for solving deep learning tasks. Go through the code and run each cell. Along the way, you'll encounter several ***TODO*** blocks -- follow the instructions to fill them out before running those cells and continuing.\n",
                "\n",
                "\n",
                "# Part 1: Intro to TensorFlow\n",
                "\n",
                "## 0.1 Install TensorFlow\n",
                "\n",
                "TensorFlow is a software library extensively used in machine learning. Here we'll learn how computations are represented and how to define a simple neural network in TensorFlow. For all the labs in 6.S191 2020, we'll be using the latest version of TensorFlow, TensorFlow 2, which affords great flexibility and the ability to imperatively execute operations, just like in Python. You'll notice that TensorFlow 2 is quite similar to Python in its syntax and imperative execution. Let's install TensorFlow and a couple of dependencies.\n"
            ]
        },
        {
            "cell_type": "code",
            "metadata": {
                "id": "LkaimNJfYZ2w",
                "colab_type": "code",
                "colab": {},
                "tags": []
            },
            "source": [
                "import tensorflow as tf\n",
                "\n",
                "# Download and import the MIT 6.S191 package\n",
                "import mitdeeplearning as mdl\n",
                "\n",
                "import numpy as np\n",
                "import matplotlib.pyplot as plt"
            ],
            "execution_count": 2,
            "outputs": []
        },
        {
            "cell_type": "markdown",
            "metadata": {
                "id": "2QNMcdP4m3Vs",
                "colab_type": "text"
            },
            "source": [
                "## 1.1 Why is TensorFlow called TensorFlow?\n",
                "\n",
                "TensorFlow is called 'TensorFlow' because it handles the flow (node/mathematical operation) of Tensors, which are data structures that you can think of as multi-dimensional arrays. Tensors are represented as n-dimensional arrays of base dataypes such as a string or integer -- they provide a way to generalize vectors and matrices to higher dimensions.\n",
                "\n",
                "The ```shape``` of a Tensor defines its number of dimensions and the size of each dimension. The ```rank``` of a Tensor provides the number of dimensions (n-dimensions) -- you can also think of this as the Tensor's order or degree.\n",
                "\n",
                "Let's first look at 0-d Tensors, of which a scalar is an example:"
            ]
        },
        {
            "cell_type": "code",
            "metadata": {
                "id": "tFxztZQInlAB",
                "colab_type": "code",
                "colab": {},
                "tags": []
            },
            "source": [
                "sport = tf.constant(\"Tennis\", tf.string)\n",
                "number = tf.constant(1.41421356237, tf.float64)\n",
                "\n",
                "print(\"`sport` is a {}-d Tensor\".format(tf.rank(sport).numpy()))\n",
                "print(\"`number` is a {}-d Tensor\".format(tf.rank(number).numpy()))"
            ],
            "execution_count": 3,
            "outputs": [
                {
                    "output_type": "stream",
                    "name": "stdout",
                    "text": "`sport` is a 0-d Tensor\n`number` is a 0-d Tensor\n"
                }
            ]
        },
        {
            "cell_type": "markdown",
            "metadata": {
                "id": "-dljcPUcoJZ6",
                "colab_type": "text"
            },
            "source": [
                "Vectors and lists can be used to create 1-d Tensors:"
            ]
        },
        {
            "cell_type": "code",
            "metadata": {
                "id": "oaHXABe8oPcO",
                "colab_type": "code",
                "colab": {},
                "tags": []
            },
            "source": [
                "sports = tf.constant([\"Tennis\", \"Basketball\"], tf.string)\n",
                "numbers = tf.constant([3.141592, 1.414213, 2.71821], tf.float64)\n",
                "\n",
                "print(\"`sports` is a {}-d Tensor with shape: {}\".format(tf.rank(sports).numpy(), tf.shape(sports)))\n",
                "print(\"`numbers` is a {}-d Tensor with shape: {}\".format(tf.rank(numbers).numpy(), tf.shape(numbers)))"
            ],
            "execution_count": 4,
            "outputs": [
                {
                    "output_type": "stream",
                    "name": "stdout",
                    "text": "`sports` is a 1-d Tensor with shape: [2]\n`numbers` is a 1-d Tensor with shape: [3]\n"
                }
            ]
        },
        {
            "cell_type": "markdown",
            "metadata": {
                "id": "gvffwkvtodLP",
                "colab_type": "text"
            },
            "source": [
                "Next we consider creating 2-d (i.e., matrices) and higher-rank Tensors. For examples, in future labs involving image processing and computer vision, we will use 4-d Tensors. Here the dimensions correspond to the number of example images in our batch, image height, image width, and the number of color channels."
            ]
        },
        {
            "cell_type": "code",
            "metadata": {
                "id": "tFeBBe1IouS3",
                "colab_type": "code",
                "colab": {}
            },
            "source": [
                "### Defining higher-order Tensors ###\n",
                "\n",
                "'''TODO: Define a 2-d Tensor'''\n",
                "matrix = tf.constant([\n",
                "    [1,2,3],\n",
                "    [1,2,3]\n",
                "], tf.int8)\n",
                "\n",
                "assert isinstance(matrix, tf.Tensor), \"matrix must be a tf Tensor object\"\n",
                "assert tf.rank(matrix).numpy() == 2"
            ],
            "execution_count": 5,
            "outputs": []
        },
        {
            "cell_type": "code",
            "metadata": {
                "id": "Zv1fTn_Ya_cz",
                "colab_type": "code",
                "colab": {}
            },
            "source": [
                "'''TODO: Define a 4-d Tensor.'''\n",
                "# Use tf.zeros to initialize a 4-d Tensor of zeros with size 10 x 256 x 256 x 3. \n",
                "#   You can think of this as 10 images where each image is RGB 256 x 256.\n",
                "images = tf.zeros([10, 256, 256, 3], tf.int32)\n",
                "\n",
                "assert isinstance(images, tf.Tensor), \"matrix must be a tf Tensor object\"\n",
                "assert tf.rank(images).numpy() == 4, \"matrix must be of rank 4\"\n",
                "assert tf.shape(images).numpy().tolist() == [10, 256, 256, 3], \"matrix is incorrect shape\""
            ],
            "execution_count": 6,
            "outputs": []
        },
        {
            "cell_type": "markdown",
            "metadata": {
                "id": "wkaCDOGapMyl",
                "colab_type": "text"
            },
            "source": [
                "As you have seen, the ```shape``` of a Tensor provides the number of elements in each Tensor dimension. The ```shape``` is quite useful, and we'll use it often. You can also use slicing to access subtensors within a higher-rank Tensor:"
            ]
        },
        {
            "cell_type": "code",
            "metadata": {
                "id": "FhaufyObuLEG",
                "colab_type": "code",
                "colab": {},
                "tags": []
            },
            "source": [
                "row_vector = matrix[1]\n",
                "column_vector = matrix[:,2]\n",
                "scalar = matrix[1, 2]\n",
                "\n",
                "print(f\"`row_vector`: {row_vector.numpy()}\")\n",
                "print(f\"`column_vector`: {column_vector.numpy()}\")\n",
                "print(f\"`scalar`: {scalar.numpy()}\")"
            ],
            "execution_count": 7,
            "outputs": [
                {
                    "output_type": "stream",
                    "name": "stdout",
                    "text": "`row_vector`: [1 2 3]\n`column_vector`: [3 3]\n`scalar`: 3\n"
                }
            ]
        },
        {
            "cell_type": "markdown",
            "metadata": {
                "id": "iD3VO-LZYZ2z",
                "colab_type": "text"
            },
            "source": [
                "## 1.2 Computations on Tensors\n",
                "\n",
                "A convenient way to think about and visualize computations in TensorFlow is in terms of graphs. We can define this graph in terms of Tensors, which hold data, and the mathematical operations that act on these Tensors in some order. Let's look at a simple example, and define this computation using TensorFlow:\n",
                "\n",
                "![alt text](https://raw.githubusercontent.com/aamini/introtodeeplearning/master/lab1/img/add-graph.png)"
            ]
        },
        {
            "cell_type": "code",
            "metadata": {
                "id": "X_YJrZsxYZ2z",
                "colab_type": "code",
                "colab": {},
                "tags": []
            },
            "source": [
                "# Create the nodes in the graph, and initialize values\n",
                "a = tf.constant(15)\n",
                "b = tf.constant(61)\n",
                "\n",
                "# Add them!\n",
                "c1 = tf.add(a,b)\n",
                "c2 = a + b # TensorFlow overrides the \"+\" operation so that it is able to act on Tensors\n",
                "print(c1)\n",
                "print(c2)"
            ],
            "execution_count": 8,
            "outputs": [
                {
                    "output_type": "stream",
                    "name": "stdout",
                    "text": "tf.Tensor(76, shape=(), dtype=int32)\ntf.Tensor(76, shape=(), dtype=int32)\n"
                }
            ]
        },
        {
            "cell_type": "markdown",
            "metadata": {
                "id": "Mbfv_QOiYZ23",
                "colab_type": "text"
            },
            "source": [
                "Notice how we've created a computation graph consisting of TensorFlow operations, and how  the output is a Tensor with value 76 -- we've just created a computation graph consisting of operations, and it's executed them and given us back the result.\n",
                "\n",
                "Now let's consider a slightly more complicated example:\n",
                "\n",
                "![alt text](https://raw.githubusercontent.com/aamini/introtodeeplearning/master/lab1/img/computation-graph.png)\n",
                "\n",
                "Here, we take two inputs, `a, b`, and compute an output `e`. Each node in the graph represents an operation that takes some input, does some computation, and passes its output to another node.\n",
                "\n",
                "Let's define a simple function in TensorFlow to construct this computation function:"
            ]
        },
        {
            "cell_type": "code",
            "metadata": {
                "scrolled": true,
                "id": "PJnfzpWyYZ23",
                "colab_type": "code",
                "colab": {}
            },
            "source": [
                "### Defining Tensor computations ###\n",
                "\n",
                "# Construct a simple computation function\n",
                "def func(a,b):\n",
                "  '''TODO: Define the operation for c, d, e (use tf.add, tf.subtract, tf.multiply).'''\n",
                "  c = tf.add(a, b)\n",
                "  d = tf.subtract(b, 1) \n",
                "  e = tf.multiply(c, d)\n",
                "  return e"
            ],
            "execution_count": 9,
            "outputs": []
        },
        {
            "cell_type": "markdown",
            "metadata": {
                "id": "AwrRfDMS2-oy",
                "colab_type": "text"
            },
            "source": [
                "Now, we can call this function to execute the computation graph given some inputs `a,b`:"
            ]
        },
        {
            "cell_type": "code",
            "metadata": {
                "id": "pnwsf8w2uF7p",
                "colab_type": "code",
                "colab": {},
                "tags": []
            },
            "source": [
                "# Consider example values for a,b\n",
                "a, b = 1.5, 2.5\n",
                "# Execute the computation\n",
                "e_out = func(a,b)\n",
                "print(e_out)"
            ],
            "execution_count": 10,
            "outputs": [
                {
                    "output_type": "stream",
                    "name": "stdout",
                    "text": "tf.Tensor(6.0, shape=(), dtype=float32)\n"
                }
            ]
        },
        {
            "cell_type": "markdown",
            "metadata": {
                "id": "6HqgUIUhYZ29",
                "colab_type": "text"
            },
            "source": [
                "Notice how our output is a Tensor with value defined by the output of the computation, and that the output has no shape as it is a single scalar value."
            ]
        },
        {
            "cell_type": "markdown",
            "metadata": {
                "id": "1h4o9Bb0YZ29",
                "colab_type": "text"
            },
            "source": [
                "## 1.3 Neural networks in TensorFlow\n",
                "We can also define neural networks in TensorFlow. TensorFlow uses a high-level API called [Keras](https://www.tensorflow.org/guide/keras) that provides a powerful, intuitive framework for building and training deep learning models.\n",
                "\n",
                "Let's first consider the example of a simple perceptron defined by just one dense layer: $ y = \\sigma(Wx + b)$, where $W$ represents a matrix of weights, $b$ is a bias, $x$ is the input, $\\sigma$ is the sigmoid activation function, and $y$ is the output. We can also visualize this operation using a graph: \n",
                "\n",
                "![alt text](https://raw.githubusercontent.com/aamini/introtodeeplearning/master/lab1/img/computation-graph-2.png)\n",
                "\n",
                "Tensors can flow through abstract types called [```Layers```](https://www.tensorflow.org/api_docs/python/tf/keras/layers/Layer) -- the building blocks of neural networks. ```Layers``` implement common neural networks operations, and are used to update weights, compute losses, and define inter-layer connectivity. We will first define a ```Layer``` to implement the simple perceptron defined above."
            ]
        },
        {
            "cell_type": "code",
            "metadata": {
                "id": "HutbJk-1kHPh",
                "colab_type": "code",
                "colab": {},
                "tags": []
            },
            "source": [
                "### Defining a network Layer ###\n",
                "\n",
                "# n_output_nodes: number of output nodes\n",
                "# input_shape: shape of the input\n",
                "# x: input to the layer\n",
                "\n",
                "class OurDenseLayer(tf.keras.layers.Layer):\n",
                "  def __init__(self, n_output_nodes):\n",
                "    super(OurDenseLayer, self).__init__()\n",
                "    self.n_output_nodes = n_output_nodes\n",
                "\n",
                "  def build(self, input_shape):\n",
                "    d = int(input_shape[-1])\n",
                "    # Define and initialize parameters: a weight matrix W and bias b\n",
                "    # Note that parameter initialization is random!\n",
                "    self.W = self.add_weight(\"weight\", shape=[d, self.n_output_nodes]) # note the dimensionality\n",
                "    self.b = self.add_weight(\"bias\", shape=[1, self.n_output_nodes]) # note the dimensionality\n",
                "\n",
                "  def call(self, x):\n",
                "    '''TODO: define the operation for z (hint: use tf.matmul)'''\n",
                "    z = tf.add(tf.matmul(x, self.W), self.b)\n",
                "\n",
                "    '''TODO: define the operation for out (hint: use tf.sigmoid)'''\n",
                "    y = tf.sigmoid(z)\n",
                "    return y\n",
                "\n",
                "# Since layer parameters are initialized randomly, we will set a random seed for reproducibility\n",
                "tf.random.set_seed(1)\n",
                "layer = OurDenseLayer(3)\n",
                "layer.build((1,2))\n",
                "x_input = tf.constant([[1,2.]], shape=(1,2))\n",
                "y = layer.call(x_input)\n",
                "\n",
                "# test the output!\n",
                "print(y.numpy())\n",
                "mdl.lab1.test_custom_dense_layer_output(y)"
            ],
            "execution_count": 14,
            "outputs": [
                {
                    "output_type": "stream",
                    "name": "stdout",
                    "text": "[[0.26978594 0.45750415 0.66536945]]\n[PASS] test_custom_dense_layer_output\n"
                },
                {
                    "output_type": "execute_result",
                    "data": {
                        "text/plain": "True"
                    },
                    "metadata": {},
                    "execution_count": 14
                }
            ]
        },
        {
            "cell_type": "markdown",
            "metadata": {
                "id": "Jt1FgM7qYZ3D",
                "colab_type": "text"
            },
            "source": [
                "Conveniently, TensorFlow has defined a number of ```Layers``` that are commonly used in neural networks, for example a [```Dense```](https://www.tensorflow.org/api_docs/python/tf/keras/layers/Dense?version=stable). Now, instead of using a single ```Layer``` to define our simple neural network, we'll use the  [`Sequential`](https://www.tensorflow.org/versions/r2.0/api_docs/python/tf/keras/Sequential) model from Keras and a single [`Dense` ](https://www.tensorflow.org/versions/r2.0/api_docs/python/tf/keras/layers/Dense) layer to define our network. With the `Sequential` API, you can readily create neural networks by stacking together layers like building blocks. "
            ]
        },
        {
            "cell_type": "code",
            "metadata": {
                "id": "7WXTpmoL6TDz",
                "colab_type": "code",
                "colab": {}
            },
            "source": [
                "### Defining a neural network using the Sequential API ###\n",
                "\n",
                "# Import relevant packages\n",
                "from tensorflow.keras import Sequential\n",
                "from tensorflow.keras.layers import Dense\n",
                "\n",
                "# Define the number of outputs\n",
                "n_output_nodes = 3\n",
                "\n",
                "# First define the model \n",
                "model = Sequential()\n",
                "\n",
                "'''TODO: Define a dense (fully connected) layer to compute z'''\n",
                "# Remember: dense layers are defined by the parameters W and b!\n",
                "# You can read more about the initialization of W and b in the TF documentation :) \n",
                "# https://www.tensorflow.org/api_docs/python/tf/keras/layers/Dense?version=stable\n",
                "dense_layer = Dense(n_output_nodes, activation='sigmoid')\n",
                "\n",
                "# Add the dense layer to the model\n",
                "model.add(dense_layer)\n"
            ],
            "execution_count": 17,
            "outputs": []
        },
        {
            "cell_type": "markdown",
            "metadata": {
                "id": "HDGcwYfUyR-U",
                "colab_type": "text"
            },
            "source": [
                "That's it! We've defined our model using the Sequential API. Now, we can test it out using an example input:"
            ]
        },
        {
            "cell_type": "code",
            "metadata": {
                "id": "sg23OczByRDb",
                "colab_type": "code",
                "colab": {},
                "tags": []
            },
            "source": [
                "# Test model with example input\n",
                "x_input = tf.constant([[1,2.]], shape=(1,2))\n",
                "\n",
                "'''TODO: feed input into the model and predict the output!'''\n",
                "model_output = model.call(x_input).numpy()\n",
                "print(model_output)"
            ],
            "execution_count": 27,
            "outputs": [
                {
                    "output_type": "stream",
                    "name": "stdout",
                    "text": "[[0.6504886  0.4782816  0.83736604]]\n"
                }
            ]
        },
        {
            "cell_type": "markdown",
            "metadata": {
                "id": "596NvsOOtr9F",
                "colab_type": "text"
            },
            "source": [
                "In addition to defining models using the `Sequential` API, we can also define neural networks by directly subclassing the [`Model`](https://www.tensorflow.org/api_docs/python/tf/keras/Model?version=stable) class, which groups layers together to enable model training and inference. The `Model` class captures what we refer to as a \"model\" or as a \"network\". Using Subclassing, we can create a class for our model, and then define the forward pass through the network using the `call` function. Subclassing affords the flexibility to define custom layers, custom training loops, custom activation functions, and custom models. Let's define the same neural network as above now using Subclassing rather than the `Sequential` model."
            ]
        },
        {
            "cell_type": "code",
            "metadata": {
                "id": "K4aCflPVyViD",
                "colab_type": "code",
                "colab": {}
            },
            "source": [
                "### Defining a model using subclassing ###\n",
                "\n",
                "from tensorflow.keras import Model\n",
                "from tensorflow.keras.layers import Dense\n",
                "\n",
                "class SubclassModel(tf.keras.Model):\n",
                "\n",
                "  # In __init__, we define the Model's layers\n",
                "  def __init__(self, n_output_nodes):\n",
                "    super(SubclassModel, self).__init__()\n",
                "    '''TODO: Our model consists of a single Dense layer. Define this layer.''' \n",
                "    self.dense_layer = Dense(n_output_nodes, activation='sigmoid')\n",
                "\n",
                "  # In the call function, we define the Model's forward pass.\n",
                "  def call(self, inputs):\n",
                "    return self.dense_layer(inputs)"
            ],
            "execution_count": 20,
            "outputs": []
        },
        {
            "cell_type": "markdown",
            "metadata": {
                "id": "U0-lwHDk4irB",
                "colab_type": "text"
            },
            "source": [
                "Just like the model we built using the `Sequential` API, let's test out our `SubclassModel` using an example input.\n",
                "\n"
            ]
        },
        {
            "cell_type": "code",
            "metadata": {
                "id": "LhB34RA-4gXb",
                "colab_type": "code",
                "colab": {},
                "tags": []
            },
            "source": [
                "n_output_nodes = 3\n",
                "model = SubclassModel(n_output_nodes)\n",
                "\n",
                "x_input = tf.constant([[1,2.]], shape=(1,2))\n",
                "\n",
                "print(model.call(x_input))"
            ],
            "execution_count": 21,
            "outputs": [
                {
                    "output_type": "stream",
                    "name": "stdout",
                    "text": "tf.Tensor([[0.6504886  0.4782816  0.83736604]], shape=(1, 3), dtype=float32)\n"
                }
            ]
        },
        {
            "cell_type": "markdown",
            "metadata": {
                "id": "HTIFMJLAzsyE",
                "colab_type": "text"
            },
            "source": [
                "Importantly, Subclassing affords us a lot of flexibility to define custom models. For example, we can use boolean arguments in the `call` function to specify different network behaviors, for example different behaviors during training and inference. Let's suppose under some instances we want our network to simply output the input, without any perturbation. We define a boolean argument `isidentity` to control this behavior:"
            ]
        },
        {
            "cell_type": "code",
            "metadata": {
                "id": "P7jzGX5D1xT5",
                "colab_type": "code",
                "colab": {}
            },
            "source": [
                "### Defining a model using subclassing and specifying custom behavior ###\n",
                "\n",
                "from tensorflow.keras import Model\n",
                "from tensorflow.keras.layers import Dense\n",
                "\n",
                "class IdentityModel(tf.keras.Model):\n",
                "\n",
                "  # As before, in __init__ we define the Model's layers\n",
                "  # Since our desired behavior involves the forward pass, this part is unchanged\n",
                "  def __init__(self, n_output_nodes):\n",
                "    super(IdentityModel, self).__init__()\n",
                "    self.dense_layer = Dense(n_output_nodes, activation='sigmoid')\n",
                "\n",
                "  '''TODO: Implement the behavior where the network outputs the input, unchanged, \n",
                "      under control of the isidentity argument.'''\n",
                "  def call(self, inputs, isidentity=False):\n",
                "    x = self.dense_layer(inputs)\n",
                "    if isidentity:\n",
                "      return inputs\n",
                "    return x\n",
                "    '''TODO: Implement identity behavior'''"
            ],
            "execution_count": 32,
            "outputs": []
        },
        {
            "cell_type": "markdown",
            "metadata": {
                "id": "Ku4rcCGx5T3y",
                "colab_type": "text"
            },
            "source": [
                "Let's test this behavior:"
            ]
        },
        {
            "cell_type": "code",
            "metadata": {
                "id": "NzC0mgbk5dp2",
                "colab_type": "code",
                "colab": {},
                "tags": []
            },
            "source": [
                "n_output_nodes = 3\n",
                "model = IdentityModel(n_output_nodes)\n",
                "\n",
                "x_input = tf.constant([[1,2.]], shape=(1,2))\n",
                "'''TODO: pass the input into the model and call with and without the input identity option.'''\n",
                "out_activate = model.call(x_input)\n",
                "out_identity = model.call(x_input, isidentity=True)\n",
                "\n",
                "print(\"Network output with activation: {}; network identity output: {}\".format(out_activate.numpy(), out_identity.numpy()))"
            ],
            "execution_count": 40,
            "outputs": [
                {
                    "output_type": "stream",
                    "name": "stdout",
                    "text": "Network output with activation: [[0.6662358  0.44564328 0.92477953]]; network identity output: [[1. 2.]]\n"
                }
            ]
        },
        {
            "cell_type": "markdown",
            "metadata": {
                "id": "7V1dEqdk6VI5",
                "colab_type": "text"
            },
            "source": [
                "Now that we have learned how to define `Layers` as well as neural networks in TensorFlow using both the `Sequential` and Subclassing APIs, we're ready to turn our attention to how to actually implement network training with backpropagation."
            ]
        },
        {
            "cell_type": "markdown",
            "metadata": {
                "id": "dQwDhKn8kbO2",
                "colab_type": "text"
            },
            "source": [
                "## 1.4 Automatic differentiation in TensorFlow\n",
                "\n",
                "[Automatic differentiation](https://en.wikipedia.org/wiki/Automatic_differentiation)\n",
                "is one of the most important parts of TensorFlow and is the backbone of training with \n",
                "[backpropagation](https://en.wikipedia.org/wiki/Backpropagation). We will use the TensorFlow GradientTape [`tf.GradientTape`](https://www.tensorflow.org/api_docs/python/tf/GradientTape?version=stable) to trace operations for computing gradients later. \n",
                "\n",
                "When a forward pass is made through the network, all forward-pass operations get recorded to a \"tape\"; then, to compute the gradient, the tape is played backwards. By default, the tape is discarded after it is played backwards; this means that a particular `tf.GradientTape` can only\n",
                "compute one gradient, and subsequent calls throw a runtime error. However, we can compute multiple gradients over the same computation by creating a ```persistent``` gradient tape. \n",
                "\n",
                "First, we will look at how we can compute gradients using GradientTape and access them for computation. We define the simple function $ y = x^2$ and compute the gradient:"
            ]
        },
        {
            "cell_type": "code",
            "metadata": {
                "id": "tdkqk8pw5yJM",
                "colab_type": "code",
                "colab": {}
            },
            "source": [
                "### Gradient computation with GradientTape ###\n",
                "\n",
                "# y = x^2\n",
                "# Example: x = 3.0\n",
                "x = tf.Variable(3.0)\n",
                "\n",
                "# Initiate the gradient tape\n",
                "with tf.GradientTape() as tape:\n",
                "  # Define the function\n",
                "  y = x * x\n",
                "# Access the gradient -- derivative of y with respect to x\n",
                "dy_dx = tape.gradient(y, x)\n",
                "\n",
                "assert dy_dx.numpy() == 6.0"
            ],
            "execution_count": 41,
            "outputs": []
        },
        {
            "cell_type": "markdown",
            "metadata": {
                "id": "JhU5metS5xF3",
                "colab_type": "text"
            },
            "source": [
                "In training neural networks, we use differentiation and stochastic gradient descent (SGD) to optimize a loss function. Now that we have a sense of how `GradientTape` can be used to compute and access derivatives, we will look at an example where we use automatic differentiation and SGD to find the minimum of $L=(x-x_f)^2$. Here $x_f$ is a variable for a desired value we are trying to optimize for; $L$ represents a loss that we are trying to  minimize. While we can clearly solve this problem analytically ($x_{min}=x_f$), considering how we can compute this using `GradientTape` sets us up nicely for future labs where we use gradient descent to optimize entire neural network losses."
            ]
        },
        {
            "cell_type": "code",
            "metadata": {
                "attributes": {
                    "classes": [
                        "py"
                    ],
                    "id": ""
                },
                "colab_type": "code",
                "id": "7g1yWiSXqEf-",
                "colab": {},
                "tags": []
            },
            "source": [
                "### Function minimization with automatic differentiation and SGD ###\n",
                "\n",
                "# Initialize a random value for our initial x\n",
                "x = tf.Variable([tf.random.normal([1])])\n",
                "print(\"Initializing x={}\".format(x.numpy()))\n",
                "\n",
                "learning_rate = 1e-2 # learning rate for SGD\n",
                "history = []\n",
                "# Define the target value\n",
                "x_f = 4\n",
                "\n",
                "# We will run SGD for a number of iterations. At each iteration, we compute the loss, \n",
                "#   compute the derivative of the loss with respect to x, and perform the SGD update.\n",
                "for i in range(500):\n",
                "  with tf.GradientTape() as tape:\n",
                "    '''TODO: define the loss as described above'''\n",
                "    loss = (x - x_f)**2\n",
                "\n",
                "  # loss minimization using gradient tape\n",
                "  grad = tape.gradient(loss, x) # compute the derivative of the loss with respect to x\n",
                "  new_x = x - learning_rate*grad # sgd update\n",
                "  x.assign(new_x) # update the value of x\n",
                "  history.append(x.numpy()[0])\n",
                "\n",
                "# Plot the evolution of x as we optimize towards x_f!\n",
                "plt.plot(history)\n",
                "plt.plot([0, 500],[x_f,x_f])\n",
                "plt.legend(('Predicted', 'True'))\n",
                "plt.xlabel('Iteration')\n",
                "plt.ylabel('x value')"
            ],
            "execution_count": 44,
            "outputs": [
                {
                    "output_type": "stream",
                    "name": "stdout",
                    "text": "Initializing x=[[-2.1246104]]\n"
                },
                {
                    "output_type": "execute_result",
                    "data": {
                        "text/plain": "Text(0, 0.5, 'x value')"
                    },
                    "metadata": {},
                    "execution_count": 44
                },
                {
                    "output_type": "display_data",
                    "data": {
                        "text/plain": "<Figure size 432x288 with 1 Axes>",
                        "image/svg+xml": "<?xml version=\"1.0\" encoding=\"utf-8\" standalone=\"no\"?>\r\n<!DOCTYPE svg PUBLIC \"-//W3C//DTD SVG 1.1//EN\"\r\n  \"http://www.w3.org/Graphics/SVG/1.1/DTD/svg11.dtd\">\r\n<!-- Created with matplotlib (https://matplotlib.org/) -->\r\n<svg height=\"262.19625pt\" version=\"1.1\" viewBox=\"0 0 384.620313 262.19625\" width=\"384.620313pt\" xmlns=\"http://www.w3.org/2000/svg\" xmlns:xlink=\"http://www.w3.org/1999/xlink\">\r\n <metadata>\r\n  <rdf:RDF xmlns:cc=\"http://creativecommons.org/ns#\" xmlns:dc=\"http://purl.org/dc/elements/1.1/\" xmlns:rdf=\"http://www.w3.org/1999/02/22-rdf-syntax-ns#\">\r\n   <cc:Work>\r\n    <dc:type rdf:resource=\"http://purl.org/dc/dcmitype/StillImage\"/>\r\n    <dc:date>2020-08-12T11:48:33.260412</dc:date>\r\n    <dc:format>image/svg+xml</dc:format>\r\n    <dc:creator>\r\n     <cc:Agent>\r\n      <dc:title>Matplotlib v3.3.0, https://matplotlib.org/</dc:title>\r\n     </cc:Agent>\r\n    </dc:creator>\r\n   </cc:Work>\r\n  </rdf:RDF>\r\n </metadata>\r\n <defs>\r\n  <style type=\"text/css\">*{stroke-linecap:butt;stroke-linejoin:round;}</style>\r\n </defs>\r\n <g id=\"figure_1\">\r\n  <g id=\"patch_1\">\r\n   <path d=\"M 0 262.19625 \r\nL 384.620313 262.19625 \r\nL 384.620313 0 \r\nL 0 0 \r\nz\r\n\" style=\"fill:none;\"/>\r\n  </g>\r\n  <g id=\"axes_1\">\r\n   <g id=\"patch_2\">\r\n    <path d=\"M 42.620313 224.64 \r\nL 377.420313 224.64 \r\nL 377.420313 7.2 \r\nL 42.620313 7.2 \r\nz\r\n\" style=\"fill:#ffffff;\"/>\r\n   </g>\r\n   <g id=\"matplotlib.axis_1\">\r\n    <g id=\"xtick_1\">\r\n     <g id=\"line2d_1\">\r\n      <defs>\r\n       <path d=\"M 0 0 \r\nL 0 3.5 \r\n\" id=\"mf311079cc8\" style=\"stroke:#000000;stroke-width:0.8;\"/>\r\n      </defs>\r\n      <g>\r\n       <use style=\"stroke:#000000;stroke-width:0.8;\" x=\"57.838494\" xlink:href=\"#mf311079cc8\" y=\"224.64\"/>\r\n      </g>\r\n     </g>\r\n     <g id=\"text_1\">\r\n      <!-- 0 -->\r\n      <g transform=\"translate(54.657244 239.238438)scale(0.1 -0.1)\">\r\n       <defs>\r\n        <path d=\"M 31.78125 66.40625 \r\nQ 24.171875 66.40625 20.328125 58.90625 \r\nQ 16.5 51.421875 16.5 36.375 \r\nQ 16.5 21.390625 20.328125 13.890625 \r\nQ 24.171875 6.390625 31.78125 6.390625 \r\nQ 39.453125 6.390625 43.28125 13.890625 \r\nQ 47.125 21.390625 47.125 36.375 \r\nQ 47.125 51.421875 43.28125 58.90625 \r\nQ 39.453125 66.40625 31.78125 66.40625 \r\nz\r\nM 31.78125 74.21875 \r\nQ 44.046875 74.21875 50.515625 64.515625 \r\nQ 56.984375 54.828125 56.984375 36.375 \r\nQ 56.984375 17.96875 50.515625 8.265625 \r\nQ 44.046875 -1.421875 31.78125 -1.421875 \r\nQ 19.53125 -1.421875 13.0625 8.265625 \r\nQ 6.59375 17.96875 6.59375 36.375 \r\nQ 6.59375 54.828125 13.0625 64.515625 \r\nQ 19.53125 74.21875 31.78125 74.21875 \r\nz\r\n\" id=\"DejaVuSans-48\"/>\r\n       </defs>\r\n       <use xlink:href=\"#DejaVuSans-48\"/>\r\n      </g>\r\n     </g>\r\n    </g>\r\n    <g id=\"xtick_2\">\r\n     <g id=\"line2d_2\">\r\n      <g>\r\n       <use style=\"stroke:#000000;stroke-width:0.8;\" x=\"118.711222\" xlink:href=\"#mf311079cc8\" y=\"224.64\"/>\r\n      </g>\r\n     </g>\r\n     <g id=\"text_2\">\r\n      <!-- 100 -->\r\n      <g transform=\"translate(109.167472 239.238438)scale(0.1 -0.1)\">\r\n       <defs>\r\n        <path d=\"M 12.40625 8.296875 \r\nL 28.515625 8.296875 \r\nL 28.515625 63.921875 \r\nL 10.984375 60.40625 \r\nL 10.984375 69.390625 \r\nL 28.421875 72.90625 \r\nL 38.28125 72.90625 \r\nL 38.28125 8.296875 \r\nL 54.390625 8.296875 \r\nL 54.390625 0 \r\nL 12.40625 0 \r\nz\r\n\" id=\"DejaVuSans-49\"/>\r\n       </defs>\r\n       <use xlink:href=\"#DejaVuSans-49\"/>\r\n       <use x=\"63.623047\" xlink:href=\"#DejaVuSans-48\"/>\r\n       <use x=\"127.246094\" xlink:href=\"#DejaVuSans-48\"/>\r\n      </g>\r\n     </g>\r\n    </g>\r\n    <g id=\"xtick_3\">\r\n     <g id=\"line2d_3\">\r\n      <g>\r\n       <use style=\"stroke:#000000;stroke-width:0.8;\" x=\"179.583949\" xlink:href=\"#mf311079cc8\" y=\"224.64\"/>\r\n      </g>\r\n     </g>\r\n     <g id=\"text_3\">\r\n      <!-- 200 -->\r\n      <g transform=\"translate(170.040199 239.238438)scale(0.1 -0.1)\">\r\n       <defs>\r\n        <path d=\"M 19.1875 8.296875 \r\nL 53.609375 8.296875 \r\nL 53.609375 0 \r\nL 7.328125 0 \r\nL 7.328125 8.296875 \r\nQ 12.9375 14.109375 22.625 23.890625 \r\nQ 32.328125 33.6875 34.8125 36.53125 \r\nQ 39.546875 41.84375 41.421875 45.53125 \r\nQ 43.3125 49.21875 43.3125 52.78125 \r\nQ 43.3125 58.59375 39.234375 62.25 \r\nQ 35.15625 65.921875 28.609375 65.921875 \r\nQ 23.96875 65.921875 18.8125 64.3125 \r\nQ 13.671875 62.703125 7.8125 59.421875 \r\nL 7.8125 69.390625 \r\nQ 13.765625 71.78125 18.9375 73 \r\nQ 24.125 74.21875 28.421875 74.21875 \r\nQ 39.75 74.21875 46.484375 68.546875 \r\nQ 53.21875 62.890625 53.21875 53.421875 \r\nQ 53.21875 48.921875 51.53125 44.890625 \r\nQ 49.859375 40.875 45.40625 35.40625 \r\nQ 44.1875 33.984375 37.640625 27.21875 \r\nQ 31.109375 20.453125 19.1875 8.296875 \r\nz\r\n\" id=\"DejaVuSans-50\"/>\r\n       </defs>\r\n       <use xlink:href=\"#DejaVuSans-50\"/>\r\n       <use x=\"63.623047\" xlink:href=\"#DejaVuSans-48\"/>\r\n       <use x=\"127.246094\" xlink:href=\"#DejaVuSans-48\"/>\r\n      </g>\r\n     </g>\r\n    </g>\r\n    <g id=\"xtick_4\">\r\n     <g id=\"line2d_4\">\r\n      <g>\r\n       <use style=\"stroke:#000000;stroke-width:0.8;\" x=\"240.456676\" xlink:href=\"#mf311079cc8\" y=\"224.64\"/>\r\n      </g>\r\n     </g>\r\n     <g id=\"text_4\">\r\n      <!-- 300 -->\r\n      <g transform=\"translate(230.912926 239.238438)scale(0.1 -0.1)\">\r\n       <defs>\r\n        <path d=\"M 40.578125 39.3125 \r\nQ 47.65625 37.796875 51.625 33 \r\nQ 55.609375 28.21875 55.609375 21.1875 \r\nQ 55.609375 10.40625 48.1875 4.484375 \r\nQ 40.765625 -1.421875 27.09375 -1.421875 \r\nQ 22.515625 -1.421875 17.65625 -0.515625 \r\nQ 12.796875 0.390625 7.625 2.203125 \r\nL 7.625 11.71875 \r\nQ 11.71875 9.328125 16.59375 8.109375 \r\nQ 21.484375 6.890625 26.8125 6.890625 \r\nQ 36.078125 6.890625 40.9375 10.546875 \r\nQ 45.796875 14.203125 45.796875 21.1875 \r\nQ 45.796875 27.640625 41.28125 31.265625 \r\nQ 36.765625 34.90625 28.71875 34.90625 \r\nL 20.21875 34.90625 \r\nL 20.21875 43.015625 \r\nL 29.109375 43.015625 \r\nQ 36.375 43.015625 40.234375 45.921875 \r\nQ 44.09375 48.828125 44.09375 54.296875 \r\nQ 44.09375 59.90625 40.109375 62.90625 \r\nQ 36.140625 65.921875 28.71875 65.921875 \r\nQ 24.65625 65.921875 20.015625 65.03125 \r\nQ 15.375 64.15625 9.8125 62.3125 \r\nL 9.8125 71.09375 \r\nQ 15.4375 72.65625 20.34375 73.4375 \r\nQ 25.25 74.21875 29.59375 74.21875 \r\nQ 40.828125 74.21875 47.359375 69.109375 \r\nQ 53.90625 64.015625 53.90625 55.328125 \r\nQ 53.90625 49.265625 50.4375 45.09375 \r\nQ 46.96875 40.921875 40.578125 39.3125 \r\nz\r\n\" id=\"DejaVuSans-51\"/>\r\n       </defs>\r\n       <use xlink:href=\"#DejaVuSans-51\"/>\r\n       <use x=\"63.623047\" xlink:href=\"#DejaVuSans-48\"/>\r\n       <use x=\"127.246094\" xlink:href=\"#DejaVuSans-48\"/>\r\n      </g>\r\n     </g>\r\n    </g>\r\n    <g id=\"xtick_5\">\r\n     <g id=\"line2d_5\">\r\n      <g>\r\n       <use style=\"stroke:#000000;stroke-width:0.8;\" x=\"301.329403\" xlink:href=\"#mf311079cc8\" y=\"224.64\"/>\r\n      </g>\r\n     </g>\r\n     <g id=\"text_5\">\r\n      <!-- 400 -->\r\n      <g transform=\"translate(291.785653 239.238438)scale(0.1 -0.1)\">\r\n       <defs>\r\n        <path d=\"M 37.796875 64.3125 \r\nL 12.890625 25.390625 \r\nL 37.796875 25.390625 \r\nz\r\nM 35.203125 72.90625 \r\nL 47.609375 72.90625 \r\nL 47.609375 25.390625 \r\nL 58.015625 25.390625 \r\nL 58.015625 17.1875 \r\nL 47.609375 17.1875 \r\nL 47.609375 0 \r\nL 37.796875 0 \r\nL 37.796875 17.1875 \r\nL 4.890625 17.1875 \r\nL 4.890625 26.703125 \r\nz\r\n\" id=\"DejaVuSans-52\"/>\r\n       </defs>\r\n       <use xlink:href=\"#DejaVuSans-52\"/>\r\n       <use x=\"63.623047\" xlink:href=\"#DejaVuSans-48\"/>\r\n       <use x=\"127.246094\" xlink:href=\"#DejaVuSans-48\"/>\r\n      </g>\r\n     </g>\r\n    </g>\r\n    <g id=\"xtick_6\">\r\n     <g id=\"line2d_6\">\r\n      <g>\r\n       <use style=\"stroke:#000000;stroke-width:0.8;\" x=\"362.202131\" xlink:href=\"#mf311079cc8\" y=\"224.64\"/>\r\n      </g>\r\n     </g>\r\n     <g id=\"text_6\">\r\n      <!-- 500 -->\r\n      <g transform=\"translate(352.658381 239.238438)scale(0.1 -0.1)\">\r\n       <defs>\r\n        <path d=\"M 10.796875 72.90625 \r\nL 49.515625 72.90625 \r\nL 49.515625 64.59375 \r\nL 19.828125 64.59375 \r\nL 19.828125 46.734375 \r\nQ 21.96875 47.46875 24.109375 47.828125 \r\nQ 26.265625 48.1875 28.421875 48.1875 \r\nQ 40.625 48.1875 47.75 41.5 \r\nQ 54.890625 34.8125 54.890625 23.390625 \r\nQ 54.890625 11.625 47.5625 5.09375 \r\nQ 40.234375 -1.421875 26.90625 -1.421875 \r\nQ 22.3125 -1.421875 17.546875 -0.640625 \r\nQ 12.796875 0.140625 7.71875 1.703125 \r\nL 7.71875 11.625 \r\nQ 12.109375 9.234375 16.796875 8.0625 \r\nQ 21.484375 6.890625 26.703125 6.890625 \r\nQ 35.15625 6.890625 40.078125 11.328125 \r\nQ 45.015625 15.765625 45.015625 23.390625 \r\nQ 45.015625 31 40.078125 35.4375 \r\nQ 35.15625 39.890625 26.703125 39.890625 \r\nQ 22.75 39.890625 18.8125 39.015625 \r\nQ 14.890625 38.140625 10.796875 36.28125 \r\nz\r\n\" id=\"DejaVuSans-53\"/>\r\n       </defs>\r\n       <use xlink:href=\"#DejaVuSans-53\"/>\r\n       <use x=\"63.623047\" xlink:href=\"#DejaVuSans-48\"/>\r\n       <use x=\"127.246094\" xlink:href=\"#DejaVuSans-48\"/>\r\n      </g>\r\n     </g>\r\n    </g>\r\n    <g id=\"text_7\">\r\n     <!-- Iteration -->\r\n     <g transform=\"translate(188.811719 252.916563)scale(0.1 -0.1)\">\r\n      <defs>\r\n       <path d=\"M 9.8125 72.90625 \r\nL 19.671875 72.90625 \r\nL 19.671875 0 \r\nL 9.8125 0 \r\nz\r\n\" id=\"DejaVuSans-73\"/>\r\n       <path d=\"M 18.3125 70.21875 \r\nL 18.3125 54.6875 \r\nL 36.8125 54.6875 \r\nL 36.8125 47.703125 \r\nL 18.3125 47.703125 \r\nL 18.3125 18.015625 \r\nQ 18.3125 11.328125 20.140625 9.421875 \r\nQ 21.96875 7.515625 27.59375 7.515625 \r\nL 36.8125 7.515625 \r\nL 36.8125 0 \r\nL 27.59375 0 \r\nQ 17.1875 0 13.234375 3.875 \r\nQ 9.28125 7.765625 9.28125 18.015625 \r\nL 9.28125 47.703125 \r\nL 2.6875 47.703125 \r\nL 2.6875 54.6875 \r\nL 9.28125 54.6875 \r\nL 9.28125 70.21875 \r\nz\r\n\" id=\"DejaVuSans-116\"/>\r\n       <path d=\"M 56.203125 29.59375 \r\nL 56.203125 25.203125 \r\nL 14.890625 25.203125 \r\nQ 15.484375 15.921875 20.484375 11.0625 \r\nQ 25.484375 6.203125 34.421875 6.203125 \r\nQ 39.59375 6.203125 44.453125 7.46875 \r\nQ 49.3125 8.734375 54.109375 11.28125 \r\nL 54.109375 2.78125 \r\nQ 49.265625 0.734375 44.1875 -0.34375 \r\nQ 39.109375 -1.421875 33.890625 -1.421875 \r\nQ 20.796875 -1.421875 13.15625 6.1875 \r\nQ 5.515625 13.8125 5.515625 26.8125 \r\nQ 5.515625 40.234375 12.765625 48.109375 \r\nQ 20.015625 56 32.328125 56 \r\nQ 43.359375 56 49.78125 48.890625 \r\nQ 56.203125 41.796875 56.203125 29.59375 \r\nz\r\nM 47.21875 32.234375 \r\nQ 47.125 39.59375 43.09375 43.984375 \r\nQ 39.0625 48.390625 32.421875 48.390625 \r\nQ 24.90625 48.390625 20.390625 44.140625 \r\nQ 15.875 39.890625 15.1875 32.171875 \r\nz\r\n\" id=\"DejaVuSans-101\"/>\r\n       <path d=\"M 41.109375 46.296875 \r\nQ 39.59375 47.171875 37.8125 47.578125 \r\nQ 36.03125 48 33.890625 48 \r\nQ 26.265625 48 22.1875 43.046875 \r\nQ 18.109375 38.09375 18.109375 28.8125 \r\nL 18.109375 0 \r\nL 9.078125 0 \r\nL 9.078125 54.6875 \r\nL 18.109375 54.6875 \r\nL 18.109375 46.1875 \r\nQ 20.953125 51.171875 25.484375 53.578125 \r\nQ 30.03125 56 36.53125 56 \r\nQ 37.453125 56 38.578125 55.875 \r\nQ 39.703125 55.765625 41.0625 55.515625 \r\nz\r\n\" id=\"DejaVuSans-114\"/>\r\n       <path d=\"M 34.28125 27.484375 \r\nQ 23.390625 27.484375 19.1875 25 \r\nQ 14.984375 22.515625 14.984375 16.5 \r\nQ 14.984375 11.71875 18.140625 8.90625 \r\nQ 21.296875 6.109375 26.703125 6.109375 \r\nQ 34.1875 6.109375 38.703125 11.40625 \r\nQ 43.21875 16.703125 43.21875 25.484375 \r\nL 43.21875 27.484375 \r\nz\r\nM 52.203125 31.203125 \r\nL 52.203125 0 \r\nL 43.21875 0 \r\nL 43.21875 8.296875 \r\nQ 40.140625 3.328125 35.546875 0.953125 \r\nQ 30.953125 -1.421875 24.3125 -1.421875 \r\nQ 15.921875 -1.421875 10.953125 3.296875 \r\nQ 6 8.015625 6 15.921875 \r\nQ 6 25.140625 12.171875 29.828125 \r\nQ 18.359375 34.515625 30.609375 34.515625 \r\nL 43.21875 34.515625 \r\nL 43.21875 35.40625 \r\nQ 43.21875 41.609375 39.140625 45 \r\nQ 35.0625 48.390625 27.6875 48.390625 \r\nQ 23 48.390625 18.546875 47.265625 \r\nQ 14.109375 46.140625 10.015625 43.890625 \r\nL 10.015625 52.203125 \r\nQ 14.9375 54.109375 19.578125 55.046875 \r\nQ 24.21875 56 28.609375 56 \r\nQ 40.484375 56 46.34375 49.84375 \r\nQ 52.203125 43.703125 52.203125 31.203125 \r\nz\r\n\" id=\"DejaVuSans-97\"/>\r\n       <path d=\"M 9.421875 54.6875 \r\nL 18.40625 54.6875 \r\nL 18.40625 0 \r\nL 9.421875 0 \r\nz\r\nM 9.421875 75.984375 \r\nL 18.40625 75.984375 \r\nL 18.40625 64.59375 \r\nL 9.421875 64.59375 \r\nz\r\n\" id=\"DejaVuSans-105\"/>\r\n       <path d=\"M 30.609375 48.390625 \r\nQ 23.390625 48.390625 19.1875 42.75 \r\nQ 14.984375 37.109375 14.984375 27.296875 \r\nQ 14.984375 17.484375 19.15625 11.84375 \r\nQ 23.34375 6.203125 30.609375 6.203125 \r\nQ 37.796875 6.203125 41.984375 11.859375 \r\nQ 46.1875 17.53125 46.1875 27.296875 \r\nQ 46.1875 37.015625 41.984375 42.703125 \r\nQ 37.796875 48.390625 30.609375 48.390625 \r\nz\r\nM 30.609375 56 \r\nQ 42.328125 56 49.015625 48.375 \r\nQ 55.71875 40.765625 55.71875 27.296875 \r\nQ 55.71875 13.875 49.015625 6.21875 \r\nQ 42.328125 -1.421875 30.609375 -1.421875 \r\nQ 18.84375 -1.421875 12.171875 6.21875 \r\nQ 5.515625 13.875 5.515625 27.296875 \r\nQ 5.515625 40.765625 12.171875 48.375 \r\nQ 18.84375 56 30.609375 56 \r\nz\r\n\" id=\"DejaVuSans-111\"/>\r\n       <path d=\"M 54.890625 33.015625 \r\nL 54.890625 0 \r\nL 45.90625 0 \r\nL 45.90625 32.71875 \r\nQ 45.90625 40.484375 42.875 44.328125 \r\nQ 39.84375 48.1875 33.796875 48.1875 \r\nQ 26.515625 48.1875 22.3125 43.546875 \r\nQ 18.109375 38.921875 18.109375 30.90625 \r\nL 18.109375 0 \r\nL 9.078125 0 \r\nL 9.078125 54.6875 \r\nL 18.109375 54.6875 \r\nL 18.109375 46.1875 \r\nQ 21.34375 51.125 25.703125 53.5625 \r\nQ 30.078125 56 35.796875 56 \r\nQ 45.21875 56 50.046875 50.171875 \r\nQ 54.890625 44.34375 54.890625 33.015625 \r\nz\r\n\" id=\"DejaVuSans-110\"/>\r\n      </defs>\r\n      <use xlink:href=\"#DejaVuSans-73\"/>\r\n      <use x=\"29.492188\" xlink:href=\"#DejaVuSans-116\"/>\r\n      <use x=\"68.701172\" xlink:href=\"#DejaVuSans-101\"/>\r\n      <use x=\"130.224609\" xlink:href=\"#DejaVuSans-114\"/>\r\n      <use x=\"171.337891\" xlink:href=\"#DejaVuSans-97\"/>\r\n      <use x=\"232.617188\" xlink:href=\"#DejaVuSans-116\"/>\r\n      <use x=\"271.826172\" xlink:href=\"#DejaVuSans-105\"/>\r\n      <use x=\"299.609375\" xlink:href=\"#DejaVuSans-111\"/>\r\n      <use x=\"360.791016\" xlink:href=\"#DejaVuSans-110\"/>\r\n     </g>\r\n    </g>\r\n   </g>\r\n   <g id=\"matplotlib.axis_2\">\r\n    <g id=\"ytick_1\">\r\n     <g id=\"line2d_7\">\r\n      <defs>\r\n       <path d=\"M 0 0 \r\nL -3.5 0 \r\n\" id=\"m294bb82203\" style=\"stroke:#000000;stroke-width:0.8;\"/>\r\n      </defs>\r\n      <g>\r\n       <use style=\"stroke:#000000;stroke-width:0.8;\" x=\"42.620313\" xlink:href=\"#m294bb82203\" y=\"214.686606\"/>\r\n      </g>\r\n     </g>\r\n     <g id=\"text_8\">\r\n      <!-- −2 -->\r\n      <g transform=\"translate(20.878125 218.485825)scale(0.1 -0.1)\">\r\n       <defs>\r\n        <path d=\"M 10.59375 35.5 \r\nL 73.1875 35.5 \r\nL 73.1875 27.203125 \r\nL 10.59375 27.203125 \r\nz\r\n\" id=\"DejaVuSans-8722\"/>\r\n       </defs>\r\n       <use xlink:href=\"#DejaVuSans-8722\"/>\r\n       <use x=\"83.789062\" xlink:href=\"#DejaVuSans-50\"/>\r\n      </g>\r\n     </g>\r\n    </g>\r\n    <g id=\"ytick_2\">\r\n     <g id=\"line2d_8\">\r\n      <g>\r\n       <use style=\"stroke:#000000;stroke-width:0.8;\" x=\"42.620313\" xlink:href=\"#m294bb82203\" y=\"181.752778\"/>\r\n      </g>\r\n     </g>\r\n     <g id=\"text_9\">\r\n      <!-- −1 -->\r\n      <g transform=\"translate(20.878125 185.551997)scale(0.1 -0.1)\">\r\n       <use xlink:href=\"#DejaVuSans-8722\"/>\r\n       <use x=\"83.789062\" xlink:href=\"#DejaVuSans-49\"/>\r\n      </g>\r\n     </g>\r\n    </g>\r\n    <g id=\"ytick_3\">\r\n     <g id=\"line2d_9\">\r\n      <g>\r\n       <use style=\"stroke:#000000;stroke-width:0.8;\" x=\"42.620313\" xlink:href=\"#m294bb82203\" y=\"148.81895\"/>\r\n      </g>\r\n     </g>\r\n     <g id=\"text_10\">\r\n      <!-- 0 -->\r\n      <g transform=\"translate(29.257813 152.618168)scale(0.1 -0.1)\">\r\n       <use xlink:href=\"#DejaVuSans-48\"/>\r\n      </g>\r\n     </g>\r\n    </g>\r\n    <g id=\"ytick_4\">\r\n     <g id=\"line2d_10\">\r\n      <g>\r\n       <use style=\"stroke:#000000;stroke-width:0.8;\" x=\"42.620313\" xlink:href=\"#m294bb82203\" y=\"115.885121\"/>\r\n      </g>\r\n     </g>\r\n     <g id=\"text_11\">\r\n      <!-- 1 -->\r\n      <g transform=\"translate(29.257813 119.68434)scale(0.1 -0.1)\">\r\n       <use xlink:href=\"#DejaVuSans-49\"/>\r\n      </g>\r\n     </g>\r\n    </g>\r\n    <g id=\"ytick_5\">\r\n     <g id=\"line2d_11\">\r\n      <g>\r\n       <use style=\"stroke:#000000;stroke-width:0.8;\" x=\"42.620313\" xlink:href=\"#m294bb82203\" y=\"82.951293\"/>\r\n      </g>\r\n     </g>\r\n     <g id=\"text_12\">\r\n      <!-- 2 -->\r\n      <g transform=\"translate(29.257813 86.750512)scale(0.1 -0.1)\">\r\n       <use xlink:href=\"#DejaVuSans-50\"/>\r\n      </g>\r\n     </g>\r\n    </g>\r\n    <g id=\"ytick_6\">\r\n     <g id=\"line2d_12\">\r\n      <g>\r\n       <use style=\"stroke:#000000;stroke-width:0.8;\" x=\"42.620313\" xlink:href=\"#m294bb82203\" y=\"50.017465\"/>\r\n      </g>\r\n     </g>\r\n     <g id=\"text_13\">\r\n      <!-- 3 -->\r\n      <g transform=\"translate(29.257813 53.816683)scale(0.1 -0.1)\">\r\n       <use xlink:href=\"#DejaVuSans-51\"/>\r\n      </g>\r\n     </g>\r\n    </g>\r\n    <g id=\"ytick_7\">\r\n     <g id=\"line2d_13\">\r\n      <g>\r\n       <use style=\"stroke:#000000;stroke-width:0.8;\" x=\"42.620313\" xlink:href=\"#m294bb82203\" y=\"17.083636\"/>\r\n      </g>\r\n     </g>\r\n     <g id=\"text_14\">\r\n      <!-- 4 -->\r\n      <g transform=\"translate(29.257813 20.882855)scale(0.1 -0.1)\">\r\n       <use xlink:href=\"#DejaVuSans-52\"/>\r\n      </g>\r\n     </g>\r\n    </g>\r\n    <g id=\"text_15\">\r\n     <!-- x value -->\r\n     <g transform=\"translate(14.798438 134.12625)rotate(-90)scale(0.1 -0.1)\">\r\n      <defs>\r\n       <path d=\"M 54.890625 54.6875 \r\nL 35.109375 28.078125 \r\nL 55.90625 0 \r\nL 45.3125 0 \r\nL 29.390625 21.484375 \r\nL 13.484375 0 \r\nL 2.875 0 \r\nL 24.125 28.609375 \r\nL 4.6875 54.6875 \r\nL 15.28125 54.6875 \r\nL 29.78125 35.203125 \r\nL 44.28125 54.6875 \r\nz\r\n\" id=\"DejaVuSans-120\"/>\r\n       <path id=\"DejaVuSans-32\"/>\r\n       <path d=\"M 2.984375 54.6875 \r\nL 12.5 54.6875 \r\nL 29.59375 8.796875 \r\nL 46.6875 54.6875 \r\nL 56.203125 54.6875 \r\nL 35.6875 0 \r\nL 23.484375 0 \r\nz\r\n\" id=\"DejaVuSans-118\"/>\r\n       <path d=\"M 9.421875 75.984375 \r\nL 18.40625 75.984375 \r\nL 18.40625 0 \r\nL 9.421875 0 \r\nz\r\n\" id=\"DejaVuSans-108\"/>\r\n       <path d=\"M 8.5 21.578125 \r\nL 8.5 54.6875 \r\nL 17.484375 54.6875 \r\nL 17.484375 21.921875 \r\nQ 17.484375 14.15625 20.5 10.265625 \r\nQ 23.53125 6.390625 29.59375 6.390625 \r\nQ 36.859375 6.390625 41.078125 11.03125 \r\nQ 45.3125 15.671875 45.3125 23.6875 \r\nL 45.3125 54.6875 \r\nL 54.296875 54.6875 \r\nL 54.296875 0 \r\nL 45.3125 0 \r\nL 45.3125 8.40625 \r\nQ 42.046875 3.421875 37.71875 1 \r\nQ 33.40625 -1.421875 27.6875 -1.421875 \r\nQ 18.265625 -1.421875 13.375 4.4375 \r\nQ 8.5 10.296875 8.5 21.578125 \r\nz\r\nM 31.109375 56 \r\nz\r\n\" id=\"DejaVuSans-117\"/>\r\n      </defs>\r\n      <use xlink:href=\"#DejaVuSans-120\"/>\r\n      <use x=\"59.179688\" xlink:href=\"#DejaVuSans-32\"/>\r\n      <use x=\"90.966797\" xlink:href=\"#DejaVuSans-118\"/>\r\n      <use x=\"150.146484\" xlink:href=\"#DejaVuSans-97\"/>\r\n      <use x=\"211.425781\" xlink:href=\"#DejaVuSans-108\"/>\r\n      <use x=\"239.208984\" xlink:href=\"#DejaVuSans-117\"/>\r\n      <use x=\"302.587891\" xlink:href=\"#DejaVuSans-101\"/>\r\n     </g>\r\n    </g>\r\n   </g>\r\n   <g id=\"line2d_14\">\r\n    <path clip-path=\"url(#p48774fef97)\" d=\"M 57.838494 214.756364 \r\nL 60.273403 199.410665 \r\nL 62.708313 185.256282 \r\nL 65.143222 172.200732 \r\nL 67.578131 160.158708 \r\nL 70.01304 149.051527 \r\nL 72.447949 138.806618 \r\nL 74.882858 129.357037 \r\nL 77.317767 120.641045 \r\nL 79.752676 112.601694 \r\nL 82.187585 105.186451 \r\nL 84.622494 98.346867 \r\nL 87.057403 92.038255 \r\nL 90.10104 84.836673 \r\nL 93.144676 78.327017 \r\nL 96.188313 72.442795 \r\nL 99.231949 67.123927 \r\nL 102.275585 62.316094 \r\nL 105.319222 57.970188 \r\nL 108.362858 54.041838 \r\nL 111.406494 50.490911 \r\nL 114.450131 47.281171 \r\nL 117.493767 44.37982 \r\nL 120.537403 41.757224 \r\nL 123.58104 39.386616 \r\nL 127.233403 36.840562 \r\nL 130.885767 34.585158 \r\nL 134.538131 32.587223 \r\nL 138.190494 30.817367 \r\nL 142.451585 29.006239 \r\nL 146.712676 27.433955 \r\nL 151.582494 25.889311 \r\nL 156.452313 24.575178 \r\nL 161.930858 23.329704 \r\nL 168.018131 22.187146 \r\nL 174.714131 21.17019 \r\nL 182.018858 20.290416 \r\nL 190.54104 19.500391 \r\nL 200.280676 18.832874 \r\nL 211.846494 18.275285 \r\nL 225.847222 17.832399 \r\nL 244.10904 17.492076 \r\nL 269.675585 17.25847 \r\nL 311.677767 17.126995 \r\nL 361.593403 17.09192 \r\nL 361.593403 17.09192 \r\n\" style=\"fill:none;stroke:#1f77b4;stroke-linecap:square;stroke-width:1.5;\"/>\r\n   </g>\r\n   <g id=\"line2d_15\">\r\n    <path clip-path=\"url(#p48774fef97)\" d=\"M 57.838494 17.083636 \r\nL 362.202131 17.083636 \r\n\" style=\"fill:none;stroke:#ff7f0e;stroke-linecap:square;stroke-width:1.5;\"/>\r\n   </g>\r\n   <g id=\"patch_3\">\r\n    <path d=\"M 42.620313 224.64 \r\nL 42.620313 7.2 \r\n\" style=\"fill:none;stroke:#000000;stroke-linecap:square;stroke-linejoin:miter;stroke-width:0.8;\"/>\r\n   </g>\r\n   <g id=\"patch_4\">\r\n    <path d=\"M 377.420313 224.64 \r\nL 377.420313 7.2 \r\n\" style=\"fill:none;stroke:#000000;stroke-linecap:square;stroke-linejoin:miter;stroke-width:0.8;\"/>\r\n   </g>\r\n   <g id=\"patch_5\">\r\n    <path d=\"M 42.620313 224.64 \r\nL 377.420313 224.64 \r\n\" style=\"fill:none;stroke:#000000;stroke-linecap:square;stroke-linejoin:miter;stroke-width:0.8;\"/>\r\n   </g>\r\n   <g id=\"patch_6\">\r\n    <path d=\"M 42.620313 7.2 \r\nL 377.420313 7.2 \r\n\" style=\"fill:none;stroke:#000000;stroke-linecap:square;stroke-linejoin:miter;stroke-width:0.8;\"/>\r\n   </g>\r\n   <g id=\"legend_1\">\r\n    <g id=\"patch_7\">\r\n     <path d=\"M 291.479688 219.64 \r\nL 370.420313 219.64 \r\nQ 372.420313 219.64 372.420313 217.64 \r\nL 372.420313 189.28375 \r\nQ 372.420313 187.28375 370.420313 187.28375 \r\nL 291.479688 187.28375 \r\nQ 289.479688 187.28375 289.479688 189.28375 \r\nL 289.479688 217.64 \r\nQ 289.479688 219.64 291.479688 219.64 \r\nz\r\n\" style=\"fill:#ffffff;opacity:0.8;stroke:#cccccc;stroke-linejoin:miter;\"/>\r\n    </g>\r\n    <g id=\"line2d_16\">\r\n     <path d=\"M 293.479688 195.382188 \r\nL 313.479688 195.382188 \r\n\" style=\"fill:none;stroke:#1f77b4;stroke-linecap:square;stroke-width:1.5;\"/>\r\n    </g>\r\n    <g id=\"line2d_17\"/>\r\n    <g id=\"text_16\">\r\n     <!-- Predicted -->\r\n     <g transform=\"translate(321.479688 198.882188)scale(0.1 -0.1)\">\r\n      <defs>\r\n       <path d=\"M 19.671875 64.796875 \r\nL 19.671875 37.40625 \r\nL 32.078125 37.40625 \r\nQ 38.96875 37.40625 42.71875 40.96875 \r\nQ 46.484375 44.53125 46.484375 51.125 \r\nQ 46.484375 57.671875 42.71875 61.234375 \r\nQ 38.96875 64.796875 32.078125 64.796875 \r\nz\r\nM 9.8125 72.90625 \r\nL 32.078125 72.90625 \r\nQ 44.34375 72.90625 50.609375 67.359375 \r\nQ 56.890625 61.8125 56.890625 51.125 \r\nQ 56.890625 40.328125 50.609375 34.8125 \r\nQ 44.34375 29.296875 32.078125 29.296875 \r\nL 19.671875 29.296875 \r\nL 19.671875 0 \r\nL 9.8125 0 \r\nz\r\n\" id=\"DejaVuSans-80\"/>\r\n       <path d=\"M 45.40625 46.390625 \r\nL 45.40625 75.984375 \r\nL 54.390625 75.984375 \r\nL 54.390625 0 \r\nL 45.40625 0 \r\nL 45.40625 8.203125 \r\nQ 42.578125 3.328125 38.25 0.953125 \r\nQ 33.9375 -1.421875 27.875 -1.421875 \r\nQ 17.96875 -1.421875 11.734375 6.484375 \r\nQ 5.515625 14.40625 5.515625 27.296875 \r\nQ 5.515625 40.1875 11.734375 48.09375 \r\nQ 17.96875 56 27.875 56 \r\nQ 33.9375 56 38.25 53.625 \r\nQ 42.578125 51.265625 45.40625 46.390625 \r\nz\r\nM 14.796875 27.296875 \r\nQ 14.796875 17.390625 18.875 11.75 \r\nQ 22.953125 6.109375 30.078125 6.109375 \r\nQ 37.203125 6.109375 41.296875 11.75 \r\nQ 45.40625 17.390625 45.40625 27.296875 \r\nQ 45.40625 37.203125 41.296875 42.84375 \r\nQ 37.203125 48.484375 30.078125 48.484375 \r\nQ 22.953125 48.484375 18.875 42.84375 \r\nQ 14.796875 37.203125 14.796875 27.296875 \r\nz\r\n\" id=\"DejaVuSans-100\"/>\r\n       <path d=\"M 48.78125 52.59375 \r\nL 48.78125 44.1875 \r\nQ 44.96875 46.296875 41.140625 47.34375 \r\nQ 37.3125 48.390625 33.40625 48.390625 \r\nQ 24.65625 48.390625 19.8125 42.84375 \r\nQ 14.984375 37.3125 14.984375 27.296875 \r\nQ 14.984375 17.28125 19.8125 11.734375 \r\nQ 24.65625 6.203125 33.40625 6.203125 \r\nQ 37.3125 6.203125 41.140625 7.25 \r\nQ 44.96875 8.296875 48.78125 10.40625 \r\nL 48.78125 2.09375 \r\nQ 45.015625 0.34375 40.984375 -0.53125 \r\nQ 36.96875 -1.421875 32.421875 -1.421875 \r\nQ 20.0625 -1.421875 12.78125 6.34375 \r\nQ 5.515625 14.109375 5.515625 27.296875 \r\nQ 5.515625 40.671875 12.859375 48.328125 \r\nQ 20.21875 56 33.015625 56 \r\nQ 37.15625 56 41.109375 55.140625 \r\nQ 45.0625 54.296875 48.78125 52.59375 \r\nz\r\n\" id=\"DejaVuSans-99\"/>\r\n      </defs>\r\n      <use xlink:href=\"#DejaVuSans-80\"/>\r\n      <use x=\"58.552734\" xlink:href=\"#DejaVuSans-114\"/>\r\n      <use x=\"97.416016\" xlink:href=\"#DejaVuSans-101\"/>\r\n      <use x=\"158.939453\" xlink:href=\"#DejaVuSans-100\"/>\r\n      <use x=\"222.416016\" xlink:href=\"#DejaVuSans-105\"/>\r\n      <use x=\"250.199219\" xlink:href=\"#DejaVuSans-99\"/>\r\n      <use x=\"305.179688\" xlink:href=\"#DejaVuSans-116\"/>\r\n      <use x=\"344.388672\" xlink:href=\"#DejaVuSans-101\"/>\r\n      <use x=\"405.912109\" xlink:href=\"#DejaVuSans-100\"/>\r\n     </g>\r\n    </g>\r\n    <g id=\"line2d_18\">\r\n     <path d=\"M 293.479688 210.060313 \r\nL 313.479688 210.060313 \r\n\" style=\"fill:none;stroke:#ff7f0e;stroke-linecap:square;stroke-width:1.5;\"/>\r\n    </g>\r\n    <g id=\"line2d_19\"/>\r\n    <g id=\"text_17\">\r\n     <!-- True -->\r\n     <g transform=\"translate(321.479688 213.560313)scale(0.1 -0.1)\">\r\n      <defs>\r\n       <path d=\"M -0.296875 72.90625 \r\nL 61.375 72.90625 \r\nL 61.375 64.59375 \r\nL 35.5 64.59375 \r\nL 35.5 0 \r\nL 25.59375 0 \r\nL 25.59375 64.59375 \r\nL -0.296875 64.59375 \r\nz\r\n\" id=\"DejaVuSans-84\"/>\r\n      </defs>\r\n      <use xlink:href=\"#DejaVuSans-84\"/>\r\n      <use x=\"46.333984\" xlink:href=\"#DejaVuSans-114\"/>\r\n      <use x=\"87.447266\" xlink:href=\"#DejaVuSans-117\"/>\r\n      <use x=\"150.826172\" xlink:href=\"#DejaVuSans-101\"/>\r\n     </g>\r\n    </g>\r\n   </g>\r\n  </g>\r\n </g>\r\n <defs>\r\n  <clipPath id=\"p48774fef97\">\r\n   <rect height=\"217.44\" width=\"334.8\" x=\"42.620313\" y=\"7.2\"/>\r\n  </clipPath>\r\n </defs>\r\n</svg>\r\n",
                        "image/png": "[encoded data removed]"
                    },
                    "metadata": {
                        "needs_background": "light"
                    }
                }
            ]
        },
        {
            "cell_type": "markdown",
            "metadata": {
                "id": "pC7czCwk3ceH",
                "colab_type": "text"
            },
            "source": [
                "`GradientTape` provides an extremely flexible framework for automatic differentiation. In order to back propagate errors through a neural network, we track forward passes on the Tape, use this information to determine the gradients, and then use these gradients for optimization using SGD."
            ]
        }
    ]
}