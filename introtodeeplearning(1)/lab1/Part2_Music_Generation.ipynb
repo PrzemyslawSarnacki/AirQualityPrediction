{
  "nbformat": 4,
  "nbformat_minor": 0,
  "metadata": {
    "colab": {
      "name": "Part2_Music_Generation.ipynb",
      "provenance": [],
      "collapsed_sections": [
        "uoJsVjtCMunI"
      ]
    },
    "kernelspec": {
      "name": "python3",
      "display_name": "Python 3"
    },
    "accelerator": "GPU"
  },
  "cells": [
    {
      "cell_type": "markdown",
      "metadata": {
        "id": "uoJsVjtCMunI",
        "colab_type": "text"
      },
      "source": [
        "<table align=\"center\">\n",
        "  <td align=\"center\"><a target=\"_blank\" href=\"http://introtodeeplearning.com\">\n",
        "        <img src=\"http://introtodeeplearning.com/images/colab/mit.png\" style=\"padding-bottom:5px;\" />\n",
        "      Visit MIT Deep Learning</a></td>\n",
        "  <td align=\"center\"><a target=\"_blank\" href=\"https://colab.research.google.com/github/aamini/introtodeeplearning/blob/master/lab1/Part2_Music_Generation.ipynb\">\n",
        "        <img src=\"http://introtodeeplearning.com/images/colab/colab.png?v2.0\"  style=\"padding-bottom:5px;\" />Run in Google Colab</a></td>\n",
        "  <td align=\"center\"><a target=\"_blank\" href=\"https://github.com/aamini/introtodeeplearning/blob/master/lab1/Part2_Music_Generation.ipynb\">\n",
        "        <img src=\"http://introtodeeplearning.com/images/colab/github.png\"  height=\"70px\" style=\"padding-bottom:5px;\"  />View Source on GitHub</a></td>\n",
        "</table>\n",
        "\n",
        "# Copyright Information"
      ]
    },
    {
      "cell_type": "code",
      "metadata": {
        "id": "bUik05YqMyCH",
        "colab_type": "code",
        "colab": {}
      },
      "source": [
        "# Copyright 2020 MIT 6.S191 Introduction to Deep Learning. All Rights Reserved.\n",
        "# \n",
        "# Licensed under the MIT License. You may not use this file except in compliance\n",
        "# with the License. Use and/or modification of this code outside of 6.S191 must\n",
        "# reference:\n",
        "#\n",
        "# © MIT 6.S191: Introduction to Deep Learning\n",
        "# http://introtodeeplearning.com\n",
        "#"
      ],
      "execution_count": 0,
      "outputs": []
    },
    {
      "cell_type": "markdown",
      "metadata": {
        "id": "O-97SDET3JG-",
        "colab_type": "text"
      },
      "source": [
        "# Lab 1: Intro to TensorFlow and Music Generation with RNNs\n",
        "\n",
        "# Part 2: Music Generation with RNNs\n",
        "\n",
        "In this portion of the lab, we will explore building a Recurrent Neural Network (RNN) for music generation. We will train a model to learn the patterns in raw sheet music in [ABC notation](https://en.wikipedia.org/wiki/ABC_notation) and then use this model to generate new music. "
      ]
    },
    {
      "cell_type": "markdown",
      "metadata": {
        "colab_type": "text",
        "id": "rsvlBQYCrE4I"
      },
      "source": [
        "## 2.1 Dependencies \n",
        "First, let's download the course repository, install dependencies, and import the relevant packages we'll need for this lab."
      ]
    },
    {
      "cell_type": "code",
      "metadata": {
        "id": "riVZCVK65QTH",
        "colab_type": "code",
        "colab": {},
        "tags": []
      },
      "source": [
        "# Import Tensorflow 2.0\n",
        "import tensorflow as tf \n",
        "\n",
        "# Download and import the MIT 6.S191 package\n",
        "import mitdeeplearning as mdl\n",
        "\n",
        "# Import all remaining packages\n",
        "import numpy as np\n",
        "import os\n",
        "import time\n",
        "import functools\n",
        "from IPython import display as ipythondisplay\n",
        "from tqdm import tqdm\n",
        "!apt-get install abcmidi timidity > /dev/null 2>&1\n",
        "\n",
        "# Check that we are using a GPU, if not switch runtimes\n",
        "#   using Runtime > Change Runtime Type > GPU\n",
        "# assert len(tf.config.list_physical_devices('GPU')) > 0"
      ],
      "execution_count": 3,
      "outputs": [
        {
          "output_type": "stream",
          "name": "stderr",
          "text": "The system cannot find the path specified.\n"
        }
      ]
    },
    {
      "cell_type": "markdown",
      "metadata": {
        "id": "_ajvp0No4qDm",
        "colab_type": "text"
      },
      "source": [
        "## 2.2 Dataset\n",
        "\n",
        "![Let's Dance!](http://33.media.tumblr.com/3d223954ad0a77f4e98a7b87136aa395/tumblr_nlct5lFVbF1qhu7oio1_500.gif)\n",
        "\n",
        "We've gathered a dataset of thousands of Irish folk songs, represented in the ABC notation. Let's download the dataset and inspect it: \n"
      ]
    },
    {
      "cell_type": "code",
      "metadata": {
        "id": "P7dFnP5q3Jve",
        "colab_type": "code",
        "colab": {},
        "tags": []
      },
      "source": [
        "# Download the dataset\n",
        "songs = mdl.lab1.load_training_data()\n",
        "\n",
        "# Print one of the songs to inspect it in greater detail!\n",
        "example_song = songs[0]\n",
        "print(\"\\nExample song: \")\n",
        "print(example_song)"
      ],
      "execution_count": 4,
      "outputs": [
        {
          "output_type": "stream",
          "name": "stdout",
          "text": "Found 816 songs in text\n\nExample song: \nX:2\nT:An Buachaill Dreoite\nZ: id:dc-hornpipe-2\nM:C|\nL:1/8\nK:G Major\nGF|DGGB d2GB|d2GF Gc (3AGF|DGGB d2GB|dBcA F2GF|!\nDGGB d2GF|DGGF G2Ge|fgaf gbag|fdcA G2:|!\nGA|B2BG c2cA|d2GF G2GA|B2BG c2cA|d2DE F2GA|!\nB2BG c2cA|d^cde f2 (3def|g2gf gbag|fdcA G2:|!\n"
        }
      ]
    },
    {
      "cell_type": "markdown",
      "metadata": {
        "colab_type": "text",
        "id": "hKF3EHJlCAj2"
      },
      "source": [
        "We can easily convert a song in ABC notation to an audio waveform and play it back. Be patient for this conversion to run, it can take some time."
      ]
    },
    {
      "cell_type": "code",
      "metadata": {
        "id": "11toYzhEEKDz",
        "colab_type": "code",
        "colab": {}
      },
      "source": [
        "# Convert the ABC notation to audio file and listen to it\n",
        "mdl.lab1.play_song(example_song)"
      ],
      "execution_count": 7,
      "outputs": []
    },
    {
      "cell_type": "markdown",
      "metadata": {
        "id": "7vH24yyquwKQ",
        "colab_type": "text"
      },
      "source": [
        "One important thing to think about is that this notation of music does not simply contain information on the notes being played, but additionally there is meta information such as the song title, key, and tempo. How does the number of different characters that are present in the text file impact the complexity of the learning problem? This will become important soon, when we generate a numerical representation for the text data."
      ]
    },
    {
      "cell_type": "code",
      "metadata": {
        "colab_type": "code",
        "id": "IlCgQBRVymwR",
        "colab": {},
        "tags": []
      },
      "source": [
        "# Join our list of song strings into a single string containing all songs\n",
        "songs_joined = \"\\n\\n\".join(songs) \n",
        "\n",
        "# Find all unique characters in the joined string\n",
        "vocab = sorted(set(songs_joined))\n",
        "print(\"There are\", len(vocab), \"unique characters in the dataset\")"
      ],
      "execution_count": 8,
      "outputs": [
        {
          "output_type": "stream",
          "name": "stdout",
          "text": "There are 83 unique characters in the dataset\n"
        }
      ]
    },
    {
      "cell_type": "markdown",
      "metadata": {
        "colab_type": "text",
        "id": "rNnrKn_lL-IJ"
      },
      "source": [
        "## 2.3 Process the dataset for the learning task\n",
        "\n",
        "Let's take a step back and consider our prediction task. We're trying to train a RNN model to learn patterns in ABC music, and then use this model to generate (i.e., predict) a new piece of music based on this learned information. \n",
        "\n",
        "Breaking this down, what we're really asking the model is: given a character, or a sequence of characters, what is the most probable next character? We'll train the model to perform this task. \n",
        "\n",
        "To achieve this, we will input a sequence of characters to the model, and train the model to predict the output, that is, the following character at each time step. RNNs maintain an internal state that depends on previously seen elements, so information about all characters seen up until a given moment will be taken into account in generating the prediction."
      ]
    },
    {
      "cell_type": "markdown",
      "metadata": {
        "colab_type": "text",
        "id": "LFjSVAlWzf-N"
      },
      "source": [
        "### Vectorize the text\n",
        "\n",
        "Before we begin training our RNN model, we'll need to create a numerical representation of our text-based dataset. To do this, we'll generate two lookup tables: one that maps characters to numbers, and a second that maps numbers back to characters. Recall that we just identified the unique characters present in the text."
      ]
    },
    {
      "cell_type": "code",
      "metadata": {
        "colab_type": "code",
        "id": "IalZLbvOzf-F",
        "colab": {}
      },
      "source": [
        "### Define numerical representation of text ###\n",
        "\n",
        "# Create a mapping from character to unique index.\n",
        "# For example, to get the index of the character \"d\", \n",
        "#   we can evaluate `char2idx[\"d\"]`.  \n",
        "char2idx = {u:i for i, u in enumerate(vocab)}\n",
        "\n",
        "# Create a mapping from indices to characters. This is\n",
        "#   the inverse of char2idx and allows us to convert back\n",
        "#   from unique index to the character in our vocabulary.\n",
        "idx2char = np.array(vocab)"
      ],
      "execution_count": 9,
      "outputs": []
    },
    {
      "cell_type": "markdown",
      "metadata": {
        "colab_type": "text",
        "id": "tZfqhkYCymwX"
      },
      "source": [
        "This gives us an integer representation for each character. Observe that the unique characters (i.e., our vocabulary) in the text are mapped as indices from 0 to `len(unique)`. Let's take a peek at this numerical representation of our dataset:"
      ]
    },
    {
      "cell_type": "code",
      "metadata": {
        "colab_type": "code",
        "id": "FYyNlCNXymwY",
        "colab": {},
        "tags": []
      },
      "source": [
        "print('{')\n",
        "for char,_ in zip(char2idx, range(20)):\n",
        "    print('  {:4s}: {:3d},'.format(repr(char), char2idx[char]))\n",
        "print('  ...\\n}')"
      ],
      "execution_count": 10,
      "outputs": [
        {
          "output_type": "stream",
          "name": "stdout",
          "text": "{\n  '\\n':   0,\n  ' ' :   1,\n  '!' :   2,\n  '\"' :   3,\n  '#' :   4,\n  \"'\" :   5,\n  '(' :   6,\n  ')' :   7,\n  ',' :   8,\n  '-' :   9,\n  '.' :  10,\n  '/' :  11,\n  '0' :  12,\n  '1' :  13,\n  '2' :  14,\n  '3' :  15,\n  '4' :  16,\n  '5' :  17,\n  '6' :  18,\n  '7' :  19,\n  ...\n}\n"
        }
      ]
    },
    {
      "cell_type": "code",
      "metadata": {
        "id": "g-LnKyu4dczc",
        "colab_type": "code",
        "colab": {}
      },
      "source": [
        "### Vectorize the songs string ###\n",
        "\n",
        "'''TODO: Write a function to convert the all songs string to a vectorized\n",
        "    (i.e., numeric) representation. Use the appropriate mapping\n",
        "    above to convert from vocab characters to the corresponding indices.\n",
        "\n",
        "  NOTE: the output of the `vectorize_string` function \n",
        "  should be a np.array with `N` elements, where `N` is\n",
        "  the number of characters in the input string\n",
        "'''\n",
        "\n",
        "def vectorize_string(string):\n",
        "  return np.array([char2idx[char] for char in string])\n",
        "\n",
        "\n",
        "vectorized_songs = vectorize_string(songs_joined)"
      ],
      "execution_count": 43,
      "outputs": []
    },
    {
      "cell_type": "code",
      "execution_count": 48,
      "metadata": {},
      "outputs": [
        {
          "output_type": "execute_result",
          "data": {
            "text/plain": "array([22, 14])"
          },
          "metadata": {},
          "execution_count": 48
        }
      ],
      "source": [
        "vectorized_songs[1 : 2+1]"
      ]
    },
    {
      "cell_type": "markdown",
      "metadata": {
        "id": "IqxpSuZ1w-ub",
        "colab_type": "text"
      },
      "source": [
        "We can also look at how the first part of the text is mapped to an integer representation:"
      ]
    },
    {
      "cell_type": "code",
      "metadata": {
        "colab_type": "code",
        "id": "l1VKcQHcymwb",
        "colab": {},
        "tags": []
      },
      "source": [
        "print ('{} ---- characters mapped to int ----> {}'.format(repr(songs_joined[:10]), vectorized_songs[:10]))\n",
        "# check that vectorized_songs is a numpy array\n",
        "assert isinstance(vectorized_songs, np.ndarray), \"returned result should be a numpy array\""
      ],
      "execution_count": 44,
      "outputs": [
        {
          "output_type": "stream",
          "name": "stdout",
          "text": "'X:2\\nT:An B' ---- characters mapped to int ----> [49 22 14  0 45 22 26 69  1 27]\n"
        }
      ]
    },
    {
      "cell_type": "markdown",
      "metadata": {
        "colab_type": "text",
        "id": "hgsVvVxnymwf"
      },
      "source": [
        "### Create training examples and targets\n",
        "\n",
        "Our next step is to actually divide the text into example sequences that we'll use during training. Each input sequence that we feed into our RNN will contain `seq_length` characters from the text. We'll also need to define a target sequence for each input sequence, which will be used in training the RNN to predict the next character. For each input, the corresponding target will contain the same length of text, except shifted one character to the right.\n",
        "\n",
        "To do this, we'll break the text into chunks of `seq_length+1`. Suppose `seq_length` is 4 and our text is \"Hello\". Then, our input sequence is \"Hell\" and the target sequence is \"ello\".\n",
        "\n",
        "The batch method will then let us convert this stream of character indices to sequences of the desired size."
      ]
    },
    {
      "cell_type": "code",
      "metadata": {
        "colab_type": "code",
        "id": "LF-N8F7BoDRi",
        "colab": {},
        "tags": []
      },
      "source": [
        "### Batch definition to create training examples ###\n",
        "\n",
        "def get_batch(vectorized_songs, seq_length, batch_size):\n",
        "  # the length of the vectorized songs string\n",
        "  n = vectorized_songs.shape[0] - 1\n",
        "  # randomly choose the starting indices for the examples in the training batch\n",
        "  idx = np.random.choice(n-seq_length, batch_size)\n",
        "  '''TODO: construct\n",
        "   a list of input \n",
        "   sequences for \n",
        "   the training batch'''\n",
        "  \n",
        "  input_batch = [vectorized_songs[i : i+seq_length ] for i in idx] \n",
        "  '''TODO: construct a list of output sequences for the training batch'''\n",
        "  output_batch = [vectorized_songs[i+1 : i+seq_length+1 ] for i in idx]\n",
        "\n",
        "  # x_batch, y_batch provide the true inputs and targets for network training\n",
        "  x_batch = np.reshape(input_batch, [batch_size, seq_length])\n",
        "  y_batch = np.reshape(output_batch, [batch_size, seq_length])\n",
        "  return x_batch, y_batch\n",
        "\n",
        "\n",
        "# Perform some simple tests to make sure your batch function is working properly! \n",
        "test_args = (vectorized_songs, 10, 2)\n",
        "if not mdl.lab1.test_batch_func_types(get_batch, test_args) or \\\n",
        "   not mdl.lab1.test_batch_func_shapes(get_batch, test_args) or \\\n",
        "   not mdl.lab1.test_batch_func_next_step(get_batch, test_args): \n",
        "   print(\"======\\n[FAIL] could not pass tests\")\n",
        "else: \n",
        "   print(\"======\\n[PASS] passed all tests!\")"
      ],
      "execution_count": 61,
      "outputs": [
        {
          "output_type": "stream",
          "name": "stdout",
          "text": "[PASS] test_batch_func_types\n[PASS] test_batch_func_shapes\n[PASS] test_batch_func_next_step\n======\n[PASS] passed all tests!\n"
        }
      ]
    },
    {
      "cell_type": "markdown",
      "metadata": {
        "colab_type": "text",
        "id": "_33OHL3b84i0"
      },
      "source": [
        "For each of these vectors, each index is processed at a single time step. So, for the input at time step 0, the model receives the index for the first character in the sequence, and tries to predict the index of the next character. At the next timestep, it does the same thing, but the RNN considers the information from the previous step, i.e., its updated state, in addition to the current input.\n",
        "\n",
        "We can make this concrete by taking a look at how this works over the first several characters in our text:"
      ]
    },
    {
      "cell_type": "code",
      "metadata": {
        "colab_type": "code",
        "id": "0eBu9WZG84i0",
        "colab": {},
        "tags": []
      },
      "source": [
        "x_batch, y_batch = get_batch(vectorized_songs, seq_length=5, batch_size=1)\n",
        "\n",
        "for i, (input_idx, target_idx) in enumerate(zip(np.squeeze(x_batch), np.squeeze(y_batch))):\n",
        "    print(\"Step {:3d}\".format(i))\n",
        "    print(\"  input: {} ({:s})\".format(input_idx, repr(idx2char[input_idx])))\n",
        "    print(\"  expected output: {} ({:s})\".format(target_idx, repr(idx2char[target_idx])))"
      ],
      "execution_count": 72,
      "outputs": [
        {
          "output_type": "stream",
          "name": "stdout",
          "text": "Step   0\n  input: 58 ('c')\n  expected output: 82 ('|')\nStep   1\n  input: 82 ('|')\n  expected output: 27 ('B')\nStep   2\n  input: 27 ('B')\n  expected output: 32 ('G')\nStep   3\n  input: 32 ('G')\n  expected output: 32 ('G')\nStep   4\n  input: 32 ('G')\n  expected output: 14 ('2')\n"
        }
      ]
    },
    {
      "cell_type": "markdown",
      "metadata": {
        "colab_type": "text",
        "id": "r6oUuElIMgVx"
      },
      "source": [
        "## 2.4 The Recurrent Neural Network (RNN) model"
      ]
    },
    {
      "cell_type": "markdown",
      "metadata": {
        "colab_type": "text",
        "id": "m8gPwEjRzf-Z"
      },
      "source": [
        "Now we're ready to define and train a RNN model on our ABC music dataset, and then use that trained model to generate a new song. We'll train our RNN using batches of song snippets from our dataset, which we generated in the previous section.\n",
        "\n",
        "The model is based off the LSTM architecture, where we use a state vector to maintain information about the temporal relationships between consecutive characters. The final output of the LSTM is then fed into a fully connected [`Dense`](https://www.tensorflow.org/api_docs/python/tf/keras/layers/Dense) layer where we'll output a softmax over each character in the vocabulary, and then sample from this distribution to predict the next character. \n",
        "\n",
        "As we introduced in the first portion of this lab, we'll be using the Keras API, specifically, [`tf.keras.Sequential`](https://www.tensorflow.org/api_docs/python/tf/keras/models/Sequential), to define the model. Three layers are used to define the model:\n",
        "\n",
        "* [`tf.keras.layers.Embedding`](https://www.tensorflow.org/api_docs/python/tf/keras/layers/Embedding): This is the input layer, consisting of a trainable lookup table that maps the numbers of each character to a vector with `embedding_dim` dimensions.\n",
        "* [`tf.keras.layers.LSTM`](https://www.tensorflow.org/api_docs/python/tf/keras/layers/LSTM): Our LSTM network, with size `units=rnn_units`. \n",
        "* [`tf.keras.layers.Dense`](https://www.tensorflow.org/api_docs/python/tf/keras/layers/Dense): The output layer, with `vocab_size` outputs.\n",
        "\n",
        "\n",
        "<img src=\"https://raw.githubusercontent.com/aamini/introtodeeplearning/2019/lab1/img/lstm_unrolled-01-01.png\" alt=\"Drawing\"/>"
      ]
    },
    {
      "cell_type": "markdown",
      "metadata": {
        "id": "rlaOqndqBmJo",
        "colab_type": "text"
      },
      "source": [
        "### Define the RNN model\n",
        "\n",
        "Now, we will define a function that we will use to actually build the model."
      ]
    },
    {
      "cell_type": "code",
      "metadata": {
        "id": "8DsWzojvkbc7",
        "colab_type": "code",
        "colab": {}
      },
      "source": [
        "def LSTM(rnn_units): \n",
        "  return tf.keras.layers.LSTM(\n",
        "    rnn_units, \n",
        "    return_sequences=True, \n",
        "    recurrent_initializer='glorot_uniform',\n",
        "    recurrent_activation='sigmoid',\n",
        "    stateful=True,\n",
        "  )"
      ],
      "execution_count": 73,
      "outputs": []
    },
    {
      "cell_type": "markdown",
      "metadata": {
        "id": "IbWU4dMJmMvq",
        "colab_type": "text"
      },
      "source": [
        "The time has come! Fill in the `TODOs` to define the RNN model within the `build_model` function, and then call the function you just defined to instantiate the model!"
      ]
    },
    {
      "cell_type": "code",
      "metadata": {
        "colab_type": "code",
        "id": "MtCrdfzEI2N0",
        "colab": {}
      },
      "source": [
        "### Defining the RNN Model ###\n",
        "\n",
        "'''TODO: Add LSTM and Dense layers to define the RNN model using the Sequential API.'''\n",
        "def build_model(vocab_size, embedding_dim, rnn_units, batch_size):\n",
        "  model = tf.keras.Sequential([\n",
        "    # Layer 1: Embedding layer to transform indices into dense vectors \n",
        "    #   of a fixed embedding size\n",
        "    tf.keras.layers.Embedding(vocab_size, embedding_dim, batch_input_shape=[batch_size, None]),\n",
        "\n",
        "    # Layer 2: LSTM with `rnn_units` number of units. \n",
        "    # TODO: Call the LSTM function defined above to add this layer.\n",
        "    LSTM(rnn_units),\n",
        "\n",
        "    # Layer 3: Dense (fully-connected) layer that transforms the LSTM output\n",
        "    #   into the vocabulary size. \n",
        "    # TODO: Add the Dense layer.\n",
        "    tf.keras.layers.Dense(vocab_size),\n",
        "  ])\n",
        "\n",
        "  return model\n",
        "\n",
        "# Build a simple model with default hyperparameters. You will get the \n",
        "#   chance to change these later.\n",
        "model = build_model(len(vocab), embedding_dim=256, rnn_units=1024, batch_size=32)"
      ],
      "execution_count": 84,
      "outputs": []
    },
    {
      "cell_type": "markdown",
      "metadata": {
        "colab_type": "text",
        "id": "-ubPo0_9Prjb"
      },
      "source": [
        "### Test out the RNN model\n",
        "\n",
        "It's always a good idea to run a few simple checks on our model to see that it behaves as expected.  \n",
        "\n",
        "First, we can use the `Model.summary` function to print out a summary of our model's internal workings. Here we can check the layers in the model, the shape of the output of each of the layers, the batch size, etc."
      ]
    },
    {
      "cell_type": "code",
      "metadata": {
        "id": "RwG1DD6rDrRM",
        "colab_type": "code",
        "colab": {},
        "tags": []
      },
      "source": [
        "model.summary()"
      ],
      "execution_count": 85,
      "outputs": [
        {
          "output_type": "stream",
          "name": "stdout",
          "text": "Model: \"sequential_2\"\n_________________________________________________________________\nLayer (type)                 Output Shape              Param #   \n=================================================================\nembedding_3 (Embedding)      (32, None, 256)           21248     \n_________________________________________________________________\nlstm_4 (LSTM)                (32, None, 1024)          5246976   \n_________________________________________________________________\ndense_3 (Dense)              (32, None, 83)            85075     \n=================================================================\nTotal params: 5,353,299\nTrainable params: 5,353,299\nNon-trainable params: 0\n_________________________________________________________________\n"
        }
      ]
    },
    {
      "cell_type": "markdown",
      "metadata": {
        "id": "8xeDn5nZD0LX",
        "colab_type": "text"
      },
      "source": [
        "We can also quickly check the dimensionality of our output, using a sequence length of 100. Note that the model can be run on inputs of any length."
      ]
    },
    {
      "cell_type": "code",
      "metadata": {
        "colab_type": "code",
        "id": "C-_70kKAPrPU",
        "colab": {},
        "tags": []
      },
      "source": [
        "x, y = get_batch(vectorized_songs, seq_length=100, batch_size=32)\n",
        "pred = model(x)\n",
        "print(\"Input shape:      \", x.shape, \" # (batch_size, sequence_length)\")\n",
        "print(\"Prediction shape: \", pred.shape, \"# (batch_size, sequence_length, vocab_size)\")"
      ],
      "execution_count": 86,
      "outputs": [
        {
          "output_type": "stream",
          "name": "stdout",
          "text": "Input shape:       (32, 100)  # (batch_size, sequence_length)\nPrediction shape:  (32, 100, 83) # (batch_size, sequence_length, vocab_size)\n"
        }
      ]
    },
    {
      "cell_type": "markdown",
      "metadata": {
        "id": "mT1HvFVUGpoE",
        "colab_type": "text"
      },
      "source": [
        "### Predictions from the untrained model\n",
        "\n",
        "Let's take a look at what our untrained model is predicting.\n",
        "\n",
        "To get actual predictions from the model, we sample from the output distribution, which is defined by a `softmax` over our character vocabulary. This will give us actual character indices. This means we are using a [categorical distribution](https://en.wikipedia.org/wiki/Categorical_distribution) to sample over the example prediction. This gives a prediction of the next character (specifically its index) at each timestep.\n",
        "\n",
        "Note here that we sample from this probability distribution, as opposed to simply taking the `argmax`, which can cause the model to get stuck in a loop.\n",
        "\n",
        "Let's try this sampling out for the first example in the batch."
      ]
    },
    {
      "cell_type": "code",
      "metadata": {
        "colab_type": "code",
        "id": "4V4MfFg0RQJg",
        "colab": {}
      },
      "source": [
        "sampled_indices = tf.random.categorical(pred[0], num_samples=1)\n",
        "sampled_indices = tf.squeeze(sampled_indices,axis=-1).numpy()\n",
        "sampled_indices"
      ],
      "execution_count": 92,
      "outputs": [
        {
          "output_type": "execute_result",
          "data": {
            "text/plain": "array([18,  9, 24, 38, 37, 56, 46, 13, 41, 82, 80, 37, 13, 80, 20, 79,  5,\n       82, 23, 55, 19, 61, 12, 24, 70, 75, 46, 35, 54, 72, 38, 15,  6, 22,\n       15, 73, 63,  6, 37, 18, 13, 47, 76, 79, 10, 53, 58, 31, 39,  7, 50,\n       68, 82, 80, 74, 69, 28, 54, 49,  5, 23, 42, 78, 66, 41, 23, 61, 25,\n       11, 31, 19,  3, 11, 26, 73, 12, 58, 15, 77, 73, 42, 55, 29, 56, 58,\n        9, 45, 16, 22, 69,  0, 27, 13, 37,  6, 36, 49, 20,  6, 76],\n      dtype=int64)"
          },
          "metadata": {},
          "execution_count": 92
        }
      ]
    },
    {
      "cell_type": "markdown",
      "metadata": {
        "colab_type": "text",
        "id": "LfLtsP3mUhCG"
      },
      "source": [
        "We can now decode these to see the text predicted by the untrained model:"
      ]
    },
    {
      "cell_type": "code",
      "metadata": {
        "colab_type": "code",
        "id": "xWcFwPwLSo05",
        "colab": {},
        "tags": []
      },
      "source": [
        "print(\"Input: \\n\", repr(\"\".join(idx2char[x[0]])))\n",
        "print()\n",
        "print(\"Next Char Predictions: \\n\", repr(\"\".join(idx2char[sampled_indices])))"
      ],
      "execution_count": 90,
      "outputs": [
        {
          "output_type": "stream",
          "name": "stdout",
          "text": "Input: \n 'AG|FDFG A2AB|dfed BcdB|A2AB AFDF|G2E2 E2AG|!\\nFDFG A2AB|dfec dcBA|d2d2 efge|f2d2 d2:|!\\nK:D Mixolydian'\n\nNext Char Predictions: \n \"J8A,lgCJUi1]lMeZVOSeFz4)/xXa|Nm|lNg,7yG6mZvqOJ>Wp|79j=/!9JjI:DbFPu7=(Yr).a.IZ'^B84e1Bn q|!DsD#YNfd12\"\n"
        }
      ]
    },
    {
      "cell_type": "markdown",
      "metadata": {
        "id": "HEHHcRasIDm9",
        "colab_type": "text"
      },
      "source": [
        "As you can see, the text predicted by the untrained model is pretty nonsensical! How can we do better? We can train the network!"
      ]
    },
    {
      "cell_type": "markdown",
      "metadata": {
        "colab_type": "text",
        "id": "LJL0Q0YPY6Ee"
      },
      "source": [
        "## 2.5 Training the model: loss and training operations\n",
        "\n",
        "Now it's time to train the model!\n",
        "\n",
        "At this point, we can think of our next character prediction problem as a standard classification problem. Given the previous state of the RNN, as well as the input at a given time step, we want to predict the class of the next character -- that is, to actually predict the next character. \n",
        "\n",
        "To train our model on this classification task, we can use a form of the `crossentropy` loss (negative log likelihood loss). Specifically, we will use the [`sparse_categorical_crossentropy`](https://www.tensorflow.org/api_docs/python/tf/keras/losses/sparse_categorical_crossentropy) loss, as it utilizes integer targets for categorical classification tasks. We will want to compute the loss using the true targets -- the `labels` -- and the predicted targets -- the `logits`.\n",
        "\n",
        "Let's first compute the loss using our example predictions from the untrained model: "
      ]
    },
    {
      "cell_type": "code",
      "metadata": {
        "colab_type": "code",
        "id": "4HrXTACTdzY-",
        "colab": {},
        "tags": []
      },
      "source": [
        "### Defining the loss function ###\n",
        "\n",
        "'''TODO: define the loss function to compute and return the loss between\n",
        "    the true labels and predictions (logits). Set the argument from_logits=True.'''\n",
        "def compute_loss(labels, logits):\n",
        "  loss = tf.keras.losses.sparse_categorical_crossentropy(labels, logits, from_logits=True) \n",
        "  return loss\n",
        "\n",
        "'''TODO: compute the loss using the true next characters from the example batch \n",
        "    and the predictions from the untrained model several cells above'''\n",
        "\n",
        "example_batch_loss = compute_loss(y, pred)\n",
        "\n",
        "print(\"Prediction shape: \", pred.shape, \" # (batch_size, sequence_length, vocab_size)\") \n",
        "print(\"scalar_loss:      \", example_batch_loss.numpy().mean())"
      ],
      "execution_count": 95,
      "outputs": [
        {
          "output_type": "stream",
          "name": "stdout",
          "text": "Prediction shape:  (32, 100, 83)  # (batch_size, sequence_length, vocab_size)\nscalar_loss:       4.4185295\n"
        }
      ]
    },
    {
      "cell_type": "markdown",
      "metadata": {
        "id": "0Seh7e6eRqd7",
        "colab_type": "text"
      },
      "source": [
        "Let's start by defining some hyperparameters for training the model. To start, we have provided some reasonable values for some of the parameters. It is up to you to use what we've learned in class to help optimize the parameter selection here!"
      ]
    },
    {
      "cell_type": "code",
      "metadata": {
        "id": "JQWUUhKotkAY",
        "colab_type": "code",
        "colab": {}
      },
      "source": [
        "### Hyperparameter setting and optimization ###\n",
        "\n",
        "# Optimization parameters:\n",
        "num_training_iterations = 2000  # Increase this to train longer\n",
        "batch_size = 4  # Experiment between 1 and 64\n",
        "seq_length = 100  # Experiment between 50 and 500\n",
        "learning_rate = 5e-3  # Experiment between 1e-5 and 1e-1\n",
        "\n",
        "# Model parameters: \n",
        "vocab_size = len(vocab)\n",
        "embedding_dim = 256 \n",
        "rnn_units = 1024  # Experiment between 1 and 2048\n",
        "\n",
        "# Checkpoint location: \n",
        "checkpoint_dir = './training_checkpoints'\n",
        "checkpoint_prefix = os.path.join(checkpoint_dir, \"my_ckpt\")"
      ],
      "execution_count": 97,
      "outputs": []
    },
    {
      "cell_type": "markdown",
      "metadata": {
        "id": "5cu11p1MKYZd",
        "colab_type": "text"
      },
      "source": [
        "Now, we are ready to define our training operation -- the optimizer and duration of training -- and use this function to train the model. You will experiment with the choice of optimizer and the duration for which you train your models, and see how these changes affect the network's output. Some optimizers you may like to try are [`Adam`](https://www.tensorflow.org/api_docs/python/tf/keras/optimizers/Adam?version=stable) and [`Adagrad`](https://www.tensorflow.org/api_docs/python/tf/keras/optimizers/Adagrad?version=stable).\n",
        "\n",
        "First, we will instantiate a new model and an optimizer. Then, we will use the [`tf.GradientTape`](https://www.tensorflow.org/api_docs/python/tf/GradientTape) method to perform the backpropagation operations. \n",
        "\n",
        "We will also generate a print-out of the model's progress through training, which will help us easily visualize whether or not we are minimizing the loss."
      ]
    },
    {
      "cell_type": "code",
      "metadata": {
        "colab_type": "code",
        "id": "F31vzJ_u66cb",
        "colab": {},
        "tags": []
      },
      "source": [
        "### Define optimizer and training operation ###\n",
        "\n",
        "'''TODO: instantiate a new model for training using the `build_model`\n",
        "  function and the hyperparameters created above.'''\n",
        "model = build_model(vocab_size, embedding_dim, rnn_units, batch_size)\n",
        "\n",
        "'''TODO: instantiate an optimizer with its learning rate.\n",
        "  Checkout the tensorflow website for a list of supported optimizers.\n",
        "  https://www.tensorflow.org/api_docs/python/tf/keras/optimizers/\n",
        "  Try using the Adam optimizer to start.'''\n",
        "optimizer = tf.optimizers.Adam(learning_rate)\n",
        "\n",
        "@tf.function\n",
        "def train_step(x, y): \n",
        "  # Use tf.GradientTape()\n",
        "  with tf.GradientTape() as tape:\n",
        "  \n",
        "    '''TODO: feed the current input into the model and generate predictions'''\n",
        "    y_hat = model(x)\n",
        "  \n",
        "    '''TODO: compute the loss!'''\n",
        "    loss = compute_loss(y, y_hat)\n",
        "\n",
        "  # Now, compute the gradients \n",
        "  '''TODO: complete the function call for gradient computation. \n",
        "      Remember that we want the gradient of the loss with respect all \n",
        "      of the model parameters. \n",
        "      HINT: use `model.trainable_variables` to get a list of all model\n",
        "      parameters.'''\n",
        "  grads = tape.gradient(loss, model.trainable_variables)\n",
        "  \n",
        "  # Apply the gradients to the optimizer so it can update the model accordingly\n",
        "  optimizer.apply_gradients(zip(grads, model.trainable_variables))\n",
        "  return loss\n",
        "\n",
        "##################\n",
        "# Begin training!#\n",
        "##################\n",
        "\n",
        "history = []\n",
        "plotter = mdl.util.PeriodicPlotter(sec=2, xlabel='Iterations', ylabel='Loss')\n",
        "if hasattr(tqdm, '_instances'): tqdm._instances.clear() # clear if it exists\n",
        "\n",
        "for iter in tqdm(range(num_training_iterations)):\n",
        "\n",
        "  # Grab a batch and propagate it through the network\n",
        "  x_batch, y_batch = get_batch(vectorized_songs, seq_length, batch_size)\n",
        "  loss = train_step(x_batch, y_batch)\n",
        "\n",
        "  # Update the progress bar\n",
        "  history.append(loss.numpy().mean())\n",
        "  plotter.plot(history)\n",
        "\n",
        "  # Update the model with the changed weights!\n",
        "  if iter % 100 == 0:     \n",
        "    model.save_weights(checkpoint_prefix)\n",
        "    \n",
        "# Save the trained model and the weights\n",
        "model.save_weights(checkpoint_prefix)\n"
      ],
      "execution_count": 101,
      "outputs": [
        {
          "output_type": "display_data",
          "data": {
            "text/plain": "<Figure size 432x288 with 1 Axes>",
            "image/svg+xml": "<?xml version=\"1.0\" encoding=\"utf-8\" standalone=\"no\"?>\r\n<!DOCTYPE svg PUBLIC \"-//W3C//DTD SVG 1.1//EN\"\r\n  \"http://www.w3.org/Graphics/SVG/1.1/DTD/svg11.dtd\">\r\n<!-- Created with matplotlib (https://matplotlib.org/) -->\r\n<svg height=\"262.19625pt\" version=\"1.1\" viewBox=\"0 0 385.78125 262.19625\" width=\"385.78125pt\" xmlns=\"http://www.w3.org/2000/svg\" xmlns:xlink=\"http://www.w3.org/1999/xlink\">\r\n <metadata>\r\n  <rdf:RDF xmlns:cc=\"http://creativecommons.org/ns#\" xmlns:dc=\"http://purl.org/dc/elements/1.1/\" xmlns:rdf=\"http://www.w3.org/1999/02/22-rdf-syntax-ns#\">\r\n   <cc:Work>\r\n    <dc:type rdf:resource=\"http://purl.org/dc/dcmitype/StillImage\"/>\r\n    <dc:date>2020-08-19T00:30:31.036197</dc:date>\r\n    <dc:format>image/svg+xml</dc:format>\r\n    <dc:creator>\r\n     <cc:Agent>\r\n      <dc:title>Matplotlib v3.3.0, https://matplotlib.org/</dc:title>\r\n     </cc:Agent>\r\n    </dc:creator>\r\n   </cc:Work>\r\n  </rdf:RDF>\r\n </metadata>\r\n <defs>\r\n  <style type=\"text/css\">*{stroke-linecap:butt;stroke-linejoin:round;}</style>\r\n </defs>\r\n <g id=\"figure_1\">\r\n  <g id=\"patch_1\">\r\n   <path d=\"M 0 262.19625 \r\nL 385.78125 262.19625 \r\nL 385.78125 0 \r\nL 0 0 \r\nz\r\n\" style=\"fill:none;\"/>\r\n  </g>\r\n  <g id=\"axes_1\">\r\n   <g id=\"patch_2\">\r\n    <path d=\"M 43.78125 224.64 \r\nL 378.58125 224.64 \r\nL 378.58125 7.2 \r\nL 43.78125 7.2 \r\nz\r\n\" style=\"fill:#ffffff;\"/>\r\n   </g>\r\n   <g id=\"matplotlib.axis_1\">\r\n    <g id=\"xtick_1\">\r\n     <g id=\"line2d_1\">\r\n      <defs>\r\n       <path d=\"M 0 0 \r\nL 0 3.5 \r\n\" id=\"m8cdb62d116\" style=\"stroke:#000000;stroke-width:0.8;\"/>\r\n      </defs>\r\n      <g>\r\n       <use style=\"stroke:#000000;stroke-width:0.8;\" x=\"58.999432\" xlink:href=\"#m8cdb62d116\" y=\"224.64\"/>\r\n      </g>\r\n     </g>\r\n     <g id=\"text_1\">\r\n      <!-- 0 -->\r\n      <g transform=\"translate(55.818182 239.238437)scale(0.1 -0.1)\">\r\n       <defs>\r\n        <path d=\"M 31.78125 66.40625 \r\nQ 24.171875 66.40625 20.328125 58.90625 \r\nQ 16.5 51.421875 16.5 36.375 \r\nQ 16.5 21.390625 20.328125 13.890625 \r\nQ 24.171875 6.390625 31.78125 6.390625 \r\nQ 39.453125 6.390625 43.28125 13.890625 \r\nQ 47.125 21.390625 47.125 36.375 \r\nQ 47.125 51.421875 43.28125 58.90625 \r\nQ 39.453125 66.40625 31.78125 66.40625 \r\nz\r\nM 31.78125 74.21875 \r\nQ 44.046875 74.21875 50.515625 64.515625 \r\nQ 56.984375 54.828125 56.984375 36.375 \r\nQ 56.984375 17.96875 50.515625 8.265625 \r\nQ 44.046875 -1.421875 31.78125 -1.421875 \r\nQ 19.53125 -1.421875 13.0625 8.265625 \r\nQ 6.59375 17.96875 6.59375 36.375 \r\nQ 6.59375 54.828125 13.0625 64.515625 \r\nQ 19.53125 74.21875 31.78125 74.21875 \r\nz\r\n\" id=\"DejaVuSans-48\"/>\r\n       </defs>\r\n       <use xlink:href=\"#DejaVuSans-48\"/>\r\n      </g>\r\n     </g>\r\n    </g>\r\n    <g id=\"xtick_2\">\r\n     <g id=\"line2d_2\">\r\n      <g>\r\n       <use style=\"stroke:#000000;stroke-width:0.8;\" x=\"97.063919\" xlink:href=\"#m8cdb62d116\" y=\"224.64\"/>\r\n      </g>\r\n     </g>\r\n     <g id=\"text_2\">\r\n      <!-- 250 -->\r\n      <g transform=\"translate(87.520169 239.238437)scale(0.1 -0.1)\">\r\n       <defs>\r\n        <path d=\"M 19.1875 8.296875 \r\nL 53.609375 8.296875 \r\nL 53.609375 0 \r\nL 7.328125 0 \r\nL 7.328125 8.296875 \r\nQ 12.9375 14.109375 22.625 23.890625 \r\nQ 32.328125 33.6875 34.8125 36.53125 \r\nQ 39.546875 41.84375 41.421875 45.53125 \r\nQ 43.3125 49.21875 43.3125 52.78125 \r\nQ 43.3125 58.59375 39.234375 62.25 \r\nQ 35.15625 65.921875 28.609375 65.921875 \r\nQ 23.96875 65.921875 18.8125 64.3125 \r\nQ 13.671875 62.703125 7.8125 59.421875 \r\nL 7.8125 69.390625 \r\nQ 13.765625 71.78125 18.9375 73 \r\nQ 24.125 74.21875 28.421875 74.21875 \r\nQ 39.75 74.21875 46.484375 68.546875 \r\nQ 53.21875 62.890625 53.21875 53.421875 \r\nQ 53.21875 48.921875 51.53125 44.890625 \r\nQ 49.859375 40.875 45.40625 35.40625 \r\nQ 44.1875 33.984375 37.640625 27.21875 \r\nQ 31.109375 20.453125 19.1875 8.296875 \r\nz\r\n\" id=\"DejaVuSans-50\"/>\r\n        <path d=\"M 10.796875 72.90625 \r\nL 49.515625 72.90625 \r\nL 49.515625 64.59375 \r\nL 19.828125 64.59375 \r\nL 19.828125 46.734375 \r\nQ 21.96875 47.46875 24.109375 47.828125 \r\nQ 26.265625 48.1875 28.421875 48.1875 \r\nQ 40.625 48.1875 47.75 41.5 \r\nQ 54.890625 34.8125 54.890625 23.390625 \r\nQ 54.890625 11.625 47.5625 5.09375 \r\nQ 40.234375 -1.421875 26.90625 -1.421875 \r\nQ 22.3125 -1.421875 17.546875 -0.640625 \r\nQ 12.796875 0.140625 7.71875 1.703125 \r\nL 7.71875 11.625 \r\nQ 12.109375 9.234375 16.796875 8.0625 \r\nQ 21.484375 6.890625 26.703125 6.890625 \r\nQ 35.15625 6.890625 40.078125 11.328125 \r\nQ 45.015625 15.765625 45.015625 23.390625 \r\nQ 45.015625 31 40.078125 35.4375 \r\nQ 35.15625 39.890625 26.703125 39.890625 \r\nQ 22.75 39.890625 18.8125 39.015625 \r\nQ 14.890625 38.140625 10.796875 36.28125 \r\nz\r\n\" id=\"DejaVuSans-53\"/>\r\n       </defs>\r\n       <use xlink:href=\"#DejaVuSans-50\"/>\r\n       <use x=\"63.623047\" xlink:href=\"#DejaVuSans-53\"/>\r\n       <use x=\"127.246094\" xlink:href=\"#DejaVuSans-48\"/>\r\n      </g>\r\n     </g>\r\n    </g>\r\n    <g id=\"xtick_3\">\r\n     <g id=\"line2d_3\">\r\n      <g>\r\n       <use style=\"stroke:#000000;stroke-width:0.8;\" x=\"135.128405\" xlink:href=\"#m8cdb62d116\" y=\"224.64\"/>\r\n      </g>\r\n     </g>\r\n     <g id=\"text_3\">\r\n      <!-- 500 -->\r\n      <g transform=\"translate(125.584655 239.238437)scale(0.1 -0.1)\">\r\n       <use xlink:href=\"#DejaVuSans-53\"/>\r\n       <use x=\"63.623047\" xlink:href=\"#DejaVuSans-48\"/>\r\n       <use x=\"127.246094\" xlink:href=\"#DejaVuSans-48\"/>\r\n      </g>\r\n     </g>\r\n    </g>\r\n    <g id=\"xtick_4\">\r\n     <g id=\"line2d_4\">\r\n      <g>\r\n       <use style=\"stroke:#000000;stroke-width:0.8;\" x=\"173.192892\" xlink:href=\"#m8cdb62d116\" y=\"224.64\"/>\r\n      </g>\r\n     </g>\r\n     <g id=\"text_4\">\r\n      <!-- 750 -->\r\n      <g transform=\"translate(163.649142 239.238437)scale(0.1 -0.1)\">\r\n       <defs>\r\n        <path d=\"M 8.203125 72.90625 \r\nL 55.078125 72.90625 \r\nL 55.078125 68.703125 \r\nL 28.609375 0 \r\nL 18.3125 0 \r\nL 43.21875 64.59375 \r\nL 8.203125 64.59375 \r\nz\r\n\" id=\"DejaVuSans-55\"/>\r\n       </defs>\r\n       <use xlink:href=\"#DejaVuSans-55\"/>\r\n       <use x=\"63.623047\" xlink:href=\"#DejaVuSans-53\"/>\r\n       <use x=\"127.246094\" xlink:href=\"#DejaVuSans-48\"/>\r\n      </g>\r\n     </g>\r\n    </g>\r\n    <g id=\"xtick_5\">\r\n     <g id=\"line2d_5\">\r\n      <g>\r\n       <use style=\"stroke:#000000;stroke-width:0.8;\" x=\"211.257379\" xlink:href=\"#m8cdb62d116\" y=\"224.64\"/>\r\n      </g>\r\n     </g>\r\n     <g id=\"text_5\">\r\n      <!-- 1000 -->\r\n      <g transform=\"translate(198.532379 239.238437)scale(0.1 -0.1)\">\r\n       <defs>\r\n        <path d=\"M 12.40625 8.296875 \r\nL 28.515625 8.296875 \r\nL 28.515625 63.921875 \r\nL 10.984375 60.40625 \r\nL 10.984375 69.390625 \r\nL 28.421875 72.90625 \r\nL 38.28125 72.90625 \r\nL 38.28125 8.296875 \r\nL 54.390625 8.296875 \r\nL 54.390625 0 \r\nL 12.40625 0 \r\nz\r\n\" id=\"DejaVuSans-49\"/>\r\n       </defs>\r\n       <use xlink:href=\"#DejaVuSans-49\"/>\r\n       <use x=\"63.623047\" xlink:href=\"#DejaVuSans-48\"/>\r\n       <use x=\"127.246094\" xlink:href=\"#DejaVuSans-48\"/>\r\n       <use x=\"190.869141\" xlink:href=\"#DejaVuSans-48\"/>\r\n      </g>\r\n     </g>\r\n    </g>\r\n    <g id=\"xtick_6\">\r\n     <g id=\"line2d_6\">\r\n      <g>\r\n       <use style=\"stroke:#000000;stroke-width:0.8;\" x=\"249.321866\" xlink:href=\"#m8cdb62d116\" y=\"224.64\"/>\r\n      </g>\r\n     </g>\r\n     <g id=\"text_6\">\r\n      <!-- 1250 -->\r\n      <g transform=\"translate(236.596866 239.238437)scale(0.1 -0.1)\">\r\n       <use xlink:href=\"#DejaVuSans-49\"/>\r\n       <use x=\"63.623047\" xlink:href=\"#DejaVuSans-50\"/>\r\n       <use x=\"127.246094\" xlink:href=\"#DejaVuSans-53\"/>\r\n       <use x=\"190.869141\" xlink:href=\"#DejaVuSans-48\"/>\r\n      </g>\r\n     </g>\r\n    </g>\r\n    <g id=\"xtick_7\">\r\n     <g id=\"line2d_7\">\r\n      <g>\r\n       <use style=\"stroke:#000000;stroke-width:0.8;\" x=\"287.386353\" xlink:href=\"#m8cdb62d116\" y=\"224.64\"/>\r\n      </g>\r\n     </g>\r\n     <g id=\"text_7\">\r\n      <!-- 1500 -->\r\n      <g transform=\"translate(274.661353 239.238437)scale(0.1 -0.1)\">\r\n       <use xlink:href=\"#DejaVuSans-49\"/>\r\n       <use x=\"63.623047\" xlink:href=\"#DejaVuSans-53\"/>\r\n       <use x=\"127.246094\" xlink:href=\"#DejaVuSans-48\"/>\r\n       <use x=\"190.869141\" xlink:href=\"#DejaVuSans-48\"/>\r\n      </g>\r\n     </g>\r\n    </g>\r\n    <g id=\"xtick_8\">\r\n     <g id=\"line2d_8\">\r\n      <g>\r\n       <use style=\"stroke:#000000;stroke-width:0.8;\" x=\"325.450839\" xlink:href=\"#m8cdb62d116\" y=\"224.64\"/>\r\n      </g>\r\n     </g>\r\n     <g id=\"text_8\">\r\n      <!-- 1750 -->\r\n      <g transform=\"translate(312.725839 239.238437)scale(0.1 -0.1)\">\r\n       <use xlink:href=\"#DejaVuSans-49\"/>\r\n       <use x=\"63.623047\" xlink:href=\"#DejaVuSans-55\"/>\r\n       <use x=\"127.246094\" xlink:href=\"#DejaVuSans-53\"/>\r\n       <use x=\"190.869141\" xlink:href=\"#DejaVuSans-48\"/>\r\n      </g>\r\n     </g>\r\n    </g>\r\n    <g id=\"xtick_9\">\r\n     <g id=\"line2d_9\">\r\n      <g>\r\n       <use style=\"stroke:#000000;stroke-width:0.8;\" x=\"363.515326\" xlink:href=\"#m8cdb62d116\" y=\"224.64\"/>\r\n      </g>\r\n     </g>\r\n     <g id=\"text_9\">\r\n      <!-- 2000 -->\r\n      <g transform=\"translate(350.790326 239.238437)scale(0.1 -0.1)\">\r\n       <use xlink:href=\"#DejaVuSans-50\"/>\r\n       <use x=\"63.623047\" xlink:href=\"#DejaVuSans-48\"/>\r\n       <use x=\"127.246094\" xlink:href=\"#DejaVuSans-48\"/>\r\n       <use x=\"190.869141\" xlink:href=\"#DejaVuSans-48\"/>\r\n      </g>\r\n     </g>\r\n    </g>\r\n    <g id=\"text_10\">\r\n     <!-- Iterations -->\r\n     <g transform=\"translate(187.367969 252.916562)scale(0.1 -0.1)\">\r\n      <defs>\r\n       <path d=\"M 9.8125 72.90625 \r\nL 19.671875 72.90625 \r\nL 19.671875 0 \r\nL 9.8125 0 \r\nz\r\n\" id=\"DejaVuSans-73\"/>\r\n       <path d=\"M 18.3125 70.21875 \r\nL 18.3125 54.6875 \r\nL 36.8125 54.6875 \r\nL 36.8125 47.703125 \r\nL 18.3125 47.703125 \r\nL 18.3125 18.015625 \r\nQ 18.3125 11.328125 20.140625 9.421875 \r\nQ 21.96875 7.515625 27.59375 7.515625 \r\nL 36.8125 7.515625 \r\nL 36.8125 0 \r\nL 27.59375 0 \r\nQ 17.1875 0 13.234375 3.875 \r\nQ 9.28125 7.765625 9.28125 18.015625 \r\nL 9.28125 47.703125 \r\nL 2.6875 47.703125 \r\nL 2.6875 54.6875 \r\nL 9.28125 54.6875 \r\nL 9.28125 70.21875 \r\nz\r\n\" id=\"DejaVuSans-116\"/>\r\n       <path d=\"M 56.203125 29.59375 \r\nL 56.203125 25.203125 \r\nL 14.890625 25.203125 \r\nQ 15.484375 15.921875 20.484375 11.0625 \r\nQ 25.484375 6.203125 34.421875 6.203125 \r\nQ 39.59375 6.203125 44.453125 7.46875 \r\nQ 49.3125 8.734375 54.109375 11.28125 \r\nL 54.109375 2.78125 \r\nQ 49.265625 0.734375 44.1875 -0.34375 \r\nQ 39.109375 -1.421875 33.890625 -1.421875 \r\nQ 20.796875 -1.421875 13.15625 6.1875 \r\nQ 5.515625 13.8125 5.515625 26.8125 \r\nQ 5.515625 40.234375 12.765625 48.109375 \r\nQ 20.015625 56 32.328125 56 \r\nQ 43.359375 56 49.78125 48.890625 \r\nQ 56.203125 41.796875 56.203125 29.59375 \r\nz\r\nM 47.21875 32.234375 \r\nQ 47.125 39.59375 43.09375 43.984375 \r\nQ 39.0625 48.390625 32.421875 48.390625 \r\nQ 24.90625 48.390625 20.390625 44.140625 \r\nQ 15.875 39.890625 15.1875 32.171875 \r\nz\r\n\" id=\"DejaVuSans-101\"/>\r\n       <path d=\"M 41.109375 46.296875 \r\nQ 39.59375 47.171875 37.8125 47.578125 \r\nQ 36.03125 48 33.890625 48 \r\nQ 26.265625 48 22.1875 43.046875 \r\nQ 18.109375 38.09375 18.109375 28.8125 \r\nL 18.109375 0 \r\nL 9.078125 0 \r\nL 9.078125 54.6875 \r\nL 18.109375 54.6875 \r\nL 18.109375 46.1875 \r\nQ 20.953125 51.171875 25.484375 53.578125 \r\nQ 30.03125 56 36.53125 56 \r\nQ 37.453125 56 38.578125 55.875 \r\nQ 39.703125 55.765625 41.0625 55.515625 \r\nz\r\n\" id=\"DejaVuSans-114\"/>\r\n       <path d=\"M 34.28125 27.484375 \r\nQ 23.390625 27.484375 19.1875 25 \r\nQ 14.984375 22.515625 14.984375 16.5 \r\nQ 14.984375 11.71875 18.140625 8.90625 \r\nQ 21.296875 6.109375 26.703125 6.109375 \r\nQ 34.1875 6.109375 38.703125 11.40625 \r\nQ 43.21875 16.703125 43.21875 25.484375 \r\nL 43.21875 27.484375 \r\nz\r\nM 52.203125 31.203125 \r\nL 52.203125 0 \r\nL 43.21875 0 \r\nL 43.21875 8.296875 \r\nQ 40.140625 3.328125 35.546875 0.953125 \r\nQ 30.953125 -1.421875 24.3125 -1.421875 \r\nQ 15.921875 -1.421875 10.953125 3.296875 \r\nQ 6 8.015625 6 15.921875 \r\nQ 6 25.140625 12.171875 29.828125 \r\nQ 18.359375 34.515625 30.609375 34.515625 \r\nL 43.21875 34.515625 \r\nL 43.21875 35.40625 \r\nQ 43.21875 41.609375 39.140625 45 \r\nQ 35.0625 48.390625 27.6875 48.390625 \r\nQ 23 48.390625 18.546875 47.265625 \r\nQ 14.109375 46.140625 10.015625 43.890625 \r\nL 10.015625 52.203125 \r\nQ 14.9375 54.109375 19.578125 55.046875 \r\nQ 24.21875 56 28.609375 56 \r\nQ 40.484375 56 46.34375 49.84375 \r\nQ 52.203125 43.703125 52.203125 31.203125 \r\nz\r\n\" id=\"DejaVuSans-97\"/>\r\n       <path d=\"M 9.421875 54.6875 \r\nL 18.40625 54.6875 \r\nL 18.40625 0 \r\nL 9.421875 0 \r\nz\r\nM 9.421875 75.984375 \r\nL 18.40625 75.984375 \r\nL 18.40625 64.59375 \r\nL 9.421875 64.59375 \r\nz\r\n\" id=\"DejaVuSans-105\"/>\r\n       <path d=\"M 30.609375 48.390625 \r\nQ 23.390625 48.390625 19.1875 42.75 \r\nQ 14.984375 37.109375 14.984375 27.296875 \r\nQ 14.984375 17.484375 19.15625 11.84375 \r\nQ 23.34375 6.203125 30.609375 6.203125 \r\nQ 37.796875 6.203125 41.984375 11.859375 \r\nQ 46.1875 17.53125 46.1875 27.296875 \r\nQ 46.1875 37.015625 41.984375 42.703125 \r\nQ 37.796875 48.390625 30.609375 48.390625 \r\nz\r\nM 30.609375 56 \r\nQ 42.328125 56 49.015625 48.375 \r\nQ 55.71875 40.765625 55.71875 27.296875 \r\nQ 55.71875 13.875 49.015625 6.21875 \r\nQ 42.328125 -1.421875 30.609375 -1.421875 \r\nQ 18.84375 -1.421875 12.171875 6.21875 \r\nQ 5.515625 13.875 5.515625 27.296875 \r\nQ 5.515625 40.765625 12.171875 48.375 \r\nQ 18.84375 56 30.609375 56 \r\nz\r\n\" id=\"DejaVuSans-111\"/>\r\n       <path d=\"M 54.890625 33.015625 \r\nL 54.890625 0 \r\nL 45.90625 0 \r\nL 45.90625 32.71875 \r\nQ 45.90625 40.484375 42.875 44.328125 \r\nQ 39.84375 48.1875 33.796875 48.1875 \r\nQ 26.515625 48.1875 22.3125 43.546875 \r\nQ 18.109375 38.921875 18.109375 30.90625 \r\nL 18.109375 0 \r\nL 9.078125 0 \r\nL 9.078125 54.6875 \r\nL 18.109375 54.6875 \r\nL 18.109375 46.1875 \r\nQ 21.34375 51.125 25.703125 53.5625 \r\nQ 30.078125 56 35.796875 56 \r\nQ 45.21875 56 50.046875 50.171875 \r\nQ 54.890625 44.34375 54.890625 33.015625 \r\nz\r\n\" id=\"DejaVuSans-110\"/>\r\n       <path d=\"M 44.28125 53.078125 \r\nL 44.28125 44.578125 \r\nQ 40.484375 46.53125 36.375 47.5 \r\nQ 32.28125 48.484375 27.875 48.484375 \r\nQ 21.1875 48.484375 17.84375 46.4375 \r\nQ 14.5 44.390625 14.5 40.28125 \r\nQ 14.5 37.15625 16.890625 35.375 \r\nQ 19.28125 33.59375 26.515625 31.984375 \r\nL 29.59375 31.296875 \r\nQ 39.15625 29.25 43.1875 25.515625 \r\nQ 47.21875 21.78125 47.21875 15.09375 \r\nQ 47.21875 7.46875 41.1875 3.015625 \r\nQ 35.15625 -1.421875 24.609375 -1.421875 \r\nQ 20.21875 -1.421875 15.453125 -0.5625 \r\nQ 10.6875 0.296875 5.421875 2 \r\nL 5.421875 11.28125 \r\nQ 10.40625 8.6875 15.234375 7.390625 \r\nQ 20.0625 6.109375 24.8125 6.109375 \r\nQ 31.15625 6.109375 34.5625 8.28125 \r\nQ 37.984375 10.453125 37.984375 14.40625 \r\nQ 37.984375 18.0625 35.515625 20.015625 \r\nQ 33.0625 21.96875 24.703125 23.78125 \r\nL 21.578125 24.515625 \r\nQ 13.234375 26.265625 9.515625 29.90625 \r\nQ 5.8125 33.546875 5.8125 39.890625 \r\nQ 5.8125 47.609375 11.28125 51.796875 \r\nQ 16.75 56 26.8125 56 \r\nQ 31.78125 56 36.171875 55.265625 \r\nQ 40.578125 54.546875 44.28125 53.078125 \r\nz\r\n\" id=\"DejaVuSans-115\"/>\r\n      </defs>\r\n      <use xlink:href=\"#DejaVuSans-73\"/>\r\n      <use x=\"29.492188\" xlink:href=\"#DejaVuSans-116\"/>\r\n      <use x=\"68.701172\" xlink:href=\"#DejaVuSans-101\"/>\r\n      <use x=\"130.224609\" xlink:href=\"#DejaVuSans-114\"/>\r\n      <use x=\"171.337891\" xlink:href=\"#DejaVuSans-97\"/>\r\n      <use x=\"232.617188\" xlink:href=\"#DejaVuSans-116\"/>\r\n      <use x=\"271.826172\" xlink:href=\"#DejaVuSans-105\"/>\r\n      <use x=\"299.609375\" xlink:href=\"#DejaVuSans-111\"/>\r\n      <use x=\"360.791016\" xlink:href=\"#DejaVuSans-110\"/>\r\n      <use x=\"424.169922\" xlink:href=\"#DejaVuSans-115\"/>\r\n     </g>\r\n    </g>\r\n   </g>\r\n   <g id=\"matplotlib.axis_2\">\r\n    <g id=\"ytick_1\">\r\n     <g id=\"line2d_10\">\r\n      <defs>\r\n       <path d=\"M 0 0 \r\nL -3.5 0 \r\n\" id=\"m0cf8a52e80\" style=\"stroke:#000000;stroke-width:0.8;\"/>\r\n      </defs>\r\n      <g>\r\n       <use style=\"stroke:#000000;stroke-width:0.8;\" x=\"43.78125\" xlink:href=\"#m0cf8a52e80\" y=\"202.708836\"/>\r\n      </g>\r\n     </g>\r\n     <g id=\"text_11\">\r\n      <!-- 1.0 -->\r\n      <g transform=\"translate(20.878125 206.508055)scale(0.1 -0.1)\">\r\n       <defs>\r\n        <path d=\"M 10.6875 12.40625 \r\nL 21 12.40625 \r\nL 21 0 \r\nL 10.6875 0 \r\nz\r\n\" id=\"DejaVuSans-46\"/>\r\n       </defs>\r\n       <use xlink:href=\"#DejaVuSans-49\"/>\r\n       <use x=\"63.623047\" xlink:href=\"#DejaVuSans-46\"/>\r\n       <use x=\"95.410156\" xlink:href=\"#DejaVuSans-48\"/>\r\n      </g>\r\n     </g>\r\n    </g>\r\n    <g id=\"ytick_2\">\r\n     <g id=\"line2d_11\">\r\n      <g>\r\n       <use style=\"stroke:#000000;stroke-width:0.8;\" x=\"43.78125\" xlink:href=\"#m0cf8a52e80\" y=\"178.16645\"/>\r\n      </g>\r\n     </g>\r\n     <g id=\"text_12\">\r\n      <!-- 1.5 -->\r\n      <g transform=\"translate(20.878125 181.965669)scale(0.1 -0.1)\">\r\n       <use xlink:href=\"#DejaVuSans-49\"/>\r\n       <use x=\"63.623047\" xlink:href=\"#DejaVuSans-46\"/>\r\n       <use x=\"95.410156\" xlink:href=\"#DejaVuSans-53\"/>\r\n      </g>\r\n     </g>\r\n    </g>\r\n    <g id=\"ytick_3\">\r\n     <g id=\"line2d_12\">\r\n      <g>\r\n       <use style=\"stroke:#000000;stroke-width:0.8;\" x=\"43.78125\" xlink:href=\"#m0cf8a52e80\" y=\"153.624064\"/>\r\n      </g>\r\n     </g>\r\n     <g id=\"text_13\">\r\n      <!-- 2.0 -->\r\n      <g transform=\"translate(20.878125 157.423283)scale(0.1 -0.1)\">\r\n       <use xlink:href=\"#DejaVuSans-50\"/>\r\n       <use x=\"63.623047\" xlink:href=\"#DejaVuSans-46\"/>\r\n       <use x=\"95.410156\" xlink:href=\"#DejaVuSans-48\"/>\r\n      </g>\r\n     </g>\r\n    </g>\r\n    <g id=\"ytick_4\">\r\n     <g id=\"line2d_13\">\r\n      <g>\r\n       <use style=\"stroke:#000000;stroke-width:0.8;\" x=\"43.78125\" xlink:href=\"#m0cf8a52e80\" y=\"129.081678\"/>\r\n      </g>\r\n     </g>\r\n     <g id=\"text_14\">\r\n      <!-- 2.5 -->\r\n      <g transform=\"translate(20.878125 132.880897)scale(0.1 -0.1)\">\r\n       <use xlink:href=\"#DejaVuSans-50\"/>\r\n       <use x=\"63.623047\" xlink:href=\"#DejaVuSans-46\"/>\r\n       <use x=\"95.410156\" xlink:href=\"#DejaVuSans-53\"/>\r\n      </g>\r\n     </g>\r\n    </g>\r\n    <g id=\"ytick_5\">\r\n     <g id=\"line2d_14\">\r\n      <g>\r\n       <use style=\"stroke:#000000;stroke-width:0.8;\" x=\"43.78125\" xlink:href=\"#m0cf8a52e80\" y=\"104.539292\"/>\r\n      </g>\r\n     </g>\r\n     <g id=\"text_15\">\r\n      <!-- 3.0 -->\r\n      <g transform=\"translate(20.878125 108.338511)scale(0.1 -0.1)\">\r\n       <defs>\r\n        <path d=\"M 40.578125 39.3125 \r\nQ 47.65625 37.796875 51.625 33 \r\nQ 55.609375 28.21875 55.609375 21.1875 \r\nQ 55.609375 10.40625 48.1875 4.484375 \r\nQ 40.765625 -1.421875 27.09375 -1.421875 \r\nQ 22.515625 -1.421875 17.65625 -0.515625 \r\nQ 12.796875 0.390625 7.625 2.203125 \r\nL 7.625 11.71875 \r\nQ 11.71875 9.328125 16.59375 8.109375 \r\nQ 21.484375 6.890625 26.8125 6.890625 \r\nQ 36.078125 6.890625 40.9375 10.546875 \r\nQ 45.796875 14.203125 45.796875 21.1875 \r\nQ 45.796875 27.640625 41.28125 31.265625 \r\nQ 36.765625 34.90625 28.71875 34.90625 \r\nL 20.21875 34.90625 \r\nL 20.21875 43.015625 \r\nL 29.109375 43.015625 \r\nQ 36.375 43.015625 40.234375 45.921875 \r\nQ 44.09375 48.828125 44.09375 54.296875 \r\nQ 44.09375 59.90625 40.109375 62.90625 \r\nQ 36.140625 65.921875 28.71875 65.921875 \r\nQ 24.65625 65.921875 20.015625 65.03125 \r\nQ 15.375 64.15625 9.8125 62.3125 \r\nL 9.8125 71.09375 \r\nQ 15.4375 72.65625 20.34375 73.4375 \r\nQ 25.25 74.21875 29.59375 74.21875 \r\nQ 40.828125 74.21875 47.359375 69.109375 \r\nQ 53.90625 64.015625 53.90625 55.328125 \r\nQ 53.90625 49.265625 50.4375 45.09375 \r\nQ 46.96875 40.921875 40.578125 39.3125 \r\nz\r\n\" id=\"DejaVuSans-51\"/>\r\n       </defs>\r\n       <use xlink:href=\"#DejaVuSans-51\"/>\r\n       <use x=\"63.623047\" xlink:href=\"#DejaVuSans-46\"/>\r\n       <use x=\"95.410156\" xlink:href=\"#DejaVuSans-48\"/>\r\n      </g>\r\n     </g>\r\n    </g>\r\n    <g id=\"ytick_6\">\r\n     <g id=\"line2d_15\">\r\n      <g>\r\n       <use style=\"stroke:#000000;stroke-width:0.8;\" x=\"43.78125\" xlink:href=\"#m0cf8a52e80\" y=\"79.996906\"/>\r\n      </g>\r\n     </g>\r\n     <g id=\"text_16\">\r\n      <!-- 3.5 -->\r\n      <g transform=\"translate(20.878125 83.796125)scale(0.1 -0.1)\">\r\n       <use xlink:href=\"#DejaVuSans-51\"/>\r\n       <use x=\"63.623047\" xlink:href=\"#DejaVuSans-46\"/>\r\n       <use x=\"95.410156\" xlink:href=\"#DejaVuSans-53\"/>\r\n      </g>\r\n     </g>\r\n    </g>\r\n    <g id=\"ytick_7\">\r\n     <g id=\"line2d_16\">\r\n      <g>\r\n       <use style=\"stroke:#000000;stroke-width:0.8;\" x=\"43.78125\" xlink:href=\"#m0cf8a52e80\" y=\"55.45452\"/>\r\n      </g>\r\n     </g>\r\n     <g id=\"text_17\">\r\n      <!-- 4.0 -->\r\n      <g transform=\"translate(20.878125 59.253739)scale(0.1 -0.1)\">\r\n       <defs>\r\n        <path d=\"M 37.796875 64.3125 \r\nL 12.890625 25.390625 \r\nL 37.796875 25.390625 \r\nz\r\nM 35.203125 72.90625 \r\nL 47.609375 72.90625 \r\nL 47.609375 25.390625 \r\nL 58.015625 25.390625 \r\nL 58.015625 17.1875 \r\nL 47.609375 17.1875 \r\nL 47.609375 0 \r\nL 37.796875 0 \r\nL 37.796875 17.1875 \r\nL 4.890625 17.1875 \r\nL 4.890625 26.703125 \r\nz\r\n\" id=\"DejaVuSans-52\"/>\r\n       </defs>\r\n       <use xlink:href=\"#DejaVuSans-52\"/>\r\n       <use x=\"63.623047\" xlink:href=\"#DejaVuSans-46\"/>\r\n       <use x=\"95.410156\" xlink:href=\"#DejaVuSans-48\"/>\r\n      </g>\r\n     </g>\r\n    </g>\r\n    <g id=\"ytick_8\">\r\n     <g id=\"line2d_17\">\r\n      <g>\r\n       <use style=\"stroke:#000000;stroke-width:0.8;\" x=\"43.78125\" xlink:href=\"#m0cf8a52e80\" y=\"30.912134\"/>\r\n      </g>\r\n     </g>\r\n     <g id=\"text_18\">\r\n      <!-- 4.5 -->\r\n      <g transform=\"translate(20.878125 34.711353)scale(0.1 -0.1)\">\r\n       <use xlink:href=\"#DejaVuSans-52\"/>\r\n       <use x=\"63.623047\" xlink:href=\"#DejaVuSans-46\"/>\r\n       <use x=\"95.410156\" xlink:href=\"#DejaVuSans-53\"/>\r\n      </g>\r\n     </g>\r\n    </g>\r\n    <g id=\"text_19\">\r\n     <!-- Loss -->\r\n     <g transform=\"translate(14.798438 126.887187)rotate(-90)scale(0.1 -0.1)\">\r\n      <defs>\r\n       <path d=\"M 9.8125 72.90625 \r\nL 19.671875 72.90625 \r\nL 19.671875 8.296875 \r\nL 55.171875 8.296875 \r\nL 55.171875 0 \r\nL 9.8125 0 \r\nz\r\n\" id=\"DejaVuSans-76\"/>\r\n      </defs>\r\n      <use xlink:href=\"#DejaVuSans-76\"/>\r\n      <use x=\"53.962891\" xlink:href=\"#DejaVuSans-111\"/>\r\n      <use x=\"115.144531\" xlink:href=\"#DejaVuSans-115\"/>\r\n      <use x=\"167.244141\" xlink:href=\"#DejaVuSans-115\"/>\r\n     </g>\r\n    </g>\r\n   </g>\r\n   <g id=\"line2d_18\">\r\n    <path clip-path=\"url(#p9a46ed44c9)\" d=\"M 58.999432 34.929421 \r\nL 59.15169 67.466989 \r\nL 59.303948 17.083636 \r\nL 59.456206 45.885204 \r\nL 59.608464 31.869674 \r\nL 59.760722 52.068431 \r\nL 59.91298 56.722744 \r\nL 60.065237 78.452966 \r\nL 60.217495 66.464078 \r\nL 60.369753 68.083687 \r\nL 60.522011 79.894203 \r\nL 60.674269 64.988517 \r\nL 61.283301 86.36981 \r\nL 61.435559 85.165249 \r\nL 61.587817 88.97562 \r\nL 61.740075 89.687099 \r\nL 62.044591 76.085341 \r\nL 62.196849 90.550912 \r\nL 62.349107 87.211634 \r\nL 62.501365 90.272282 \r\nL 62.653623 86.279992 \r\nL 62.80588 104.243178 \r\nL 62.958138 95.80898 \r\nL 63.110396 97.234114 \r\nL 63.262654 89.678088 \r\nL 63.414912 102.839004 \r\nL 63.56717 92.995657 \r\nL 63.719428 94.88828 \r\nL 63.871686 105.336107 \r\nL 64.176202 93.905216 \r\nL 64.480718 113.364092 \r\nL 64.632976 120.95374 \r\nL 64.785234 98.940827 \r\nL 64.937492 122.998931 \r\nL 65.08975 105.194609 \r\nL 65.546524 128.165051 \r\nL 65.698781 118.603798 \r\nL 65.851039 121.697483 \r\nL 66.003297 130.366075 \r\nL 66.155555 132.130682 \r\nL 66.307813 111.287011 \r\nL 66.460071 115.438633 \r\nL 66.612329 131.053282 \r\nL 66.764587 127.80731 \r\nL 66.916845 135.456455 \r\nL 67.069103 135.98406 \r\nL 67.221361 139.202215 \r\nL 67.373619 137.394753 \r\nL 67.525877 137.509767 \r\nL 67.678135 147.223518 \r\nL 67.830393 142.620077 \r\nL 67.982651 144.180611 \r\nL 68.134909 138.054775 \r\nL 68.439425 150.559578 \r\nL 68.591682 134.538716 \r\nL 68.896198 149.665969 \r\nL 69.352972 155.953222 \r\nL 69.50523 155.7152 \r\nL 69.657488 148.151918 \r\nL 69.809746 159.94059 \r\nL 69.962004 126.468331 \r\nL 70.114262 143.502895 \r\nL 70.26652 133.367811 \r\nL 70.418778 156.255608 \r\nL 70.571036 155.31368 \r\nL 70.723294 155.3253 \r\nL 71.02781 160.198864 \r\nL 71.180068 154.844055 \r\nL 71.332326 163.037411 \r\nL 71.484583 150.052054 \r\nL 71.636841 152.547636 \r\nL 71.789099 149.764694 \r\nL 71.941357 153.543736 \r\nL 72.093615 161.271974 \r\nL 72.245873 160.448319 \r\nL 72.398131 150.164482 \r\nL 72.550389 159.885617 \r\nL 72.702647 153.852829 \r\nL 72.854905 162.063552 \r\nL 73.159421 154.434776 \r\nL 73.311679 136.732227 \r\nL 73.463937 157.977816 \r\nL 73.616195 151.587194 \r\nL 73.768453 162.555476 \r\nL 73.920711 159.206496 \r\nL 74.072969 169.422826 \r\nL 74.377484 154.130335 \r\nL 74.529742 172.012176 \r\nL 74.682 174.572708 \r\nL 74.834258 165.326364 \r\nL 74.986516 164.581825 \r\nL 75.138774 166.506759 \r\nL 75.291032 158.100273 \r\nL 75.44329 168.291413 \r\nL 75.747806 156.472817 \r\nL 75.900064 146.847065 \r\nL 76.052322 174.05268 \r\nL 76.356838 154.588368 \r\nL 76.509096 162.375178 \r\nL 76.661354 164.03951 \r\nL 76.813612 163.733074 \r\nL 76.96587 171.562821 \r\nL 77.118128 161.593524 \r\nL 77.270385 162.976668 \r\nL 77.422643 177.244281 \r\nL 77.574901 167.785715 \r\nL 77.727159 166.102963 \r\nL 77.879417 166.375092 \r\nL 78.031675 161.230663 \r\nL 78.183933 176.909355 \r\nL 78.488449 167.746048 \r\nL 78.640707 177.268354 \r\nL 78.792965 162.35959 \r\nL 78.945223 172.090426 \r\nL 79.249739 154.957098 \r\nL 79.554255 175.062192 \r\nL 79.706513 157.111019 \r\nL 79.858771 175.471957 \r\nL 80.011029 153.240109 \r\nL 80.163286 176.829742 \r\nL 80.315544 174.986142 \r\nL 80.467802 169.596348 \r\nL 80.62006 158.724262 \r\nL 80.772318 176.122499 \r\nL 80.924576 177.759084 \r\nL 81.076834 169.983269 \r\nL 81.229092 174.054933 \r\nL 81.533608 168.156071 \r\nL 81.685866 169.796002 \r\nL 81.838124 154.157849 \r\nL 81.990382 171.243699 \r\nL 82.14264 170.596 \r\nL 82.294898 174.772374 \r\nL 82.447156 165.676884 \r\nL 82.599414 172.493433 \r\nL 82.751672 172.587523 \r\nL 82.90393 169.7931 \r\nL 83.056187 170.395977 \r\nL 83.208445 178.296771 \r\nL 83.360703 175.826309 \r\nL 83.512961 162.88496 \r\nL 83.665219 160.091901 \r\nL 83.817477 179.695346 \r\nL 83.969735 172.304451 \r\nL 84.121993 175.753396 \r\nL 84.274251 168.949597 \r\nL 84.426509 182.210911 \r\nL 84.578767 172.830945 \r\nL 84.731025 177.004013 \r\nL 84.883283 176.864312 \r\nL 85.187799 168.622407 \r\nL 85.340057 183.095361 \r\nL 85.492315 182.704467 \r\nL 85.644573 169.313394 \r\nL 85.796831 168.022835 \r\nL 85.949088 167.743234 \r\nL 86.101346 173.247808 \r\nL 86.253604 169.635546 \r\nL 86.405862 179.435604 \r\nL 86.55812 161.272331 \r\nL 86.710378 178.747367 \r\nL 86.862636 175.159962 \r\nL 87.014894 190.104999 \r\nL 87.471668 175.196557 \r\nL 87.623926 172.680501 \r\nL 87.776184 175.879814 \r\nL 87.928442 184.2576 \r\nL 88.0807 177.626118 \r\nL 88.232958 182.081689 \r\nL 88.385216 182.380659 \r\nL 88.537474 179.094909 \r\nL 88.689732 180.502606 \r\nL 88.841989 168.411553 \r\nL 88.994247 167.236839 \r\nL 89.298763 184.006951 \r\nL 89.603279 164.558759 \r\nL 89.907795 185.569715 \r\nL 90.364569 174.116858 \r\nL 90.516827 173.676824 \r\nL 90.669085 181.973456 \r\nL 90.821343 163.170834 \r\nL 91.125859 183.715459 \r\nL 91.278117 174.769776 \r\nL 91.430375 184.500624 \r\nL 91.582633 166.747426 \r\nL 91.73489 167.517594 \r\nL 91.887148 167.411438 \r\nL 92.039406 183.351563 \r\nL 92.191664 167.475774 \r\nL 92.49618 182.018723 \r\nL 92.800696 167.936124 \r\nL 92.952954 179.594024 \r\nL 93.105212 171.192406 \r\nL 93.25747 169.944235 \r\nL 93.409728 175.10256 \r\nL 93.561986 175.528668 \r\nL 93.714244 168.225479 \r\nL 94.01876 189.810213 \r\nL 94.171018 174.887956 \r\nL 94.323276 172.835281 \r\nL 94.475534 168.275017 \r\nL 94.627791 171.869988 \r\nL 94.780049 181.906096 \r\nL 95.084565 172.628166 \r\nL 95.236823 182.455591 \r\nL 95.389081 182.479061 \r\nL 95.693597 185.953324 \r\nL 95.845855 175.128026 \r\nL 95.998113 190.083881 \r\nL 96.150371 167.771695 \r\nL 96.454887 184.015488 \r\nL 96.607145 183.090159 \r\nL 96.911661 172.441484 \r\nL 97.216177 184.439033 \r\nL 97.368435 157.75719 \r\nL 97.67295 183.513599 \r\nL 97.825208 174.006156 \r\nL 97.977466 177.958288 \r\nL 98.129724 161.702078 \r\nL 98.43424 180.77123 \r\nL 98.586498 187.220617 \r\nL 98.738756 180.632073 \r\nL 98.891014 168.505215 \r\nL 99.043272 188.182166 \r\nL 99.19553 176.525687 \r\nL 99.500046 189.44386 \r\nL 99.652304 173.673641 \r\nL 99.804562 170.468903 \r\nL 99.95682 182.660084 \r\nL 100.109078 177.864496 \r\nL 100.261335 177.025522 \r\nL 100.413593 183.391276 \r\nL 100.565851 168.082074 \r\nL 100.870367 186.121305 \r\nL 101.022625 187.170922 \r\nL 101.174883 175.807632 \r\nL 101.327141 184.854573 \r\nL 101.631657 182.12283 \r\nL 101.783915 191.925808 \r\nL 101.936173 189.849037 \r\nL 102.088431 176.718648 \r\nL 102.240689 182.790377 \r\nL 102.392947 194.088541 \r\nL 102.545205 178.589199 \r\nL 102.697463 181.706822 \r\nL 102.849721 181.357425 \r\nL 103.001979 183.068293 \r\nL 103.154236 187.830844 \r\nL 103.306494 187.271729 \r\nL 103.458752 185.102144 \r\nL 103.61101 186.591198 \r\nL 103.763268 171.710913 \r\nL 103.915526 177.078834 \r\nL 104.067784 175.353572 \r\nL 104.220042 176.03948 \r\nL 104.3723 182.103877 \r\nL 104.524558 181.844077 \r\nL 104.676816 183.759619 \r\nL 104.981332 172.172544 \r\nL 105.13359 181.755979 \r\nL 105.285848 166.033636 \r\nL 105.438106 200.026063 \r\nL 105.590364 176.979156 \r\nL 105.742622 185.473787 \r\nL 105.89488 185.362787 \r\nL 106.047137 189.330191 \r\nL 106.503911 171.099352 \r\nL 106.656169 175.725309 \r\nL 106.808427 186.01402 \r\nL 106.960685 179.623 \r\nL 107.112943 182.027219 \r\nL 107.265201 177.026383 \r\nL 107.417459 179.772847 \r\nL 107.569717 173.212366 \r\nL 107.874233 188.466507 \r\nL 108.026491 178.291125 \r\nL 108.178749 190.048504 \r\nL 108.331007 189.03049 \r\nL 108.483265 182.574625 \r\nL 108.635523 171.238527 \r\nL 108.787781 169.665195 \r\nL 109.092296 185.735179 \r\nL 109.244554 188.129322 \r\nL 109.396812 174.312006 \r\nL 109.54907 180.048546 \r\nL 109.701328 174.212299 \r\nL 110.005844 193.265132 \r\nL 110.158102 192.010272 \r\nL 110.462618 185.055438 \r\nL 110.614876 186.983163 \r\nL 110.767134 175.746321 \r\nL 111.07165 188.441194 \r\nL 111.376166 178.870655 \r\nL 111.528424 190.893002 \r\nL 111.832939 171.251411 \r\nL 111.985197 167.615838 \r\nL 112.289713 187.440681 \r\nL 112.441971 177.048179 \r\nL 112.594229 190.020704 \r\nL 112.746487 188.125934 \r\nL 112.898745 181.985873 \r\nL 113.051003 185.223285 \r\nL 113.203261 177.32637 \r\nL 113.507777 187.877158 \r\nL 113.660035 175.658059 \r\nL 113.812293 176.705757 \r\nL 113.964551 185.931569 \r\nL 114.269067 175.573425 \r\nL 114.421325 181.504464 \r\nL 114.573583 182.550137 \r\nL 114.72584 185.465116 \r\nL 114.878098 196.726586 \r\nL 115.030356 181.316442 \r\nL 115.182614 183.884733 \r\nL 115.334872 190.624021 \r\nL 115.48713 191.983344 \r\nL 115.639388 190.883277 \r\nL 115.791646 184.322848 \r\nL 115.943904 185.127925 \r\nL 116.096162 188.554687 \r\nL 116.24842 186.106706 \r\nL 116.400678 193.894522 \r\nL 116.705194 185.246041 \r\nL 116.857452 181.270217 \r\nL 117.161968 190.769661 \r\nL 117.314226 186.276483 \r\nL 117.618741 187.237522 \r\nL 117.770999 184.914462 \r\nL 118.075515 192.186252 \r\nL 118.227773 175.658135 \r\nL 118.380031 194.684695 \r\nL 118.532289 180.187241 \r\nL 118.684547 191.919307 \r\nL 118.989063 188.117321 \r\nL 119.141321 187.810183 \r\nL 119.293579 190.152793 \r\nL 119.445837 181.842398 \r\nL 119.598095 183.400124 \r\nL 119.750353 182.935941 \r\nL 119.902611 189.138184 \r\nL 120.207127 177.253901 \r\nL 120.511642 182.256259 \r\nL 120.6639 182.464116 \r\nL 120.816158 186.547313 \r\nL 120.968416 179.34815 \r\nL 121.120674 194.094831 \r\nL 121.272932 170.101256 \r\nL 121.577448 197.934523 \r\nL 121.729706 186.787669 \r\nL 121.881964 184.812291 \r\nL 122.034222 185.155883 \r\nL 122.338738 186.59049 \r\nL 122.490996 193.340082 \r\nL 122.643254 183.605073 \r\nL 122.795512 196.685884 \r\nL 122.94777 183.92949 \r\nL 123.100028 190.79048 \r\nL 123.404543 181.601667 \r\nL 123.556801 195.025268 \r\nL 123.709059 192.262021 \r\nL 123.861317 173.168709 \r\nL 124.165833 186.891326 \r\nL 124.318091 187.923518 \r\nL 124.470349 182.030484 \r\nL 124.622607 192.069371 \r\nL 124.774865 187.883536 \r\nL 124.927123 188.673856 \r\nL 125.079381 194.401086 \r\nL 125.231639 182.871506 \r\nL 125.383897 186.030357 \r\nL 125.536155 184.069151 \r\nL 125.688413 171.427133 \r\nL 126.145187 195.860784 \r\nL 126.297444 176.121587 \r\nL 126.449702 188.628314 \r\nL 126.754218 179.171679 \r\nL 126.906476 183.828648 \r\nL 127.058734 178.06906 \r\nL 127.210992 178.027457 \r\nL 127.36325 195.980824 \r\nL 127.515508 179.06811 \r\nL 127.667766 191.605458 \r\nL 127.972282 179.697505 \r\nL 128.276798 193.107619 \r\nL 128.429056 170.183971 \r\nL 128.581314 189.017003 \r\nL 128.733572 182.599733 \r\nL 128.88583 182.588154 \r\nL 129.038088 175.746468 \r\nL 129.342603 195.006081 \r\nL 129.494861 174.07505 \r\nL 129.647119 189.156681 \r\nL 129.799377 182.144644 \r\nL 129.951635 198.247911 \r\nL 130.103893 188.312674 \r\nL 130.256151 188.336618 \r\nL 130.408409 194.865877 \r\nL 130.865183 176.052394 \r\nL 131.169699 185.781908 \r\nL 131.321957 186.167144 \r\nL 131.626473 189.598453 \r\nL 131.778731 181.536986 \r\nL 131.930989 183.49326 \r\nL 132.083246 179.735797 \r\nL 132.235504 193.537583 \r\nL 132.387762 175.623811 \r\nL 132.692278 187.941025 \r\nL 132.844536 186.544423 \r\nL 132.996794 191.802052 \r\nL 133.30131 172.584533 \r\nL 133.453568 184.437072 \r\nL 133.605826 183.273143 \r\nL 133.758084 191.239098 \r\nL 133.910342 176.642662 \r\nL 134.0626 182.02616 \r\nL 134.214858 181.345225 \r\nL 134.367116 184.428682 \r\nL 134.519374 176.641006 \r\nL 134.671632 178.954148 \r\nL 134.82389 186.163698 \r\nL 134.976147 184.176523 \r\nL 135.128405 184.722432 \r\nL 135.280663 186.599285 \r\nL 135.432921 193.093488 \r\nL 135.585179 190.099768 \r\nL 135.737437 193.642135 \r\nL 135.889695 192.670768 \r\nL 136.194211 183.982416 \r\nL 136.346469 191.303984 \r\nL 136.650985 179.311234 \r\nL 136.955501 189.746469 \r\nL 137.107759 180.182232 \r\nL 137.260017 191.953625 \r\nL 137.564533 188.895294 \r\nL 137.71679 191.035833 \r\nL 137.869048 177.622273 \r\nL 138.021306 188.589362 \r\nL 138.173564 187.397334 \r\nL 138.325822 198.979214 \r\nL 138.47808 183.693043 \r\nL 138.630338 183.408403 \r\nL 138.782596 189.53232 \r\nL 138.934854 178.573324 \r\nL 139.087112 180.390587 \r\nL 139.23937 194.82786 \r\nL 139.391628 177.928206 \r\nL 139.543886 187.65518 \r\nL 139.696144 184.551677 \r\nL 139.848402 187.290676 \r\nL 140.00066 187.47665 \r\nL 140.152918 189.043188 \r\nL 140.305176 195.264056 \r\nL 140.457434 185.163683 \r\nL 140.609691 187.859317 \r\nL 140.761949 192.993687 \r\nL 140.914207 172.453064 \r\nL 141.218723 193.792895 \r\nL 141.370981 182.591319 \r\nL 141.523239 180.803676 \r\nL 141.675497 196.683643 \r\nL 141.827755 182.950101 \r\nL 141.980013 192.689282 \r\nL 142.132271 195.086935 \r\nL 142.284529 182.363719 \r\nL 142.436787 190.846671 \r\nL 142.589045 180.432343 \r\nL 142.741303 179.240192 \r\nL 142.893561 184.38654 \r\nL 143.045819 180.12641 \r\nL 143.198077 189.326651 \r\nL 143.350335 187.291097 \r\nL 143.502592 192.762236 \r\nL 143.65485 185.120324 \r\nL 143.807108 198.892315 \r\nL 143.959366 181.932351 \r\nL 144.111624 181.909337 \r\nL 144.263882 192.690557 \r\nL 144.41614 179.03574 \r\nL 144.568398 192.23201 \r\nL 144.720656 191.287079 \r\nL 144.872914 191.925948 \r\nL 145.17743 180.955372 \r\nL 145.329688 193.665008 \r\nL 145.481946 186.956393 \r\nL 145.634204 198.691274 \r\nL 145.786462 180.919673 \r\nL 145.93872 180.914916 \r\nL 146.395493 195.789052 \r\nL 146.547751 195.434266 \r\nL 146.700009 187.103959 \r\nL 146.852267 194.427189 \r\nL 147.004525 186.235073 \r\nL 147.156783 193.200404 \r\nL 147.309041 190.154057 \r\nL 147.461299 190.167123 \r\nL 147.613557 204.002232 \r\nL 147.765815 179.854211 \r\nL 148.070331 195.746308 \r\nL 148.222589 197.654869 \r\nL 148.374847 186.02921 \r\nL 148.527105 195.946383 \r\nL 148.679363 195.298971 \r\nL 148.983879 184.0188 \r\nL 149.136137 184.471045 \r\nL 149.59291 194.812284 \r\nL 149.745168 190.391692 \r\nL 149.897426 192.411962 \r\nL 150.049684 178.451944 \r\nL 150.201942 178.694448 \r\nL 150.3542 189.751261 \r\nL 150.658716 192.206901 \r\nL 150.810974 184.693543 \r\nL 150.963232 187.044638 \r\nL 151.11549 181.906113 \r\nL 151.267748 189.809195 \r\nL 151.420006 176.936734 \r\nL 151.572264 194.719417 \r\nL 151.724522 189.823273 \r\nL 151.87678 193.332071 \r\nL 152.029038 178.918742 \r\nL 152.181295 192.086773 \r\nL 152.333553 194.633156 \r\nL 152.485811 192.096205 \r\nL 152.638069 184.147647 \r\nL 152.790327 192.097346 \r\nL 152.942585 190.322184 \r\nL 153.094843 197.194794 \r\nL 153.247101 188.666184 \r\nL 153.399359 193.798027 \r\nL 153.551617 193.417911 \r\nL 153.703875 185.322676 \r\nL 153.856133 189.180086 \r\nL 154.160649 184.94335 \r\nL 154.312907 196.74503 \r\nL 154.465165 188.061341 \r\nL 154.617423 193.401767 \r\nL 154.769681 189.477996 \r\nL 154.921939 173.199382 \r\nL 155.074196 190.888426 \r\nL 155.226454 182.680857 \r\nL 155.378712 194.052579 \r\nL 155.53097 191.429975 \r\nL 155.683228 195.070604 \r\nL 155.987744 182.461735 \r\nL 156.140002 192.065304 \r\nL 156.29226 177.434749 \r\nL 156.444518 176.626003 \r\nL 156.749034 203.218498 \r\nL 156.901292 190.435817 \r\nL 157.05355 198.455061 \r\nL 157.358066 183.580094 \r\nL 157.510324 193.98173 \r\nL 157.662582 195.204618 \r\nL 157.81484 185.608907 \r\nL 157.967097 187.974115 \r\nL 158.119355 179.77297 \r\nL 158.271613 183.577057 \r\nL 158.423871 192.369066 \r\nL 158.880645 175.745444 \r\nL 159.032903 187.567744 \r\nL 159.185161 172.40853 \r\nL 159.489677 200.16694 \r\nL 159.641935 199.223941 \r\nL 159.946451 186.526424 \r\nL 160.098709 173.586877 \r\nL 160.250967 190.976366 \r\nL 160.403225 186.56468 \r\nL 160.555483 176.259714 \r\nL 160.707741 190.127591 \r\nL 161.012256 184.886855 \r\nL 161.164514 191.776417 \r\nL 161.316772 178.025403 \r\nL 161.46903 186.46585 \r\nL 161.621288 183.002559 \r\nL 161.773546 193.544441 \r\nL 161.925804 193.111639 \r\nL 162.078062 188.22347 \r\nL 162.23032 187.594508 \r\nL 162.382578 176.944469 \r\nL 162.534836 190.264273 \r\nL 162.687094 181.812532 \r\nL 162.839352 196.355733 \r\nL 162.99161 177.624497 \r\nL 163.296126 194.093643 \r\nL 163.448384 193.915206 \r\nL 163.600642 188.604874 \r\nL 163.752899 202.028317 \r\nL 163.905157 192.064819 \r\nL 164.057415 198.797114 \r\nL 164.209673 199.315597 \r\nL 164.361931 189.956889 \r\nL 164.514189 188.717758 \r\nL 164.666447 198.986148 \r\nL 164.970963 183.633827 \r\nL 165.275479 188.226115 \r\nL 165.427737 188.228807 \r\nL 165.579995 186.270754 \r\nL 165.884511 199.172835 \r\nL 166.036769 190.500106 \r\nL 166.189027 194.639827 \r\nL 166.341285 174.49595 \r\nL 166.493543 185.704799 \r\nL 166.6458 186.084576 \r\nL 166.798058 187.040401 \r\nL 166.950316 190.438895 \r\nL 167.102574 197.428656 \r\nL 167.40709 190.834792 \r\nL 167.559348 199.932412 \r\nL 167.711606 187.901423 \r\nL 167.863864 190.49374 \r\nL 168.016122 201.745766 \r\nL 168.16838 186.585049 \r\nL 168.472896 190.79684 \r\nL 168.625154 196.928359 \r\nL 168.777412 194.599745 \r\nL 169.081928 174.944065 \r\nL 169.234186 192.812851 \r\nL 169.386444 195.956295 \r\nL 169.538701 185.204964 \r\nL 169.690959 199.829288 \r\nL 169.995475 169.15656 \r\nL 170.147733 192.60494 \r\nL 170.452249 187.497785 \r\nL 170.604507 187.476954 \r\nL 171.061281 196.503854 \r\nL 171.365797 187.514397 \r\nL 171.822571 198.449379 \r\nL 171.974829 196.623824 \r\nL 172.127087 196.30441 \r\nL 172.279345 197.401113 \r\nL 172.431602 189.968715 \r\nL 172.58386 196.088109 \r\nL 172.888376 185.811148 \r\nL 173.040634 188.400029 \r\nL 173.192892 194.226569 \r\nL 173.34515 194.532589 \r\nL 173.497408 185.061565 \r\nL 173.649666 190.724126 \r\nL 173.801924 201.384018 \r\nL 173.954182 187.188236 \r\nL 174.10644 194.448072 \r\nL 174.258698 193.88389 \r\nL 174.410956 194.061783 \r\nL 174.715472 190.269223 \r\nL 174.86773 179.232047 \r\nL 175.019988 184.592379 \r\nL 175.172245 194.448605 \r\nL 175.324503 192.675748 \r\nL 175.476761 197.327322 \r\nL 175.781277 187.794665 \r\nL 175.933535 188.685236 \r\nL 176.085793 197.825823 \r\nL 176.238051 177.160186 \r\nL 176.542567 194.790154 \r\nL 176.694825 188.894194 \r\nL 176.847083 172.486604 \r\nL 176.999341 194.879575 \r\nL 177.151599 189.213152 \r\nL 177.303857 197.059505 \r\nL 177.456115 190.231026 \r\nL 177.608373 190.191488 \r\nL 177.760631 191.644586 \r\nL 177.912889 190.47577 \r\nL 178.065146 191.259379 \r\nL 178.217404 175.983682 \r\nL 178.52192 195.644465 \r\nL 178.674178 193.244043 \r\nL 178.826436 193.361509 \r\nL 178.978694 200.504465 \r\nL 179.130952 188.370129 \r\nL 179.28321 188.761146 \r\nL 179.435468 201.588254 \r\nL 179.587726 185.23404 \r\nL 179.739984 197.278603 \r\nL 179.892242 186.641573 \r\nL 180.0445 191.852601 \r\nL 180.196758 187.594824 \r\nL 180.349016 188.695687 \r\nL 180.501274 194.193269 \r\nL 180.653532 187.380418 \r\nL 180.80579 186.690783 \r\nL 180.958047 189.630021 \r\nL 181.110305 188.826447 \r\nL 181.262563 191.881162 \r\nL 181.414821 200.517367 \r\nL 181.567079 186.970963 \r\nL 181.871595 192.803875 \r\nL 182.023853 183.928262 \r\nL 182.176111 190.444512 \r\nL 182.328369 185.196129 \r\nL 182.480627 190.222278 \r\nL 182.632885 187.92353 \r\nL 182.785143 189.958188 \r\nL 182.937401 199.229599 \r\nL 183.089659 189.604602 \r\nL 183.241917 188.985002 \r\nL 183.394175 189.208927 \r\nL 183.546433 188.903685 \r\nL 183.698691 190.007398 \r\nL 184.003206 206.487768 \r\nL 184.155464 190.762048 \r\nL 184.307722 197.441102 \r\nL 184.45998 198.298063 \r\nL 184.612238 200.7621 \r\nL 184.764496 188.08594 \r\nL 184.916754 192.938889 \r\nL 185.069012 192.886636 \r\nL 185.22127 193.921093 \r\nL 185.373528 192.036978 \r\nL 185.525786 192.710856 \r\nL 185.678044 195.650737 \r\nL 185.830302 195.224518 \r\nL 185.98256 197.756584 \r\nL 186.134818 188.085302 \r\nL 186.287076 187.075281 \r\nL 186.439334 181.612691 \r\nL 186.743849 196.467107 \r\nL 187.048365 176.038796 \r\nL 187.200623 200.88042 \r\nL 187.505139 185.470891 \r\nL 187.657397 199.971885 \r\nL 187.809655 187.954641 \r\nL 187.961913 200.029211 \r\nL 188.114171 191.690677 \r\nL 188.266429 190.228234 \r\nL 188.418687 187.533958 \r\nL 188.723203 205.469888 \r\nL 189.027719 188.280153 \r\nL 189.179977 191.739009 \r\nL 189.332235 199.426983 \r\nL 189.484493 196.46678 \r\nL 189.63675 183.311048 \r\nL 189.789008 191.329718 \r\nL 189.941266 189.914602 \r\nL 190.093524 186.329736 \r\nL 190.39804 202.330411 \r\nL 190.550298 195.880345 \r\nL 190.702556 195.643704 \r\nL 190.854814 189.141028 \r\nL 191.007072 197.637713 \r\nL 191.15933 192.014936 \r\nL 191.311588 192.367785 \r\nL 191.463846 200.998665 \r\nL 191.616104 199.251805 \r\nL 191.768362 192.927397 \r\nL 191.92062 191.318823 \r\nL 192.072878 184.193012 \r\nL 192.225136 197.488381 \r\nL 192.377394 197.075362 \r\nL 192.529651 199.923062 \r\nL 192.681909 177.365867 \r\nL 192.834167 197.668714 \r\nL 192.986425 195.135654 \r\nL 193.138683 181.559619 \r\nL 193.290941 193.296717 \r\nL 193.443199 192.545332 \r\nL 193.595457 194.514707 \r\nL 193.747715 193.267191 \r\nL 193.899973 184.993034 \r\nL 194.052231 197.442857 \r\nL 194.204489 187.309716 \r\nL 194.509005 190.894915 \r\nL 194.661263 185.180102 \r\nL 194.813521 184.073258 \r\nL 194.965779 197.775794 \r\nL 195.118037 187.461922 \r\nL 195.270295 190.003653 \r\nL 195.422552 188.432522 \r\nL 195.57481 208.038522 \r\nL 195.879326 189.02836 \r\nL 196.031584 196.912917 \r\nL 196.183842 192.404818 \r\nL 196.488358 197.978391 \r\nL 196.640616 197.139148 \r\nL 196.792874 187.087382 \r\nL 196.945132 191.233311 \r\nL 197.09739 203.484902 \r\nL 197.401906 194.465234 \r\nL 197.554164 184.114774 \r\nL 197.706422 185.537825 \r\nL 197.85868 191.513562 \r\nL 198.010938 189.176201 \r\nL 198.163196 189.955386 \r\nL 198.315453 199.431389 \r\nL 198.467711 195.632768 \r\nL 198.619969 201.908657 \r\nL 198.772227 188.868975 \r\nL 198.924485 196.520922 \r\nL 199.381259 191.66668 \r\nL 199.533517 200.635675 \r\nL 199.990291 189.619073 \r\nL 200.142549 197.386046 \r\nL 200.294807 191.227957 \r\nL 200.447065 195.231177 \r\nL 200.599323 202.253196 \r\nL 200.751581 203.038595 \r\nL 200.903839 187.991013 \r\nL 201.056097 192.832266 \r\nL 201.208354 187.453806 \r\nL 201.360612 187.928691 \r\nL 201.51287 192.379411 \r\nL 201.665128 206.088711 \r\nL 201.817386 200.597326 \r\nL 201.969644 182.609394 \r\nL 202.121902 193.999559 \r\nL 202.27416 184.596978 \r\nL 202.426418 185.299405 \r\nL 202.578676 198.448612 \r\nL 203.03545 193.34543 \r\nL 203.339966 201.863156 \r\nL 203.492224 192.585818 \r\nL 203.644482 198.976276 \r\nL 203.79674 193.84444 \r\nL 203.948998 199.89429 \r\nL 204.101255 195.576829 \r\nL 204.253513 203.770978 \r\nL 204.405771 185.939837 \r\nL 204.558029 200.781105 \r\nL 204.710287 198.596892 \r\nL 204.862545 190.460399 \r\nL 205.014803 193.134997 \r\nL 205.167061 186.458179 \r\nL 205.319319 189.464655 \r\nL 205.471577 188.716173 \r\nL 205.776093 192.274584 \r\nL 205.928351 192.363408 \r\nL 206.080609 203.464688 \r\nL 206.385125 199.025381 \r\nL 206.537383 203.399993 \r\nL 206.841899 192.329441 \r\nL 206.994156 200.072453 \r\nL 207.146414 187.310881 \r\nL 207.298672 206.149661 \r\nL 207.603188 196.743262 \r\nL 207.755446 199.833641 \r\nL 207.907704 191.025757 \r\nL 208.059962 198.550321 \r\nL 208.21222 197.261014 \r\nL 208.364478 192.315819 \r\nL 208.668994 195.833639 \r\nL 208.821252 188.285161 \r\nL 209.125768 200.642972 \r\nL 209.278026 191.512321 \r\nL 209.430284 197.339101 \r\nL 209.582542 194.88267 \r\nL 209.7348 197.771364 \r\nL 209.887057 196.22001 \r\nL 210.039315 188.748893 \r\nL 210.191573 203.021088 \r\nL 210.496089 192.160986 \r\nL 210.800605 198.770858 \r\nL 210.952863 196.100754 \r\nL 211.105121 190.707683 \r\nL 211.257379 203.005564 \r\nL 211.714153 173.468662 \r\nL 211.866411 195.032014 \r\nL 212.018669 189.181877 \r\nL 212.170927 202.351019 \r\nL 212.6277 185.820837 \r\nL 212.779958 199.602817 \r\nL 212.932216 181.153739 \r\nL 213.084474 196.702812 \r\nL 213.236732 188.739005 \r\nL 213.38899 204.546011 \r\nL 213.693506 182.289401 \r\nL 213.845764 207.531946 \r\nL 214.15028 194.709411 \r\nL 214.302538 206.176622 \r\nL 214.454796 189.124878 \r\nL 214.759312 201.453854 \r\nL 214.91157 187.837117 \r\nL 215.216086 202.438837 \r\nL 215.368344 190.777314 \r\nL 215.520601 195.955277 \r\nL 215.672859 187.972576 \r\nL 215.977375 198.54564 \r\nL 216.129633 180.892189 \r\nL 216.281891 193.938635 \r\nL 216.434149 192.048722 \r\nL 216.586407 193.500865 \r\nL 216.738665 183.258731 \r\nL 217.195439 203.064932 \r\nL 217.347697 194.307306 \r\nL 217.499955 193.846897 \r\nL 217.652213 191.827265 \r\nL 217.804471 204.389549 \r\nL 217.956729 187.808603 \r\nL 218.108987 191.361988 \r\nL 218.261245 188.554851 \r\nL 218.413502 195.188726 \r\nL 218.56576 193.339245 \r\nL 218.718018 199.443718 \r\nL 218.870276 196.546809 \r\nL 219.022534 184.392824 \r\nL 219.479308 202.158603 \r\nL 219.631566 193.338122 \r\nL 219.783824 202.308398 \r\nL 219.936082 202.209867 \r\nL 220.08834 199.569587 \r\nL 220.392856 192.858105 \r\nL 220.697372 200.280662 \r\nL 220.84963 193.858038 \r\nL 221.001888 195.941837 \r\nL 221.154146 184.645954 \r\nL 221.306403 199.750844 \r\nL 221.458661 193.614604 \r\nL 221.610919 194.550044 \r\nL 221.763177 200.054126 \r\nL 221.915435 201.217979 \r\nL 222.067693 182.919142 \r\nL 222.219951 201.43338 \r\nL 222.372209 191.470952 \r\nL 222.524467 197.436192 \r\nL 222.676725 199.015516 \r\nL 222.828983 194.060144 \r\nL 222.981241 202.154203 \r\nL 223.133499 196.147067 \r\nL 223.285757 195.854979 \r\nL 223.590273 185.792985 \r\nL 223.742531 197.817046 \r\nL 223.894789 197.010757 \r\nL 224.047047 202.019955 \r\nL 224.199304 200.5367 \r\nL 224.351562 197.21267 \r\nL 224.50382 205.695888 \r\nL 224.808336 192.154128 \r\nL 224.960594 208.293966 \r\nL 225.112852 184.24836 \r\nL 225.26511 202.562727 \r\nL 225.417368 199.250009 \r\nL 225.569626 192.477568 \r\nL 225.721884 172.88696 \r\nL 225.874142 195.328719 \r\nL 226.178658 200.209462 \r\nL 226.330916 198.922801 \r\nL 226.483174 191.682157 \r\nL 226.635432 194.357961 \r\nL 226.78769 194.170156 \r\nL 226.939948 204.028136 \r\nL 227.244463 189.378588 \r\nL 227.396721 208.504708 \r\nL 227.548979 182.711044 \r\nL 228.005753 201.174065 \r\nL 228.158011 200.817038 \r\nL 228.310269 194.248459 \r\nL 228.462527 194.814367 \r\nL 228.614785 185.521757 \r\nL 228.767043 194.432028 \r\nL 228.919301 192.739287 \r\nL 229.071559 194.146405 \r\nL 229.223817 202.253565 \r\nL 229.528333 189.650851 \r\nL 229.680591 202.419632 \r\nL 229.832849 199.748767 \r\nL 229.985106 193.775721 \r\nL 230.137364 194.123392 \r\nL 230.289622 200.045337 \r\nL 230.594138 190.282523 \r\nL 230.898654 198.531585 \r\nL 231.050912 188.580128 \r\nL 231.20317 189.577721 \r\nL 231.355428 197.323758 \r\nL 231.507686 194.022696 \r\nL 231.659944 200.069351 \r\nL 232.116718 190.464378 \r\nL 232.268976 189.657715 \r\nL 232.421234 193.347917 \r\nL 232.573492 200.822995 \r\nL 232.72575 194.646685 \r\nL 233.030265 202.728675 \r\nL 233.182523 200.909379 \r\nL 233.487039 189.715421 \r\nL 233.639297 200.877348 \r\nL 233.791555 201.241455 \r\nL 233.943813 204.474867 \r\nL 234.096071 197.172787 \r\nL 234.248329 201.597821 \r\nL 234.400587 201.402069 \r\nL 234.552845 193.430661 \r\nL 234.705103 193.426682 \r\nL 234.857361 189.827229 \r\nL 235.161877 197.515332 \r\nL 235.314135 189.159027 \r\nL 235.618651 200.013108 \r\nL 235.770908 191.442708 \r\nL 235.923166 196.409144 \r\nL 236.075424 195.509187 \r\nL 236.227682 191.512743 \r\nL 236.37994 192.887678 \r\nL 236.532198 200.406097 \r\nL 236.684456 198.223809 \r\nL 236.836714 191.534024 \r\nL 237.14123 194.833472 \r\nL 237.293488 189.461279 \r\nL 237.445746 189.926714 \r\nL 237.598004 204.468791 \r\nL 237.750262 204.22512 \r\nL 237.90252 192.857333 \r\nL 238.054778 190.872259 \r\nL 238.207036 199.460646 \r\nL 238.511552 192.295479 \r\nL 238.663809 196.367588 \r\nL 238.816067 196.592643 \r\nL 238.968325 196.403819 \r\nL 239.120583 198.762181 \r\nL 239.272841 193.248338 \r\nL 239.425099 205.507378 \r\nL 239.577357 203.265338 \r\nL 239.729615 194.292888 \r\nL 240.034131 191.503468 \r\nL 240.338647 201.140882 \r\nL 240.490905 191.75393 \r\nL 240.643163 198.096144 \r\nL 240.795421 194.138582 \r\nL 240.947679 210.90352 \r\nL 241.099937 193.983006 \r\nL 241.252195 189.511759 \r\nL 241.404453 191.814527 \r\nL 241.55671 199.583531 \r\nL 241.708968 199.818656 \r\nL 241.861226 188.536255 \r\nL 242.013484 198.523211 \r\nL 242.165742 181.774499 \r\nL 242.470258 201.660091 \r\nL 242.622516 192.437638 \r\nL 242.927032 201.862121 \r\nL 243.07929 189.622683 \r\nL 243.231548 206.480091 \r\nL 243.536064 197.915483 \r\nL 243.688322 202.774711 \r\nL 243.84058 201.617581 \r\nL 243.992838 199.141056 \r\nL 244.297354 193.156308 \r\nL 244.449611 190.187965 \r\nL 244.754127 206.109395 \r\nL 244.906385 199.865396 \r\nL 245.058643 188.269415 \r\nL 245.210901 193.51179 \r\nL 245.363159 193.509192 \r\nL 245.667675 201.824707 \r\nL 245.819933 193.056384 \r\nL 245.972191 194.819271 \r\nL 246.124449 194.202754 \r\nL 246.276707 194.827246 \r\nL 246.428965 202.133267 \r\nL 246.581223 202.327602 \r\nL 246.885739 203.709369 \r\nL 247.037997 198.20808 \r\nL 247.190255 197.448299 \r\nL 247.342512 197.57281 \r\nL 247.49477 206.514245 \r\nL 247.799286 191.991706 \r\nL 248.103802 199.84343 \r\nL 248.25606 198.922374 \r\nL 248.408318 190.688959 \r\nL 248.560576 196.741969 \r\nL 248.712834 189.970974 \r\nL 248.865092 208.639257 \r\nL 249.169608 192.705794 \r\nL 249.321866 207.752803 \r\nL 249.474124 207.044097 \r\nL 249.626382 179.846475 \r\nL 249.77864 202.029628 \r\nL 249.930898 191.713011 \r\nL 250.083155 200.911181 \r\nL 250.387671 192.000319 \r\nL 250.539929 186.472006 \r\nL 250.692187 202.851387 \r\nL 250.996703 190.344682 \r\nL 251.148961 198.244447 \r\nL 251.301219 192.387685 \r\nL 251.453477 198.430058 \r\nL 251.605735 195.762358 \r\nL 251.757993 200.227906 \r\nL 251.910251 198.536611 \r\nL 252.062509 188.738841 \r\nL 252.367025 197.531839 \r\nL 252.519283 198.586476 \r\nL 252.671541 185.382336 \r\nL 252.823799 199.73047 \r\nL 252.976056 192.651751 \r\nL 253.128314 201.519681 \r\nL 253.280572 193.275664 \r\nL 253.43283 192.023256 \r\nL 253.585088 189.513204 \r\nL 253.737346 193.135372 \r\nL 253.889604 199.829159 \r\nL 254.041862 198.535259 \r\nL 254.19412 202.830129 \r\nL 254.346378 197.1705 \r\nL 254.498636 200.692264 \r\nL 254.650894 185.726888 \r\nL 254.803152 199.134304 \r\nL 254.95541 192.086796 \r\nL 255.107668 193.065091 \r\nL 255.412184 200.922977 \r\nL 255.564442 201.422063 \r\nL 255.7167 196.348261 \r\nL 255.868957 199.276094 \r\nL 256.021215 180.563676 \r\nL 256.173473 201.565199 \r\nL 256.325731 195.395618 \r\nL 256.477989 199.718744 \r\nL 256.630247 210.498396 \r\nL 256.782505 208.860123 \r\nL 256.934763 192.598041 \r\nL 257.087021 196.170133 \r\nL 257.239279 203.625437 \r\nL 257.543795 187.369798 \r\nL 257.696053 196.194463 \r\nL 257.848311 190.996986 \r\nL 258.152827 204.141422 \r\nL 258.305085 195.219094 \r\nL 258.457343 200.165208 \r\nL 258.609601 194.829259 \r\nL 258.761858 197.844202 \r\nL 258.914116 206.928197 \r\nL 259.218632 197.971738 \r\nL 259.37089 195.867127 \r\nL 259.523148 197.462143 \r\nL 259.675406 197.094479 \r\nL 259.979922 206.764268 \r\nL 260.13218 193.748185 \r\nL 260.284438 201.162421 \r\nL 260.436696 189.798399 \r\nL 260.588954 196.959757 \r\nL 260.741212 196.502625 \r\nL 260.89347 207.223254 \r\nL 261.045728 197.163232 \r\nL 261.197986 202.907525 \r\nL 261.350244 200.726641 \r\nL 261.502502 202.73137 \r\nL 261.654759 202.441288 \r\nL 261.807017 192.911481 \r\nL 262.111533 206.441255 \r\nL 262.416049 192.16655 \r\nL 262.568307 198.203639 \r\nL 262.720565 210.749764 \r\nL 263.025081 182.724917 \r\nL 263.177339 189.676831 \r\nL 263.329597 189.423514 \r\nL 263.481855 197.819421 \r\nL 263.634113 196.415288 \r\nL 263.786371 204.956867 \r\nL 264.090887 184.309027 \r\nL 264.243145 193.885341 \r\nL 264.395403 195.801521 \r\nL 264.54766 206.105188 \r\nL 264.699918 206.212215 \r\nL 264.852176 191.906574 \r\nL 265.004434 196.58843 \r\nL 265.156692 189.68689 \r\nL 265.30895 200.682451 \r\nL 265.461208 194.690511 \r\nL 265.613466 194.9026 \r\nL 265.765724 188.229556 \r\nL 266.07024 196.465586 \r\nL 266.222498 195.376613 \r\nL 266.374756 190.272635 \r\nL 266.527014 190.038206 \r\nL 266.679272 192.372161 \r\nL 266.83153 191.681695 \r\nL 267.136046 207.74811 \r\nL 267.288304 189.095481 \r\nL 267.440561 193.433914 \r\nL 267.592819 193.74083 \r\nL 267.745077 188.057795 \r\nL 267.897335 205.993448 \r\nL 268.201851 199.290073 \r\nL 268.354109 197.59099 \r\nL 268.506367 201.783461 \r\nL 268.658625 194.522431 \r\nL 268.810883 195.606074 \r\nL 268.963141 205.261352 \r\nL 269.115399 197.85773 \r\nL 269.267657 200.187847 \r\nL 269.419915 188.422768 \r\nL 269.572173 188.736073 \r\nL 269.724431 195.163881 \r\nL 269.876689 207.178819 \r\nL 270.333462 198.695546 \r\nL 270.48572 202.259615 \r\nL 270.637978 187.419897 \r\nL 270.790236 199.681956 \r\nL 270.942494 187.0406 \r\nL 271.094752 185.034801 \r\nL 271.399268 199.455327 \r\nL 271.551526 205.791988 \r\nL 271.703784 196.895907 \r\nL 271.856042 204.892233 \r\nL 272.0083 204.306629 \r\nL 272.160558 191.599495 \r\nL 272.312816 192.584209 \r\nL 272.465074 200.582317 \r\nL 272.617332 201.255188 \r\nL 272.76959 196.254686 \r\nL 272.921848 183.526244 \r\nL 273.074106 203.008329 \r\nL 273.226363 192.937631 \r\nL 273.378621 195.467923 \r\nL 273.530879 195.236999 \r\nL 273.683137 202.979736 \r\nL 273.835395 201.771272 \r\nL 274.139911 204.099187 \r\nL 274.292169 206.003535 \r\nL 274.444427 187.998802 \r\nL 274.596685 202.754974 \r\nL 274.748943 203.881653 \r\nL 274.901201 183.186022 \r\nL 275.053459 203.366105 \r\nL 275.205717 204.528243 \r\nL 275.510233 196.376142 \r\nL 275.662491 204.35911 \r\nL 275.814749 199.371735 \r\nL 275.967007 200.402592 \r\nL 276.119264 208.161798 \r\nL 276.271522 205.662006 \r\nL 276.42378 196.982934 \r\nL 276.576038 197.189464 \r\nL 276.728296 195.260668 \r\nL 276.880554 190.919116 \r\nL 277.032812 200.200129 \r\nL 277.18507 187.832635 \r\nL 277.337328 205.91855 \r\nL 277.489586 191.775545 \r\nL 277.641844 193.128339 \r\nL 277.794102 206.186899 \r\nL 278.098618 194.428107 \r\nL 278.250876 195.488801 \r\nL 278.403134 194.802161 \r\nL 278.555392 193.299988 \r\nL 278.70765 197.968415 \r\nL 278.859908 198.210567 \r\nL 279.012165 186.865645 \r\nL 279.164423 207.739994 \r\nL 279.468939 192.563425 \r\nL 279.773455 200.445459 \r\nL 279.925713 197.115233 \r\nL 280.230229 209.577236 \r\nL 280.534745 193.66935 \r\nL 280.687003 197.953792 \r\nL 280.839261 189.004411 \r\nL 280.991519 198.965393 \r\nL 281.143777 193.470427 \r\nL 281.296035 194.726573 \r\nL 281.448293 204.895361 \r\nL 281.600551 194.113491 \r\nL 281.905066 198.643316 \r\nL 282.057324 199.508393 \r\nL 282.209582 193.85709 \r\nL 282.36184 198.559004 \r\nL 282.514098 194.195387 \r\nL 282.666356 195.134431 \r\nL 282.818614 188.808367 \r\nL 282.970872 197.052431 \r\nL 283.12313 195.577952 \r\nL 283.275388 198.508981 \r\nL 283.427646 195.54381 \r\nL 283.579904 189.177084 \r\nL 283.88442 199.508335 \r\nL 284.036678 199.698902 \r\nL 284.188936 198.201474 \r\nL 284.341194 198.615745 \r\nL 284.493452 203.586496 \r\nL 284.64571 202.692675 \r\nL 284.797967 199.329312 \r\nL 284.950225 201.024885 \r\nL 285.254741 191.751788 \r\nL 285.406999 202.114537 \r\nL 285.559257 201.712946 \r\nL 285.711515 200.23649 \r\nL 285.863773 190.043191 \r\nL 286.016031 199.541214 \r\nL 286.168289 185.735431 \r\nL 286.320547 199.498101 \r\nL 286.625063 204.458375 \r\nL 286.777321 193.417051 \r\nL 286.929579 201.773829 \r\nL 287.081837 196.384943 \r\nL 287.234095 197.067849 \r\nL 287.386353 205.873375 \r\nL 287.53861 192.08115 \r\nL 287.843126 202.932182 \r\nL 287.995384 197.524946 \r\nL 288.147642 203.708421 \r\nL 288.2999 191.808289 \r\nL 288.452158 196.507066 \r\nL 288.604416 192.192712 \r\nL 288.756674 202.954192 \r\nL 288.908932 199.924729 \r\nL 289.06119 199.896941 \r\nL 289.365706 205.972567 \r\nL 289.82248 196.475896 \r\nL 289.974738 213.301654 \r\nL 290.126996 202.139101 \r\nL 290.279254 207.754444 \r\nL 290.431511 197.230189 \r\nL 290.736027 201.637183 \r\nL 290.888285 199.734063 \r\nL 291.040543 188.997213 \r\nL 291.192801 203.646727 \r\nL 291.345059 189.671823 \r\nL 291.497317 207.036821 \r\nL 291.649575 204.388563 \r\nL 291.801833 191.542321 \r\nL 291.954091 190.482072 \r\nL 292.258607 201.273725 \r\nL 292.410865 196.017822 \r\nL 292.563123 196.155856 \r\nL 292.715381 190.549983 \r\nL 292.867639 203.481868 \r\nL 293.172155 189.342982 \r\nL 293.47667 199.002461 \r\nL 293.628928 197.915834 \r\nL 293.781186 199.34926 \r\nL 293.933444 199.724952 \r\nL 294.085702 199.530172 \r\nL 294.23796 198.200403 \r\nL 294.390218 194.75679 \r\nL 294.542476 204.908161 \r\nL 294.694734 205.501176 \r\nL 294.846992 195.551674 \r\nL 294.99925 208.6207 \r\nL 295.303766 200.655798 \r\nL 295.456024 200.570269 \r\nL 295.608282 197.229335 \r\nL 295.76054 206.676348 \r\nL 295.912798 199.019272 \r\nL 296.065056 203.483755 \r\nL 296.217313 194.560769 \r\nL 296.369571 194.374439 \r\nL 296.521829 197.506409 \r\nL 296.674087 203.644559 \r\nL 296.826345 192.475303 \r\nL 296.978603 203.094332 \r\nL 297.130861 203.565671 \r\nL 297.283119 202.708268 \r\nL 297.435377 199.576649 \r\nL 297.587635 202.050365 \r\nL 297.739893 181.664189 \r\nL 298.044409 202.928508 \r\nL 298.196667 206.323163 \r\nL 298.348925 205.520175 \r\nL 298.501183 194.524824 \r\nL 298.805699 207.748198 \r\nL 299.110214 197.267743 \r\nL 299.262472 192.76855 \r\nL 299.41473 204.019939 \r\nL 299.566988 205.396334 \r\nL 299.719246 200.422832 \r\nL 299.871504 199.612354 \r\nL 300.023762 194.497487 \r\nL 300.17602 204.454303 \r\nL 300.328278 206.517852 \r\nL 300.632794 197.420405 \r\nL 300.785052 200.697121 \r\nL 301.089568 201.512689 \r\nL 301.241826 192.942891 \r\nL 301.394084 195.393383 \r\nL 301.546342 194.07094 \r\nL 301.6986 202.004139 \r\nL 301.850858 200.367865 \r\nL 302.003115 201.064147 \r\nL 302.155373 203.803421 \r\nL 302.307631 197.735109 \r\nL 302.459889 200.44 \r\nL 302.612147 198.801812 \r\nL 302.764405 203.209206 \r\nL 302.916663 200.89492 \r\nL 303.221179 185.973458 \r\nL 303.373437 203.289809 \r\nL 303.525695 193.060855 \r\nL 303.677953 197.008628 \r\nL 303.830211 194.115586 \r\nL 303.982469 203.925433 \r\nL 304.134727 198.648945 \r\nL 304.286985 199.192619 \r\nL 304.439243 190.769977 \r\nL 304.591501 199.035633 \r\nL 304.743759 194.143093 \r\nL 304.896016 197.925091 \r\nL 305.048274 195.026538 \r\nL 305.200532 201.029103 \r\nL 305.35279 198.681836 \r\nL 305.505048 193.369069 \r\nL 305.657306 192.967924 \r\nL 305.809564 210.196348 \r\nL 305.961822 192.74525 \r\nL 306.266338 202.895436 \r\nL 306.418596 193.937769 \r\nL 306.723112 198.600227 \r\nL 306.87537 192.550253 \r\nL 307.027628 197.805992 \r\nL 307.179886 196.83067 \r\nL 307.332144 205.416647 \r\nL 307.484402 193.679981 \r\nL 307.63666 203.035816 \r\nL 307.941175 192.781095 \r\nL 308.093433 197.106889 \r\nL 308.245691 190.245724 \r\nL 308.397949 201.940037 \r\nL 308.550207 192.675695 \r\nL 308.702465 197.505227 \r\nL 308.854723 197.129142 \r\nL 309.006981 201.05578 \r\nL 309.159239 186.726792 \r\nL 309.463755 201.605468 \r\nL 309.616013 202.785913 \r\nL 309.768271 199.731506 \r\nL 309.920529 206.216964 \r\nL 310.072787 201.076336 \r\nL 310.225045 204.253873 \r\nL 310.377303 200.117286 \r\nL 310.529561 206.424924 \r\nL 310.681818 203.708117 \r\nL 310.834076 189.584784 \r\nL 310.986334 198.770712 \r\nL 311.138592 199.836005 \r\nL 311.443108 204.446058 \r\nL 311.595366 194.807047 \r\nL 311.747624 205.295363 \r\nL 311.899882 200.175829 \r\nL 312.05214 202.351768 \r\nL 312.204398 199.770207 \r\nL 312.356656 192.13923 \r\nL 312.508914 201.80768 \r\nL 312.661172 198.261375 \r\nL 312.81343 202.345583 \r\nL 312.965688 195.640936 \r\nL 313.117946 194.996327 \r\nL 313.270204 197.265631 \r\nL 313.422462 201.452935 \r\nL 313.574719 200.25718 \r\nL 313.726977 185.351751 \r\nL 313.879235 200.332323 \r\nL 314.031493 200.027017 \r\nL 314.183751 204.147188 \r\nL 314.336009 199.332308 \r\nL 314.488267 206.520875 \r\nL 314.640525 195.345706 \r\nL 314.792783 192.83573 \r\nL 315.097299 201.9259 \r\nL 315.249557 189.346715 \r\nL 315.401815 206.54598 \r\nL 315.554073 197.403068 \r\nL 315.706331 206.74772 \r\nL 315.858589 206.134796 \r\nL 316.010847 214.542236 \r\nL 316.315363 200.028901 \r\nL 316.46762 202.153571 \r\nL 316.772136 192.657257 \r\nL 316.924394 202.080049 \r\nL 317.076652 201.906515 \r\nL 317.22891 206.772621 \r\nL 317.685684 199.014316 \r\nL 317.837942 210.066466 \r\nL 318.142458 197.807449 \r\nL 318.294716 206.816371 \r\nL 318.446974 191.268062 \r\nL 318.75149 202.057474 \r\nL 318.903748 196.698464 \r\nL 319.056006 211.63499 \r\nL 319.360521 201.215668 \r\nL 319.512779 196.855813 \r\nL 319.665037 195.852656 \r\nL 319.817295 210.364484 \r\nL 319.969553 199.516047 \r\nL 320.121811 205.464511 \r\nL 320.274069 202.392307 \r\nL 320.426327 206.381952 \r\nL 320.578585 206.356118 \r\nL 320.730843 207.222125 \r\nL 320.883101 200.523347 \r\nL 321.035359 204.907719 \r\nL 321.187617 194.52328 \r\nL 321.339875 205.341869 \r\nL 321.492133 193.952678 \r\nL 321.644391 195.683704 \r\nL 321.796649 209.709869 \r\nL 322.101165 200.319404 \r\nL 322.253422 201.355264 \r\nL 322.40568 193.87568 \r\nL 322.557938 207.289907 \r\nL 322.710196 210.698287 \r\nL 323.014712 201.853882 \r\nL 323.16697 202.364536 \r\nL 323.319228 210.549689 \r\nL 323.471486 198.051562 \r\nL 323.623744 208.959751 \r\nL 324.232776 200.938641 \r\nL 324.537292 201.149589 \r\nL 324.68955 206.238441 \r\nL 324.841808 199.400986 \r\nL 324.994065 204.124277 \r\nL 325.146323 204.61511 \r\nL 325.298581 198.95056 \r\nL 325.450839 185.429762 \r\nL 325.603097 191.708395 \r\nL 325.755355 205.761336 \r\nL 326.059871 194.255709 \r\nL 326.364387 203.901068 \r\nL 326.516645 204.309798 \r\nL 326.668903 195.544676 \r\nL 326.821161 204.382328 \r\nL 326.973419 202.424553 \r\nL 327.125677 189.072872 \r\nL 327.277935 206.761386 \r\nL 327.582451 193.746892 \r\nL 327.734709 204.680642 \r\nL 327.886966 204.671973 \r\nL 328.039224 202.943917 \r\nL 328.191482 207.592873 \r\nL 328.34374 199.451518 \r\nL 328.495998 202.777382 \r\nL 328.648256 197.874453 \r\nL 328.800514 202.584325 \r\nL 328.952772 201.694432 \r\nL 329.10503 189.384562 \r\nL 329.561804 214.756364 \r\nL 329.714062 198.741426 \r\nL 329.86632 207.40888 \r\nL 330.018578 197.553009 \r\nL 330.170836 206.570652 \r\nL 330.475352 204.350895 \r\nL 330.62761 199.017423 \r\nL 330.779867 201.090045 \r\nL 330.932125 210.828992 \r\nL 331.084383 210.389689 \r\nL 331.236641 198.139175 \r\nL 331.388899 205.373897 \r\nL 331.541157 199.343473 \r\nL 331.693415 203.416271 \r\nL 331.845673 196.50754 \r\nL 331.997931 203.974131 \r\nL 332.150189 205.266633 \r\nL 332.302447 201.658961 \r\nL 332.454705 202.080692 \r\nL 332.759221 209.60118 \r\nL 332.911479 197.388047 \r\nL 333.063737 195.509023 \r\nL 333.215995 199.92226 \r\nL 333.368253 197.534033 \r\nL 333.672768 208.173314 \r\nL 333.825026 195.740398 \r\nL 333.977284 204.324549 \r\nL 334.129542 197.531248 \r\nL 334.434058 211.572735 \r\nL 334.586316 200.199316 \r\nL 334.738574 204.276571 \r\nL 334.890832 202.824529 \r\nL 335.04309 204.225082 \r\nL 335.347606 208.004683 \r\nL 335.499864 206.816784 \r\nL 335.652122 189.116663 \r\nL 335.80438 204.294631 \r\nL 336.108896 197.145895 \r\nL 336.261154 204.61427 \r\nL 336.413412 198.450338 \r\nL 336.565669 196.816346 \r\nL 337.022443 209.329232 \r\nL 337.174701 207.061795 \r\nL 337.326959 200.763937 \r\nL 337.479217 199.128341 \r\nL 337.631475 208.734017 \r\nL 337.935991 198.387167 \r\nL 338.088249 201.088079 \r\nL 338.240507 207.558739 \r\nL 338.392765 200.234886 \r\nL 338.545023 204.510022 \r\nL 338.697281 201.791834 \r\nL 338.849539 204.456582 \r\nL 339.001797 189.646088 \r\nL 339.306313 207.029317 \r\nL 339.610828 193.343242 \r\nL 339.763086 190.518006 \r\nL 339.915344 204.781932 \r\nL 340.067602 206.190615 \r\nL 340.21986 198.294458 \r\nL 340.372118 202.298111 \r\nL 340.524376 199.022414 \r\nL 340.676634 198.252574 \r\nL 340.828892 201.960505 \r\nL 340.98115 201.334556 \r\nL 341.133408 210.886034 \r\nL 341.437924 202.731656 \r\nL 341.590182 207.137345 \r\nL 341.894698 201.449442 \r\nL 342.046956 201.21812 \r\nL 342.199214 201.77115 \r\nL 342.351471 197.501482 \r\nL 342.503729 209.693784 \r\nL 342.655987 193.819308 \r\nL 342.808245 198.890062 \r\nL 342.960503 213.737226 \r\nL 343.265019 193.421644 \r\nL 343.569535 204.720897 \r\nL 343.874051 196.698769 \r\nL 344.026309 204.393937 \r\nL 344.178567 196.045581 \r\nL 344.330825 200.79863 \r\nL 344.483083 199.54528 \r\nL 344.635341 201.18994 \r\nL 344.787599 195.971971 \r\nL 344.939857 207.094545 \r\nL 345.092115 199.121045 \r\nL 345.244372 203.148434 \r\nL 345.548888 196.453491 \r\nL 345.701146 208.928844 \r\nL 345.853404 205.180173 \r\nL 346.005662 196.718482 \r\nL 346.15792 195.607426 \r\nL 346.310178 208.126406 \r\nL 346.614694 190.148387 \r\nL 346.91921 203.827961 \r\nL 347.071468 201.142672 \r\nL 347.223726 203.91759 \r\nL 347.375984 208.7401 \r\nL 347.528242 200.383201 \r\nL 347.6805 205.62188 \r\nL 347.832758 205.911353 \r\nL 347.985016 205.250582 \r\nL 348.137273 192.70896 \r\nL 348.289531 200.706957 \r\nL 348.441789 195.167901 \r\nL 348.594047 211.209746 \r\nL 348.898563 197.156995 \r\nL 349.203079 201.834268 \r\nL 349.355337 201.343199 \r\nL 349.507595 194.820388 \r\nL 349.659853 199.150068 \r\nL 349.812111 199.332823 \r\nL 349.964369 188.338701 \r\nL 350.268885 204.460736 \r\nL 350.421143 191.701373 \r\nL 350.573401 202.944845 \r\nL 350.725659 190.015321 \r\nL 351.030174 205.777459 \r\nL 351.182432 194.311934 \r\nL 351.486948 202.160476 \r\nL 351.639206 190.150435 \r\nL 351.791464 202.607724 \r\nL 351.943722 190.073484 \r\nL 352.248238 204.878921 \r\nL 352.552754 203.958362 \r\nL 352.705012 201.596287 \r\nL 352.85727 204.867763 \r\nL 353.009528 199.292601 \r\nL 353.161786 188.957161 \r\nL 353.314044 198.027004 \r\nL 353.466302 193.491936 \r\nL 353.61856 207.588455 \r\nL 353.770818 199.594964 \r\nL 353.923075 199.790622 \r\nL 354.075333 204.417141 \r\nL 354.227591 204.858781 \r\nL 354.379849 202.815407 \r\nL 354.532107 198.065471 \r\nL 354.684365 208.838912 \r\nL 354.836623 203.578009 \r\nL 354.988881 206.655634 \r\nL 355.141139 203.341105 \r\nL 355.293397 193.935645 \r\nL 355.445655 205.0667 \r\nL 355.597913 207.906731 \r\nL 355.902429 201.404755 \r\nL 356.054687 203.488849 \r\nL 356.206945 201.24094 \r\nL 356.359203 194.077377 \r\nL 356.511461 208.365981 \r\nL 356.663719 194.887322 \r\nL 356.815976 193.32354 \r\nL 356.968234 203.376239 \r\nL 357.120492 197.075046 \r\nL 357.27275 209.628611 \r\nL 357.577266 197.332214 \r\nL 357.729524 197.651048 \r\nL 357.881782 203.349033 \r\nL 358.03404 202.476543 \r\nL 358.490814 213.040689 \r\nL 358.643072 202.826717 \r\nL 358.79533 201.522168 \r\nL 358.947588 205.619373 \r\nL 359.099846 198.183452 \r\nL 359.252104 205.783586 \r\nL 359.404362 203.416737 \r\nL 359.55662 190.986928 \r\nL 359.708877 201.343017 \r\nL 359.861135 200.043723 \r\nL 360.013393 193.042915 \r\nL 360.165651 191.768201 \r\nL 360.317909 206.858738 \r\nL 360.470167 191.881689 \r\nL 360.622425 205.973143 \r\nL 360.774683 197.123226 \r\nL 360.926941 199.78456 \r\nL 361.079199 199.020191 \r\nL 361.231457 201.377985 \r\nL 361.383715 212.295115 \r\nL 361.688231 202.908288 \r\nL 361.992747 208.005137 \r\nL 362.145005 200.350831 \r\nL 362.44952 211.010208 \r\nL 362.601778 196.614345 \r\nL 362.754036 204.282984 \r\nL 363.058552 200.484587 \r\nL 363.21081 213.406127 \r\nL 363.363068 199.870031 \r\nL 363.363068 199.870031 \r\n\" style=\"fill:none;stroke:#1f77b4;stroke-linecap:square;stroke-width:1.5;\"/>\r\n   </g>\r\n   <g id=\"patch_3\">\r\n    <path d=\"M 43.78125 224.64 \r\nL 43.78125 7.2 \r\n\" style=\"fill:none;stroke:#000000;stroke-linecap:square;stroke-linejoin:miter;stroke-width:0.8;\"/>\r\n   </g>\r\n   <g id=\"patch_4\">\r\n    <path d=\"M 378.58125 224.64 \r\nL 378.58125 7.2 \r\n\" style=\"fill:none;stroke:#000000;stroke-linecap:square;stroke-linejoin:miter;stroke-width:0.8;\"/>\r\n   </g>\r\n   <g id=\"patch_5\">\r\n    <path d=\"M 43.78125 224.64 \r\nL 378.58125 224.64 \r\n\" style=\"fill:none;stroke:#000000;stroke-linecap:square;stroke-linejoin:miter;stroke-width:0.8;\"/>\r\n   </g>\r\n   <g id=\"patch_6\">\r\n    <path d=\"M 43.78125 7.2 \r\nL 378.58125 7.2 \r\n\" style=\"fill:none;stroke:#000000;stroke-linecap:square;stroke-linejoin:miter;stroke-width:0.8;\"/>\r\n   </g>\r\n  </g>\r\n </g>\r\n <defs>\r\n  <clipPath id=\"p9a46ed44c9\">\r\n   <rect height=\"217.44\" width=\"334.8\" x=\"43.78125\" y=\"7.2\"/>\r\n  </clipPath>\r\n </defs>\r\n</svg>\r\n",
            "image/png": "[encoded data removed]"
          },
          "metadata": {}
        },
        {
          "output_type": "stream",
          "name": "stderr",
          "text": "100%|██████████| 2000/2000 [2:14:24<00:00,  4.03s/it]\n"
        },
        {
          "output_type": "display_data",
          "data": {
            "text/plain": "<Figure size 432x288 with 1 Axes>",
            "image/svg+xml": "<?xml version=\"1.0\" encoding=\"utf-8\" standalone=\"no\"?>\r\n<!DOCTYPE svg PUBLIC \"-//W3C//DTD SVG 1.1//EN\"\r\n  \"http://www.w3.org/Graphics/SVG/1.1/DTD/svg11.dtd\">\r\n<!-- Created with matplotlib (https://matplotlib.org/) -->\r\n<svg height=\"262.19625pt\" version=\"1.1\" viewBox=\"0 0 385.78125 262.19625\" width=\"385.78125pt\" xmlns=\"http://www.w3.org/2000/svg\" xmlns:xlink=\"http://www.w3.org/1999/xlink\">\r\n <metadata>\r\n  <rdf:RDF xmlns:cc=\"http://creativecommons.org/ns#\" xmlns:dc=\"http://purl.org/dc/elements/1.1/\" xmlns:rdf=\"http://www.w3.org/1999/02/22-rdf-syntax-ns#\">\r\n   <cc:Work>\r\n    <dc:type rdf:resource=\"http://purl.org/dc/dcmitype/StillImage\"/>\r\n    <dc:date>2020-08-19T00:30:31.731449</dc:date>\r\n    <dc:format>image/svg+xml</dc:format>\r\n    <dc:creator>\r\n     <cc:Agent>\r\n      <dc:title>Matplotlib v3.3.0, https://matplotlib.org/</dc:title>\r\n     </cc:Agent>\r\n    </dc:creator>\r\n   </cc:Work>\r\n  </rdf:RDF>\r\n </metadata>\r\n <defs>\r\n  <style type=\"text/css\">*{stroke-linecap:butt;stroke-linejoin:round;}</style>\r\n </defs>\r\n <g id=\"figure_1\">\r\n  <g id=\"patch_1\">\r\n   <path d=\"M 0 262.19625 \r\nL 385.78125 262.19625 \r\nL 385.78125 0 \r\nL 0 0 \r\nz\r\n\" style=\"fill:none;\"/>\r\n  </g>\r\n  <g id=\"axes_1\">\r\n   <g id=\"patch_2\">\r\n    <path d=\"M 43.78125 224.64 \r\nL 378.58125 224.64 \r\nL 378.58125 7.2 \r\nL 43.78125 7.2 \r\nz\r\n\" style=\"fill:#ffffff;\"/>\r\n   </g>\r\n   <g id=\"matplotlib.axis_1\">\r\n    <g id=\"xtick_1\">\r\n     <g id=\"line2d_1\">\r\n      <defs>\r\n       <path d=\"M 0 0 \r\nL 0 3.5 \r\n\" id=\"m2ab959fc32\" style=\"stroke:#000000;stroke-width:0.8;\"/>\r\n      </defs>\r\n      <g>\r\n       <use style=\"stroke:#000000;stroke-width:0.8;\" x=\"58.999432\" xlink:href=\"#m2ab959fc32\" y=\"224.64\"/>\r\n      </g>\r\n     </g>\r\n     <g id=\"text_1\">\r\n      <!-- 0 -->\r\n      <g transform=\"translate(55.818182 239.238437)scale(0.1 -0.1)\">\r\n       <defs>\r\n        <path d=\"M 31.78125 66.40625 \r\nQ 24.171875 66.40625 20.328125 58.90625 \r\nQ 16.5 51.421875 16.5 36.375 \r\nQ 16.5 21.390625 20.328125 13.890625 \r\nQ 24.171875 6.390625 31.78125 6.390625 \r\nQ 39.453125 6.390625 43.28125 13.890625 \r\nQ 47.125 21.390625 47.125 36.375 \r\nQ 47.125 51.421875 43.28125 58.90625 \r\nQ 39.453125 66.40625 31.78125 66.40625 \r\nz\r\nM 31.78125 74.21875 \r\nQ 44.046875 74.21875 50.515625 64.515625 \r\nQ 56.984375 54.828125 56.984375 36.375 \r\nQ 56.984375 17.96875 50.515625 8.265625 \r\nQ 44.046875 -1.421875 31.78125 -1.421875 \r\nQ 19.53125 -1.421875 13.0625 8.265625 \r\nQ 6.59375 17.96875 6.59375 36.375 \r\nQ 6.59375 54.828125 13.0625 64.515625 \r\nQ 19.53125 74.21875 31.78125 74.21875 \r\nz\r\n\" id=\"DejaVuSans-48\"/>\r\n       </defs>\r\n       <use xlink:href=\"#DejaVuSans-48\"/>\r\n      </g>\r\n     </g>\r\n    </g>\r\n    <g id=\"xtick_2\">\r\n     <g id=\"line2d_2\">\r\n      <g>\r\n       <use style=\"stroke:#000000;stroke-width:0.8;\" x=\"97.063919\" xlink:href=\"#m2ab959fc32\" y=\"224.64\"/>\r\n      </g>\r\n     </g>\r\n     <g id=\"text_2\">\r\n      <!-- 250 -->\r\n      <g transform=\"translate(87.520169 239.238437)scale(0.1 -0.1)\">\r\n       <defs>\r\n        <path d=\"M 19.1875 8.296875 \r\nL 53.609375 8.296875 \r\nL 53.609375 0 \r\nL 7.328125 0 \r\nL 7.328125 8.296875 \r\nQ 12.9375 14.109375 22.625 23.890625 \r\nQ 32.328125 33.6875 34.8125 36.53125 \r\nQ 39.546875 41.84375 41.421875 45.53125 \r\nQ 43.3125 49.21875 43.3125 52.78125 \r\nQ 43.3125 58.59375 39.234375 62.25 \r\nQ 35.15625 65.921875 28.609375 65.921875 \r\nQ 23.96875 65.921875 18.8125 64.3125 \r\nQ 13.671875 62.703125 7.8125 59.421875 \r\nL 7.8125 69.390625 \r\nQ 13.765625 71.78125 18.9375 73 \r\nQ 24.125 74.21875 28.421875 74.21875 \r\nQ 39.75 74.21875 46.484375 68.546875 \r\nQ 53.21875 62.890625 53.21875 53.421875 \r\nQ 53.21875 48.921875 51.53125 44.890625 \r\nQ 49.859375 40.875 45.40625 35.40625 \r\nQ 44.1875 33.984375 37.640625 27.21875 \r\nQ 31.109375 20.453125 19.1875 8.296875 \r\nz\r\n\" id=\"DejaVuSans-50\"/>\r\n        <path d=\"M 10.796875 72.90625 \r\nL 49.515625 72.90625 \r\nL 49.515625 64.59375 \r\nL 19.828125 64.59375 \r\nL 19.828125 46.734375 \r\nQ 21.96875 47.46875 24.109375 47.828125 \r\nQ 26.265625 48.1875 28.421875 48.1875 \r\nQ 40.625 48.1875 47.75 41.5 \r\nQ 54.890625 34.8125 54.890625 23.390625 \r\nQ 54.890625 11.625 47.5625 5.09375 \r\nQ 40.234375 -1.421875 26.90625 -1.421875 \r\nQ 22.3125 -1.421875 17.546875 -0.640625 \r\nQ 12.796875 0.140625 7.71875 1.703125 \r\nL 7.71875 11.625 \r\nQ 12.109375 9.234375 16.796875 8.0625 \r\nQ 21.484375 6.890625 26.703125 6.890625 \r\nQ 35.15625 6.890625 40.078125 11.328125 \r\nQ 45.015625 15.765625 45.015625 23.390625 \r\nQ 45.015625 31 40.078125 35.4375 \r\nQ 35.15625 39.890625 26.703125 39.890625 \r\nQ 22.75 39.890625 18.8125 39.015625 \r\nQ 14.890625 38.140625 10.796875 36.28125 \r\nz\r\n\" id=\"DejaVuSans-53\"/>\r\n       </defs>\r\n       <use xlink:href=\"#DejaVuSans-50\"/>\r\n       <use x=\"63.623047\" xlink:href=\"#DejaVuSans-53\"/>\r\n       <use x=\"127.246094\" xlink:href=\"#DejaVuSans-48\"/>\r\n      </g>\r\n     </g>\r\n    </g>\r\n    <g id=\"xtick_3\">\r\n     <g id=\"line2d_3\">\r\n      <g>\r\n       <use style=\"stroke:#000000;stroke-width:0.8;\" x=\"135.128405\" xlink:href=\"#m2ab959fc32\" y=\"224.64\"/>\r\n      </g>\r\n     </g>\r\n     <g id=\"text_3\">\r\n      <!-- 500 -->\r\n      <g transform=\"translate(125.584655 239.238437)scale(0.1 -0.1)\">\r\n       <use xlink:href=\"#DejaVuSans-53\"/>\r\n       <use x=\"63.623047\" xlink:href=\"#DejaVuSans-48\"/>\r\n       <use x=\"127.246094\" xlink:href=\"#DejaVuSans-48\"/>\r\n      </g>\r\n     </g>\r\n    </g>\r\n    <g id=\"xtick_4\">\r\n     <g id=\"line2d_4\">\r\n      <g>\r\n       <use style=\"stroke:#000000;stroke-width:0.8;\" x=\"173.192892\" xlink:href=\"#m2ab959fc32\" y=\"224.64\"/>\r\n      </g>\r\n     </g>\r\n     <g id=\"text_4\">\r\n      <!-- 750 -->\r\n      <g transform=\"translate(163.649142 239.238437)scale(0.1 -0.1)\">\r\n       <defs>\r\n        <path d=\"M 8.203125 72.90625 \r\nL 55.078125 72.90625 \r\nL 55.078125 68.703125 \r\nL 28.609375 0 \r\nL 18.3125 0 \r\nL 43.21875 64.59375 \r\nL 8.203125 64.59375 \r\nz\r\n\" id=\"DejaVuSans-55\"/>\r\n       </defs>\r\n       <use xlink:href=\"#DejaVuSans-55\"/>\r\n       <use x=\"63.623047\" xlink:href=\"#DejaVuSans-53\"/>\r\n       <use x=\"127.246094\" xlink:href=\"#DejaVuSans-48\"/>\r\n      </g>\r\n     </g>\r\n    </g>\r\n    <g id=\"xtick_5\">\r\n     <g id=\"line2d_5\">\r\n      <g>\r\n       <use style=\"stroke:#000000;stroke-width:0.8;\" x=\"211.257379\" xlink:href=\"#m2ab959fc32\" y=\"224.64\"/>\r\n      </g>\r\n     </g>\r\n     <g id=\"text_5\">\r\n      <!-- 1000 -->\r\n      <g transform=\"translate(198.532379 239.238437)scale(0.1 -0.1)\">\r\n       <defs>\r\n        <path d=\"M 12.40625 8.296875 \r\nL 28.515625 8.296875 \r\nL 28.515625 63.921875 \r\nL 10.984375 60.40625 \r\nL 10.984375 69.390625 \r\nL 28.421875 72.90625 \r\nL 38.28125 72.90625 \r\nL 38.28125 8.296875 \r\nL 54.390625 8.296875 \r\nL 54.390625 0 \r\nL 12.40625 0 \r\nz\r\n\" id=\"DejaVuSans-49\"/>\r\n       </defs>\r\n       <use xlink:href=\"#DejaVuSans-49\"/>\r\n       <use x=\"63.623047\" xlink:href=\"#DejaVuSans-48\"/>\r\n       <use x=\"127.246094\" xlink:href=\"#DejaVuSans-48\"/>\r\n       <use x=\"190.869141\" xlink:href=\"#DejaVuSans-48\"/>\r\n      </g>\r\n     </g>\r\n    </g>\r\n    <g id=\"xtick_6\">\r\n     <g id=\"line2d_6\">\r\n      <g>\r\n       <use style=\"stroke:#000000;stroke-width:0.8;\" x=\"249.321866\" xlink:href=\"#m2ab959fc32\" y=\"224.64\"/>\r\n      </g>\r\n     </g>\r\n     <g id=\"text_6\">\r\n      <!-- 1250 -->\r\n      <g transform=\"translate(236.596866 239.238437)scale(0.1 -0.1)\">\r\n       <use xlink:href=\"#DejaVuSans-49\"/>\r\n       <use x=\"63.623047\" xlink:href=\"#DejaVuSans-50\"/>\r\n       <use x=\"127.246094\" xlink:href=\"#DejaVuSans-53\"/>\r\n       <use x=\"190.869141\" xlink:href=\"#DejaVuSans-48\"/>\r\n      </g>\r\n     </g>\r\n    </g>\r\n    <g id=\"xtick_7\">\r\n     <g id=\"line2d_7\">\r\n      <g>\r\n       <use style=\"stroke:#000000;stroke-width:0.8;\" x=\"287.386353\" xlink:href=\"#m2ab959fc32\" y=\"224.64\"/>\r\n      </g>\r\n     </g>\r\n     <g id=\"text_7\">\r\n      <!-- 1500 -->\r\n      <g transform=\"translate(274.661353 239.238437)scale(0.1 -0.1)\">\r\n       <use xlink:href=\"#DejaVuSans-49\"/>\r\n       <use x=\"63.623047\" xlink:href=\"#DejaVuSans-53\"/>\r\n       <use x=\"127.246094\" xlink:href=\"#DejaVuSans-48\"/>\r\n       <use x=\"190.869141\" xlink:href=\"#DejaVuSans-48\"/>\r\n      </g>\r\n     </g>\r\n    </g>\r\n    <g id=\"xtick_8\">\r\n     <g id=\"line2d_8\">\r\n      <g>\r\n       <use style=\"stroke:#000000;stroke-width:0.8;\" x=\"325.450839\" xlink:href=\"#m2ab959fc32\" y=\"224.64\"/>\r\n      </g>\r\n     </g>\r\n     <g id=\"text_8\">\r\n      <!-- 1750 -->\r\n      <g transform=\"translate(312.725839 239.238437)scale(0.1 -0.1)\">\r\n       <use xlink:href=\"#DejaVuSans-49\"/>\r\n       <use x=\"63.623047\" xlink:href=\"#DejaVuSans-55\"/>\r\n       <use x=\"127.246094\" xlink:href=\"#DejaVuSans-53\"/>\r\n       <use x=\"190.869141\" xlink:href=\"#DejaVuSans-48\"/>\r\n      </g>\r\n     </g>\r\n    </g>\r\n    <g id=\"xtick_9\">\r\n     <g id=\"line2d_9\">\r\n      <g>\r\n       <use style=\"stroke:#000000;stroke-width:0.8;\" x=\"363.515326\" xlink:href=\"#m2ab959fc32\" y=\"224.64\"/>\r\n      </g>\r\n     </g>\r\n     <g id=\"text_9\">\r\n      <!-- 2000 -->\r\n      <g transform=\"translate(350.790326 239.238437)scale(0.1 -0.1)\">\r\n       <use xlink:href=\"#DejaVuSans-50\"/>\r\n       <use x=\"63.623047\" xlink:href=\"#DejaVuSans-48\"/>\r\n       <use x=\"127.246094\" xlink:href=\"#DejaVuSans-48\"/>\r\n       <use x=\"190.869141\" xlink:href=\"#DejaVuSans-48\"/>\r\n      </g>\r\n     </g>\r\n    </g>\r\n    <g id=\"text_10\">\r\n     <!-- Iterations -->\r\n     <g transform=\"translate(187.367969 252.916562)scale(0.1 -0.1)\">\r\n      <defs>\r\n       <path d=\"M 9.8125 72.90625 \r\nL 19.671875 72.90625 \r\nL 19.671875 0 \r\nL 9.8125 0 \r\nz\r\n\" id=\"DejaVuSans-73\"/>\r\n       <path d=\"M 18.3125 70.21875 \r\nL 18.3125 54.6875 \r\nL 36.8125 54.6875 \r\nL 36.8125 47.703125 \r\nL 18.3125 47.703125 \r\nL 18.3125 18.015625 \r\nQ 18.3125 11.328125 20.140625 9.421875 \r\nQ 21.96875 7.515625 27.59375 7.515625 \r\nL 36.8125 7.515625 \r\nL 36.8125 0 \r\nL 27.59375 0 \r\nQ 17.1875 0 13.234375 3.875 \r\nQ 9.28125 7.765625 9.28125 18.015625 \r\nL 9.28125 47.703125 \r\nL 2.6875 47.703125 \r\nL 2.6875 54.6875 \r\nL 9.28125 54.6875 \r\nL 9.28125 70.21875 \r\nz\r\n\" id=\"DejaVuSans-116\"/>\r\n       <path d=\"M 56.203125 29.59375 \r\nL 56.203125 25.203125 \r\nL 14.890625 25.203125 \r\nQ 15.484375 15.921875 20.484375 11.0625 \r\nQ 25.484375 6.203125 34.421875 6.203125 \r\nQ 39.59375 6.203125 44.453125 7.46875 \r\nQ 49.3125 8.734375 54.109375 11.28125 \r\nL 54.109375 2.78125 \r\nQ 49.265625 0.734375 44.1875 -0.34375 \r\nQ 39.109375 -1.421875 33.890625 -1.421875 \r\nQ 20.796875 -1.421875 13.15625 6.1875 \r\nQ 5.515625 13.8125 5.515625 26.8125 \r\nQ 5.515625 40.234375 12.765625 48.109375 \r\nQ 20.015625 56 32.328125 56 \r\nQ 43.359375 56 49.78125 48.890625 \r\nQ 56.203125 41.796875 56.203125 29.59375 \r\nz\r\nM 47.21875 32.234375 \r\nQ 47.125 39.59375 43.09375 43.984375 \r\nQ 39.0625 48.390625 32.421875 48.390625 \r\nQ 24.90625 48.390625 20.390625 44.140625 \r\nQ 15.875 39.890625 15.1875 32.171875 \r\nz\r\n\" id=\"DejaVuSans-101\"/>\r\n       <path d=\"M 41.109375 46.296875 \r\nQ 39.59375 47.171875 37.8125 47.578125 \r\nQ 36.03125 48 33.890625 48 \r\nQ 26.265625 48 22.1875 43.046875 \r\nQ 18.109375 38.09375 18.109375 28.8125 \r\nL 18.109375 0 \r\nL 9.078125 0 \r\nL 9.078125 54.6875 \r\nL 18.109375 54.6875 \r\nL 18.109375 46.1875 \r\nQ 20.953125 51.171875 25.484375 53.578125 \r\nQ 30.03125 56 36.53125 56 \r\nQ 37.453125 56 38.578125 55.875 \r\nQ 39.703125 55.765625 41.0625 55.515625 \r\nz\r\n\" id=\"DejaVuSans-114\"/>\r\n       <path d=\"M 34.28125 27.484375 \r\nQ 23.390625 27.484375 19.1875 25 \r\nQ 14.984375 22.515625 14.984375 16.5 \r\nQ 14.984375 11.71875 18.140625 8.90625 \r\nQ 21.296875 6.109375 26.703125 6.109375 \r\nQ 34.1875 6.109375 38.703125 11.40625 \r\nQ 43.21875 16.703125 43.21875 25.484375 \r\nL 43.21875 27.484375 \r\nz\r\nM 52.203125 31.203125 \r\nL 52.203125 0 \r\nL 43.21875 0 \r\nL 43.21875 8.296875 \r\nQ 40.140625 3.328125 35.546875 0.953125 \r\nQ 30.953125 -1.421875 24.3125 -1.421875 \r\nQ 15.921875 -1.421875 10.953125 3.296875 \r\nQ 6 8.015625 6 15.921875 \r\nQ 6 25.140625 12.171875 29.828125 \r\nQ 18.359375 34.515625 30.609375 34.515625 \r\nL 43.21875 34.515625 \r\nL 43.21875 35.40625 \r\nQ 43.21875 41.609375 39.140625 45 \r\nQ 35.0625 48.390625 27.6875 48.390625 \r\nQ 23 48.390625 18.546875 47.265625 \r\nQ 14.109375 46.140625 10.015625 43.890625 \r\nL 10.015625 52.203125 \r\nQ 14.9375 54.109375 19.578125 55.046875 \r\nQ 24.21875 56 28.609375 56 \r\nQ 40.484375 56 46.34375 49.84375 \r\nQ 52.203125 43.703125 52.203125 31.203125 \r\nz\r\n\" id=\"DejaVuSans-97\"/>\r\n       <path d=\"M 9.421875 54.6875 \r\nL 18.40625 54.6875 \r\nL 18.40625 0 \r\nL 9.421875 0 \r\nz\r\nM 9.421875 75.984375 \r\nL 18.40625 75.984375 \r\nL 18.40625 64.59375 \r\nL 9.421875 64.59375 \r\nz\r\n\" id=\"DejaVuSans-105\"/>\r\n       <path d=\"M 30.609375 48.390625 \r\nQ 23.390625 48.390625 19.1875 42.75 \r\nQ 14.984375 37.109375 14.984375 27.296875 \r\nQ 14.984375 17.484375 19.15625 11.84375 \r\nQ 23.34375 6.203125 30.609375 6.203125 \r\nQ 37.796875 6.203125 41.984375 11.859375 \r\nQ 46.1875 17.53125 46.1875 27.296875 \r\nQ 46.1875 37.015625 41.984375 42.703125 \r\nQ 37.796875 48.390625 30.609375 48.390625 \r\nz\r\nM 30.609375 56 \r\nQ 42.328125 56 49.015625 48.375 \r\nQ 55.71875 40.765625 55.71875 27.296875 \r\nQ 55.71875 13.875 49.015625 6.21875 \r\nQ 42.328125 -1.421875 30.609375 -1.421875 \r\nQ 18.84375 -1.421875 12.171875 6.21875 \r\nQ 5.515625 13.875 5.515625 27.296875 \r\nQ 5.515625 40.765625 12.171875 48.375 \r\nQ 18.84375 56 30.609375 56 \r\nz\r\n\" id=\"DejaVuSans-111\"/>\r\n       <path d=\"M 54.890625 33.015625 \r\nL 54.890625 0 \r\nL 45.90625 0 \r\nL 45.90625 32.71875 \r\nQ 45.90625 40.484375 42.875 44.328125 \r\nQ 39.84375 48.1875 33.796875 48.1875 \r\nQ 26.515625 48.1875 22.3125 43.546875 \r\nQ 18.109375 38.921875 18.109375 30.90625 \r\nL 18.109375 0 \r\nL 9.078125 0 \r\nL 9.078125 54.6875 \r\nL 18.109375 54.6875 \r\nL 18.109375 46.1875 \r\nQ 21.34375 51.125 25.703125 53.5625 \r\nQ 30.078125 56 35.796875 56 \r\nQ 45.21875 56 50.046875 50.171875 \r\nQ 54.890625 44.34375 54.890625 33.015625 \r\nz\r\n\" id=\"DejaVuSans-110\"/>\r\n       <path d=\"M 44.28125 53.078125 \r\nL 44.28125 44.578125 \r\nQ 40.484375 46.53125 36.375 47.5 \r\nQ 32.28125 48.484375 27.875 48.484375 \r\nQ 21.1875 48.484375 17.84375 46.4375 \r\nQ 14.5 44.390625 14.5 40.28125 \r\nQ 14.5 37.15625 16.890625 35.375 \r\nQ 19.28125 33.59375 26.515625 31.984375 \r\nL 29.59375 31.296875 \r\nQ 39.15625 29.25 43.1875 25.515625 \r\nQ 47.21875 21.78125 47.21875 15.09375 \r\nQ 47.21875 7.46875 41.1875 3.015625 \r\nQ 35.15625 -1.421875 24.609375 -1.421875 \r\nQ 20.21875 -1.421875 15.453125 -0.5625 \r\nQ 10.6875 0.296875 5.421875 2 \r\nL 5.421875 11.28125 \r\nQ 10.40625 8.6875 15.234375 7.390625 \r\nQ 20.0625 6.109375 24.8125 6.109375 \r\nQ 31.15625 6.109375 34.5625 8.28125 \r\nQ 37.984375 10.453125 37.984375 14.40625 \r\nQ 37.984375 18.0625 35.515625 20.015625 \r\nQ 33.0625 21.96875 24.703125 23.78125 \r\nL 21.578125 24.515625 \r\nQ 13.234375 26.265625 9.515625 29.90625 \r\nQ 5.8125 33.546875 5.8125 39.890625 \r\nQ 5.8125 47.609375 11.28125 51.796875 \r\nQ 16.75 56 26.8125 56 \r\nQ 31.78125 56 36.171875 55.265625 \r\nQ 40.578125 54.546875 44.28125 53.078125 \r\nz\r\n\" id=\"DejaVuSans-115\"/>\r\n      </defs>\r\n      <use xlink:href=\"#DejaVuSans-73\"/>\r\n      <use x=\"29.492188\" xlink:href=\"#DejaVuSans-116\"/>\r\n      <use x=\"68.701172\" xlink:href=\"#DejaVuSans-101\"/>\r\n      <use x=\"130.224609\" xlink:href=\"#DejaVuSans-114\"/>\r\n      <use x=\"171.337891\" xlink:href=\"#DejaVuSans-97\"/>\r\n      <use x=\"232.617188\" xlink:href=\"#DejaVuSans-116\"/>\r\n      <use x=\"271.826172\" xlink:href=\"#DejaVuSans-105\"/>\r\n      <use x=\"299.609375\" xlink:href=\"#DejaVuSans-111\"/>\r\n      <use x=\"360.791016\" xlink:href=\"#DejaVuSans-110\"/>\r\n      <use x=\"424.169922\" xlink:href=\"#DejaVuSans-115\"/>\r\n     </g>\r\n    </g>\r\n   </g>\r\n   <g id=\"matplotlib.axis_2\">\r\n    <g id=\"ytick_1\">\r\n     <g id=\"line2d_10\">\r\n      <defs>\r\n       <path d=\"M 0 0 \r\nL -3.5 0 \r\n\" id=\"m3b2028dad0\" style=\"stroke:#000000;stroke-width:0.8;\"/>\r\n      </defs>\r\n      <g>\r\n       <use style=\"stroke:#000000;stroke-width:0.8;\" x=\"43.78125\" xlink:href=\"#m3b2028dad0\" y=\"202.708836\"/>\r\n      </g>\r\n     </g>\r\n     <g id=\"text_11\">\r\n      <!-- 1.0 -->\r\n      <g transform=\"translate(20.878125 206.508055)scale(0.1 -0.1)\">\r\n       <defs>\r\n        <path d=\"M 10.6875 12.40625 \r\nL 21 12.40625 \r\nL 21 0 \r\nL 10.6875 0 \r\nz\r\n\" id=\"DejaVuSans-46\"/>\r\n       </defs>\r\n       <use xlink:href=\"#DejaVuSans-49\"/>\r\n       <use x=\"63.623047\" xlink:href=\"#DejaVuSans-46\"/>\r\n       <use x=\"95.410156\" xlink:href=\"#DejaVuSans-48\"/>\r\n      </g>\r\n     </g>\r\n    </g>\r\n    <g id=\"ytick_2\">\r\n     <g id=\"line2d_11\">\r\n      <g>\r\n       <use style=\"stroke:#000000;stroke-width:0.8;\" x=\"43.78125\" xlink:href=\"#m3b2028dad0\" y=\"178.16645\"/>\r\n      </g>\r\n     </g>\r\n     <g id=\"text_12\">\r\n      <!-- 1.5 -->\r\n      <g transform=\"translate(20.878125 181.965669)scale(0.1 -0.1)\">\r\n       <use xlink:href=\"#DejaVuSans-49\"/>\r\n       <use x=\"63.623047\" xlink:href=\"#DejaVuSans-46\"/>\r\n       <use x=\"95.410156\" xlink:href=\"#DejaVuSans-53\"/>\r\n      </g>\r\n     </g>\r\n    </g>\r\n    <g id=\"ytick_3\">\r\n     <g id=\"line2d_12\">\r\n      <g>\r\n       <use style=\"stroke:#000000;stroke-width:0.8;\" x=\"43.78125\" xlink:href=\"#m3b2028dad0\" y=\"153.624064\"/>\r\n      </g>\r\n     </g>\r\n     <g id=\"text_13\">\r\n      <!-- 2.0 -->\r\n      <g transform=\"translate(20.878125 157.423283)scale(0.1 -0.1)\">\r\n       <use xlink:href=\"#DejaVuSans-50\"/>\r\n       <use x=\"63.623047\" xlink:href=\"#DejaVuSans-46\"/>\r\n       <use x=\"95.410156\" xlink:href=\"#DejaVuSans-48\"/>\r\n      </g>\r\n     </g>\r\n    </g>\r\n    <g id=\"ytick_4\">\r\n     <g id=\"line2d_13\">\r\n      <g>\r\n       <use style=\"stroke:#000000;stroke-width:0.8;\" x=\"43.78125\" xlink:href=\"#m3b2028dad0\" y=\"129.081678\"/>\r\n      </g>\r\n     </g>\r\n     <g id=\"text_14\">\r\n      <!-- 2.5 -->\r\n      <g transform=\"translate(20.878125 132.880897)scale(0.1 -0.1)\">\r\n       <use xlink:href=\"#DejaVuSans-50\"/>\r\n       <use x=\"63.623047\" xlink:href=\"#DejaVuSans-46\"/>\r\n       <use x=\"95.410156\" xlink:href=\"#DejaVuSans-53\"/>\r\n      </g>\r\n     </g>\r\n    </g>\r\n    <g id=\"ytick_5\">\r\n     <g id=\"line2d_14\">\r\n      <g>\r\n       <use style=\"stroke:#000000;stroke-width:0.8;\" x=\"43.78125\" xlink:href=\"#m3b2028dad0\" y=\"104.539292\"/>\r\n      </g>\r\n     </g>\r\n     <g id=\"text_15\">\r\n      <!-- 3.0 -->\r\n      <g transform=\"translate(20.878125 108.338511)scale(0.1 -0.1)\">\r\n       <defs>\r\n        <path d=\"M 40.578125 39.3125 \r\nQ 47.65625 37.796875 51.625 33 \r\nQ 55.609375 28.21875 55.609375 21.1875 \r\nQ 55.609375 10.40625 48.1875 4.484375 \r\nQ 40.765625 -1.421875 27.09375 -1.421875 \r\nQ 22.515625 -1.421875 17.65625 -0.515625 \r\nQ 12.796875 0.390625 7.625 2.203125 \r\nL 7.625 11.71875 \r\nQ 11.71875 9.328125 16.59375 8.109375 \r\nQ 21.484375 6.890625 26.8125 6.890625 \r\nQ 36.078125 6.890625 40.9375 10.546875 \r\nQ 45.796875 14.203125 45.796875 21.1875 \r\nQ 45.796875 27.640625 41.28125 31.265625 \r\nQ 36.765625 34.90625 28.71875 34.90625 \r\nL 20.21875 34.90625 \r\nL 20.21875 43.015625 \r\nL 29.109375 43.015625 \r\nQ 36.375 43.015625 40.234375 45.921875 \r\nQ 44.09375 48.828125 44.09375 54.296875 \r\nQ 44.09375 59.90625 40.109375 62.90625 \r\nQ 36.140625 65.921875 28.71875 65.921875 \r\nQ 24.65625 65.921875 20.015625 65.03125 \r\nQ 15.375 64.15625 9.8125 62.3125 \r\nL 9.8125 71.09375 \r\nQ 15.4375 72.65625 20.34375 73.4375 \r\nQ 25.25 74.21875 29.59375 74.21875 \r\nQ 40.828125 74.21875 47.359375 69.109375 \r\nQ 53.90625 64.015625 53.90625 55.328125 \r\nQ 53.90625 49.265625 50.4375 45.09375 \r\nQ 46.96875 40.921875 40.578125 39.3125 \r\nz\r\n\" id=\"DejaVuSans-51\"/>\r\n       </defs>\r\n       <use xlink:href=\"#DejaVuSans-51\"/>\r\n       <use x=\"63.623047\" xlink:href=\"#DejaVuSans-46\"/>\r\n       <use x=\"95.410156\" xlink:href=\"#DejaVuSans-48\"/>\r\n      </g>\r\n     </g>\r\n    </g>\r\n    <g id=\"ytick_6\">\r\n     <g id=\"line2d_15\">\r\n      <g>\r\n       <use style=\"stroke:#000000;stroke-width:0.8;\" x=\"43.78125\" xlink:href=\"#m3b2028dad0\" y=\"79.996906\"/>\r\n      </g>\r\n     </g>\r\n     <g id=\"text_16\">\r\n      <!-- 3.5 -->\r\n      <g transform=\"translate(20.878125 83.796125)scale(0.1 -0.1)\">\r\n       <use xlink:href=\"#DejaVuSans-51\"/>\r\n       <use x=\"63.623047\" xlink:href=\"#DejaVuSans-46\"/>\r\n       <use x=\"95.410156\" xlink:href=\"#DejaVuSans-53\"/>\r\n      </g>\r\n     </g>\r\n    </g>\r\n    <g id=\"ytick_7\">\r\n     <g id=\"line2d_16\">\r\n      <g>\r\n       <use style=\"stroke:#000000;stroke-width:0.8;\" x=\"43.78125\" xlink:href=\"#m3b2028dad0\" y=\"55.45452\"/>\r\n      </g>\r\n     </g>\r\n     <g id=\"text_17\">\r\n      <!-- 4.0 -->\r\n      <g transform=\"translate(20.878125 59.253739)scale(0.1 -0.1)\">\r\n       <defs>\r\n        <path d=\"M 37.796875 64.3125 \r\nL 12.890625 25.390625 \r\nL 37.796875 25.390625 \r\nz\r\nM 35.203125 72.90625 \r\nL 47.609375 72.90625 \r\nL 47.609375 25.390625 \r\nL 58.015625 25.390625 \r\nL 58.015625 17.1875 \r\nL 47.609375 17.1875 \r\nL 47.609375 0 \r\nL 37.796875 0 \r\nL 37.796875 17.1875 \r\nL 4.890625 17.1875 \r\nL 4.890625 26.703125 \r\nz\r\n\" id=\"DejaVuSans-52\"/>\r\n       </defs>\r\n       <use xlink:href=\"#DejaVuSans-52\"/>\r\n       <use x=\"63.623047\" xlink:href=\"#DejaVuSans-46\"/>\r\n       <use x=\"95.410156\" xlink:href=\"#DejaVuSans-48\"/>\r\n      </g>\r\n     </g>\r\n    </g>\r\n    <g id=\"ytick_8\">\r\n     <g id=\"line2d_17\">\r\n      <g>\r\n       <use style=\"stroke:#000000;stroke-width:0.8;\" x=\"43.78125\" xlink:href=\"#m3b2028dad0\" y=\"30.912134\"/>\r\n      </g>\r\n     </g>\r\n     <g id=\"text_18\">\r\n      <!-- 4.5 -->\r\n      <g transform=\"translate(20.878125 34.711353)scale(0.1 -0.1)\">\r\n       <use xlink:href=\"#DejaVuSans-52\"/>\r\n       <use x=\"63.623047\" xlink:href=\"#DejaVuSans-46\"/>\r\n       <use x=\"95.410156\" xlink:href=\"#DejaVuSans-53\"/>\r\n      </g>\r\n     </g>\r\n    </g>\r\n    <g id=\"text_19\">\r\n     <!-- Loss -->\r\n     <g transform=\"translate(14.798438 126.887187)rotate(-90)scale(0.1 -0.1)\">\r\n      <defs>\r\n       <path d=\"M 9.8125 72.90625 \r\nL 19.671875 72.90625 \r\nL 19.671875 8.296875 \r\nL 55.171875 8.296875 \r\nL 55.171875 0 \r\nL 9.8125 0 \r\nz\r\n\" id=\"DejaVuSans-76\"/>\r\n      </defs>\r\n      <use xlink:href=\"#DejaVuSans-76\"/>\r\n      <use x=\"53.962891\" xlink:href=\"#DejaVuSans-111\"/>\r\n      <use x=\"115.144531\" xlink:href=\"#DejaVuSans-115\"/>\r\n      <use x=\"167.244141\" xlink:href=\"#DejaVuSans-115\"/>\r\n     </g>\r\n    </g>\r\n   </g>\r\n   <g id=\"line2d_18\">\r\n    <path clip-path=\"url(#pee815f0dc1)\" d=\"M 58.999432 34.929421 \r\nL 59.15169 67.466989 \r\nL 59.303948 17.083636 \r\nL 59.456206 45.885204 \r\nL 59.608464 31.869674 \r\nL 59.760722 52.068431 \r\nL 59.91298 56.722744 \r\nL 60.065237 78.452966 \r\nL 60.217495 66.464078 \r\nL 60.369753 68.083687 \r\nL 60.522011 79.894203 \r\nL 60.674269 64.988517 \r\nL 61.283301 86.36981 \r\nL 61.435559 85.165249 \r\nL 61.587817 88.97562 \r\nL 61.740075 89.687099 \r\nL 62.044591 76.085341 \r\nL 62.196849 90.550912 \r\nL 62.349107 87.211634 \r\nL 62.501365 90.272282 \r\nL 62.653623 86.279992 \r\nL 62.80588 104.243178 \r\nL 62.958138 95.80898 \r\nL 63.110396 97.234114 \r\nL 63.262654 89.678088 \r\nL 63.414912 102.839004 \r\nL 63.56717 92.995657 \r\nL 63.719428 94.88828 \r\nL 63.871686 105.336107 \r\nL 64.176202 93.905216 \r\nL 64.480718 113.364092 \r\nL 64.632976 120.95374 \r\nL 64.785234 98.940827 \r\nL 64.937492 122.998931 \r\nL 65.08975 105.194609 \r\nL 65.546524 128.165051 \r\nL 65.698781 118.603798 \r\nL 65.851039 121.697483 \r\nL 66.003297 130.366075 \r\nL 66.155555 132.130682 \r\nL 66.307813 111.287011 \r\nL 66.460071 115.438633 \r\nL 66.612329 131.053282 \r\nL 66.764587 127.80731 \r\nL 66.916845 135.456455 \r\nL 67.069103 135.98406 \r\nL 67.221361 139.202215 \r\nL 67.373619 137.394753 \r\nL 67.525877 137.509767 \r\nL 67.678135 147.223518 \r\nL 67.830393 142.620077 \r\nL 67.982651 144.180611 \r\nL 68.134909 138.054775 \r\nL 68.439425 150.559578 \r\nL 68.591682 134.538716 \r\nL 68.896198 149.665969 \r\nL 69.352972 155.953222 \r\nL 69.50523 155.7152 \r\nL 69.657488 148.151918 \r\nL 69.809746 159.94059 \r\nL 69.962004 126.468331 \r\nL 70.114262 143.502895 \r\nL 70.26652 133.367811 \r\nL 70.418778 156.255608 \r\nL 70.571036 155.31368 \r\nL 70.723294 155.3253 \r\nL 71.02781 160.198864 \r\nL 71.180068 154.844055 \r\nL 71.332326 163.037411 \r\nL 71.484583 150.052054 \r\nL 71.636841 152.547636 \r\nL 71.789099 149.764694 \r\nL 71.941357 153.543736 \r\nL 72.093615 161.271974 \r\nL 72.245873 160.448319 \r\nL 72.398131 150.164482 \r\nL 72.550389 159.885617 \r\nL 72.702647 153.852829 \r\nL 72.854905 162.063552 \r\nL 73.159421 154.434776 \r\nL 73.311679 136.732227 \r\nL 73.463937 157.977816 \r\nL 73.616195 151.587194 \r\nL 73.768453 162.555476 \r\nL 73.920711 159.206496 \r\nL 74.072969 169.422826 \r\nL 74.377484 154.130335 \r\nL 74.529742 172.012176 \r\nL 74.682 174.572708 \r\nL 74.834258 165.326364 \r\nL 74.986516 164.581825 \r\nL 75.138774 166.506759 \r\nL 75.291032 158.100273 \r\nL 75.44329 168.291413 \r\nL 75.747806 156.472817 \r\nL 75.900064 146.847065 \r\nL 76.052322 174.05268 \r\nL 76.356838 154.588368 \r\nL 76.509096 162.375178 \r\nL 76.661354 164.03951 \r\nL 76.813612 163.733074 \r\nL 76.96587 171.562821 \r\nL 77.118128 161.593524 \r\nL 77.270385 162.976668 \r\nL 77.422643 177.244281 \r\nL 77.574901 167.785715 \r\nL 77.727159 166.102963 \r\nL 77.879417 166.375092 \r\nL 78.031675 161.230663 \r\nL 78.183933 176.909355 \r\nL 78.488449 167.746048 \r\nL 78.640707 177.268354 \r\nL 78.792965 162.35959 \r\nL 78.945223 172.090426 \r\nL 79.249739 154.957098 \r\nL 79.554255 175.062192 \r\nL 79.706513 157.111019 \r\nL 79.858771 175.471957 \r\nL 80.011029 153.240109 \r\nL 80.163286 176.829742 \r\nL 80.315544 174.986142 \r\nL 80.467802 169.596348 \r\nL 80.62006 158.724262 \r\nL 80.772318 176.122499 \r\nL 80.924576 177.759084 \r\nL 81.076834 169.983269 \r\nL 81.229092 174.054933 \r\nL 81.533608 168.156071 \r\nL 81.685866 169.796002 \r\nL 81.838124 154.157849 \r\nL 81.990382 171.243699 \r\nL 82.14264 170.596 \r\nL 82.294898 174.772374 \r\nL 82.447156 165.676884 \r\nL 82.599414 172.493433 \r\nL 82.751672 172.587523 \r\nL 82.90393 169.7931 \r\nL 83.056187 170.395977 \r\nL 83.208445 178.296771 \r\nL 83.360703 175.826309 \r\nL 83.512961 162.88496 \r\nL 83.665219 160.091901 \r\nL 83.817477 179.695346 \r\nL 83.969735 172.304451 \r\nL 84.121993 175.753396 \r\nL 84.274251 168.949597 \r\nL 84.426509 182.210911 \r\nL 84.578767 172.830945 \r\nL 84.731025 177.004013 \r\nL 84.883283 176.864312 \r\nL 85.187799 168.622407 \r\nL 85.340057 183.095361 \r\nL 85.492315 182.704467 \r\nL 85.644573 169.313394 \r\nL 85.796831 168.022835 \r\nL 85.949088 167.743234 \r\nL 86.101346 173.247808 \r\nL 86.253604 169.635546 \r\nL 86.405862 179.435604 \r\nL 86.55812 161.272331 \r\nL 86.710378 178.747367 \r\nL 86.862636 175.159962 \r\nL 87.014894 190.104999 \r\nL 87.471668 175.196557 \r\nL 87.623926 172.680501 \r\nL 87.776184 175.879814 \r\nL 87.928442 184.2576 \r\nL 88.0807 177.626118 \r\nL 88.232958 182.081689 \r\nL 88.385216 182.380659 \r\nL 88.537474 179.094909 \r\nL 88.689732 180.502606 \r\nL 88.841989 168.411553 \r\nL 88.994247 167.236839 \r\nL 89.298763 184.006951 \r\nL 89.603279 164.558759 \r\nL 89.907795 185.569715 \r\nL 90.364569 174.116858 \r\nL 90.516827 173.676824 \r\nL 90.669085 181.973456 \r\nL 90.821343 163.170834 \r\nL 91.125859 183.715459 \r\nL 91.278117 174.769776 \r\nL 91.430375 184.500624 \r\nL 91.582633 166.747426 \r\nL 91.73489 167.517594 \r\nL 91.887148 167.411438 \r\nL 92.039406 183.351563 \r\nL 92.191664 167.475774 \r\nL 92.49618 182.018723 \r\nL 92.800696 167.936124 \r\nL 92.952954 179.594024 \r\nL 93.105212 171.192406 \r\nL 93.25747 169.944235 \r\nL 93.409728 175.10256 \r\nL 93.561986 175.528668 \r\nL 93.714244 168.225479 \r\nL 94.01876 189.810213 \r\nL 94.171018 174.887956 \r\nL 94.323276 172.835281 \r\nL 94.475534 168.275017 \r\nL 94.627791 171.869988 \r\nL 94.780049 181.906096 \r\nL 95.084565 172.628166 \r\nL 95.236823 182.455591 \r\nL 95.389081 182.479061 \r\nL 95.693597 185.953324 \r\nL 95.845855 175.128026 \r\nL 95.998113 190.083881 \r\nL 96.150371 167.771695 \r\nL 96.454887 184.015488 \r\nL 96.607145 183.090159 \r\nL 96.911661 172.441484 \r\nL 97.216177 184.439033 \r\nL 97.368435 157.75719 \r\nL 97.67295 183.513599 \r\nL 97.825208 174.006156 \r\nL 97.977466 177.958288 \r\nL 98.129724 161.702078 \r\nL 98.43424 180.77123 \r\nL 98.586498 187.220617 \r\nL 98.738756 180.632073 \r\nL 98.891014 168.505215 \r\nL 99.043272 188.182166 \r\nL 99.19553 176.525687 \r\nL 99.500046 189.44386 \r\nL 99.652304 173.673641 \r\nL 99.804562 170.468903 \r\nL 99.95682 182.660084 \r\nL 100.109078 177.864496 \r\nL 100.261335 177.025522 \r\nL 100.413593 183.391276 \r\nL 100.565851 168.082074 \r\nL 100.870367 186.121305 \r\nL 101.022625 187.170922 \r\nL 101.174883 175.807632 \r\nL 101.327141 184.854573 \r\nL 101.631657 182.12283 \r\nL 101.783915 191.925808 \r\nL 101.936173 189.849037 \r\nL 102.088431 176.718648 \r\nL 102.240689 182.790377 \r\nL 102.392947 194.088541 \r\nL 102.545205 178.589199 \r\nL 102.697463 181.706822 \r\nL 102.849721 181.357425 \r\nL 103.001979 183.068293 \r\nL 103.154236 187.830844 \r\nL 103.306494 187.271729 \r\nL 103.458752 185.102144 \r\nL 103.61101 186.591198 \r\nL 103.763268 171.710913 \r\nL 103.915526 177.078834 \r\nL 104.067784 175.353572 \r\nL 104.220042 176.03948 \r\nL 104.3723 182.103877 \r\nL 104.524558 181.844077 \r\nL 104.676816 183.759619 \r\nL 104.981332 172.172544 \r\nL 105.13359 181.755979 \r\nL 105.285848 166.033636 \r\nL 105.438106 200.026063 \r\nL 105.590364 176.979156 \r\nL 105.742622 185.473787 \r\nL 105.89488 185.362787 \r\nL 106.047137 189.330191 \r\nL 106.503911 171.099352 \r\nL 106.656169 175.725309 \r\nL 106.808427 186.01402 \r\nL 106.960685 179.623 \r\nL 107.112943 182.027219 \r\nL 107.265201 177.026383 \r\nL 107.417459 179.772847 \r\nL 107.569717 173.212366 \r\nL 107.874233 188.466507 \r\nL 108.026491 178.291125 \r\nL 108.178749 190.048504 \r\nL 108.331007 189.03049 \r\nL 108.483265 182.574625 \r\nL 108.635523 171.238527 \r\nL 108.787781 169.665195 \r\nL 109.092296 185.735179 \r\nL 109.244554 188.129322 \r\nL 109.396812 174.312006 \r\nL 109.54907 180.048546 \r\nL 109.701328 174.212299 \r\nL 110.005844 193.265132 \r\nL 110.158102 192.010272 \r\nL 110.462618 185.055438 \r\nL 110.614876 186.983163 \r\nL 110.767134 175.746321 \r\nL 111.07165 188.441194 \r\nL 111.376166 178.870655 \r\nL 111.528424 190.893002 \r\nL 111.832939 171.251411 \r\nL 111.985197 167.615838 \r\nL 112.289713 187.440681 \r\nL 112.441971 177.048179 \r\nL 112.594229 190.020704 \r\nL 112.746487 188.125934 \r\nL 112.898745 181.985873 \r\nL 113.051003 185.223285 \r\nL 113.203261 177.32637 \r\nL 113.507777 187.877158 \r\nL 113.660035 175.658059 \r\nL 113.812293 176.705757 \r\nL 113.964551 185.931569 \r\nL 114.269067 175.573425 \r\nL 114.421325 181.504464 \r\nL 114.573583 182.550137 \r\nL 114.72584 185.465116 \r\nL 114.878098 196.726586 \r\nL 115.030356 181.316442 \r\nL 115.182614 183.884733 \r\nL 115.334872 190.624021 \r\nL 115.48713 191.983344 \r\nL 115.639388 190.883277 \r\nL 115.791646 184.322848 \r\nL 115.943904 185.127925 \r\nL 116.096162 188.554687 \r\nL 116.24842 186.106706 \r\nL 116.400678 193.894522 \r\nL 116.705194 185.246041 \r\nL 116.857452 181.270217 \r\nL 117.161968 190.769661 \r\nL 117.314226 186.276483 \r\nL 117.618741 187.237522 \r\nL 117.770999 184.914462 \r\nL 118.075515 192.186252 \r\nL 118.227773 175.658135 \r\nL 118.380031 194.684695 \r\nL 118.532289 180.187241 \r\nL 118.684547 191.919307 \r\nL 118.989063 188.117321 \r\nL 119.141321 187.810183 \r\nL 119.293579 190.152793 \r\nL 119.445837 181.842398 \r\nL 119.598095 183.400124 \r\nL 119.750353 182.935941 \r\nL 119.902611 189.138184 \r\nL 120.207127 177.253901 \r\nL 120.511642 182.256259 \r\nL 120.6639 182.464116 \r\nL 120.816158 186.547313 \r\nL 120.968416 179.34815 \r\nL 121.120674 194.094831 \r\nL 121.272932 170.101256 \r\nL 121.577448 197.934523 \r\nL 121.729706 186.787669 \r\nL 121.881964 184.812291 \r\nL 122.034222 185.155883 \r\nL 122.338738 186.59049 \r\nL 122.490996 193.340082 \r\nL 122.643254 183.605073 \r\nL 122.795512 196.685884 \r\nL 122.94777 183.92949 \r\nL 123.100028 190.79048 \r\nL 123.404543 181.601667 \r\nL 123.556801 195.025268 \r\nL 123.709059 192.262021 \r\nL 123.861317 173.168709 \r\nL 124.165833 186.891326 \r\nL 124.318091 187.923518 \r\nL 124.470349 182.030484 \r\nL 124.622607 192.069371 \r\nL 124.774865 187.883536 \r\nL 124.927123 188.673856 \r\nL 125.079381 194.401086 \r\nL 125.231639 182.871506 \r\nL 125.383897 186.030357 \r\nL 125.536155 184.069151 \r\nL 125.688413 171.427133 \r\nL 126.145187 195.860784 \r\nL 126.297444 176.121587 \r\nL 126.449702 188.628314 \r\nL 126.754218 179.171679 \r\nL 126.906476 183.828648 \r\nL 127.058734 178.06906 \r\nL 127.210992 178.027457 \r\nL 127.36325 195.980824 \r\nL 127.515508 179.06811 \r\nL 127.667766 191.605458 \r\nL 127.972282 179.697505 \r\nL 128.276798 193.107619 \r\nL 128.429056 170.183971 \r\nL 128.581314 189.017003 \r\nL 128.733572 182.599733 \r\nL 128.88583 182.588154 \r\nL 129.038088 175.746468 \r\nL 129.342603 195.006081 \r\nL 129.494861 174.07505 \r\nL 129.647119 189.156681 \r\nL 129.799377 182.144644 \r\nL 129.951635 198.247911 \r\nL 130.103893 188.312674 \r\nL 130.256151 188.336618 \r\nL 130.408409 194.865877 \r\nL 130.865183 176.052394 \r\nL 131.169699 185.781908 \r\nL 131.321957 186.167144 \r\nL 131.626473 189.598453 \r\nL 131.778731 181.536986 \r\nL 131.930989 183.49326 \r\nL 132.083246 179.735797 \r\nL 132.235504 193.537583 \r\nL 132.387762 175.623811 \r\nL 132.692278 187.941025 \r\nL 132.844536 186.544423 \r\nL 132.996794 191.802052 \r\nL 133.30131 172.584533 \r\nL 133.453568 184.437072 \r\nL 133.605826 183.273143 \r\nL 133.758084 191.239098 \r\nL 133.910342 176.642662 \r\nL 134.0626 182.02616 \r\nL 134.214858 181.345225 \r\nL 134.367116 184.428682 \r\nL 134.519374 176.641006 \r\nL 134.671632 178.954148 \r\nL 134.82389 186.163698 \r\nL 134.976147 184.176523 \r\nL 135.128405 184.722432 \r\nL 135.280663 186.599285 \r\nL 135.432921 193.093488 \r\nL 135.585179 190.099768 \r\nL 135.737437 193.642135 \r\nL 135.889695 192.670768 \r\nL 136.194211 183.982416 \r\nL 136.346469 191.303984 \r\nL 136.650985 179.311234 \r\nL 136.955501 189.746469 \r\nL 137.107759 180.182232 \r\nL 137.260017 191.953625 \r\nL 137.564533 188.895294 \r\nL 137.71679 191.035833 \r\nL 137.869048 177.622273 \r\nL 138.021306 188.589362 \r\nL 138.173564 187.397334 \r\nL 138.325822 198.979214 \r\nL 138.47808 183.693043 \r\nL 138.630338 183.408403 \r\nL 138.782596 189.53232 \r\nL 138.934854 178.573324 \r\nL 139.087112 180.390587 \r\nL 139.23937 194.82786 \r\nL 139.391628 177.928206 \r\nL 139.543886 187.65518 \r\nL 139.696144 184.551677 \r\nL 139.848402 187.290676 \r\nL 140.00066 187.47665 \r\nL 140.152918 189.043188 \r\nL 140.305176 195.264056 \r\nL 140.457434 185.163683 \r\nL 140.609691 187.859317 \r\nL 140.761949 192.993687 \r\nL 140.914207 172.453064 \r\nL 141.218723 193.792895 \r\nL 141.370981 182.591319 \r\nL 141.523239 180.803676 \r\nL 141.675497 196.683643 \r\nL 141.827755 182.950101 \r\nL 141.980013 192.689282 \r\nL 142.132271 195.086935 \r\nL 142.284529 182.363719 \r\nL 142.436787 190.846671 \r\nL 142.589045 180.432343 \r\nL 142.741303 179.240192 \r\nL 142.893561 184.38654 \r\nL 143.045819 180.12641 \r\nL 143.198077 189.326651 \r\nL 143.350335 187.291097 \r\nL 143.502592 192.762236 \r\nL 143.65485 185.120324 \r\nL 143.807108 198.892315 \r\nL 143.959366 181.932351 \r\nL 144.111624 181.909337 \r\nL 144.263882 192.690557 \r\nL 144.41614 179.03574 \r\nL 144.568398 192.23201 \r\nL 144.720656 191.287079 \r\nL 144.872914 191.925948 \r\nL 145.17743 180.955372 \r\nL 145.329688 193.665008 \r\nL 145.481946 186.956393 \r\nL 145.634204 198.691274 \r\nL 145.786462 180.919673 \r\nL 145.93872 180.914916 \r\nL 146.395493 195.789052 \r\nL 146.547751 195.434266 \r\nL 146.700009 187.103959 \r\nL 146.852267 194.427189 \r\nL 147.004525 186.235073 \r\nL 147.156783 193.200404 \r\nL 147.309041 190.154057 \r\nL 147.461299 190.167123 \r\nL 147.613557 204.002232 \r\nL 147.765815 179.854211 \r\nL 148.070331 195.746308 \r\nL 148.222589 197.654869 \r\nL 148.374847 186.02921 \r\nL 148.527105 195.946383 \r\nL 148.679363 195.298971 \r\nL 148.983879 184.0188 \r\nL 149.136137 184.471045 \r\nL 149.59291 194.812284 \r\nL 149.745168 190.391692 \r\nL 149.897426 192.411962 \r\nL 150.049684 178.451944 \r\nL 150.201942 178.694448 \r\nL 150.3542 189.751261 \r\nL 150.658716 192.206901 \r\nL 150.810974 184.693543 \r\nL 150.963232 187.044638 \r\nL 151.11549 181.906113 \r\nL 151.267748 189.809195 \r\nL 151.420006 176.936734 \r\nL 151.572264 194.719417 \r\nL 151.724522 189.823273 \r\nL 151.87678 193.332071 \r\nL 152.029038 178.918742 \r\nL 152.181295 192.086773 \r\nL 152.333553 194.633156 \r\nL 152.485811 192.096205 \r\nL 152.638069 184.147647 \r\nL 152.790327 192.097346 \r\nL 152.942585 190.322184 \r\nL 153.094843 197.194794 \r\nL 153.247101 188.666184 \r\nL 153.399359 193.798027 \r\nL 153.551617 193.417911 \r\nL 153.703875 185.322676 \r\nL 153.856133 189.180086 \r\nL 154.160649 184.94335 \r\nL 154.312907 196.74503 \r\nL 154.465165 188.061341 \r\nL 154.617423 193.401767 \r\nL 154.769681 189.477996 \r\nL 154.921939 173.199382 \r\nL 155.074196 190.888426 \r\nL 155.226454 182.680857 \r\nL 155.378712 194.052579 \r\nL 155.53097 191.429975 \r\nL 155.683228 195.070604 \r\nL 155.987744 182.461735 \r\nL 156.140002 192.065304 \r\nL 156.29226 177.434749 \r\nL 156.444518 176.626003 \r\nL 156.749034 203.218498 \r\nL 156.901292 190.435817 \r\nL 157.05355 198.455061 \r\nL 157.358066 183.580094 \r\nL 157.510324 193.98173 \r\nL 157.662582 195.204618 \r\nL 157.81484 185.608907 \r\nL 157.967097 187.974115 \r\nL 158.119355 179.77297 \r\nL 158.271613 183.577057 \r\nL 158.423871 192.369066 \r\nL 158.880645 175.745444 \r\nL 159.032903 187.567744 \r\nL 159.185161 172.40853 \r\nL 159.489677 200.16694 \r\nL 159.641935 199.223941 \r\nL 159.946451 186.526424 \r\nL 160.098709 173.586877 \r\nL 160.250967 190.976366 \r\nL 160.403225 186.56468 \r\nL 160.555483 176.259714 \r\nL 160.707741 190.127591 \r\nL 161.012256 184.886855 \r\nL 161.164514 191.776417 \r\nL 161.316772 178.025403 \r\nL 161.46903 186.46585 \r\nL 161.621288 183.002559 \r\nL 161.773546 193.544441 \r\nL 161.925804 193.111639 \r\nL 162.078062 188.22347 \r\nL 162.23032 187.594508 \r\nL 162.382578 176.944469 \r\nL 162.534836 190.264273 \r\nL 162.687094 181.812532 \r\nL 162.839352 196.355733 \r\nL 162.99161 177.624497 \r\nL 163.296126 194.093643 \r\nL 163.448384 193.915206 \r\nL 163.600642 188.604874 \r\nL 163.752899 202.028317 \r\nL 163.905157 192.064819 \r\nL 164.057415 198.797114 \r\nL 164.209673 199.315597 \r\nL 164.361931 189.956889 \r\nL 164.514189 188.717758 \r\nL 164.666447 198.986148 \r\nL 164.970963 183.633827 \r\nL 165.275479 188.226115 \r\nL 165.427737 188.228807 \r\nL 165.579995 186.270754 \r\nL 165.884511 199.172835 \r\nL 166.036769 190.500106 \r\nL 166.189027 194.639827 \r\nL 166.341285 174.49595 \r\nL 166.493543 185.704799 \r\nL 166.6458 186.084576 \r\nL 166.798058 187.040401 \r\nL 166.950316 190.438895 \r\nL 167.102574 197.428656 \r\nL 167.40709 190.834792 \r\nL 167.559348 199.932412 \r\nL 167.711606 187.901423 \r\nL 167.863864 190.49374 \r\nL 168.016122 201.745766 \r\nL 168.16838 186.585049 \r\nL 168.472896 190.79684 \r\nL 168.625154 196.928359 \r\nL 168.777412 194.599745 \r\nL 169.081928 174.944065 \r\nL 169.234186 192.812851 \r\nL 169.386444 195.956295 \r\nL 169.538701 185.204964 \r\nL 169.690959 199.829288 \r\nL 169.995475 169.15656 \r\nL 170.147733 192.60494 \r\nL 170.452249 187.497785 \r\nL 170.604507 187.476954 \r\nL 171.061281 196.503854 \r\nL 171.365797 187.514397 \r\nL 171.822571 198.449379 \r\nL 171.974829 196.623824 \r\nL 172.127087 196.30441 \r\nL 172.279345 197.401113 \r\nL 172.431602 189.968715 \r\nL 172.58386 196.088109 \r\nL 172.888376 185.811148 \r\nL 173.040634 188.400029 \r\nL 173.192892 194.226569 \r\nL 173.34515 194.532589 \r\nL 173.497408 185.061565 \r\nL 173.649666 190.724126 \r\nL 173.801924 201.384018 \r\nL 173.954182 187.188236 \r\nL 174.10644 194.448072 \r\nL 174.258698 193.88389 \r\nL 174.410956 194.061783 \r\nL 174.715472 190.269223 \r\nL 174.86773 179.232047 \r\nL 175.019988 184.592379 \r\nL 175.172245 194.448605 \r\nL 175.324503 192.675748 \r\nL 175.476761 197.327322 \r\nL 175.781277 187.794665 \r\nL 175.933535 188.685236 \r\nL 176.085793 197.825823 \r\nL 176.238051 177.160186 \r\nL 176.542567 194.790154 \r\nL 176.694825 188.894194 \r\nL 176.847083 172.486604 \r\nL 176.999341 194.879575 \r\nL 177.151599 189.213152 \r\nL 177.303857 197.059505 \r\nL 177.456115 190.231026 \r\nL 177.608373 190.191488 \r\nL 177.760631 191.644586 \r\nL 177.912889 190.47577 \r\nL 178.065146 191.259379 \r\nL 178.217404 175.983682 \r\nL 178.52192 195.644465 \r\nL 178.674178 193.244043 \r\nL 178.826436 193.361509 \r\nL 178.978694 200.504465 \r\nL 179.130952 188.370129 \r\nL 179.28321 188.761146 \r\nL 179.435468 201.588254 \r\nL 179.587726 185.23404 \r\nL 179.739984 197.278603 \r\nL 179.892242 186.641573 \r\nL 180.0445 191.852601 \r\nL 180.196758 187.594824 \r\nL 180.349016 188.695687 \r\nL 180.501274 194.193269 \r\nL 180.653532 187.380418 \r\nL 180.80579 186.690783 \r\nL 180.958047 189.630021 \r\nL 181.110305 188.826447 \r\nL 181.262563 191.881162 \r\nL 181.414821 200.517367 \r\nL 181.567079 186.970963 \r\nL 181.871595 192.803875 \r\nL 182.023853 183.928262 \r\nL 182.176111 190.444512 \r\nL 182.328369 185.196129 \r\nL 182.480627 190.222278 \r\nL 182.632885 187.92353 \r\nL 182.785143 189.958188 \r\nL 182.937401 199.229599 \r\nL 183.089659 189.604602 \r\nL 183.241917 188.985002 \r\nL 183.394175 189.208927 \r\nL 183.546433 188.903685 \r\nL 183.698691 190.007398 \r\nL 184.003206 206.487768 \r\nL 184.155464 190.762048 \r\nL 184.307722 197.441102 \r\nL 184.45998 198.298063 \r\nL 184.612238 200.7621 \r\nL 184.764496 188.08594 \r\nL 184.916754 192.938889 \r\nL 185.069012 192.886636 \r\nL 185.22127 193.921093 \r\nL 185.373528 192.036978 \r\nL 185.525786 192.710856 \r\nL 185.678044 195.650737 \r\nL 185.830302 195.224518 \r\nL 185.98256 197.756584 \r\nL 186.134818 188.085302 \r\nL 186.287076 187.075281 \r\nL 186.439334 181.612691 \r\nL 186.743849 196.467107 \r\nL 187.048365 176.038796 \r\nL 187.200623 200.88042 \r\nL 187.505139 185.470891 \r\nL 187.657397 199.971885 \r\nL 187.809655 187.954641 \r\nL 187.961913 200.029211 \r\nL 188.114171 191.690677 \r\nL 188.266429 190.228234 \r\nL 188.418687 187.533958 \r\nL 188.723203 205.469888 \r\nL 189.027719 188.280153 \r\nL 189.179977 191.739009 \r\nL 189.332235 199.426983 \r\nL 189.484493 196.46678 \r\nL 189.63675 183.311048 \r\nL 189.789008 191.329718 \r\nL 189.941266 189.914602 \r\nL 190.093524 186.329736 \r\nL 190.39804 202.330411 \r\nL 190.550298 195.880345 \r\nL 190.702556 195.643704 \r\nL 190.854814 189.141028 \r\nL 191.007072 197.637713 \r\nL 191.15933 192.014936 \r\nL 191.311588 192.367785 \r\nL 191.463846 200.998665 \r\nL 191.616104 199.251805 \r\nL 191.768362 192.927397 \r\nL 191.92062 191.318823 \r\nL 192.072878 184.193012 \r\nL 192.225136 197.488381 \r\nL 192.377394 197.075362 \r\nL 192.529651 199.923062 \r\nL 192.681909 177.365867 \r\nL 192.834167 197.668714 \r\nL 192.986425 195.135654 \r\nL 193.138683 181.559619 \r\nL 193.290941 193.296717 \r\nL 193.443199 192.545332 \r\nL 193.595457 194.514707 \r\nL 193.747715 193.267191 \r\nL 193.899973 184.993034 \r\nL 194.052231 197.442857 \r\nL 194.204489 187.309716 \r\nL 194.509005 190.894915 \r\nL 194.661263 185.180102 \r\nL 194.813521 184.073258 \r\nL 194.965779 197.775794 \r\nL 195.118037 187.461922 \r\nL 195.270295 190.003653 \r\nL 195.422552 188.432522 \r\nL 195.57481 208.038522 \r\nL 195.879326 189.02836 \r\nL 196.031584 196.912917 \r\nL 196.183842 192.404818 \r\nL 196.488358 197.978391 \r\nL 196.640616 197.139148 \r\nL 196.792874 187.087382 \r\nL 196.945132 191.233311 \r\nL 197.09739 203.484902 \r\nL 197.401906 194.465234 \r\nL 197.554164 184.114774 \r\nL 197.706422 185.537825 \r\nL 197.85868 191.513562 \r\nL 198.010938 189.176201 \r\nL 198.163196 189.955386 \r\nL 198.315453 199.431389 \r\nL 198.467711 195.632768 \r\nL 198.619969 201.908657 \r\nL 198.772227 188.868975 \r\nL 198.924485 196.520922 \r\nL 199.381259 191.66668 \r\nL 199.533517 200.635675 \r\nL 199.990291 189.619073 \r\nL 200.142549 197.386046 \r\nL 200.294807 191.227957 \r\nL 200.447065 195.231177 \r\nL 200.599323 202.253196 \r\nL 200.751581 203.038595 \r\nL 200.903839 187.991013 \r\nL 201.056097 192.832266 \r\nL 201.208354 187.453806 \r\nL 201.360612 187.928691 \r\nL 201.51287 192.379411 \r\nL 201.665128 206.088711 \r\nL 201.817386 200.597326 \r\nL 201.969644 182.609394 \r\nL 202.121902 193.999559 \r\nL 202.27416 184.596978 \r\nL 202.426418 185.299405 \r\nL 202.578676 198.448612 \r\nL 203.03545 193.34543 \r\nL 203.339966 201.863156 \r\nL 203.492224 192.585818 \r\nL 203.644482 198.976276 \r\nL 203.79674 193.84444 \r\nL 203.948998 199.89429 \r\nL 204.101255 195.576829 \r\nL 204.253513 203.770978 \r\nL 204.405771 185.939837 \r\nL 204.558029 200.781105 \r\nL 204.710287 198.596892 \r\nL 204.862545 190.460399 \r\nL 205.014803 193.134997 \r\nL 205.167061 186.458179 \r\nL 205.319319 189.464655 \r\nL 205.471577 188.716173 \r\nL 205.776093 192.274584 \r\nL 205.928351 192.363408 \r\nL 206.080609 203.464688 \r\nL 206.385125 199.025381 \r\nL 206.537383 203.399993 \r\nL 206.841899 192.329441 \r\nL 206.994156 200.072453 \r\nL 207.146414 187.310881 \r\nL 207.298672 206.149661 \r\nL 207.603188 196.743262 \r\nL 207.755446 199.833641 \r\nL 207.907704 191.025757 \r\nL 208.059962 198.550321 \r\nL 208.21222 197.261014 \r\nL 208.364478 192.315819 \r\nL 208.668994 195.833639 \r\nL 208.821252 188.285161 \r\nL 209.125768 200.642972 \r\nL 209.278026 191.512321 \r\nL 209.430284 197.339101 \r\nL 209.582542 194.88267 \r\nL 209.7348 197.771364 \r\nL 209.887057 196.22001 \r\nL 210.039315 188.748893 \r\nL 210.191573 203.021088 \r\nL 210.496089 192.160986 \r\nL 210.800605 198.770858 \r\nL 210.952863 196.100754 \r\nL 211.105121 190.707683 \r\nL 211.257379 203.005564 \r\nL 211.714153 173.468662 \r\nL 211.866411 195.032014 \r\nL 212.018669 189.181877 \r\nL 212.170927 202.351019 \r\nL 212.6277 185.820837 \r\nL 212.779958 199.602817 \r\nL 212.932216 181.153739 \r\nL 213.084474 196.702812 \r\nL 213.236732 188.739005 \r\nL 213.38899 204.546011 \r\nL 213.693506 182.289401 \r\nL 213.845764 207.531946 \r\nL 214.15028 194.709411 \r\nL 214.302538 206.176622 \r\nL 214.454796 189.124878 \r\nL 214.759312 201.453854 \r\nL 214.91157 187.837117 \r\nL 215.216086 202.438837 \r\nL 215.368344 190.777314 \r\nL 215.520601 195.955277 \r\nL 215.672859 187.972576 \r\nL 215.977375 198.54564 \r\nL 216.129633 180.892189 \r\nL 216.281891 193.938635 \r\nL 216.434149 192.048722 \r\nL 216.586407 193.500865 \r\nL 216.738665 183.258731 \r\nL 217.195439 203.064932 \r\nL 217.347697 194.307306 \r\nL 217.499955 193.846897 \r\nL 217.652213 191.827265 \r\nL 217.804471 204.389549 \r\nL 217.956729 187.808603 \r\nL 218.108987 191.361988 \r\nL 218.261245 188.554851 \r\nL 218.413502 195.188726 \r\nL 218.56576 193.339245 \r\nL 218.718018 199.443718 \r\nL 218.870276 196.546809 \r\nL 219.022534 184.392824 \r\nL 219.479308 202.158603 \r\nL 219.631566 193.338122 \r\nL 219.783824 202.308398 \r\nL 219.936082 202.209867 \r\nL 220.08834 199.569587 \r\nL 220.392856 192.858105 \r\nL 220.697372 200.280662 \r\nL 220.84963 193.858038 \r\nL 221.001888 195.941837 \r\nL 221.154146 184.645954 \r\nL 221.306403 199.750844 \r\nL 221.458661 193.614604 \r\nL 221.610919 194.550044 \r\nL 221.763177 200.054126 \r\nL 221.915435 201.217979 \r\nL 222.067693 182.919142 \r\nL 222.219951 201.43338 \r\nL 222.372209 191.470952 \r\nL 222.524467 197.436192 \r\nL 222.676725 199.015516 \r\nL 222.828983 194.060144 \r\nL 222.981241 202.154203 \r\nL 223.133499 196.147067 \r\nL 223.285757 195.854979 \r\nL 223.590273 185.792985 \r\nL 223.742531 197.817046 \r\nL 223.894789 197.010757 \r\nL 224.047047 202.019955 \r\nL 224.199304 200.5367 \r\nL 224.351562 197.21267 \r\nL 224.50382 205.695888 \r\nL 224.808336 192.154128 \r\nL 224.960594 208.293966 \r\nL 225.112852 184.24836 \r\nL 225.26511 202.562727 \r\nL 225.417368 199.250009 \r\nL 225.569626 192.477568 \r\nL 225.721884 172.88696 \r\nL 225.874142 195.328719 \r\nL 226.178658 200.209462 \r\nL 226.330916 198.922801 \r\nL 226.483174 191.682157 \r\nL 226.635432 194.357961 \r\nL 226.78769 194.170156 \r\nL 226.939948 204.028136 \r\nL 227.244463 189.378588 \r\nL 227.396721 208.504708 \r\nL 227.548979 182.711044 \r\nL 228.005753 201.174065 \r\nL 228.158011 200.817038 \r\nL 228.310269 194.248459 \r\nL 228.462527 194.814367 \r\nL 228.614785 185.521757 \r\nL 228.767043 194.432028 \r\nL 228.919301 192.739287 \r\nL 229.071559 194.146405 \r\nL 229.223817 202.253565 \r\nL 229.528333 189.650851 \r\nL 229.680591 202.419632 \r\nL 229.832849 199.748767 \r\nL 229.985106 193.775721 \r\nL 230.137364 194.123392 \r\nL 230.289622 200.045337 \r\nL 230.594138 190.282523 \r\nL 230.898654 198.531585 \r\nL 231.050912 188.580128 \r\nL 231.20317 189.577721 \r\nL 231.355428 197.323758 \r\nL 231.507686 194.022696 \r\nL 231.659944 200.069351 \r\nL 232.116718 190.464378 \r\nL 232.268976 189.657715 \r\nL 232.421234 193.347917 \r\nL 232.573492 200.822995 \r\nL 232.72575 194.646685 \r\nL 233.030265 202.728675 \r\nL 233.182523 200.909379 \r\nL 233.487039 189.715421 \r\nL 233.639297 200.877348 \r\nL 233.791555 201.241455 \r\nL 233.943813 204.474867 \r\nL 234.096071 197.172787 \r\nL 234.248329 201.597821 \r\nL 234.400587 201.402069 \r\nL 234.552845 193.430661 \r\nL 234.705103 193.426682 \r\nL 234.857361 189.827229 \r\nL 235.161877 197.515332 \r\nL 235.314135 189.159027 \r\nL 235.618651 200.013108 \r\nL 235.770908 191.442708 \r\nL 235.923166 196.409144 \r\nL 236.075424 195.509187 \r\nL 236.227682 191.512743 \r\nL 236.37994 192.887678 \r\nL 236.532198 200.406097 \r\nL 236.684456 198.223809 \r\nL 236.836714 191.534024 \r\nL 237.14123 194.833472 \r\nL 237.293488 189.461279 \r\nL 237.445746 189.926714 \r\nL 237.598004 204.468791 \r\nL 237.750262 204.22512 \r\nL 237.90252 192.857333 \r\nL 238.054778 190.872259 \r\nL 238.207036 199.460646 \r\nL 238.511552 192.295479 \r\nL 238.663809 196.367588 \r\nL 238.816067 196.592643 \r\nL 238.968325 196.403819 \r\nL 239.120583 198.762181 \r\nL 239.272841 193.248338 \r\nL 239.425099 205.507378 \r\nL 239.577357 203.265338 \r\nL 239.729615 194.292888 \r\nL 240.034131 191.503468 \r\nL 240.338647 201.140882 \r\nL 240.490905 191.75393 \r\nL 240.643163 198.096144 \r\nL 240.795421 194.138582 \r\nL 240.947679 210.90352 \r\nL 241.099937 193.983006 \r\nL 241.252195 189.511759 \r\nL 241.404453 191.814527 \r\nL 241.55671 199.583531 \r\nL 241.708968 199.818656 \r\nL 241.861226 188.536255 \r\nL 242.013484 198.523211 \r\nL 242.165742 181.774499 \r\nL 242.470258 201.660091 \r\nL 242.622516 192.437638 \r\nL 242.927032 201.862121 \r\nL 243.07929 189.622683 \r\nL 243.231548 206.480091 \r\nL 243.536064 197.915483 \r\nL 243.688322 202.774711 \r\nL 243.84058 201.617581 \r\nL 243.992838 199.141056 \r\nL 244.297354 193.156308 \r\nL 244.449611 190.187965 \r\nL 244.754127 206.109395 \r\nL 244.906385 199.865396 \r\nL 245.058643 188.269415 \r\nL 245.210901 193.51179 \r\nL 245.363159 193.509192 \r\nL 245.667675 201.824707 \r\nL 245.819933 193.056384 \r\nL 245.972191 194.819271 \r\nL 246.124449 194.202754 \r\nL 246.276707 194.827246 \r\nL 246.428965 202.133267 \r\nL 246.581223 202.327602 \r\nL 246.885739 203.709369 \r\nL 247.037997 198.20808 \r\nL 247.190255 197.448299 \r\nL 247.342512 197.57281 \r\nL 247.49477 206.514245 \r\nL 247.799286 191.991706 \r\nL 248.103802 199.84343 \r\nL 248.25606 198.922374 \r\nL 248.408318 190.688959 \r\nL 248.560576 196.741969 \r\nL 248.712834 189.970974 \r\nL 248.865092 208.639257 \r\nL 249.169608 192.705794 \r\nL 249.321866 207.752803 \r\nL 249.474124 207.044097 \r\nL 249.626382 179.846475 \r\nL 249.77864 202.029628 \r\nL 249.930898 191.713011 \r\nL 250.083155 200.911181 \r\nL 250.387671 192.000319 \r\nL 250.539929 186.472006 \r\nL 250.692187 202.851387 \r\nL 250.996703 190.344682 \r\nL 251.148961 198.244447 \r\nL 251.301219 192.387685 \r\nL 251.453477 198.430058 \r\nL 251.605735 195.762358 \r\nL 251.757993 200.227906 \r\nL 251.910251 198.536611 \r\nL 252.062509 188.738841 \r\nL 252.367025 197.531839 \r\nL 252.519283 198.586476 \r\nL 252.671541 185.382336 \r\nL 252.823799 199.73047 \r\nL 252.976056 192.651751 \r\nL 253.128314 201.519681 \r\nL 253.280572 193.275664 \r\nL 253.43283 192.023256 \r\nL 253.585088 189.513204 \r\nL 253.737346 193.135372 \r\nL 253.889604 199.829159 \r\nL 254.041862 198.535259 \r\nL 254.19412 202.830129 \r\nL 254.346378 197.1705 \r\nL 254.498636 200.692264 \r\nL 254.650894 185.726888 \r\nL 254.803152 199.134304 \r\nL 254.95541 192.086796 \r\nL 255.107668 193.065091 \r\nL 255.412184 200.922977 \r\nL 255.564442 201.422063 \r\nL 255.7167 196.348261 \r\nL 255.868957 199.276094 \r\nL 256.021215 180.563676 \r\nL 256.173473 201.565199 \r\nL 256.325731 195.395618 \r\nL 256.477989 199.718744 \r\nL 256.630247 210.498396 \r\nL 256.782505 208.860123 \r\nL 256.934763 192.598041 \r\nL 257.087021 196.170133 \r\nL 257.239279 203.625437 \r\nL 257.543795 187.369798 \r\nL 257.696053 196.194463 \r\nL 257.848311 190.996986 \r\nL 258.152827 204.141422 \r\nL 258.305085 195.219094 \r\nL 258.457343 200.165208 \r\nL 258.609601 194.829259 \r\nL 258.761858 197.844202 \r\nL 258.914116 206.928197 \r\nL 259.218632 197.971738 \r\nL 259.37089 195.867127 \r\nL 259.523148 197.462143 \r\nL 259.675406 197.094479 \r\nL 259.979922 206.764268 \r\nL 260.13218 193.748185 \r\nL 260.284438 201.162421 \r\nL 260.436696 189.798399 \r\nL 260.588954 196.959757 \r\nL 260.741212 196.502625 \r\nL 260.89347 207.223254 \r\nL 261.045728 197.163232 \r\nL 261.197986 202.907525 \r\nL 261.350244 200.726641 \r\nL 261.502502 202.73137 \r\nL 261.654759 202.441288 \r\nL 261.807017 192.911481 \r\nL 262.111533 206.441255 \r\nL 262.416049 192.16655 \r\nL 262.568307 198.203639 \r\nL 262.720565 210.749764 \r\nL 263.025081 182.724917 \r\nL 263.177339 189.676831 \r\nL 263.329597 189.423514 \r\nL 263.481855 197.819421 \r\nL 263.634113 196.415288 \r\nL 263.786371 204.956867 \r\nL 264.090887 184.309027 \r\nL 264.243145 193.885341 \r\nL 264.395403 195.801521 \r\nL 264.54766 206.105188 \r\nL 264.699918 206.212215 \r\nL 264.852176 191.906574 \r\nL 265.004434 196.58843 \r\nL 265.156692 189.68689 \r\nL 265.30895 200.682451 \r\nL 265.461208 194.690511 \r\nL 265.613466 194.9026 \r\nL 265.765724 188.229556 \r\nL 266.07024 196.465586 \r\nL 266.222498 195.376613 \r\nL 266.374756 190.272635 \r\nL 266.527014 190.038206 \r\nL 266.679272 192.372161 \r\nL 266.83153 191.681695 \r\nL 267.136046 207.74811 \r\nL 267.288304 189.095481 \r\nL 267.440561 193.433914 \r\nL 267.592819 193.74083 \r\nL 267.745077 188.057795 \r\nL 267.897335 205.993448 \r\nL 268.201851 199.290073 \r\nL 268.354109 197.59099 \r\nL 268.506367 201.783461 \r\nL 268.658625 194.522431 \r\nL 268.810883 195.606074 \r\nL 268.963141 205.261352 \r\nL 269.115399 197.85773 \r\nL 269.267657 200.187847 \r\nL 269.419915 188.422768 \r\nL 269.572173 188.736073 \r\nL 269.724431 195.163881 \r\nL 269.876689 207.178819 \r\nL 270.333462 198.695546 \r\nL 270.48572 202.259615 \r\nL 270.637978 187.419897 \r\nL 270.790236 199.681956 \r\nL 270.942494 187.0406 \r\nL 271.094752 185.034801 \r\nL 271.399268 199.455327 \r\nL 271.551526 205.791988 \r\nL 271.703784 196.895907 \r\nL 271.856042 204.892233 \r\nL 272.0083 204.306629 \r\nL 272.160558 191.599495 \r\nL 272.312816 192.584209 \r\nL 272.465074 200.582317 \r\nL 272.617332 201.255188 \r\nL 272.76959 196.254686 \r\nL 272.921848 183.526244 \r\nL 273.074106 203.008329 \r\nL 273.226363 192.937631 \r\nL 273.378621 195.467923 \r\nL 273.530879 195.236999 \r\nL 273.683137 202.979736 \r\nL 273.835395 201.771272 \r\nL 274.139911 204.099187 \r\nL 274.292169 206.003535 \r\nL 274.444427 187.998802 \r\nL 274.596685 202.754974 \r\nL 274.748943 203.881653 \r\nL 274.901201 183.186022 \r\nL 275.053459 203.366105 \r\nL 275.205717 204.528243 \r\nL 275.510233 196.376142 \r\nL 275.662491 204.35911 \r\nL 275.814749 199.371735 \r\nL 275.967007 200.402592 \r\nL 276.119264 208.161798 \r\nL 276.271522 205.662006 \r\nL 276.42378 196.982934 \r\nL 276.576038 197.189464 \r\nL 276.728296 195.260668 \r\nL 276.880554 190.919116 \r\nL 277.032812 200.200129 \r\nL 277.18507 187.832635 \r\nL 277.337328 205.91855 \r\nL 277.489586 191.775545 \r\nL 277.641844 193.128339 \r\nL 277.794102 206.186899 \r\nL 278.098618 194.428107 \r\nL 278.250876 195.488801 \r\nL 278.403134 194.802161 \r\nL 278.555392 193.299988 \r\nL 278.70765 197.968415 \r\nL 278.859908 198.210567 \r\nL 279.012165 186.865645 \r\nL 279.164423 207.739994 \r\nL 279.468939 192.563425 \r\nL 279.773455 200.445459 \r\nL 279.925713 197.115233 \r\nL 280.230229 209.577236 \r\nL 280.534745 193.66935 \r\nL 280.687003 197.953792 \r\nL 280.839261 189.004411 \r\nL 280.991519 198.965393 \r\nL 281.143777 193.470427 \r\nL 281.296035 194.726573 \r\nL 281.448293 204.895361 \r\nL 281.600551 194.113491 \r\nL 281.905066 198.643316 \r\nL 282.057324 199.508393 \r\nL 282.209582 193.85709 \r\nL 282.36184 198.559004 \r\nL 282.514098 194.195387 \r\nL 282.666356 195.134431 \r\nL 282.818614 188.808367 \r\nL 282.970872 197.052431 \r\nL 283.12313 195.577952 \r\nL 283.275388 198.508981 \r\nL 283.427646 195.54381 \r\nL 283.579904 189.177084 \r\nL 283.88442 199.508335 \r\nL 284.036678 199.698902 \r\nL 284.188936 198.201474 \r\nL 284.341194 198.615745 \r\nL 284.493452 203.586496 \r\nL 284.64571 202.692675 \r\nL 284.797967 199.329312 \r\nL 284.950225 201.024885 \r\nL 285.254741 191.751788 \r\nL 285.406999 202.114537 \r\nL 285.559257 201.712946 \r\nL 285.711515 200.23649 \r\nL 285.863773 190.043191 \r\nL 286.016031 199.541214 \r\nL 286.168289 185.735431 \r\nL 286.320547 199.498101 \r\nL 286.625063 204.458375 \r\nL 286.777321 193.417051 \r\nL 286.929579 201.773829 \r\nL 287.081837 196.384943 \r\nL 287.234095 197.067849 \r\nL 287.386353 205.873375 \r\nL 287.53861 192.08115 \r\nL 287.843126 202.932182 \r\nL 287.995384 197.524946 \r\nL 288.147642 203.708421 \r\nL 288.2999 191.808289 \r\nL 288.452158 196.507066 \r\nL 288.604416 192.192712 \r\nL 288.756674 202.954192 \r\nL 288.908932 199.924729 \r\nL 289.06119 199.896941 \r\nL 289.365706 205.972567 \r\nL 289.82248 196.475896 \r\nL 289.974738 213.301654 \r\nL 290.126996 202.139101 \r\nL 290.279254 207.754444 \r\nL 290.431511 197.230189 \r\nL 290.736027 201.637183 \r\nL 290.888285 199.734063 \r\nL 291.040543 188.997213 \r\nL 291.192801 203.646727 \r\nL 291.345059 189.671823 \r\nL 291.497317 207.036821 \r\nL 291.649575 204.388563 \r\nL 291.801833 191.542321 \r\nL 291.954091 190.482072 \r\nL 292.258607 201.273725 \r\nL 292.410865 196.017822 \r\nL 292.563123 196.155856 \r\nL 292.715381 190.549983 \r\nL 292.867639 203.481868 \r\nL 293.172155 189.342982 \r\nL 293.47667 199.002461 \r\nL 293.628928 197.915834 \r\nL 293.781186 199.34926 \r\nL 293.933444 199.724952 \r\nL 294.085702 199.530172 \r\nL 294.23796 198.200403 \r\nL 294.390218 194.75679 \r\nL 294.542476 204.908161 \r\nL 294.694734 205.501176 \r\nL 294.846992 195.551674 \r\nL 294.99925 208.6207 \r\nL 295.303766 200.655798 \r\nL 295.456024 200.570269 \r\nL 295.608282 197.229335 \r\nL 295.76054 206.676348 \r\nL 295.912798 199.019272 \r\nL 296.065056 203.483755 \r\nL 296.217313 194.560769 \r\nL 296.369571 194.374439 \r\nL 296.521829 197.506409 \r\nL 296.674087 203.644559 \r\nL 296.826345 192.475303 \r\nL 296.978603 203.094332 \r\nL 297.130861 203.565671 \r\nL 297.283119 202.708268 \r\nL 297.435377 199.576649 \r\nL 297.587635 202.050365 \r\nL 297.739893 181.664189 \r\nL 298.044409 202.928508 \r\nL 298.196667 206.323163 \r\nL 298.348925 205.520175 \r\nL 298.501183 194.524824 \r\nL 298.805699 207.748198 \r\nL 299.110214 197.267743 \r\nL 299.262472 192.76855 \r\nL 299.41473 204.019939 \r\nL 299.566988 205.396334 \r\nL 299.719246 200.422832 \r\nL 299.871504 199.612354 \r\nL 300.023762 194.497487 \r\nL 300.17602 204.454303 \r\nL 300.328278 206.517852 \r\nL 300.632794 197.420405 \r\nL 300.785052 200.697121 \r\nL 301.089568 201.512689 \r\nL 301.241826 192.942891 \r\nL 301.394084 195.393383 \r\nL 301.546342 194.07094 \r\nL 301.6986 202.004139 \r\nL 301.850858 200.367865 \r\nL 302.003115 201.064147 \r\nL 302.155373 203.803421 \r\nL 302.307631 197.735109 \r\nL 302.459889 200.44 \r\nL 302.612147 198.801812 \r\nL 302.764405 203.209206 \r\nL 302.916663 200.89492 \r\nL 303.221179 185.973458 \r\nL 303.373437 203.289809 \r\nL 303.525695 193.060855 \r\nL 303.677953 197.008628 \r\nL 303.830211 194.115586 \r\nL 303.982469 203.925433 \r\nL 304.134727 198.648945 \r\nL 304.286985 199.192619 \r\nL 304.439243 190.769977 \r\nL 304.591501 199.035633 \r\nL 304.743759 194.143093 \r\nL 304.896016 197.925091 \r\nL 305.048274 195.026538 \r\nL 305.200532 201.029103 \r\nL 305.35279 198.681836 \r\nL 305.505048 193.369069 \r\nL 305.657306 192.967924 \r\nL 305.809564 210.196348 \r\nL 305.961822 192.74525 \r\nL 306.266338 202.895436 \r\nL 306.418596 193.937769 \r\nL 306.723112 198.600227 \r\nL 306.87537 192.550253 \r\nL 307.027628 197.805992 \r\nL 307.179886 196.83067 \r\nL 307.332144 205.416647 \r\nL 307.484402 193.679981 \r\nL 307.63666 203.035816 \r\nL 307.941175 192.781095 \r\nL 308.093433 197.106889 \r\nL 308.245691 190.245724 \r\nL 308.397949 201.940037 \r\nL 308.550207 192.675695 \r\nL 308.702465 197.505227 \r\nL 308.854723 197.129142 \r\nL 309.006981 201.05578 \r\nL 309.159239 186.726792 \r\nL 309.463755 201.605468 \r\nL 309.616013 202.785913 \r\nL 309.768271 199.731506 \r\nL 309.920529 206.216964 \r\nL 310.072787 201.076336 \r\nL 310.225045 204.253873 \r\nL 310.377303 200.117286 \r\nL 310.529561 206.424924 \r\nL 310.681818 203.708117 \r\nL 310.834076 189.584784 \r\nL 310.986334 198.770712 \r\nL 311.138592 199.836005 \r\nL 311.443108 204.446058 \r\nL 311.595366 194.807047 \r\nL 311.747624 205.295363 \r\nL 311.899882 200.175829 \r\nL 312.05214 202.351768 \r\nL 312.204398 199.770207 \r\nL 312.356656 192.13923 \r\nL 312.508914 201.80768 \r\nL 312.661172 198.261375 \r\nL 312.81343 202.345583 \r\nL 312.965688 195.640936 \r\nL 313.117946 194.996327 \r\nL 313.270204 197.265631 \r\nL 313.422462 201.452935 \r\nL 313.574719 200.25718 \r\nL 313.726977 185.351751 \r\nL 313.879235 200.332323 \r\nL 314.031493 200.027017 \r\nL 314.183751 204.147188 \r\nL 314.336009 199.332308 \r\nL 314.488267 206.520875 \r\nL 314.640525 195.345706 \r\nL 314.792783 192.83573 \r\nL 315.097299 201.9259 \r\nL 315.249557 189.346715 \r\nL 315.401815 206.54598 \r\nL 315.554073 197.403068 \r\nL 315.706331 206.74772 \r\nL 315.858589 206.134796 \r\nL 316.010847 214.542236 \r\nL 316.315363 200.028901 \r\nL 316.46762 202.153571 \r\nL 316.772136 192.657257 \r\nL 316.924394 202.080049 \r\nL 317.076652 201.906515 \r\nL 317.22891 206.772621 \r\nL 317.685684 199.014316 \r\nL 317.837942 210.066466 \r\nL 318.142458 197.807449 \r\nL 318.294716 206.816371 \r\nL 318.446974 191.268062 \r\nL 318.75149 202.057474 \r\nL 318.903748 196.698464 \r\nL 319.056006 211.63499 \r\nL 319.360521 201.215668 \r\nL 319.512779 196.855813 \r\nL 319.665037 195.852656 \r\nL 319.817295 210.364484 \r\nL 319.969553 199.516047 \r\nL 320.121811 205.464511 \r\nL 320.274069 202.392307 \r\nL 320.426327 206.381952 \r\nL 320.578585 206.356118 \r\nL 320.730843 207.222125 \r\nL 320.883101 200.523347 \r\nL 321.035359 204.907719 \r\nL 321.187617 194.52328 \r\nL 321.339875 205.341869 \r\nL 321.492133 193.952678 \r\nL 321.644391 195.683704 \r\nL 321.796649 209.709869 \r\nL 322.101165 200.319404 \r\nL 322.253422 201.355264 \r\nL 322.40568 193.87568 \r\nL 322.557938 207.289907 \r\nL 322.710196 210.698287 \r\nL 323.014712 201.853882 \r\nL 323.16697 202.364536 \r\nL 323.319228 210.549689 \r\nL 323.471486 198.051562 \r\nL 323.623744 208.959751 \r\nL 324.232776 200.938641 \r\nL 324.537292 201.149589 \r\nL 324.68955 206.238441 \r\nL 324.841808 199.400986 \r\nL 324.994065 204.124277 \r\nL 325.146323 204.61511 \r\nL 325.298581 198.95056 \r\nL 325.450839 185.429762 \r\nL 325.603097 191.708395 \r\nL 325.755355 205.761336 \r\nL 326.059871 194.255709 \r\nL 326.364387 203.901068 \r\nL 326.516645 204.309798 \r\nL 326.668903 195.544676 \r\nL 326.821161 204.382328 \r\nL 326.973419 202.424553 \r\nL 327.125677 189.072872 \r\nL 327.277935 206.761386 \r\nL 327.582451 193.746892 \r\nL 327.734709 204.680642 \r\nL 327.886966 204.671973 \r\nL 328.039224 202.943917 \r\nL 328.191482 207.592873 \r\nL 328.34374 199.451518 \r\nL 328.495998 202.777382 \r\nL 328.648256 197.874453 \r\nL 328.800514 202.584325 \r\nL 328.952772 201.694432 \r\nL 329.10503 189.384562 \r\nL 329.561804 214.756364 \r\nL 329.714062 198.741426 \r\nL 329.86632 207.40888 \r\nL 330.018578 197.553009 \r\nL 330.170836 206.570652 \r\nL 330.475352 204.350895 \r\nL 330.62761 199.017423 \r\nL 330.779867 201.090045 \r\nL 330.932125 210.828992 \r\nL 331.084383 210.389689 \r\nL 331.236641 198.139175 \r\nL 331.388899 205.373897 \r\nL 331.541157 199.343473 \r\nL 331.693415 203.416271 \r\nL 331.845673 196.50754 \r\nL 331.997931 203.974131 \r\nL 332.150189 205.266633 \r\nL 332.302447 201.658961 \r\nL 332.454705 202.080692 \r\nL 332.759221 209.60118 \r\nL 332.911479 197.388047 \r\nL 333.063737 195.509023 \r\nL 333.215995 199.92226 \r\nL 333.368253 197.534033 \r\nL 333.672768 208.173314 \r\nL 333.825026 195.740398 \r\nL 333.977284 204.324549 \r\nL 334.129542 197.531248 \r\nL 334.434058 211.572735 \r\nL 334.586316 200.199316 \r\nL 334.738574 204.276571 \r\nL 334.890832 202.824529 \r\nL 335.04309 204.225082 \r\nL 335.347606 208.004683 \r\nL 335.499864 206.816784 \r\nL 335.652122 189.116663 \r\nL 335.80438 204.294631 \r\nL 336.108896 197.145895 \r\nL 336.261154 204.61427 \r\nL 336.413412 198.450338 \r\nL 336.565669 196.816346 \r\nL 337.022443 209.329232 \r\nL 337.174701 207.061795 \r\nL 337.326959 200.763937 \r\nL 337.479217 199.128341 \r\nL 337.631475 208.734017 \r\nL 337.935991 198.387167 \r\nL 338.088249 201.088079 \r\nL 338.240507 207.558739 \r\nL 338.392765 200.234886 \r\nL 338.545023 204.510022 \r\nL 338.697281 201.791834 \r\nL 338.849539 204.456582 \r\nL 339.001797 189.646088 \r\nL 339.306313 207.029317 \r\nL 339.610828 193.343242 \r\nL 339.763086 190.518006 \r\nL 339.915344 204.781932 \r\nL 340.067602 206.190615 \r\nL 340.21986 198.294458 \r\nL 340.372118 202.298111 \r\nL 340.524376 199.022414 \r\nL 340.676634 198.252574 \r\nL 340.828892 201.960505 \r\nL 340.98115 201.334556 \r\nL 341.133408 210.886034 \r\nL 341.437924 202.731656 \r\nL 341.590182 207.137345 \r\nL 341.894698 201.449442 \r\nL 342.046956 201.21812 \r\nL 342.199214 201.77115 \r\nL 342.351471 197.501482 \r\nL 342.503729 209.693784 \r\nL 342.655987 193.819308 \r\nL 342.808245 198.890062 \r\nL 342.960503 213.737226 \r\nL 343.265019 193.421644 \r\nL 343.569535 204.720897 \r\nL 343.874051 196.698769 \r\nL 344.026309 204.393937 \r\nL 344.178567 196.045581 \r\nL 344.330825 200.79863 \r\nL 344.483083 199.54528 \r\nL 344.635341 201.18994 \r\nL 344.787599 195.971971 \r\nL 344.939857 207.094545 \r\nL 345.092115 199.121045 \r\nL 345.244372 203.148434 \r\nL 345.548888 196.453491 \r\nL 345.701146 208.928844 \r\nL 345.853404 205.180173 \r\nL 346.005662 196.718482 \r\nL 346.15792 195.607426 \r\nL 346.310178 208.126406 \r\nL 346.614694 190.148387 \r\nL 346.91921 203.827961 \r\nL 347.071468 201.142672 \r\nL 347.223726 203.91759 \r\nL 347.375984 208.7401 \r\nL 347.528242 200.383201 \r\nL 347.6805 205.62188 \r\nL 347.832758 205.911353 \r\nL 347.985016 205.250582 \r\nL 348.137273 192.70896 \r\nL 348.289531 200.706957 \r\nL 348.441789 195.167901 \r\nL 348.594047 211.209746 \r\nL 348.898563 197.156995 \r\nL 349.203079 201.834268 \r\nL 349.355337 201.343199 \r\nL 349.507595 194.820388 \r\nL 349.659853 199.150068 \r\nL 349.812111 199.332823 \r\nL 349.964369 188.338701 \r\nL 350.268885 204.460736 \r\nL 350.421143 191.701373 \r\nL 350.573401 202.944845 \r\nL 350.725659 190.015321 \r\nL 351.030174 205.777459 \r\nL 351.182432 194.311934 \r\nL 351.486948 202.160476 \r\nL 351.639206 190.150435 \r\nL 351.791464 202.607724 \r\nL 351.943722 190.073484 \r\nL 352.248238 204.878921 \r\nL 352.552754 203.958362 \r\nL 352.705012 201.596287 \r\nL 352.85727 204.867763 \r\nL 353.009528 199.292601 \r\nL 353.161786 188.957161 \r\nL 353.314044 198.027004 \r\nL 353.466302 193.491936 \r\nL 353.61856 207.588455 \r\nL 353.770818 199.594964 \r\nL 353.923075 199.790622 \r\nL 354.075333 204.417141 \r\nL 354.227591 204.858781 \r\nL 354.379849 202.815407 \r\nL 354.532107 198.065471 \r\nL 354.684365 208.838912 \r\nL 354.836623 203.578009 \r\nL 354.988881 206.655634 \r\nL 355.141139 203.341105 \r\nL 355.293397 193.935645 \r\nL 355.445655 205.0667 \r\nL 355.597913 207.906731 \r\nL 355.902429 201.404755 \r\nL 356.054687 203.488849 \r\nL 356.206945 201.24094 \r\nL 356.359203 194.077377 \r\nL 356.511461 208.365981 \r\nL 356.663719 194.887322 \r\nL 356.815976 193.32354 \r\nL 356.968234 203.376239 \r\nL 357.120492 197.075046 \r\nL 357.27275 209.628611 \r\nL 357.577266 197.332214 \r\nL 357.729524 197.651048 \r\nL 357.881782 203.349033 \r\nL 358.03404 202.476543 \r\nL 358.490814 213.040689 \r\nL 358.643072 202.826717 \r\nL 358.79533 201.522168 \r\nL 358.947588 205.619373 \r\nL 359.099846 198.183452 \r\nL 359.252104 205.783586 \r\nL 359.404362 203.416737 \r\nL 359.55662 190.986928 \r\nL 359.708877 201.343017 \r\nL 359.861135 200.043723 \r\nL 360.013393 193.042915 \r\nL 360.165651 191.768201 \r\nL 360.317909 206.858738 \r\nL 360.470167 191.881689 \r\nL 360.622425 205.973143 \r\nL 360.774683 197.123226 \r\nL 360.926941 199.78456 \r\nL 361.079199 199.020191 \r\nL 361.231457 201.377985 \r\nL 361.383715 212.295115 \r\nL 361.688231 202.908288 \r\nL 361.992747 208.005137 \r\nL 362.145005 200.350831 \r\nL 362.44952 211.010208 \r\nL 362.601778 196.614345 \r\nL 362.754036 204.282984 \r\nL 363.058552 200.484587 \r\nL 363.21081 213.406127 \r\nL 363.363068 199.870031 \r\nL 363.363068 199.870031 \r\n\" style=\"fill:none;stroke:#1f77b4;stroke-linecap:square;stroke-width:1.5;\"/>\r\n   </g>\r\n   <g id=\"patch_3\">\r\n    <path d=\"M 43.78125 224.64 \r\nL 43.78125 7.2 \r\n\" style=\"fill:none;stroke:#000000;stroke-linecap:square;stroke-linejoin:miter;stroke-width:0.8;\"/>\r\n   </g>\r\n   <g id=\"patch_4\">\r\n    <path d=\"M 378.58125 224.64 \r\nL 378.58125 7.2 \r\n\" style=\"fill:none;stroke:#000000;stroke-linecap:square;stroke-linejoin:miter;stroke-width:0.8;\"/>\r\n   </g>\r\n   <g id=\"patch_5\">\r\n    <path d=\"M 43.78125 224.64 \r\nL 378.58125 224.64 \r\n\" style=\"fill:none;stroke:#000000;stroke-linecap:square;stroke-linejoin:miter;stroke-width:0.8;\"/>\r\n   </g>\r\n   <g id=\"patch_6\">\r\n    <path d=\"M 43.78125 7.2 \r\nL 378.58125 7.2 \r\n\" style=\"fill:none;stroke:#000000;stroke-linecap:square;stroke-linejoin:miter;stroke-width:0.8;\"/>\r\n   </g>\r\n  </g>\r\n </g>\r\n <defs>\r\n  <clipPath id=\"pee815f0dc1\">\r\n   <rect height=\"217.44\" width=\"334.8\" x=\"43.78125\" y=\"7.2\"/>\r\n  </clipPath>\r\n </defs>\r\n</svg>\r\n",
            "image/png": "[encoded data removed]"
          },
          "metadata": {
            "needs_background": "light"
          }
        }
      ]
    },
    {
      "cell_type": "markdown",
      "metadata": {
        "colab_type": "text",
        "id": "kKkD5M6eoSiN"
      },
      "source": [
        "## 2.6 Generate music using the RNN model\n",
        "\n",
        "Now, we can use our trained RNN model to generate some music! When generating music, we'll have to feed the model some sort of seed to get it started (because it can't predict anything without something to start with!).\n",
        "\n",
        "Once we have a generated seed, we can then iteratively predict each successive character (remember, we are using the ABC representation for our music) using our trained RNN. More specifically, recall that our RNN outputs a `softmax` over possible successive characters. For inference, we iteratively sample from these distributions, and then use our samples to encode a generated song in the ABC format.\n",
        "\n",
        "Then, all we have to do is write it to a file and listen!"
      ]
    },
    {
      "cell_type": "markdown",
      "metadata": {
        "colab_type": "text",
        "id": "JIPcXllKjkdr"
      },
      "source": [
        "### Restore the latest checkpoint\n",
        "\n",
        "To keep this inference step simple, we will use a batch size of 1. Because of how the RNN state is passed from timestep to timestep, the model will only be able to accept a fixed batch size once it is built. \n",
        "\n",
        "To run the model with a different `batch_size`, we'll need to rebuild the model and restore the weights from the latest checkpoint, i.e., the weights after the last checkpoint during training:"
      ]
    },
    {
      "cell_type": "code",
      "metadata": {
        "colab_type": "code",
        "id": "LycQ-ot_jjyu",
        "colab": {},
        "tags": []
      },
      "source": [
        "'''TODO: Rebuild the model using a batch_size=1'''\n",
        "model = build_model(vocab_size, embedding_dim, rnn_units, batch_size=1)\n",
        "\n",
        "# Restore the model weights for the last checkpoint after training\n",
        "model.load_weights(tf.train.latest_checkpoint(checkpoint_dir))\n",
        "model.build(tf.TensorShape([1, None]))\n",
        "\n",
        "model.summary()"
      ],
      "execution_count": 102,
      "outputs": [
        {
          "output_type": "stream",
          "name": "stdout",
          "text": "Model: \"sequential_7\"\n_________________________________________________________________\nLayer (type)                 Output Shape              Param #   \n=================================================================\nembedding_8 (Embedding)      (1, None, 256)            21248     \n_________________________________________________________________\nlstm_9 (LSTM)                (1, None, 1024)           5246976   \n_________________________________________________________________\ndense_8 (Dense)              (1, None, 83)             85075     \n=================================================================\nTotal params: 5,353,299\nTrainable params: 5,353,299\nNon-trainable params: 0\n_________________________________________________________________\n"
        }
      ]
    },
    {
      "cell_type": "markdown",
      "metadata": {
        "id": "I9b4V2C8N62l",
        "colab_type": "text"
      },
      "source": [
        "Notice that we have fed in a fixed `batch_size` of 1 for inference."
      ]
    },
    {
      "cell_type": "markdown",
      "metadata": {
        "colab_type": "text",
        "id": "DjGz1tDkzf-u"
      },
      "source": [
        "### The prediction procedure\n",
        "\n",
        "Now, we're ready to write the code to generate text in the ABC music format:\n",
        "\n",
        "* Initialize a \"seed\" start string and the RNN state, and set the number of characters we want to generate.\n",
        "\n",
        "* Use the start string and the RNN state to obtain the probability distribution over the next predicted character.\n",
        "\n",
        "* Sample from multinomial distribution to calculate the index of the predicted character. This predicted character is then used as the next input to the model.\n",
        "\n",
        "* At each time step, the updated RNN state is fed back into the model, so that it now has more context in making the next prediction. After predicting the next character, the updated RNN states are again fed back into the model, which is how it learns sequence dependencies in the data, as it gets more information from the previous predictions.\n",
        "\n",
        "![LSTM inference](https://raw.githubusercontent.com/aamini/introtodeeplearning/2019/lab1/img/lstm_inference.png)\n",
        "\n",
        "Complete and experiment with this code block (as well as some of the aspects of network definition and training!), and see how the model performs. How do songs generated after training with a small number of epochs compare to those generated after a longer duration of training?"
      ]
    },
    {
      "cell_type": "code",
      "metadata": {
        "colab_type": "code",
        "id": "WvuwZBX5Ogfd",
        "colab": {}
      },
      "source": [
        "### Prediction of a generated song ###\n",
        "\n",
        "def generate_text(model, start_string, generation_length=1000):\n",
        "  # Evaluation step (generating ABC text using the learned RNN model)\n",
        "\n",
        "  '''TODO: convert the start string to numbers (vectorize)'''\n",
        "  input_eval = vectorize_string(start_string)\n",
        "  input_eval = tf.expand_dims(input_eval, 0)\n",
        "\n",
        "  # Empty string to store our results\n",
        "  text_generated = []\n",
        "\n",
        "  # Here batch size == 1\n",
        "  model.reset_states()\n",
        "  tqdm._instances.clear()\n",
        "\n",
        "  for i in tqdm(range(generation_length)):\n",
        "      '''TODO: evaluate the inputs and generate the next character predictions'''\n",
        "      predictions = model(input_eval)\n",
        "      \n",
        "      # Remove the batch dimension\n",
        "      predictions = tf.squeeze(predictions, 0)\n",
        "      \n",
        "      '''TODO: use a multinomial distribution to sample'''\n",
        "      predicted_id = tf.random.categorical(predictions, num_samples=1)[-1,0].numpy()\n",
        "      \n",
        "      # Pass the prediction along with the previous hidden state\n",
        "      #   as the next inputs to the model\n",
        "      input_eval = tf.expand_dims([predicted_id], 0)\n",
        "      \n",
        "      '''TODO: add the predicted character to the generated text!'''\n",
        "      # Hint: consider what format the prediction is in vs. the output\n",
        "      text_generated.append(idx2char[predicted_id])\n",
        "    \n",
        "  return (start_string + ''.join(text_generated))"
      ],
      "execution_count": 103,
      "outputs": []
    },
    {
      "cell_type": "code",
      "metadata": {
        "colab_type": "code",
        "id": "ktovv0RFhrkn",
        "colab": {},
        "tags": []
      },
      "source": [
        "'''TODO: Use the model and the function defined above to generate ABC format text of length 1000!\n",
        "    As you may notice, ABC files start with \"X\" - this may be a good start string.'''\n",
        "generated_text = generate_text(model, start_string=\"X\", generation_length=1000) # TODO\n",
        "# generated_text = generate_text('''TODO''', start_string=\"X\", generation_length=1000)"
      ],
      "execution_count": 104,
      "outputs": [
        {
          "output_type": "stream",
          "name": "stderr",
          "text": "100%|██████████| 1000/1000 [00:13<00:00, 74.94it/s]\n"
        }
      ]
    },
    {
      "cell_type": "markdown",
      "metadata": {
        "colab_type": "text",
        "id": "AM2Uma_-yVIq"
      },
      "source": [
        "### Play back the generated music!\n",
        "\n",
        "We can now call a function to convert the ABC format text to an audio file, and then play that back to check out our generated music! Try training longer if the resulting song is not long enough, or re-generating the song!"
      ]
    },
    {
      "cell_type": "code",
      "execution_count": 115,
      "metadata": {},
      "outputs": [
        {
          "output_type": "execute_result",
          "data": {
            "text/plain": "'X:164\\nT:Reangyballouse\\nZ: id:dc-jig-5\\nM:6/8\\nL:1/8\\nK:G Major\\nB3A BAGF|EDCE D3G|ADEG ABdg|eaa2 egge|d2fd gdBG|]!\\nBdd^c d=cAe|dgg2 agfe|cdeg dg|]!\\n\\nX:320\\nT:Tipe on the Refell\\nZ: id:dc-jig-160\\nM:6/8\\nL:1/8\\nK:D Darsey\\nZ: id:dc-jig-45\\nM:6/8\\nL:1/8\\nK:A Dorian\\nF|D2FA DAFA|BEG2 AGFG|A2BG AGED|E2AB AFEG|B3G E2de|!\\nfded cAGA|Bcde fdec|dBAG FDD2:|!\\n\\nX:178\\nT:Duklh the Breen\\'s\\nZ: id:dc-reel-186\\nM:C\\nL:1/8\\nK:G Major\\nAG|FDFD ADFA|GABc d2:|!\\nfd|efgd edfd|egfa gedB|c2ec gcea|gedc AGBG|CE2E E2|]!\\n\"\\nCE|DFFA dAFA|AGFD G2|]!\\n\\nX:306\\nT:Trip to Liledefd|efg agb|ag/e/|fa fa|!\\nfa gf|ef ge|dB AB/A/|BE B>c|!\\nd/e/ fe/f/ c/|d/c/d AG|FA de/f/|ge dB|!\\nAd de/f/|gf ed|e3 ed|ea de|fd dF/D/F/ FD|!\\na3/8\\nK:A Dorian\\nc2d2 ecBA|A2E2 defg|aged cAA2|]!\\n\\nX:271\\nT:Kit: edes of Munsith\\nZ: id:dc-hornpipe-11\\nM:C|\\nL:1/8\\nK:A Dorian\\nA|EAG FGA AFG|B2G FED|!\\nEFA AFA|BAF GEE|FAA def|g3 dBc|BABc d3e|Adde fdcA|!\\nddef gage|ffe fBc|dfe fed|efe dfe|!\\ncee ege|dBA AFA|BEE A2:|!\\n\\nX:5\\nT:Callavoue\\nZ: id:dc-miscellaneous-7\\nM:C|\\nL:1/8\\nK:D Dorian\\nB|cBcA GcA'"
          },
          "metadata": {},
          "execution_count": 115
        }
      ],
      "source": [
        "generated_text"
      ]
    },
    {
      "cell_type": "code",
      "execution_count": 107,
      "metadata": {},
      "outputs": [
        {
          "output_type": "execute_result",
          "data": {
            "text/plain": "['X:320\\nT:Tipe on the Refell\\nZ: id:dc-jig-160\\nM:6/8\\nL:1/8\\nK:D Darsey\\nZ: id:dc-jig-45\\nM:6/8\\nL:1/8\\nK:A Dorian\\nF|D2FA DAFA|BEG2 AGFG|A2BG AGED|E2AB AFEG|B3G E2de|!\\nfded cAGA|Bcde fdec|dBAG FDD2:|!',\n 'X:178\\nT:Duklh the Breen\\'s\\nZ: id:dc-reel-186\\nM:C\\nL:1/8\\nK:G Major\\nAG|FDFD ADFA|GABc d2:|!\\nfd|efgd edfd|egfa gedB|c2ec gcea|gedc AGBG|CE2E E2|]!\\n\"\\nCE|DFFA dAFA|AGFD G2|]!',\n 'X:306\\nT:Trip to Liledefd|efg agb|ag/e/|fa fa|!\\nfa gf|ef ge|dB AB/A/|BE B>c|!\\nd/e/ fe/f/ c/|d/c/d AG|FA de/f/|ge dB|!\\nAd de/f/|gf ed|e3 ed|ea de|fd dF/D/F/ FD|!\\na3/8\\nK:A Dorian\\nc2d2 ecBA|A2E2 defg|aged cAA2|]!',\n 'X:271\\nT:Kit: edes of Munsith\\nZ: id:dc-hornpipe-11\\nM:C|\\nL:1/8\\nK:A Dorian\\nA|EAG FGA AFG|B2G FED|!\\nEFA AFA|BAF GEE|FAA def|g3 dBc|BABc d3e|Adde fdcA|!\\nddef gage|ffe fBc|dfe fed|efe dfe|!\\ncee ege|dBA AFA|BEE A2:|!']"
          },
          "metadata": {},
          "execution_count": 107
        }
      ],
      "source": [
        "generated_songs"
      ]
    },
    {
      "cell_type": "code",
      "metadata": {
        "id": "LrOtG64bfLto",
        "colab_type": "code",
        "colab": {},
        "tags": []
      },
      "source": [
        "### Play back generated songs ###\n",
        "\n",
        "generated_songs = mdl.lab1.extract_song_snippet(generated_text)\n",
        "\n",
        "for i, song in enumerate(generated_songs): \n",
        "  # Synthesize the waveform from a song\n",
        "  waveform = mdl.lab1.play_song(song)\n",
        "\n",
        "  # If its a valid song (correct syntax), lets play it! \n",
        "  if waveform:\n",
        "    print(\"Generated song\", i)\n",
        "    ipythondisplay.display(waveform)"
      ],
      "execution_count": 105,
      "outputs": [
        {
          "output_type": "stream",
          "name": "stdout",
          "text": "Found 4 songs in text\n"
        }
      ]
    },
    {
      "cell_type": "markdown",
      "metadata": {
        "id": "HgVvcrYmSKGG",
        "colab_type": "text"
      },
      "source": [
        "## 2.7 Experiment and **get awarded for the best songs**!!\n",
        "\n",
        "Congrats on making your first sequence model in TensorFlow! It's a pretty big accomplishment, and hopefully you have some sweet tunes to show for it.\n",
        "\n",
        "If you want to go further, try to optimize your model and submit your best song! Tweet us at [@MITDeepLearning](https://twitter.com/MITDeepLearning) or [email us](mailto:introtodeeplearning-staff@mit.edu) a copy of the song (if you don't have Twitter), and we'll give out prizes to our favorites! \n",
        "\n",
        "Consider how you may improve your model and what seems to be most important in terms of performance. Here are some ideas to get you started:\n",
        "\n",
        "*  How does the number of training epochs affect the performance?\n",
        "*  What if you alter or augment the dataset? \n",
        "*  Does the choice of start string significantly affect the result? \n",
        "\n",
        "Have fun and happy listening!\n",
        "\n",
        "\n",
        "![Let's Dance!](http://33.media.tumblr.com/3d223954ad0a77f4e98a7b87136aa395/tumblr_nlct5lFVbF1qhu7oio1_500.gif)\n",
        "\n",
        "\n"
      ]
    },
    {
      "cell_type": "code",
      "execution_count": null,
      "metadata": {
        "colab": {},
        "colab_type": "code",
        "id": "jX9zPJkAPI11"
      },
      "outputs": [],
      "source": [
        "# Example submission by a previous 6.S191 student (credit: Christian Adib) \n",
        "\n",
        "%%html\n",
        "<blockquote class=\"twitter-tweet\"><a href=\"https://twitter.com/AdibChristian/status/1090030964770783238?ref_src=twsrc%5Etfw\">January 28, 2019</a></blockquote> \n",
        "<script async src=\"https://platform.twitter.com/widgets.js\" charset=\"utf-8\"></script>"
      ]
    },
    {
      "cell_type": "code",
      "metadata": {
        "id": "zFdnDAcV_Ml1",
        "colab_type": "code",
        "colab": {}
      },
      "source": [
        ""
      ],
      "execution_count": 0,
      "outputs": []
    }
  ]
}