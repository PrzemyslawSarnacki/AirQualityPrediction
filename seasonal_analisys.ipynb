{
 "cells": [
  {
   "cell_type": "markdown",
   "metadata": {},
   "source": [
    "<a href=\"https://colab.research.google.com/github/PrzemyslawSarnacki/AirQualityPrediction/blob/master/seasonal_analisys.ipynb\" target=\"_parent\">\r\n",
    "  <img src=\"https://colab.research.google.com/assets/colab-badge.svg\" alt=\"Open In Colab\"/>\r\n",
    "</a> "
   ]
  },
  {
   "cell_type": "markdown",
   "metadata": {},
   "source": [
    "## Wstępna obróbka i Analiza danych"
   ]
  },
  {
   "cell_type": "code",
   "execution_count": 11,
   "metadata": {
    "tags": []
   },
   "outputs": [],
   "source": [
    "import pandas as pd\r\n",
    "import seaborn as sns\r\n",
    "import matplotlib as mpl\r\n",
    "import matplotlib.pyplot as plt\r\n",
    "import warnings\r\n",
    "import numpy as np\r\n",
    "import unicodedata\r\n",
    "from io import BytesIO\r\n",
    "import pickle\r\n",
    "import requests\r\n",
    "\r\n",
    "\r\n",
    "warnings.simplefilter('ignore')\r\n",
    "\r\n",
    "%matplotlib inline\r\n",
    "\r\n",
    "# Set major seaborn asthetics\r\n",
    "sns.set(\"notebook\", style='ticks', font_scale=1.0)\r\n",
    "\r\n",
    "# Increase the quality of inline plots\r\n",
    "mpl.rcParams['figure.dpi']= 500\r\n",
    "\r\n",
    "\r\n",
    "def strip_accents(text):\r\n",
    "    return ''.join(c for c in unicodedata.normalize('NFKD', text.lower().replace(\"ł\",\"l\")) if unicodedata.category(c) != 'Mn')\r\n",
    "\r\n",
    "CITIES = [\"Warszawa\", \"Kraków\", \"Poznań\", \"Katowice\", \"Białystok\"]\r\n",
    "COORDINATES = {\r\n",
    "    \"warszawa\": {\r\n",
    "        \"latitude\": 52.2297,\r\n",
    "        \"longitude\": 21.0122\r\n",
    "    },\r\n",
    "    \"krakow\": {\r\n",
    "        \"latitude\": 50.0647,\r\n",
    "        \"longitude\": 19.9450\r\n",
    "    },\r\n",
    "    \"poznan\": {\r\n",
    "        \"latitude\": 52.4064,\r\n",
    "        \"longitude\": 16.9252\r\n",
    "    },\r\n",
    "    \"katowice\": {\r\n",
    "        \"latitude\": 50.2649,\r\n",
    "        \"longitude\": 19.0238\r\n",
    "    },\r\n",
    "    \"bialystok\": {\r\n",
    "        \"latitude\": 53.1325,\r\n",
    "        \"longitude\": 23.1688\r\n",
    "    },\r\n",
    "}\r\n",
    "PARAMETERS = ['pm25', 'pm10', 'no2', 'so2', 'o3', 'co']\r\n",
    "\r\n",
    "indices = [\"\"] + [f\".{i}\" for i in range(1, 6)]\r\n",
    "data = {}\r\n",
    "\r\n",
    "df = pd.read_csv(\"https://raw.githubusercontent.com/PrzemyslawSarnacki/AirQualityPrediction/master/data/airq_data_1.csv\", index_col=0, parse_dates=True)\r\n",
    "\r\n",
    "m_link = 'https://github.com/PrzemyslawSarnacki/AirQualityPrediction/blob/master/data/aqi.joblib?raw=true'\r\n",
    "m_file = BytesIO(requests.get(m_link).content)\r\n",
    "aqi_model = joblib.load(m_file)\r\n",
    "\r\n",
    "for city in CITIES:\r\n",
    "    data[strip_accents(city)] = pd.DataFrame(df, columns=[f\"{strip_accents(city)}{item}\" for item in indices])\r\n",
    "    data[strip_accents(city)] = data[strip_accents(city)].rename(columns=data[strip_accents(city)].iloc[0]).drop(data[strip_accents(city)].index[0])\r\n",
    "    data[strip_accents(city)] = data[strip_accents(city)].drop(index=\"date.local\").astype(float).interpolate(method=\"linear\")\r\n",
    "    data[strip_accents(city)].index = pd.to_datetime(data[strip_accents(city)].index)\r\n",
    "    data[strip_accents(city)][\"aqi\"] = aqi_model.predict(data[strip_accents(city)].fillna(0))\r\n"
   ]
  }
 ],
 "metadata": {
  "kernelspec": {
   "display_name": "Python 3.8.2 64-bit ('.venv')",
   "metadata": {
    "interpreter": {
     "hash": "c72aa234833b301e2f3682b00c720ead16def47389b468b3b25c2ea5dfc1217d"
    }
   },
   "name": "python3"
  },
  "language_info": {
   "codemirror_mode": {
    "name": "ipython",
    "version": 3
   },
   "file_extension": ".py",
   "mimetype": "text/x-python",
   "name": "python",
   "nbconvert_exporter": "python",
   "pygments_lexer": "ipython3",
   "version": "3.8.2"
  },
  "orig_nbformat": 2
 },
 "nbformat": 4,
 "nbformat_minor": 2
}