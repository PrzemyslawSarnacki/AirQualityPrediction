{
 "cells": [
  {
   "cell_type": "markdown",
   "metadata": {},
   "source": [
    "In this exercise, you'll apply what you learned in the **Inconsistent data entry** tutorial.\n",
    "\n",
    "# Setup\n",
    "\n",
    "The questions below will give you feedback on your work. Run the following cell to set up the feedback system."
   ]
  },
  {
   "cell_type": "code",
   "execution_count": 1,
   "metadata": {},
   "outputs": [
    {
     "name": "stdout",
     "output_type": "stream",
     "text": [
      "Setup Complete\n"
     ]
    }
   ],
   "source": [
    "from learntools.core import binder\n",
    "binder.bind(globals())\n",
    "from learntools.data_cleaning.ex5 import *\n",
    "print(\"Setup Complete\")"
   ]
  },
  {
   "cell_type": "markdown",
   "metadata": {},
   "source": [
    "# Get our environment set up\n",
    "\n",
    "The first thing we'll need to do is load in the libraries and dataset we'll be using.  We use the same dataset from the tutorial."
   ]
  },
  {
   "cell_type": "code",
   "execution_count": 2,
   "metadata": {},
   "outputs": [],
   "source": [
    "# modules we'll use\n",
    "import pandas as pd\n",
    "import numpy as np\n",
    "\n",
    "# helpful modules\n",
    "import fuzzywuzzy\n",
    "from fuzzywuzzy import process\n",
    "import chardet\n",
    "\n",
    "# read in all our data\n",
    "professors = pd.read_csv(\"../input/pakistan-intellectual-capital/pakistan_intellectual_capital.csv\")\n",
    "\n",
    "# set seed for reproducibility\n",
    "np.random.seed(0)"
   ]
  },
  {
   "cell_type": "markdown",
   "metadata": {},
   "source": [
    "Next, we'll redo all of the work that we did in the tutorial."
   ]
  },
  {
   "cell_type": "code",
   "execution_count": 3,
   "metadata": {},
   "outputs": [
    {
     "name": "stdout",
     "output_type": "stream",
     "text": [
      "All done!\n"
     ]
    }
   ],
   "source": [
    "# convert to lower case\n",
    "professors['Country'] = professors['Country'].str.lower()\n",
    "# remove trailing white spaces\n",
    "professors['Country'] = professors['Country'].str.strip()\n",
    "\n",
    "# get the top 10 closest matches to \"south korea\"\n",
    "countries = professors['Country'].unique()\n",
    "matches = fuzzywuzzy.process.extract(\"south korea\", countries, limit=10, scorer=fuzzywuzzy.fuzz.token_sort_ratio)\n",
    "\n",
    "def replace_matches_in_column(df, column, string_to_match, min_ratio = 47):\n",
    "    # get a list of unique strings\n",
    "    strings = df[column].unique()\n",
    "    \n",
    "    # get the top 10 closest matches to our input string\n",
    "    matches = fuzzywuzzy.process.extract(string_to_match, strings, \n",
    "                                         limit=10, scorer=fuzzywuzzy.fuzz.token_sort_ratio)\n",
    "\n",
    "    # only get matches with a ratio > 90\n",
    "    close_matches = [matches[0] for matches in matches if matches[1] >= min_ratio]\n",
    "\n",
    "    # get the rows of all the close matches in our dataframe\n",
    "    rows_with_matches = df[column].isin(close_matches)\n",
    "\n",
    "    # replace all rows with close matches with the input matches \n",
    "    df.loc[rows_with_matches, column] = string_to_match\n",
    "    \n",
    "    # let us know the function's done\n",
    "    print(\"All done!\")\n",
    "    \n",
    "replace_matches_in_column(df=professors, column='Country', string_to_match=\"south korea\")\n",
    "countries = professors['Country'].unique()"
   ]
  },
  {
   "cell_type": "markdown",
   "metadata": {},
   "source": [
    "# 1) Examine another column\n",
    "\n",
    "Write code below to take a look at all the unique values in the \"Graduated from\" column."
   ]
  },
  {
   "cell_type": "code",
   "execution_count": 17,
   "metadata": {},
   "outputs": [
    {
     "data": {
      "text/plain": "array([&#39;Asian Institute of Technology&#39;,\n       &#39;Balochistan University of Information Technology, Engineering and Management Sciences&#39;,\n       &#39;University of Balochistan&#39;,\n       &quot;Sardar Bahadur Khan Women&#39;s University&quot;,\n       &#39;SRH Hochschule Heidelberg&#39;,\n       &#39;Institute of Business Administration,Karachi&#39;, &#39;DUET,Karachi&#39;,\n       &#39;University of Turbat&#39;, &#39;University of Vienna&#39;,\n       &#39;Monash University&#39;, &#39;University of Stirling&#39;,\n       &#39;Chinese Academy of Sciences&#39;, &#39;University of Innsbruck&#39;,\n       &#39;Vienna University of Technology&#39;, &#39;University of Paris-Est&#39;,\n       &#39;The University of Cambridge&#39;, &#39;Harbin Institute of Technology&#39;,\n       &#39;University of Nice, Sophia Antipolis&#39;, &#39;The University of York&#39;,\n       &#39;Galilée - Université Paris 13&#39;, &#39;University of Bedfordshire&#39;,\n       &#39;North Dakota State University&#39;, &#39;Kyungpook National University&#39;,\n       &#39;The University of Manchester&#39;,\n       &#39;National University of Sciences and Technology&#39;,\n       &#39;FAST– National University of Computer and Emerging Sciences&#39;,\n       &#39;Capital University of Science &amp; Technology&#39;, &#39;Gomal University&#39;,\n       &#39;University of Malaya&#39;, &#39;KTH Royal Institute of Technology&#39;,\n       &#39;University of Technology&#39;,\n       &#39;COMSATS Institute of Information Technology&#39;,\n       &#39;Government College University&#39;, &#39;Mohammad Ali Jinnah University&#39;,\n       &#39;Shaheed Zulfikar Ali Bhutto Institute of Science and Technology&#39;,\n       &#39;Blekinge Institute of Technology&#39;, &#39;University of Grenoble&#39;,\n       &#39;Politecnico di Torino&#39;, &#39;\\xa0University of Missouri, KC&#39;,\n       &#39;University of Bonn&#39;, &#39;University of Paris&#39;,\n       &#39;The University of Leeds&#39;, &#39;\\xa0University of Windsor&#39;,\n       &#39;\\xa0National University of Sciences and Technology-NIIT&#39;,\n       &#39;University of Trento&#39;, &#39;Stockholm University&#39;,\n       &#39;University of New South Wales, Sydney&#39;,\n       &#39;Kingston University London&#39;, &#39;Griffith University&#39;,\n       &#39;University of Salford&#39;, &#39;Loughborough University&#39;,\n       &#39;International Islamic University,Islamabad&#39;,\n       &#39;University of Central Missouri&#39;,\n       &#39;Riphah International University&#39;, &#39;University of BedfordShire&#39;,\n       &#39;University of Illinois&#39;, &#39;University Of Oslo&#39;,\n       &#39;Nancy 2 University&#39;, &#39;University of Limerick&#39;,\n       &#39;Ghulam Ishaq Khan Institute of Science and Technology&#39;,\n       &#39;University Of Waterloo&#39;, &#39;University of Stuttgart&#39;,\n       &#39;Liverpool John Moores University&#39;, &#39;University Of Caen&#39;,\n       &#39;Paris Tech University of Eurecom&#39;, &#39;University Of Salford&#39;,\n       &#39;Lahore University of Management Sciences&#39;,\n       &#39;Dresden University Of Technology, Dresden\\xa0&#39;,\n       &#39;COMSATS Institute of Information Technology,Vehari&#39;,\n       &#39;COMSATS Institute of Information Technology,Wah Cantt&#39;,\n       &#39;TU Berlin&#39;,\n       &#39;FAST– National University of Computer and Emerging Sciences,Islamabad&#39;,\n       &#39;Tsinghua University&#39;, &#39;The University of Auckland&#39;,\n       &#39;IQRA University&#39;, &#39;Universiti Teknologi PETRONAS&#39;,\n       &#39;COMSATS Institute of Information Technology,Islamabad&#39;,\n       &#39;Razak School of Engineering and Advanced Technology, Universiti Teknologi Malaysia (UTM)&#39;,\n       &#39;National University of Modern Languages&#39;,\n       &#39;University of Engineering and Technology&#39;,\n       &#39;University Institute of Information Technology&#39;,\n       &#39;University of Arid Agriculture&#39;, &#39;Quaid-i-Azam University&#39;,\n       &#39;Queen Mary University of London&#39;,\n       &#39;Pakistan Institute of Engineering and Applied Sciences&#39;,\n       &#39;Pohang University of Science and Technology&#39;,\n       &#39;Uppsala University&#39;, &#39;Kyung Hee University&#39;,\n       &#39;University of Liverpool&#39;, &#39;University of Sunderland&#39;,\n       &#39;Mid Sweden University&#39;, &#39;Bahria University,Islamabad&#39;,\n       &#39;Chosun University&#39;, &#39;University of Sussex&#39;,\n       &#39;Paris Descartes University&#39;, &#39;University of Leicester&#39;,\n       &#39;University of Porto&#39;, &#39;University of Manchester&#39;,\n       &#39;Université Henri Poincaré, Nancy 1,&#39;, &#39;Bahria University&#39;,\n       &#39;Centre for Advanced Studies in Engineering&#39;,\n       &#39;Norwegian University of Science and Technology (NTNU),&#39;,\n       &#39;The Islamia University of Bahawalpur &#39;, &#39;Universiti Technologi&#39;,\n       &#39;California State University&#39;, &#39;University of Genova&#39;,\n       &#39;University of Engineering and Technology,Taxila&#39;,\n       &#39;University of\\xa0Liverpool John Moores University&#39;, &#39;Guildford&#39;,\n       &#39;University of Bradford&#39;, &#39;Graz University of Technology&#39;,\n       &#39;Huazhong University of Science and Technology (HUST), Wuhan&#39;,\n       &#39;University of Konstanz&#39;,\n       &#39;National University of Modern Languages,Islamabad&#39;,\n       &#39;FAST– National University of Computer and Emerging Sciences,Lahore&#39;,\n       &#39;Gwangju Institute of Science and Technology&#39;,\n       &#39;University of Birmingham&#39;, &#39;Manchester University&#39;,\n       &#39;Beijing Institute of Technology&#39;, &#39;University of Paisley&#39;,\n       &#39;Univ of Porto/Univ of Aveiro Portugal/Uni of Minho&#39;,\n       &#39;University of Peshawar&#39;, &#39;Universität Salzburg&#39;,\n       &#39;Colorado State University&#39;, &#39;University of Virginia&#39;,\n       &#39;University of Orleans&#39;, &#39;Zhejiang University&#39;,\n       &#39;University of Leeds&#39;, &#39;Foundation University&#39;,\n       &#39;Barani Institute of Information Technology&#39;, &#39;Abasyn University&#39;,\n       &#39;Pir Mehr Ali Shah Arid Agriculture University&#39;, &#39;Preston&#39;,\n       &#39;University of Bergen&#39;, &#39;Universtiy of Lahore&#39;,\n       &#39;HITEC University,Taxila&#39;, &#39;Allama Iqbal Open University&#39;,\n       &#39;University of Wales,Aberystwyth&#39;, &#39;\\xa0University of Bonn&#39;,\n       &#39;\\xa0Hongik University&#39;,\n       &#39;Skolkovo Institute of Science and Technology,\\xa0&#39;,\n       &#39;Agricultural University Peshawar&#39;, &#39;National Textile University&#39;,\n       &#39;FAST– National University of Computer and Emerging Sciences,Chiniot-Faisalabad&#39;,\n       &#39;FAST– National University of Computer and Emerging Sciences,Peshawar&#39;,\n       &#39;\\xa0Boston University&#39;, &#39;Brunel University&#39;,\n       &#39;George Washington University&#39;, &#39;University of the Punjab&#39;,\n       &#39;\\xa0University of Bedfordshire&#39;,\n       &#39;University Of Southern California&#39;, &#39;Beihang University&#39;,\n       &#39;Institute of Business Administration&#39;,\n       &#39;Abdus Salam School of Mathematical Sciences,GC University&#39;,\n       &#39;Linköping University&#39;,\n       &#39;National College of Business Administration and Economics&#39;,\n       &#39;Åbo Akademi University,&#39;, &#39;University of Central Punjab&#39;,\n       &#39;University of Ulm&#39;, &#39;University of Agriculture&#39;,\n       &#39;University of Notre Dame Indiana\\xa0&#39;,\n       &#39;Punjab University College of Information Technology&#39;,\n       &#39;Ilmenau University of Technology&#39;, &#39; Iowa State University&#39;,\n       &#39; University of Innsbruck&#39;, &#39;Vrije University, Amsterdam&#39;,\n       &#39; Columbia University&#39;, &#39;University of Freiburg&#39;,\n       &#39; Delft University of Technology&#39;,\n       &#39; University of Texas at Arlington (UTA)&#39;, &#39; University of Turin&#39;,\n       &#39; University of Central Florida&#39;, &#39;Saarland University&#39;,\n       &#39;University of Central Florida&#39;, &#39;Oxford Brookes University&#39;,\n       &#39;Information Technology University (ITU)&#39;,\n       &#39;University of Canterbury&#39;, &#39;University of Patras&#39;,\n       &#39;Middle East Technical University&#39;, &#39;University of Bristol&#39;,\n       &#39;University of Southern California&#39;,\n       &#39;Northeastern University,Boston&#39;, &#39;Purdue University&#39;,\n       &#39;University of Plymouth&#39;, &#39;University of South Australia&#39;,\n       &#39;Stanford University&#39;, &#39;Chalmers University of Technology&#39;,\n       &#39;Massachusetts Institute of Technology&#39;,\n       &#39;Sapienza University of Rome&#39;,\n       &#39;Eindhoven University of Technology (TU/e)&#39;,\n       &#39;United Nations University International Institute for Software Technology (UNU-IIST)&#39;,\n       &#39;Georgetown University,DC&#39;, &#39;RWTH Aachen University&#39;,\n       &#39;Columbia University&#39;,\n       &#39;Rutgers State University of New Jersey, NJ&#39;,\n       &#39;University of Florida&#39;, &#39;Technical University of Braunschweig&#39;,\n       &#39;Carnegie Mellon University, Pittsburgh&#39;,\n       &#39;The Ohio State University&#39;, &#39;National University of Singapore&#39;,\n       &#39;University of British Columbia&#39;, &#39;University of Pittsburgh&#39;,\n       &#39;The State University of New Jersey&#39;,\n       &#39;The University of Texas at Austin&#39;,\n       &#39;Imperial College, University of London&#39;,\n       &#39;University of Colorado\\xa0&#39;, &#39;University of Bath&#39;,\n       &#39;Tilburg University&#39;, &#39;Pompeu Fabra University Barcelona&#39;,\n       &#39;University of Management and Technology&#39;,\n       &#39;COMSATS Institute of Information Technology,Lahore&#39;,\n       &#39;University of Agriculture, Faisalabad\\xa0&#39;,\n       &#39;University of Engineering &amp; Technology&#39;,\n       &#39;University of Agriculture, Faisalabad&#39;,\n       &#39;Fatima Jinnah Women University, Rawalpindi&#39;,\n       &#39;Kohat University of Science &amp; Technology, Kohat&#39;,\n       &#39;Virtual University of Pakistan&#39;, &#39;Bahauddin Zakariya University&#39;,\n       &#39;University of the Punjab,Gujranwala&#39;,\n       &#39;Lahore College for Women University&#39;,\n       &#39;Superior University, Lahore&#39;,\n       &#39;Shaheed Zulfikar Ali Bhutto Institute of Science and Technology,Islamabad&#39;,\n       &#39;University of South Florida&#39;, &#39;Politecnico di Milano&#39;,\n       &#39;Abdul Wali Khan University, Mardan&#39;, &#39;University of Lahore&#39;,\n       &#39;Minhaj University Lahore&#39;, &#39;Lahore Leads University&#39;,\n       &#39;Middlesex University&#39;, &#39;Beijing Institute of Technology Beijing&#39;,\n       &#39;Beaconhouse National University&#39;, &#39;Hamdard University&#39;,\n       &#39;University Paris&#39;, &#39;Sindh University&#39;,\n       &#39;NED University of Engineering And Technology&#39;,\n       &#39;Staffordshire University&#39;, &#39;DePaul University, Chicago&#39;,\n       &#39;University of Kent&#39;,\n       &#39;Mehran University of Engineering &amp; Technology&#39;,\n       &#39;Quaid-e-Awam University of Engineering, Science &amp; Technology&#39;,\n       &#39;Shah Abdul Latif University, Khairpur&#39;,\n       &#39;Sindh Agriculture University&#39;, &#39;Swansea&#39;,\n       &#39;University of Shanghai for Science and Technology&#39;,\n       &#39;Griffith University,Nathan Campus&#39;, &#39;University of Essex&#39;,\n       &#39;Xiamen university&#39;, &#39;Wayne State University&#39;,\n       &#39;The Queens University of Belfast&#39;, &#39;Sungkyunkwan University&#39;,\n       &#39;Nanyang Tech University&#39;, &quot;Universite d&#39;Evry Val d&#39;Essonne&quot;,\n       &#39;Sir Syed University of Engineering and Technology&#39;,\n       &#39;New York Institute of Technology&#39;, &#39;Fedral Urdu University&#39;,\n       &#39;ISRA University&#39;, &#39;University of Karachi&#39;,\n       &#39;South Asian University&#39;,\n       &#39;Capital University of Science and Technology&#39;,\n       &#39;University of Manchester Institute of Science and Technology&#39;,\n       &#39;The University of Birmingham&#39;,\n       &#39;Max Planck Institute for Computer Science&#39;,\n       &#39;George Mason University&#39;, &#39;University of Southampton&#39;,\n       &#39;Temple University&#39;, &#39;University of Bayreuth&#39;,\n       &#39;Muroran Institute of Technology,Hokkaido&#39;,\n       &#39;University of Bologna&#39;, &#39;International Islamic University&#39;,\n       &#39;PAF-Karachi Institute of Economics and Technology&#39;,\n       &#39;Institute of Business Administration,Sukkur&#39;,\n       &#39;Myongji University&#39;, &#39;State University of New York System&#39;,\n       &#39;SSindh Agriculture University&#39;, &#39;London University&#39;,\n       &#39;Universiti Putra Malaysia Putra&#39;,\n       &#39;University of Rome Tor Vergata&#39;, &#39;University of Mississippi\\xa0&#39;,\n       &#39;University of Wales&#39;, &#39;University of Northampton&#39;,\n       &#39;University of Abertay Dundee&#39;,\n       &#39;Biztek Institute Of Business &amp; Technology,Karachi&#39;,\n       &#39;University of Surrey&#39;, &#39;Jinnah University for Women&#39;,\n       &#39;\\xa0Nanyang Technological University&#39;,\n       &#39;Tokyo Institute of Technology&#39;, &#39;NCSU&#39;,\n       &#39;Usman Institute of Technology&#39;, &#39;Hanyang University, Ansan&#39;,\n       &#39;BUKC&#39;, &#39;Universtiy of Karachi&#39;, &#39;Pace University, New York&#39;,\n       &#39;INSA de Lyon, Rhone&#39;, &#39;University of Dundee&#39;,\n       &#39;Illinois Institute of Technology&#39;,\n       &#39;City University of Science and Technology&#39;,\n       &#39;Usman Institute of Technology (Hamdard University)&#39;,\n       &#39;University of Malaga&#39;, &#39;Manchester Metropolitan University&#39;,\n       &#39;Kyushu University,Fukuoka&#39;,\n       &#39;King Abdullah University of Science and Technology&#39;,\n       &#39;INRIA Saclay Ile-de-France&#39;, &#39;Université de la Rochelle&#39;,\n       &#39;University of South Brittany&#39;, &#39;Aston University, Birmingham&#39;,\n       &#39;University of Agriculture Faisalabad&#39;,\n       &#39;Hamburg University of Technology&#39;,\n       &#39;Government College University, Faisalabad&#39;, &#39;JKU&#39;,\n       &#39;University of Oviedo&#39;,\n       &#39;Beijing University of Posts &amp; Telecommunications&#39;,\n       &#39;Government College University,Faisalabad&#39;,\n       &#39;Nottingham Trent University&#39;, &#39;University of Glasgow&#39;,\n       &#39;Coventry University&#39;,\n       &#39;Riphah International University,Faisalabad&#39;,\n       &#39;Australian National University, Caneberra&#39;,\n       &#39;Swedish University of Agricultural Sciences, Uppsala&#39;,\n       &#39;University of Gujrat&#39;, &#39;IQRA University,Islamabad&#39;,\n       &#39;Jonkoping University&#39;, &#39;Colorado Technical University&#39;,\n       &#39;Cranfield University&#39;, &#39;Technical University of Graz&#39;,\n       &#39;University of York&#39;, &#39;Brock University Canada&#39;,\n       &#39;University of Westminster&#39;, &#39;University of Saarland&#39;,\n       &#39;The University of Queensland&#39;, &#39;University of Rochester&#39;,\n       &#39;Islamia College University &#39;,\n       &#39;IBMS KP Agricultural University Peshawar&#39;,\n       &#39;University of Kuala Lumpur&#39;, &#39;University of Regina&#39;, &#39;TU Wien&#39;,\n       &#39;Swinburne University Of Technology&#39;,\n       &#39;Institute Of Managment Sciences, Peshawar&#39;,\n       &#39;Universiti Tun Hussein Onn Malaysia&#39;,\n       &#39;Institute of Management Sciences, Peshawar&#39;,\n       &#39;University of Huddersfield&#39;,\n       &#39;University of Engineering and Technology,Peshawar&#39;,\n       &#39;IQRA University,Karachi&#39;, &#39;John Moorse University, Liverpool&#39;,\n       &#39;CECOS University of Information Technology and Emerging Sciences,Peshawar&#39;,\n       &#39;University of the West Scotland&#39;, &#39;Concordia University,Montreal&#39;,\n       &#39;JNU&#39;, &#39;Grenoble&#39;, &#39;Florida Atlantic University&#39;,\n       &#39;Seoul National University&#39;], dtype=object)"
     },
     "metadata": {},
     "output_type": "execute_result"
    }
   ],
   "source": [
    "unis = professors['Graduated from'].unique()\r\n",
    "unis"
   ]
  },
  {
   "cell_type": "markdown",
   "metadata": {},
   "source": [
    "Do you notice any inconsistencies in the data?  Can any of the inconsistencies in the data be fixed by removing white spaces at the beginning and end of cells?\n",
    "\n",
    "Once you have answered these questions, run the code cell below to get credit for your work."
   ]
  },
  {
   "cell_type": "code",
   "execution_count": 18,
   "metadata": {},
   "outputs": [
    {
     "data": {
      "application/javascript": "parent.postMessage({\"jupyterEvent\": \"custom.exercise_interaction\", \"data\": {\"outcomeType\": 1, \"valueTowardsCompletion\": 0.3333333333333333, \"interactionType\": 1, \"questionType\": 4, \"questionId\": \"1_ExamineProvince\", \"learnToolsVersion\": \"0.3.4\", \"failureMessage\": \"\", \"exceptionClass\": \"\", \"trace\": \"\"}}, \"*\")",
      "text/plain": "&lt;IPython.core.display.Javascript object&gt;"
     },
     "metadata": {
      "transient": {}
     },
     "output_type": "display_data"
    },
    {
     "data": {
      "text/markdown": "<span style=\"color:#33cc33\">Correct:</span> \n\nThere are inconsistencies that can be fixed by removing white spaces at the beginning and end of cells.  For instance, \"University of Central Florida\" and \" University of Central Florida\" both appear in the column.",
      "text/plain": "Correct: \n\nThere are inconsistencies that can be fixed by removing white spaces at the beginning and end of cells.  For instance, &quot;University of Central Florida&quot; and &quot; University of Central Florida&quot; both appear in the column."
     },
     "metadata": {
      "transient": {}
     },
     "output_type": "display_data"
    }
   ],
   "source": [
    "# Check your answer (Run this code cell to receive credit!)\n",
    "q1.check()"
   ]
  },
  {
   "cell_type": "code",
   "execution_count": null,
   "metadata": {},
   "outputs": [],
   "source": [
    "# Line below will give you a hint\n",
    "#_COMMENT_IF(PROD)_\n",
    "q1.hint()"
   ]
  },
  {
   "cell_type": "markdown",
   "metadata": {},
   "source": [
    "# 2) Do some text pre-processing\n",
    "\n",
    "Convert every entry in the \"Graduated from\" column in the `professors` DataFrame to remove white spaces at the beginning and end of cells."
   ]
  },
  {
   "cell_type": "code",
   "execution_count": 20,
   "metadata": {},
   "outputs": [
    {
     "data": {
      "application/javascript": "parent.postMessage({\"jupyterEvent\": \"custom.exercise_interaction\", \"data\": {\"outcomeType\": 1, \"valueTowardsCompletion\": 0.3333333333333333, \"interactionType\": 1, \"questionType\": 1, \"questionId\": \"2_TextProcessing\", \"learnToolsVersion\": \"0.3.4\", \"failureMessage\": \"\", \"exceptionClass\": \"\", \"trace\": \"\"}}, \"*\")",
      "text/plain": "&lt;IPython.core.display.Javascript object&gt;"
     },
     "metadata": {
      "transient": {}
     },
     "output_type": "display_data"
    },
    {
     "data": {
      "text/markdown": "<span style=\"color:#33cc33\">Correct</span>",
      "text/plain": "Correct"
     },
     "metadata": {
      "transient": {}
     },
     "output_type": "display_data"
    }
   ],
   "source": [
    "# TODO: Your code here\r\n",
    "professors[\"Graduated from\"] = professors[\"Graduated from\"].str.strip()\r\n",
    "\r\n",
    "# Check your answer\r\n",
    "q2.check()"
   ]
  },
  {
   "cell_type": "code",
   "execution_count": 21,
   "metadata": {},
   "outputs": [
    {
     "data": {
      "application/javascript": "parent.postMessage({\"jupyterEvent\": \"custom.exercise_interaction\", \"data\": {\"interactionType\": 2, \"questionType\": 1, \"questionId\": \"2_TextProcessing\", \"learnToolsVersion\": \"0.3.4\", \"valueTowardsCompletion\": 0.0, \"failureMessage\": \"\", \"exceptionClass\": \"\", \"trace\": \"\", \"outcomeType\": 4}}, \"*\")",
      "text/plain": "&lt;IPython.core.display.Javascript object&gt;"
     },
     "metadata": {
      "transient": {}
     },
     "output_type": "display_data"
    },
    {
     "data": {
      "text/markdown": "<span style=\"color:#3366cc\">Hint:</span> In the tutorial, you did the same operation on a different column.",
      "text/plain": "Hint: In the tutorial, you did the same operation on a different column."
     },
     "metadata": {
      "transient": {}
     },
     "output_type": "display_data"
    },
    {
     "data": {
      "application/javascript": "parent.postMessage({\"jupyterEvent\": \"custom.exercise_interaction\", \"data\": {\"interactionType\": 3, \"questionType\": 1, \"questionId\": \"2_TextProcessing\", \"learnToolsVersion\": \"0.3.4\", \"valueTowardsCompletion\": 0.0, \"failureMessage\": \"\", \"exceptionClass\": \"\", \"trace\": \"\", \"outcomeType\": 4}}, \"*\")",
      "text/plain": "&lt;IPython.core.display.Javascript object&gt;"
     },
     "metadata": {
      "transient": {}
     },
     "output_type": "display_data"
    },
    {
     "data": {
      "text/markdown": "<span style=\"color:#33cc99\">Solution:</span> \n```python\nprofessors['Graduated from'] = professors['Graduated from'].str.strip()\n\n```",
      "text/plain": "Solution: \n```python\nprofessors[&#39;Graduated from&#39;] = professors[&#39;Graduated from&#39;].str.strip()\n\n```"
     },
     "metadata": {
      "transient": {}
     },
     "output_type": "display_data"
    }
   ],
   "source": [
    "# Lines below will give you a hint or solution code\n",
    "#_COMMENT_IF(PROD)_\n",
    "q2.hint()\n",
    "#_COMMENT_IF(PROD)_\n",
    "q2.solution()"
   ]
  },
  {
   "cell_type": "markdown",
   "metadata": {},
   "source": [
    "# 3) Continue working with countries\n",
    "\n",
    "In the tutorial, we focused on cleaning up inconsistencies in the \"Country\" column.  Run the code cell below to view the list of unique values that we ended with."
   ]
  },
  {
   "cell_type": "code",
   "execution_count": 22,
   "metadata": {},
   "outputs": [
    {
     "data": {
      "text/plain": "array([&#39;australia&#39;, &#39;austria&#39;, &#39;canada&#39;, &#39;china&#39;, &#39;finland&#39;, &#39;france&#39;,\n       &#39;germany&#39;, &#39;greece&#39;, &#39;hongkong&#39;, &#39;ireland&#39;, &#39;italy&#39;, &#39;japan&#39;,\n       &#39;macau&#39;, &#39;malaysia&#39;, &#39;mauritius&#39;, &#39;netherland&#39;, &#39;new zealand&#39;,\n       &#39;norway&#39;, &#39;pakistan&#39;, &#39;portugal&#39;, &#39;russian federation&#39;,\n       &#39;saudi arabia&#39;, &#39;scotland&#39;, &#39;singapore&#39;, &#39;south korea&#39;, &#39;spain&#39;,\n       &#39;sweden&#39;, &#39;thailand&#39;, &#39;turkey&#39;, &#39;uk&#39;, &#39;urbana&#39;, &#39;usa&#39;, &#39;usofa&#39;],\n      dtype=object)"
     },
     "metadata": {},
     "output_type": "execute_result"
    }
   ],
   "source": [
    "# get all the unique values in the 'City' column\n",
    "countries = professors['Country'].unique()\n",
    "\n",
    "# sort them alphabetically and then take a closer look\n",
    "countries.sort()\n",
    "countries"
   ]
  },
  {
   "cell_type": "markdown",
   "metadata": {},
   "source": [
    "Take another look at the \"Country\" column and see if there's any more data cleaning we need to do.\n",
    "\n",
    "It looks like 'usa' and 'usofa' should be the same country.  Correct the \"Country\" column in the dataframe so that 'usofa' appears instead as 'usa'.\n",
    "\n",
    "**Use the most recent version of the DataFrame (with the whitespaces at the beginning and end of cells removed) from question 2.**"
   ]
  },
  {
   "cell_type": "code",
   "execution_count": 23,
   "metadata": {},
   "outputs": [
    {
     "name": "stdout",
     "output_type": "stream",
     "text": [
      "All done!\n"
     ]
    },
    {
     "data": {
      "application/javascript": "parent.postMessage({\"jupyterEvent\": \"custom.exercise_interaction\", \"data\": {\"outcomeType\": 1, \"valueTowardsCompletion\": 0.3333333333333333, \"interactionType\": 1, \"questionType\": 1, \"questionId\": \"3_WorkingWithCities\", \"learnToolsVersion\": \"0.3.4\", \"failureMessage\": \"\", \"exceptionClass\": \"\", \"trace\": \"\"}}, \"*\")",
      "text/plain": "&lt;IPython.core.display.Javascript object&gt;"
     },
     "metadata": {
      "transient": {}
     },
     "output_type": "display_data"
    },
    {
     "data": {
      "text/markdown": "<span style=\"color:#33cc33\">Correct</span>",
      "text/plain": "Correct"
     },
     "metadata": {
      "transient": {}
     },
     "output_type": "display_data"
    }
   ],
   "source": [
    "# TODO: Your code here!\r\n",
    "matches = fuzzywuzzy.process.extract(\"usa\", countries, \r\n",
    "                                         limit=10, scorer=fuzzywuzzy.fuzz.token_sort_ratio)\r\n",
    "replace_matches_in_column(df=professors, column='Country', string_to_match=\"usa\", min_ratio=70)\r\n",
    "\r\n",
    "# Check your answer\r\n",
    "q3.check()"
   ]
  },
  {
   "cell_type": "code",
   "execution_count": 24,
   "metadata": {},
   "outputs": [
    {
     "data": {
      "application/javascript": "parent.postMessage({\"jupyterEvent\": \"custom.exercise_interaction\", \"data\": {\"interactionType\": 2, \"questionType\": 1, \"questionId\": \"3_WorkingWithCities\", \"learnToolsVersion\": \"0.3.4\", \"valueTowardsCompletion\": 0.0, \"failureMessage\": \"\", \"exceptionClass\": \"\", \"trace\": \"\", \"outcomeType\": 4}}, \"*\")",
      "text/plain": "&lt;IPython.core.display.Javascript object&gt;"
     },
     "metadata": {
      "transient": {}
     },
     "output_type": "display_data"
    },
    {
     "data": {
      "text/markdown": "<span style=\"color:#3366cc\">Hint:</span> Use the `replace_matches_in_column()` function defined above.",
      "text/plain": "Hint: Use the `replace_matches_in_column()` function defined above."
     },
     "metadata": {
      "transient": {}
     },
     "output_type": "display_data"
    },
    {
     "data": {
      "application/javascript": "parent.postMessage({\"jupyterEvent\": \"custom.exercise_interaction\", \"data\": {\"interactionType\": 3, \"questionType\": 1, \"questionId\": \"3_WorkingWithCities\", \"learnToolsVersion\": \"0.3.4\", \"valueTowardsCompletion\": 0.0, \"failureMessage\": \"\", \"exceptionClass\": \"\", \"trace\": \"\", \"outcomeType\": 4}}, \"*\")",
      "text/plain": "&lt;IPython.core.display.Javascript object&gt;"
     },
     "metadata": {
      "transient": {}
     },
     "output_type": "display_data"
    },
    {
     "data": {
      "text/markdown": "<span style=\"color:#33cc99\">Solution:</span> \n```python\nmatches = fuzzywuzzy.process.extract(\"usa\", countries, limit=10, scorer=fuzzywuzzy.fuzz.token_sort_ratio)\nreplace_matches_in_column(df=professors, column='Country', string_to_match=\"usa\", min_ratio=70)\n\n```",
      "text/plain": "Solution: \n```python\nmatches = fuzzywuzzy.process.extract(&quot;usa&quot;, countries, limit=10, scorer=fuzzywuzzy.fuzz.token_sort_ratio)\nreplace_matches_in_column(df=professors, column=&#39;Country&#39;, string_to_match=&quot;usa&quot;, min_ratio=70)\n\n```"
     },
     "metadata": {
      "transient": {}
     },
     "output_type": "display_data"
    }
   ],
   "source": [
    "# Lines below will give you a hint or solution code\n",
    "#_COMMENT_IF(PROD)_\n",
    "q3.hint()\n",
    "#_COMMENT_IF(PROD)_\n",
    "q3.solution()"
   ]
  },
  {
   "cell_type": "markdown",
   "metadata": {},
   "source": [
    "# Congratulations!\n",
    "\n",
    "Congratulations for completing the **Data Cleaning** course on Kaggle Learn!\n",
    "\n",
    "To practice your new skills, you're encouraged to download and investigate some of [Kaggle's Datasets](https://www.kaggle.com/datasets)."
   ]
  }
 ],
 "metadata": {
  "kernelspec": {
   "display_name": "Python 3",
   "language": "python",
   "name": "python3"
  },
  "language_info": {
   "codemirror_mode": {
    "name": "ipython",
    "version": 3
   },
   "file_extension": ".py",
   "mimetype": "text/x-python",
   "name": "python",
   "nbconvert_exporter": "python",
   "pygments_lexer": "ipython3",
   "version": "3.8.2-final"
  }
 },
 "nbformat": 4,
 "nbformat_minor": 2
}