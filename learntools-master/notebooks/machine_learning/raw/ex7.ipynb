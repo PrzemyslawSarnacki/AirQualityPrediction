{
 "cells": [
  {
   "cell_type": "markdown",
   "metadata": {},
   "source": [
    "# Introduction\n",
    "Machine learning competitions are a great way to improve your data science skills and measure your progress. \n",
    "\n",
    "In this exercise, you will create and submit predictions for a Kaggle competition. You can then improve your model (e.g. by adding features) to improve and see how you stack up to others taking this micro-course.\n",
    "\n",
    "The steps in this notebook are:\n",
    "1. Build a Random Forest model with all of your data (**X** and **y**)\n",
    "2. Read in the \"test\" data, which doesn't include values for the target.  Predict home values in the test data with your Random Forest model.\n",
    "3. Submit those predictions to the competition and see your score.\n",
    "4. Optionally, come back to see if you can improve your model by adding features or changing your model. Then you can resubmit to see how that stacks up on the competition leaderboard."
   ]
  },
  {
   "cell_type": "markdown",
   "metadata": {},
   "source": [
    "## Recap\n",
    "Here's the code you've written so far. Start by running it again."
   ]
  },
  {
   "cell_type": "code",
   "execution_count": 6,
   "metadata": {
    "vscode": {}
   },
   "outputs": [
    {
     "name": "stderr",
     "output_type": "stream",
     "text": [
      "WARNING:root:Ignoring repeated attempt to bind to globals\n",
      "Validation MAE when not specifying max_leaf_nodes: 29,653\n",
      "Validation MAE for best value of max_leaf_nodes: 27,283\n",
      "Validation MAE for Random Forest Model: 21,857\n"
     ]
    }
   ],
   "source": [
    "# Code you have previously used to load data\r\n",
    "import pandas as pd\r\n",
    "from sklearn.ensemble import RandomForestRegressor\r\n",
    "from sklearn.metrics import mean_absolute_error\r\n",
    "from sklearn.model_selection import train_test_split\r\n",
    "from sklearn.tree import DecisionTreeRegressor\r\n",
    "\r\n",
    "# Set up code checking\r\n",
    "import os\r\n",
    "# if not os.path.exists(\"../input/train.csv\"):\r\n",
    "#     os.symlink(\"../input/home-data-for-ml-course/train.csv\", \"../input/train.csv\")  \r\n",
    "#     os.symlink(\"../input/home-data-for-ml-course/test.csv\", \"../input/test.csv\") \r\n",
    "from learntools.core import binder\r\n",
    "binder.bind(globals())\r\n",
    "from learntools.machine_learning.ex7 import *\r\n",
    "\r\n",
    "# Path of the file to read. We changed the directory structure to simplify submitting to a competition\r\n",
    "iowa_file_path = \"../input/home-data-for-ml-course/train.csv\"\r\n",
    "\r\n",
    "home_data = pd.read_csv(iowa_file_path)\r\n",
    "# Create target object and call it y\r\n",
    "y = home_data.SalePrice\r\n",
    "# Create X\r\n",
    "features = ['LotArea', 'YearBuilt', '1stFlrSF', '2ndFlrSF', 'FullBath', 'BedroomAbvGr', 'TotRmsAbvGrd']\r\n",
    "X = home_data[features]\r\n",
    "\r\n",
    "# Split into validation and training data\r\n",
    "train_X, val_X, train_y, val_y = train_test_split(X, y, random_state=1)\r\n",
    "\r\n",
    "# Specify Model\r\n",
    "iowa_model = DecisionTreeRegressor(random_state=1)\r\n",
    "# Fit Model\r\n",
    "iowa_model.fit(train_X, train_y)\r\n",
    "\r\n",
    "# Make validation predictions and calculate mean absolute error\r\n",
    "val_predictions = iowa_model.predict(val_X)\r\n",
    "val_mae = mean_absolute_error(val_predictions, val_y)\r\n",
    "print(\"Validation MAE when not specifying max_leaf_nodes: {:,.0f}\".format(val_mae))\r\n",
    "\r\n",
    "# Using best value for max_leaf_nodes\r\n",
    "iowa_model = DecisionTreeRegressor(max_leaf_nodes=100, random_state=1)\r\n",
    "iowa_model.fit(train_X, train_y)\r\n",
    "val_predictions = iowa_model.predict(val_X)\r\n",
    "val_mae = mean_absolute_error(val_predictions, val_y)\r\n",
    "print(\"Validation MAE for best value of max_leaf_nodes: {:,.0f}\".format(val_mae))\r\n",
    "\r\n",
    "# Define the model. Set random_state to 1\r\n",
    "rf_model = RandomForestRegressor(random_state=1)\r\n",
    "rf_model.fit(train_X, train_y)\r\n",
    "rf_val_predictions = rf_model.predict(val_X)\r\n",
    "rf_val_mae = mean_absolute_error(rf_val_predictions, val_y)\r\n",
    "\r\n",
    "print(\"Validation MAE for Random Forest Model: {:,.0f}\".format(rf_val_mae))"
   ]
  },
  {
   "cell_type": "markdown",
   "metadata": {},
   "source": [
    "# Creating a Model For the Competition\n",
    "\n",
    "Build a Random Forest model and train it on all of **X** and **y**."
   ]
  },
  {
   "cell_type": "code",
   "execution_count": 10,
   "metadata": {},
   "outputs": [
    {
     "data": {
      "text/plain": "RandomForestRegressor(random_state=1)"
     },
     "execution_count": 10,
     "metadata": {},
     "output_type": "execute_result"
    }
   ],
   "source": [
    "# To improve accuracy, create a new Random Forest model which you will train on all training data\r\n",
    "rf_model_on_full_data = RandomForestRegressor(random_state=1)\r\n",
    "rf_model_on_full_data.fit(X, y)\r\n",
    "\r\n",
    "\r\n",
    "# fit rf_model_on_full_data on all data from the training data\r\n"
   ]
  },
  {
   "cell_type": "markdown",
   "metadata": {},
   "source": [
    "# Make Predictions\n",
    "Read the file of \"test\" data. And apply your model to make predictions"
   ]
  },
  {
   "cell_type": "code",
   "execution_count": 11,
   "metadata": {},
   "outputs": [],
   "source": [
    "# path to file you will use for predictions\r\n",
    "test_data_path = '../input/home-data-for-ml-course/test.csv'\r\n",
    "\r\n",
    "# read test data file using pandas\r\n",
    "test_data = pd.read_csv(test_data_path)\r\n",
    "\r\n",
    "# create test_X which comes from test_data but includes only the columns you used for prediction.\r\n",
    "# The list of columns is stored in a variable called features\r\n",
    "test_X = test_data[features]\r\n",
    "\r\n",
    "# make predictions which we will submit. \r\n",
    "test_preds = rf_model_on_full_data.predict(test_X)\r\n",
    "\r\n",
    "# The lines below shows how to save predictions in format used for competition scoring\r\n",
    "# Just uncomment them.\r\n",
    "\r\n",
    "output = pd.DataFrame({'Id': test_data.Id,\r\n",
    "                      'SalePrice': test_preds})\r\n",
    "output.to_csv('submission.csv', index=False)"
   ]
  },
  {
   "cell_type": "code",
   "execution_count": 13,
   "metadata": {
    "vscode": {}
   },
   "outputs": [
    {
     "data": {
      "text/plain": "array([122656.58, 156789.  , 182959.  , ..., 151283.01, 127878.  ,\n       225959.8 ])"
     },
     "execution_count": 13,
     "metadata": {},
     "output_type": "execute_result"
    }
   ],
   "source": [
    "test_preds"
   ]
  },
  {
   "cell_type": "markdown",
   "metadata": {},
   "source": [
    "Before submitting, run a check to make sure your `test_preds` have the right format."
   ]
  },
  {
   "cell_type": "code",
   "execution_count": 12,
   "metadata": {},
   "outputs": [
    {
     "data": {
      "application/javascript": "parent.postMessage({\"jupyterEvent\": \"custom.exercise_interaction\", \"data\": {\"outcomeType\": 1, \"valueTowardsCompletion\": 1.0, \"interactionType\": 1, \"questionType\": 2, \"questionId\": \"1_CheckSubmittablePreds\", \"learnToolsVersion\": \"0.3.4\", \"failureMessage\": \"\", \"exceptionClass\": \"\", \"trace\": \"\"}}, \"*\")",
      "text/plain": "<IPython.core.display.Javascript object>"
     },
     "metadata": {},
     "output_type": "display_data"
    },
    {
     "data": {
      "text/markdown": "<span style=\"color:#33cc33\">Correct</span>",
      "text/plain": "Correct"
     },
     "metadata": {},
     "output_type": "display_data"
    }
   ],
   "source": [
    "# Check your answer\n",
    "step_1.check()\n",
    "# step_1.solution()"
   ]
  },
  {
   "cell_type": "markdown",
   "metadata": {},
   "source": [
    "# Test Your Work\n",
    "\n",
    "To test your results, you'll need to join the competition (if you haven't already).  So open a new window by clicking on [this link](https://www.kaggle.com/c/home-data-for-ml-course).  Then click on the **Join Competition** button.\n",
    "\n",
    "![join competition image](https://i.imgur.com/wLmFtH3.png)\n",
    "\n",
    "Next, follow the instructions below:\n",
    "#$SUBMIT_TO_COMP$\n",
    "\n",
    "# Continuing Your Progress\n",
    "There are many ways to improve your model, and **experimenting is a great way to learn at this point.**\n",
    "\n",
    "The best way to improve your model is to add features.  Look at the list of columns and think about what might affect home prices.  Some features will cause errors because of issues like missing values or non-numeric data types. \n",
    "\n",
    "The **[Intermediate Machine Learning](https://www.kaggle.com/learn/intermediate-machine-learning)** micro-course will teach you how to handle these types of features. You will also learn to use **xgboost**, a technique giving even better accuracy than Random Forest.\n",
    "\n",
    "\n",
    "# Other Micro-Courses\n",
    "The **[Pandas](https://kaggle.com/Learn/Pandas)** micro-course will give you the data manipulation skills to quickly go from conceptual idea to implementation in your data science projects. \n",
    "\n",
    "You are also ready for the **[Deep Learning](https://kaggle.com/Learn/Deep-Learning)** micro-course, where you will build models with better-than-human level performance at computer vision tasks."
   ]
  }
 ],
 "metadata": {
  "kernelspec": {
   "display_name": "Python 3.8.2 64-bit",
   "language": "python",
   "name": "python_defaultSpec_1600158297516"
  },
  "language_info": {
   "codemirror_mode": {
    "name": "ipython",
    "version": 3
   },
   "file_extension": ".py",
   "mimetype": "text/x-python",
   "name": "python",
   "nbconvert_exporter": "python",
   "pygments_lexer": "ipython3",
   "version": "3.8.2-final"
  }
 },
 "nbformat": 4,
 "nbformat_minor": 2
}