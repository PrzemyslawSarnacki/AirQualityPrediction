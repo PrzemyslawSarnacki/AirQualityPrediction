{
 "cells": [
  {
   "cell_type": "markdown",
   "metadata": {},
   "source": [
    "# Introduction\n",
    "\n",
    "Selecting specific values of a pandas DataFrame or Series to work on is an implicit step in almost any data operation you'll run, so one of the first things you need to learn in working with data in Python is how to go about selecting the data points relevant to you quickly and effectively."
   ]
  },
  {
   "cell_type": "code",
   "execution_count": 1,
   "metadata": {},
   "outputs": [],
   "source": [
    "#$HIDE_INPUT$\n",
    "import pandas as pd\n",
    "reviews = pd.read_csv(\"winemag-data-130k-v2.csv\", index_col=0)\n",
    "pd.set_option('max_rows', 5)"
   ]
  },
  {
   "cell_type": "markdown",
   "metadata": {},
   "source": [
    "**To start the exercise for this topic, please click [here](#$NEXT_NOTEBOOK_URL$).**"
   ]
  },
  {
   "cell_type": "markdown",
   "metadata": {},
   "source": [
    "# Naive accessors\n",
    "\n",
    "Native Python objects provide  good ways of indexing data. Pandas carries all of these over, which helps make it easy to start with.\n",
    "\n",
    "Consider this DataFrame:"
   ]
  },
  {
   "cell_type": "code",
   "execution_count": 2,
   "metadata": {
    "collapsed": true
   },
   "outputs": [
    {
     "output_type": "execute_result",
     "data": {
      "text/plain": "         country                                        description  \\\n0          Italy  Aromas include tropical fruit, broom, brimston...   \n1       Portugal  This is ripe and fruity, a wine that is smooth...   \n...          ...                                                ...   \n129969    France  A dry style of Pinot Gris, this is crisp with ...   \n129970    France  Big, rich and off-dry, this is powered by inte...   \n\n                          designation  points  price           province  \\\n0                        Vulkà Bianco      87    NaN  Sicily & Sardinia   \n1                            Avidagos      87   15.0              Douro   \n...                               ...     ...    ...                ...   \n129969                            NaN      90   32.0             Alsace   \n129970  Lieu-dit Harth Cuvée Caroline      90   21.0             Alsace   \n\n       region_1 region_2    taster_name taster_twitter_handle  \\\n0          Etna      NaN  Kerin O’Keefe          @kerinokeefe   \n1           NaN      NaN     Roger Voss            @vossroger   \n...         ...      ...            ...                   ...   \n129969   Alsace      NaN     Roger Voss            @vossroger   \n129970   Alsace      NaN     Roger Voss            @vossroger   \n\n                                                    title         variety  \\\n0                       Nicosia 2013 Vulkà Bianco  (Etna)     White Blend   \n1           Quinta dos Avidagos 2011 Avidagos Red (Douro)  Portuguese Red   \n...                                                   ...             ...   \n129969      Domaine Marcel Deiss 2012 Pinot Gris (Alsace)      Pinot Gris   \n129970  Domaine Schoffit 2012 Lieu-dit Harth Cuvée Car...  Gewürztraminer   \n\n                      winery  \n0                    Nicosia  \n1        Quinta dos Avidagos  \n...                      ...  \n129969  Domaine Marcel Deiss  \n129970      Domaine Schoffit  \n\n[129971 rows x 13 columns]",
      "text/html": "<div>\n<style scoped>\n    .dataframe tbody tr th:only-of-type {\n        vertical-align: middle;\n    }\n\n    .dataframe tbody tr th {\n        vertical-align: top;\n    }\n\n    .dataframe thead th {\n        text-align: right;\n    }\n</style>\n<table border=\"1\" class=\"dataframe\">\n  <thead>\n    <tr style=\"text-align: right;\">\n      <th></th>\n      <th>country</th>\n      <th>description</th>\n      <th>designation</th>\n      <th>points</th>\n      <th>price</th>\n      <th>province</th>\n      <th>region_1</th>\n      <th>region_2</th>\n      <th>taster_name</th>\n      <th>taster_twitter_handle</th>\n      <th>title</th>\n      <th>variety</th>\n      <th>winery</th>\n    </tr>\n  </thead>\n  <tbody>\n    <tr>\n      <th>0</th>\n      <td>Italy</td>\n      <td>Aromas include tropical fruit, broom, brimston...</td>\n      <td>Vulkà Bianco</td>\n      <td>87</td>\n      <td>NaN</td>\n      <td>Sicily &amp; Sardinia</td>\n      <td>Etna</td>\n      <td>NaN</td>\n      <td>Kerin O’Keefe</td>\n      <td>@kerinokeefe</td>\n      <td>Nicosia 2013 Vulkà Bianco  (Etna)</td>\n      <td>White Blend</td>\n      <td>Nicosia</td>\n    </tr>\n    <tr>\n      <th>1</th>\n      <td>Portugal</td>\n      <td>This is ripe and fruity, a wine that is smooth...</td>\n      <td>Avidagos</td>\n      <td>87</td>\n      <td>15.0</td>\n      <td>Douro</td>\n      <td>NaN</td>\n      <td>NaN</td>\n      <td>Roger Voss</td>\n      <td>@vossroger</td>\n      <td>Quinta dos Avidagos 2011 Avidagos Red (Douro)</td>\n      <td>Portuguese Red</td>\n      <td>Quinta dos Avidagos</td>\n    </tr>\n    <tr>\n      <th>...</th>\n      <td>...</td>\n      <td>...</td>\n      <td>...</td>\n      <td>...</td>\n      <td>...</td>\n      <td>...</td>\n      <td>...</td>\n      <td>...</td>\n      <td>...</td>\n      <td>...</td>\n      <td>...</td>\n      <td>...</td>\n      <td>...</td>\n    </tr>\n    <tr>\n      <th>129969</th>\n      <td>France</td>\n      <td>A dry style of Pinot Gris, this is crisp with ...</td>\n      <td>NaN</td>\n      <td>90</td>\n      <td>32.0</td>\n      <td>Alsace</td>\n      <td>Alsace</td>\n      <td>NaN</td>\n      <td>Roger Voss</td>\n      <td>@vossroger</td>\n      <td>Domaine Marcel Deiss 2012 Pinot Gris (Alsace)</td>\n      <td>Pinot Gris</td>\n      <td>Domaine Marcel Deiss</td>\n    </tr>\n    <tr>\n      <th>129970</th>\n      <td>France</td>\n      <td>Big, rich and off-dry, this is powered by inte...</td>\n      <td>Lieu-dit Harth Cuvée Caroline</td>\n      <td>90</td>\n      <td>21.0</td>\n      <td>Alsace</td>\n      <td>Alsace</td>\n      <td>NaN</td>\n      <td>Roger Voss</td>\n      <td>@vossroger</td>\n      <td>Domaine Schoffit 2012 Lieu-dit Harth Cuvée Car...</td>\n      <td>Gewürztraminer</td>\n      <td>Domaine Schoffit</td>\n    </tr>\n  </tbody>\n</table>\n<p>129971 rows × 13 columns</p>\n</div>"
     },
     "metadata": {},
     "execution_count": 2
    }
   ],
   "source": [
    "reviews"
   ]
  },
  {
   "cell_type": "markdown",
   "metadata": {},
   "source": [
    "In Python, we can access the property of an object by accessing it as an attribute. A `book` object, for example, might have a `title` property, which we can access by calling `book.title`. Columns in a pandas DataFrame work in much the same way. \n",
    "\n",
    "Hence to access the `country` property of `reviews` we can use:"
   ]
  },
  {
   "cell_type": "code",
   "execution_count": 3,
   "metadata": {
    "collapsed": true
   },
   "outputs": [
    {
     "output_type": "execute_result",
     "data": {
      "text/plain": "0            Italy\n1         Portugal\n            ...   \n129969      France\n129970      France\nName: country, Length: 129971, dtype: object"
     },
     "metadata": {},
     "execution_count": 3
    }
   ],
   "source": [
    "reviews.country"
   ]
  },
  {
   "cell_type": "markdown",
   "metadata": {},
   "source": [
    "If we have a Python dictionary, we can access its values using the indexing (`[]`) operator. We can do the same with columns in a DataFrame:"
   ]
  },
  {
   "cell_type": "code",
   "execution_count": 4,
   "metadata": {
    "collapsed": true
   },
   "outputs": [
    {
     "output_type": "execute_result",
     "data": {
      "text/plain": "0            Italy\n1         Portugal\n            ...   \n129969      France\n129970      France\nName: country, Length: 129971, dtype: object"
     },
     "metadata": {},
     "execution_count": 4
    }
   ],
   "source": [
    "reviews['country']"
   ]
  },
  {
   "cell_type": "markdown",
   "metadata": {},
   "source": [
    "These are the two ways of selecting a specific Series out of a DataFrame. Neither of them is more or less syntactically valid than the other, but the indexing operator `[]` does have the advantage that it can handle column names with reserved characters in them (e.g. if we had a `country providence` column, `reviews.country providence` wouldn't work).\n",
    "\n",
    "Doesn't a pandas Series look kind of like a fancy dictionary? It pretty much is, so it's no surprise that, to drill down to a single specific value, we need only use the indexing operator `[]` once more:"
   ]
  },
  {
   "cell_type": "code",
   "execution_count": null,
   "metadata": {
    "collapsed": true
   },
   "outputs": [],
   "source": [
    "reviews['country'][0]"
   ]
  },
  {
   "cell_type": "markdown",
   "metadata": {},
   "source": [
    "# Indexing in pandas\n",
    "\n",
    "The indexing operator and attribute selection are nice because they work just like they do in the rest of the Python ecosystem. As a novice, this makes them easy to pick up and use. However, pandas has its own accessor operators, `loc` and `iloc`. For more advanced operations, these are the ones you're supposed to be using.\n",
    "\n",
    "### Index-based selection\n",
    "\n",
    "Pandas indexing works in one of two paradigms. The first is **index-based selection**: selecting data based on its numerical position in the data. `iloc` follows this paradigm.\n",
    "\n",
    "To select the first row of data in a DataFrame, we may use the following:"
   ]
  },
  {
   "cell_type": "code",
   "execution_count": 8,
   "metadata": {
    "collapsed": true
   },
   "outputs": [
    {
     "output_type": "execute_result",
     "data": {
      "text/plain": "country                                                    Italy\ndescription    Aromas include tropical fruit, broom, brimston...\n                                     ...                        \nvariety                                              White Blend\nwinery                                                   Nicosia\nName: 0, Length: 13, dtype: object"
     },
     "metadata": {},
     "execution_count": 8
    }
   ],
   "source": [
    "reviews.iloc[0]"
   ]
  },
  {
   "cell_type": "markdown",
   "metadata": {},
   "source": [
    "Both `loc` and `iloc` are row-first, column-second. This is the opposite of what we do in native Python, which is column-first, row-second.\n",
    "\n",
    "This means that it's marginally easier to retrieve rows, and marginally harder to get retrieve columns. To get a column with `iloc`, we can do the following:"
   ]
  },
  {
   "cell_type": "code",
   "execution_count": 9,
   "metadata": {
    "collapsed": true
   },
   "outputs": [
    {
     "output_type": "execute_result",
     "data": {
      "text/plain": "0            Italy\n1         Portugal\n            ...   \n129969      France\n129970      France\nName: country, Length: 129971, dtype: object"
     },
     "metadata": {},
     "execution_count": 9
    }
   ],
   "source": [
    "reviews.iloc[:, 0]"
   ]
  },
  {
   "cell_type": "markdown",
   "metadata": {},
   "source": [
    "On its own, the `:` operator, which also comes from native Python, means \"everything\". When combined with other selectors, however, it can be used to indicate a range of values. For example, to select the `country` column from just the first, second, and third row, we would do:"
   ]
  },
  {
   "cell_type": "code",
   "execution_count": 12,
   "metadata": {
    "collapsed": true
   },
   "outputs": [
    {
     "output_type": "execute_result",
     "data": {
      "text/plain": "0       Italy\n1    Portugal\n2          US\nName: country, dtype: object"
     },
     "metadata": {},
     "execution_count": 12
    }
   ],
   "source": [
    "reviews.iloc[:3, 0]"
   ]
  },
  {
   "cell_type": "markdown",
   "metadata": {},
   "source": [
    "Or, to select just the second and third entries, we would do:"
   ]
  },
  {
   "cell_type": "code",
   "execution_count": 13,
   "metadata": {
    "collapsed": true
   },
   "outputs": [
    {
     "output_type": "execute_result",
     "data": {
      "text/plain": "1    Portugal\n2          US\nName: country, dtype: object"
     },
     "metadata": {},
     "execution_count": 13
    }
   ],
   "source": [
    "reviews.iloc[1:3, 0]"
   ]
  },
  {
   "cell_type": "markdown",
   "metadata": {},
   "source": [
    "It's also possible to pass a list:"
   ]
  },
  {
   "cell_type": "code",
   "execution_count": 14,
   "metadata": {
    "collapsed": true
   },
   "outputs": [
    {
     "output_type": "execute_result",
     "data": {
      "text/plain": "0       Italy\n1    Portugal\n2          US\nName: country, dtype: object"
     },
     "metadata": {},
     "execution_count": 14
    }
   ],
   "source": [
    "reviews.iloc[[0, 1, 2], 0]"
   ]
  },
  {
   "cell_type": "markdown",
   "metadata": {},
   "source": [
    "Finally, it's worth knowing that negative numbers can be used in selection. This will start counting forwards from the _end_ of the values. So for example here are the last five elements of the dataset."
   ]
  },
  {
   "cell_type": "code",
   "execution_count": 15,
   "metadata": {
    "collapsed": true
   },
   "outputs": [
    {
     "output_type": "execute_result",
     "data": {
      "text/plain": "        country                                        description  \\\n129966  Germany  Notes of honeysuckle and cantaloupe sweeten th...   \n129967       US  Citation is given as much as a decade of bottl...   \n129968   France  Well-drained gravel soil gives this wine its c...   \n129969   France  A dry style of Pinot Gris, this is crisp with ...   \n129970   France  Big, rich and off-dry, this is powered by inte...   \n\n                                   designation  points  price province  \\\n129966  Brauneberger Juffer-Sonnenuhr Spätlese      90   28.0    Mosel   \n129967                                     NaN      90   75.0   Oregon   \n129968                                   Kritt      90   30.0   Alsace   \n129969                                     NaN      90   32.0   Alsace   \n129970           Lieu-dit Harth Cuvée Caroline      90   21.0   Alsace   \n\n       region_1      region_2         taster_name taster_twitter_handle  \\\n129966      NaN           NaN  Anna Lee C. Iijima                   NaN   \n129967   Oregon  Oregon Other        Paul Gregutt           @paulgwine    \n129968   Alsace           NaN          Roger Voss            @vossroger   \n129969   Alsace           NaN          Roger Voss            @vossroger   \n129970   Alsace           NaN          Roger Voss            @vossroger   \n\n                                                    title         variety  \\\n129966  Dr. H. Thanisch (Erben Müller-Burggraef) 2013 ...        Riesling   \n129967                  Citation 2004 Pinot Noir (Oregon)      Pinot Noir   \n129968  Domaine Gresser 2013 Kritt Gewurztraminer (Als...  Gewürztraminer   \n129969      Domaine Marcel Deiss 2012 Pinot Gris (Alsace)      Pinot Gris   \n129970  Domaine Schoffit 2012 Lieu-dit Harth Cuvée Car...  Gewürztraminer   \n\n                                          winery  \n129966  Dr. H. Thanisch (Erben Müller-Burggraef)  \n129967                                  Citation  \n129968                           Domaine Gresser  \n129969                      Domaine Marcel Deiss  \n129970                          Domaine Schoffit  ",
      "text/html": "<div>\n<style scoped>\n    .dataframe tbody tr th:only-of-type {\n        vertical-align: middle;\n    }\n\n    .dataframe tbody tr th {\n        vertical-align: top;\n    }\n\n    .dataframe thead th {\n        text-align: right;\n    }\n</style>\n<table border=\"1\" class=\"dataframe\">\n  <thead>\n    <tr style=\"text-align: right;\">\n      <th></th>\n      <th>country</th>\n      <th>description</th>\n      <th>designation</th>\n      <th>points</th>\n      <th>price</th>\n      <th>province</th>\n      <th>region_1</th>\n      <th>region_2</th>\n      <th>taster_name</th>\n      <th>taster_twitter_handle</th>\n      <th>title</th>\n      <th>variety</th>\n      <th>winery</th>\n    </tr>\n  </thead>\n  <tbody>\n    <tr>\n      <th>129966</th>\n      <td>Germany</td>\n      <td>Notes of honeysuckle and cantaloupe sweeten th...</td>\n      <td>Brauneberger Juffer-Sonnenuhr Spätlese</td>\n      <td>90</td>\n      <td>28.0</td>\n      <td>Mosel</td>\n      <td>NaN</td>\n      <td>NaN</td>\n      <td>Anna Lee C. Iijima</td>\n      <td>NaN</td>\n      <td>Dr. H. Thanisch (Erben Müller-Burggraef) 2013 ...</td>\n      <td>Riesling</td>\n      <td>Dr. H. Thanisch (Erben Müller-Burggraef)</td>\n    </tr>\n    <tr>\n      <th>129967</th>\n      <td>US</td>\n      <td>Citation is given as much as a decade of bottl...</td>\n      <td>NaN</td>\n      <td>90</td>\n      <td>75.0</td>\n      <td>Oregon</td>\n      <td>Oregon</td>\n      <td>Oregon Other</td>\n      <td>Paul Gregutt</td>\n      <td>@paulgwine</td>\n      <td>Citation 2004 Pinot Noir (Oregon)</td>\n      <td>Pinot Noir</td>\n      <td>Citation</td>\n    </tr>\n    <tr>\n      <th>129968</th>\n      <td>France</td>\n      <td>Well-drained gravel soil gives this wine its c...</td>\n      <td>Kritt</td>\n      <td>90</td>\n      <td>30.0</td>\n      <td>Alsace</td>\n      <td>Alsace</td>\n      <td>NaN</td>\n      <td>Roger Voss</td>\n      <td>@vossroger</td>\n      <td>Domaine Gresser 2013 Kritt Gewurztraminer (Als...</td>\n      <td>Gewürztraminer</td>\n      <td>Domaine Gresser</td>\n    </tr>\n    <tr>\n      <th>129969</th>\n      <td>France</td>\n      <td>A dry style of Pinot Gris, this is crisp with ...</td>\n      <td>NaN</td>\n      <td>90</td>\n      <td>32.0</td>\n      <td>Alsace</td>\n      <td>Alsace</td>\n      <td>NaN</td>\n      <td>Roger Voss</td>\n      <td>@vossroger</td>\n      <td>Domaine Marcel Deiss 2012 Pinot Gris (Alsace)</td>\n      <td>Pinot Gris</td>\n      <td>Domaine Marcel Deiss</td>\n    </tr>\n    <tr>\n      <th>129970</th>\n      <td>France</td>\n      <td>Big, rich and off-dry, this is powered by inte...</td>\n      <td>Lieu-dit Harth Cuvée Caroline</td>\n      <td>90</td>\n      <td>21.0</td>\n      <td>Alsace</td>\n      <td>Alsace</td>\n      <td>NaN</td>\n      <td>Roger Voss</td>\n      <td>@vossroger</td>\n      <td>Domaine Schoffit 2012 Lieu-dit Harth Cuvée Car...</td>\n      <td>Gewürztraminer</td>\n      <td>Domaine Schoffit</td>\n    </tr>\n  </tbody>\n</table>\n</div>"
     },
     "metadata": {},
     "execution_count": 15
    }
   ],
   "source": [
    "reviews.iloc[-5:]"
   ]
  },
  {
   "cell_type": "markdown",
   "metadata": {},
   "source": [
    "### Label-based selection\n",
    "\n",
    "The second paradigm for attribute selection is the one followed by the `loc` operator: **label-based selection**. In this paradigm, it's the data index value, not its position, which matters.\n",
    "\n",
    "For example, to get the first entry in `reviews`, we would now do the following:"
   ]
  },
  {
   "cell_type": "code",
   "execution_count": 16,
   "metadata": {
    "collapsed": true
   },
   "outputs": [
    {
     "output_type": "execute_result",
     "data": {
      "text/plain": "'Italy'"
     },
     "metadata": {},
     "execution_count": 16
    }
   ],
   "source": [
    "reviews.loc[0, 'country']"
   ]
  },
  {
   "cell_type": "code",
   "execution_count": 21,
   "metadata": {},
   "outputs": [
    {
     "output_type": "execute_result",
     "data": {
      "text/plain": "0            Italy\n1         Portugal\n            ...   \n129969      France\n129970      France\nName: country, Length: 129971, dtype: object"
     },
     "metadata": {},
     "execution_count": 21
    }
   ],
   "source": [
    "reviews.loc[:,'country']"
   ]
  },
  {
   "cell_type": "markdown",
   "metadata": {},
   "source": [
    "`iloc` is conceptually simpler than `loc` because it ignores the dataset's indices. When we use `iloc` we treat the dataset like a big matrix (a list of lists), one that we have to index into by position. `loc`, by contrast, uses the information in the indices to do its work. Since your dataset usually has meaningful indices, it's usually easier to do things using `loc` instead. For example, here's one operation that's much easier using `loc`:"
   ]
  },
  {
   "cell_type": "code",
   "execution_count": 24,
   "metadata": {
    "collapsed": true
   },
   "outputs": [
    {
     "output_type": "execute_result",
     "data": {
      "text/plain": "          taster_name taster_twitter_handle  points\n0       Kerin O’Keefe          @kerinokeefe      87\n1          Roger Voss            @vossroger      87\n...               ...                   ...     ...\n129969     Roger Voss            @vossroger      90\n129970     Roger Voss            @vossroger      90\n\n[129971 rows x 3 columns]",
      "text/html": "<div>\n<style scoped>\n    .dataframe tbody tr th:only-of-type {\n        vertical-align: middle;\n    }\n\n    .dataframe tbody tr th {\n        vertical-align: top;\n    }\n\n    .dataframe thead th {\n        text-align: right;\n    }\n</style>\n<table border=\"1\" class=\"dataframe\">\n  <thead>\n    <tr style=\"text-align: right;\">\n      <th></th>\n      <th>taster_name</th>\n      <th>taster_twitter_handle</th>\n      <th>points</th>\n    </tr>\n  </thead>\n  <tbody>\n    <tr>\n      <th>0</th>\n      <td>Kerin O’Keefe</td>\n      <td>@kerinokeefe</td>\n      <td>87</td>\n    </tr>\n    <tr>\n      <th>1</th>\n      <td>Roger Voss</td>\n      <td>@vossroger</td>\n      <td>87</td>\n    </tr>\n    <tr>\n      <th>...</th>\n      <td>...</td>\n      <td>...</td>\n      <td>...</td>\n    </tr>\n    <tr>\n      <th>129969</th>\n      <td>Roger Voss</td>\n      <td>@vossroger</td>\n      <td>90</td>\n    </tr>\n    <tr>\n      <th>129970</th>\n      <td>Roger Voss</td>\n      <td>@vossroger</td>\n      <td>90</td>\n    </tr>\n  </tbody>\n</table>\n<p>129971 rows × 3 columns</p>\n</div>"
     },
     "metadata": {},
     "execution_count": 24
    }
   ],
   "source": [
    "reviews.loc[:, ['taster_name', 'taster_twitter_handle', 'points']]"
   ]
  },
  {
   "cell_type": "markdown",
   "metadata": {},
   "source": [
    "### Choosing between `loc` and `iloc`\n",
    "\n",
    "When choosing or transitioning between `loc` and `iloc`, there is one \"gotcha\" worth keeping in mind, which is that the two methods use slightly different indexing schemes.\n",
    "\n",
    "`iloc` uses the Python stdlib indexing scheme, where the first element of the range is included and the last one excluded. So `0:10` will select entries `0,...,9`. `loc`, meanwhile, indexes inclusively. So `0:10` will select entries `0,...,10`.\n",
    "\n",
    "Why the change? Remember that loc can index any stdlib type: strings, for example. If we have a DataFrame with index values `Apples, ..., Potatoes, ...`, and we want to select \"all the alphabetical fruit choices between Apples and Potatoes\", then it's a lot more convenient to index `df.loc['Apples':'Potatoes']` than it is to index something like `df.loc['Apples', 'Potatoet]` (`t` coming after `s` in the alphabet).\n",
    "\n",
    "This is particularly confusing when the DataFrame index is a simple numerical list, e.g. `0,...,1000`. In this case `df.iloc[0:1000]` will return 1000 entries, while `df.loc[0:1000]` return 1001 of them! To get 1000 elements using `loc`, you will need to go one lower and ask for `df.loc[0:999]`. \n",
    "\n",
    "Otherwise, the semantics of using `loc` are the same as those for `iloc`."
   ]
  },
  {
   "cell_type": "markdown",
   "metadata": {},
   "source": [
    "# Manipulating the index\n",
    "\n",
    "Label-based selection derives its power from the labels in the index. Critically, the index we use is not immutable. We can manipulate the index in any way we see fit.\n",
    "\n",
    "The `set_index()` method can be used to do the job. Here is what happens when we `set_index` to the `title` field:"
   ]
  },
  {
   "cell_type": "code",
   "execution_count": 25,
   "metadata": {
    "collapsed": true
   },
   "outputs": [
    {
     "output_type": "execute_result",
     "data": {
      "text/plain": "                                                     country  \\\ntitle                                                          \nNicosia 2013 Vulkà Bianco  (Etna)                      Italy   \nQuinta dos Avidagos 2011 Avidagos Red (Douro)       Portugal   \n...                                                      ...   \nDomaine Marcel Deiss 2012 Pinot Gris (Alsace)         France   \nDomaine Schoffit 2012 Lieu-dit Harth Cuvée Caro...    France   \n\n                                                                                          description  \\\ntitle                                                                                                   \nNicosia 2013 Vulkà Bianco  (Etna)                   Aromas include tropical fruit, broom, brimston...   \nQuinta dos Avidagos 2011 Avidagos Red (Douro)       This is ripe and fruity, a wine that is smooth...   \n...                                                                                               ...   \nDomaine Marcel Deiss 2012 Pinot Gris (Alsace)       A dry style of Pinot Gris, this is crisp with ...   \nDomaine Schoffit 2012 Lieu-dit Harth Cuvée Caro...  Big, rich and off-dry, this is powered by inte...   \n\n                                                                      designation  \\\ntitle                                                                               \nNicosia 2013 Vulkà Bianco  (Etna)                                    Vulkà Bianco   \nQuinta dos Avidagos 2011 Avidagos Red (Douro)                            Avidagos   \n...                                                                           ...   \nDomaine Marcel Deiss 2012 Pinot Gris (Alsace)                                 NaN   \nDomaine Schoffit 2012 Lieu-dit Harth Cuvée Caro...  Lieu-dit Harth Cuvée Caroline   \n\n                                                    points  price  \\\ntitle                                                               \nNicosia 2013 Vulkà Bianco  (Etna)                       87    NaN   \nQuinta dos Avidagos 2011 Avidagos Red (Douro)           87   15.0   \n...                                                    ...    ...   \nDomaine Marcel Deiss 2012 Pinot Gris (Alsace)           90   32.0   \nDomaine Schoffit 2012 Lieu-dit Harth Cuvée Caro...      90   21.0   \n\n                                                             province  \\\ntitle                                                                   \nNicosia 2013 Vulkà Bianco  (Etna)                   Sicily & Sardinia   \nQuinta dos Avidagos 2011 Avidagos Red (Douro)                   Douro   \n...                                                               ...   \nDomaine Marcel Deiss 2012 Pinot Gris (Alsace)                  Alsace   \nDomaine Schoffit 2012 Lieu-dit Harth Cuvée Caro...             Alsace   \n\n                                                   region_1 region_2  \\\ntitle                                                                  \nNicosia 2013 Vulkà Bianco  (Etna)                      Etna      NaN   \nQuinta dos Avidagos 2011 Avidagos Red (Douro)           NaN      NaN   \n...                                                     ...      ...   \nDomaine Marcel Deiss 2012 Pinot Gris (Alsace)        Alsace      NaN   \nDomaine Schoffit 2012 Lieu-dit Harth Cuvée Caro...   Alsace      NaN   \n\n                                                      taster_name  \\\ntitle                                                               \nNicosia 2013 Vulkà Bianco  (Etna)                   Kerin O’Keefe   \nQuinta dos Avidagos 2011 Avidagos Red (Douro)          Roger Voss   \n...                                                           ...   \nDomaine Marcel Deiss 2012 Pinot Gris (Alsace)          Roger Voss   \nDomaine Schoffit 2012 Lieu-dit Harth Cuvée Caro...     Roger Voss   \n\n                                                   taster_twitter_handle  \\\ntitle                                                                      \nNicosia 2013 Vulkà Bianco  (Etna)                           @kerinokeefe   \nQuinta dos Avidagos 2011 Avidagos Red (Douro)                 @vossroger   \n...                                                                  ...   \nDomaine Marcel Deiss 2012 Pinot Gris (Alsace)                 @vossroger   \nDomaine Schoffit 2012 Lieu-dit Harth Cuvée Caro...            @vossroger   \n\n                                                           variety  \\\ntitle                                                                \nNicosia 2013 Vulkà Bianco  (Etna)                      White Blend   \nQuinta dos Avidagos 2011 Avidagos Red (Douro)       Portuguese Red   \n...                                                            ...   \nDomaine Marcel Deiss 2012 Pinot Gris (Alsace)           Pinot Gris   \nDomaine Schoffit 2012 Lieu-dit Harth Cuvée Caro...  Gewürztraminer   \n\n                                                                  winery  \ntitle                                                                     \nNicosia 2013 Vulkà Bianco  (Etna)                                Nicosia  \nQuinta dos Avidagos 2011 Avidagos Red (Douro)        Quinta dos Avidagos  \n...                                                                  ...  \nDomaine Marcel Deiss 2012 Pinot Gris (Alsace)       Domaine Marcel Deiss  \nDomaine Schoffit 2012 Lieu-dit Harth Cuvée Caro...      Domaine Schoffit  \n\n[129971 rows x 12 columns]",
      "text/html": "<div>\n<style scoped>\n    .dataframe tbody tr th:only-of-type {\n        vertical-align: middle;\n    }\n\n    .dataframe tbody tr th {\n        vertical-align: top;\n    }\n\n    .dataframe thead th {\n        text-align: right;\n    }\n</style>\n<table border=\"1\" class=\"dataframe\">\n  <thead>\n    <tr style=\"text-align: right;\">\n      <th></th>\n      <th>country</th>\n      <th>description</th>\n      <th>designation</th>\n      <th>points</th>\n      <th>price</th>\n      <th>province</th>\n      <th>region_1</th>\n      <th>region_2</th>\n      <th>taster_name</th>\n      <th>taster_twitter_handle</th>\n      <th>variety</th>\n      <th>winery</th>\n    </tr>\n    <tr>\n      <th>title</th>\n      <th></th>\n      <th></th>\n      <th></th>\n      <th></th>\n      <th></th>\n      <th></th>\n      <th></th>\n      <th></th>\n      <th></th>\n      <th></th>\n      <th></th>\n      <th></th>\n    </tr>\n  </thead>\n  <tbody>\n    <tr>\n      <th>Nicosia 2013 Vulkà Bianco  (Etna)</th>\n      <td>Italy</td>\n      <td>Aromas include tropical fruit, broom, brimston...</td>\n      <td>Vulkà Bianco</td>\n      <td>87</td>\n      <td>NaN</td>\n      <td>Sicily &amp; Sardinia</td>\n      <td>Etna</td>\n      <td>NaN</td>\n      <td>Kerin O’Keefe</td>\n      <td>@kerinokeefe</td>\n      <td>White Blend</td>\n      <td>Nicosia</td>\n    </tr>\n    <tr>\n      <th>Quinta dos Avidagos 2011 Avidagos Red (Douro)</th>\n      <td>Portugal</td>\n      <td>This is ripe and fruity, a wine that is smooth...</td>\n      <td>Avidagos</td>\n      <td>87</td>\n      <td>15.0</td>\n      <td>Douro</td>\n      <td>NaN</td>\n      <td>NaN</td>\n      <td>Roger Voss</td>\n      <td>@vossroger</td>\n      <td>Portuguese Red</td>\n      <td>Quinta dos Avidagos</td>\n    </tr>\n    <tr>\n      <th>...</th>\n      <td>...</td>\n      <td>...</td>\n      <td>...</td>\n      <td>...</td>\n      <td>...</td>\n      <td>...</td>\n      <td>...</td>\n      <td>...</td>\n      <td>...</td>\n      <td>...</td>\n      <td>...</td>\n      <td>...</td>\n    </tr>\n    <tr>\n      <th>Domaine Marcel Deiss 2012 Pinot Gris (Alsace)</th>\n      <td>France</td>\n      <td>A dry style of Pinot Gris, this is crisp with ...</td>\n      <td>NaN</td>\n      <td>90</td>\n      <td>32.0</td>\n      <td>Alsace</td>\n      <td>Alsace</td>\n      <td>NaN</td>\n      <td>Roger Voss</td>\n      <td>@vossroger</td>\n      <td>Pinot Gris</td>\n      <td>Domaine Marcel Deiss</td>\n    </tr>\n    <tr>\n      <th>Domaine Schoffit 2012 Lieu-dit Harth Cuvée Caroline Gewurztraminer (Alsace)</th>\n      <td>France</td>\n      <td>Big, rich and off-dry, this is powered by inte...</td>\n      <td>Lieu-dit Harth Cuvée Caroline</td>\n      <td>90</td>\n      <td>21.0</td>\n      <td>Alsace</td>\n      <td>Alsace</td>\n      <td>NaN</td>\n      <td>Roger Voss</td>\n      <td>@vossroger</td>\n      <td>Gewürztraminer</td>\n      <td>Domaine Schoffit</td>\n    </tr>\n  </tbody>\n</table>\n<p>129971 rows × 12 columns</p>\n</div>"
     },
     "metadata": {},
     "execution_count": 25
    }
   ],
   "source": [
    "reviews.set_index(\"title\")"
   ]
  },
  {
   "cell_type": "markdown",
   "metadata": {},
   "source": [
    "This is useful if you can come up with an index for the dataset which is better than the current one."
   ]
  },
  {
   "cell_type": "markdown",
   "metadata": {},
   "source": [
    "# Conditional selection\n",
    "\n",
    "So far we've been indexing various strides of data, using structural properties of the DataFrame itself. To do *interesting* things with the data, however, we often need to ask questions based on conditions. \n",
    "\n",
    "For example, suppose that we're interested specifically in better-than-average wines produced in Italy.\n",
    "\n",
    "We can start by checking if each wine is Italian or not:"
   ]
  },
  {
   "cell_type": "code",
   "execution_count": 26,
   "metadata": {
    "collapsed": true
   },
   "outputs": [
    {
     "output_type": "execute_result",
     "data": {
      "text/plain": "0          True\n1         False\n          ...  \n129969    False\n129970    False\nName: country, Length: 129971, dtype: bool"
     },
     "metadata": {},
     "execution_count": 26
    }
   ],
   "source": [
    "reviews.country == 'Italy'"
   ]
  },
  {
   "cell_type": "markdown",
   "metadata": {},
   "source": [
    "This operation produced a Series of `True`/`False` booleans based on the `country` of each record.  This result can then be used inside of `loc` to select the relevant data:"
   ]
  },
  {
   "cell_type": "code",
   "execution_count": 27,
   "metadata": {
    "collapsed": true
   },
   "outputs": [
    {
     "output_type": "execute_result",
     "data": {
      "text/plain": "       country                                        description  \\\n0        Italy  Aromas include tropical fruit, broom, brimston...   \n6        Italy  Here's a bright, informal red that opens with ...   \n...        ...                                                ...   \n129961   Italy  Intense aromas of wild cherry, baking spice, t...   \n129962   Italy  Blackberry, cassis, grilled herb and toasted a...   \n\n                      designation  points  price           province  region_1  \\\n0                    Vulkà Bianco      87    NaN  Sicily & Sardinia      Etna   \n6                         Belsito      87   16.0  Sicily & Sardinia  Vittoria   \n...                           ...     ...    ...                ...       ...   \n129961                        NaN      90   30.0  Sicily & Sardinia   Sicilia   \n129962  Sàgana Tenuta San Giacomo      90   40.0  Sicily & Sardinia   Sicilia   \n\n       region_2    taster_name taster_twitter_handle  \\\n0           NaN  Kerin O’Keefe          @kerinokeefe   \n6           NaN  Kerin O’Keefe          @kerinokeefe   \n...         ...            ...                   ...   \n129961      NaN  Kerin O’Keefe          @kerinokeefe   \n129962      NaN  Kerin O’Keefe          @kerinokeefe   \n\n                                                    title       variety  \\\n0                       Nicosia 2013 Vulkà Bianco  (Etna)   White Blend   \n6        Terre di Giurfo 2013 Belsito Frappato (Vittoria)      Frappato   \n...                                                   ...           ...   \n129961                        COS 2013 Frappato (Sicilia)      Frappato   \n129962  Cusumano 2012 Sàgana Tenuta San Giacomo Nero d...  Nero d'Avola   \n\n                 winery  \n0               Nicosia  \n6       Terre di Giurfo  \n...                 ...  \n129961              COS  \n129962         Cusumano  \n\n[19540 rows x 13 columns]",
      "text/html": "<div>\n<style scoped>\n    .dataframe tbody tr th:only-of-type {\n        vertical-align: middle;\n    }\n\n    .dataframe tbody tr th {\n        vertical-align: top;\n    }\n\n    .dataframe thead th {\n        text-align: right;\n    }\n</style>\n<table border=\"1\" class=\"dataframe\">\n  <thead>\n    <tr style=\"text-align: right;\">\n      <th></th>\n      <th>country</th>\n      <th>description</th>\n      <th>designation</th>\n      <th>points</th>\n      <th>price</th>\n      <th>province</th>\n      <th>region_1</th>\n      <th>region_2</th>\n      <th>taster_name</th>\n      <th>taster_twitter_handle</th>\n      <th>title</th>\n      <th>variety</th>\n      <th>winery</th>\n    </tr>\n  </thead>\n  <tbody>\n    <tr>\n      <th>0</th>\n      <td>Italy</td>\n      <td>Aromas include tropical fruit, broom, brimston...</td>\n      <td>Vulkà Bianco</td>\n      <td>87</td>\n      <td>NaN</td>\n      <td>Sicily &amp; Sardinia</td>\n      <td>Etna</td>\n      <td>NaN</td>\n      <td>Kerin O’Keefe</td>\n      <td>@kerinokeefe</td>\n      <td>Nicosia 2013 Vulkà Bianco  (Etna)</td>\n      <td>White Blend</td>\n      <td>Nicosia</td>\n    </tr>\n    <tr>\n      <th>6</th>\n      <td>Italy</td>\n      <td>Here's a bright, informal red that opens with ...</td>\n      <td>Belsito</td>\n      <td>87</td>\n      <td>16.0</td>\n      <td>Sicily &amp; Sardinia</td>\n      <td>Vittoria</td>\n      <td>NaN</td>\n      <td>Kerin O’Keefe</td>\n      <td>@kerinokeefe</td>\n      <td>Terre di Giurfo 2013 Belsito Frappato (Vittoria)</td>\n      <td>Frappato</td>\n      <td>Terre di Giurfo</td>\n    </tr>\n    <tr>\n      <th>...</th>\n      <td>...</td>\n      <td>...</td>\n      <td>...</td>\n      <td>...</td>\n      <td>...</td>\n      <td>...</td>\n      <td>...</td>\n      <td>...</td>\n      <td>...</td>\n      <td>...</td>\n      <td>...</td>\n      <td>...</td>\n      <td>...</td>\n    </tr>\n    <tr>\n      <th>129961</th>\n      <td>Italy</td>\n      <td>Intense aromas of wild cherry, baking spice, t...</td>\n      <td>NaN</td>\n      <td>90</td>\n      <td>30.0</td>\n      <td>Sicily &amp; Sardinia</td>\n      <td>Sicilia</td>\n      <td>NaN</td>\n      <td>Kerin O’Keefe</td>\n      <td>@kerinokeefe</td>\n      <td>COS 2013 Frappato (Sicilia)</td>\n      <td>Frappato</td>\n      <td>COS</td>\n    </tr>\n    <tr>\n      <th>129962</th>\n      <td>Italy</td>\n      <td>Blackberry, cassis, grilled herb and toasted a...</td>\n      <td>Sàgana Tenuta San Giacomo</td>\n      <td>90</td>\n      <td>40.0</td>\n      <td>Sicily &amp; Sardinia</td>\n      <td>Sicilia</td>\n      <td>NaN</td>\n      <td>Kerin O’Keefe</td>\n      <td>@kerinokeefe</td>\n      <td>Cusumano 2012 Sàgana Tenuta San Giacomo Nero d...</td>\n      <td>Nero d'Avola</td>\n      <td>Cusumano</td>\n    </tr>\n  </tbody>\n</table>\n<p>19540 rows × 13 columns</p>\n</div>"
     },
     "metadata": {},
     "execution_count": 27
    }
   ],
   "source": [
    "reviews.loc[reviews.country == 'Italy']"
   ]
  },
  {
   "cell_type": "markdown",
   "metadata": {},
   "source": [
    "This DataFrame has ~20,000 rows. The original had ~130,000. That means that around 15% of wines originate from Italy.\n",
    "\n",
    "We also wanted to know which ones are better than average. Wines are reviewed on a 80-to-100 point scale, so this could mean wines that accrued at least 90 points.\n",
    "\n",
    "We can use the ampersand (`&`) to bring the two questions together:"
   ]
  },
  {
   "cell_type": "code",
   "execution_count": 32,
   "metadata": {
    "collapsed": true
   },
   "outputs": [
    {
     "output_type": "execute_result",
     "data": {
      "text/plain": "       country                                        description  \\\n120      Italy  Slightly backward, particularly given the vint...   \n130      Italy  At the first it was quite muted and subdued, b...   \n...        ...                                                ...   \n129961   Italy  Intense aromas of wild cherry, baking spice, t...   \n129962   Italy  Blackberry, cassis, grilled herb and toasted a...   \n\n                      designation  points  price           province region_1  \\\n120           Bricco Rocche Prapó      92   70.0           Piedmont   Barolo   \n130         Bricco Rocche Brunate      91   70.0           Piedmont   Barolo   \n...                           ...     ...    ...                ...      ...   \n129961                        NaN      90   30.0  Sicily & Sardinia  Sicilia   \n129962  Sàgana Tenuta San Giacomo      90   40.0  Sicily & Sardinia  Sicilia   \n\n       region_2    taster_name taster_twitter_handle  \\\n120         NaN            NaN                   NaN   \n130         NaN            NaN                   NaN   \n...         ...            ...                   ...   \n129961      NaN  Kerin O’Keefe          @kerinokeefe   \n129962      NaN  Kerin O’Keefe          @kerinokeefe   \n\n                                                    title       variety  \\\n120            Ceretto 2003 Bricco Rocche Prapó  (Barolo)      Nebbiolo   \n130          Ceretto 2003 Bricco Rocche Brunate  (Barolo)      Nebbiolo   \n...                                                   ...           ...   \n129961                        COS 2013 Frappato (Sicilia)      Frappato   \n129962  Cusumano 2012 Sàgana Tenuta San Giacomo Nero d...  Nero d'Avola   \n\n          winery  \n120      Ceretto  \n130      Ceretto  \n...          ...  \n129961       COS  \n129962  Cusumano  \n\n[6648 rows x 13 columns]",
      "text/html": "<div>\n<style scoped>\n    .dataframe tbody tr th:only-of-type {\n        vertical-align: middle;\n    }\n\n    .dataframe tbody tr th {\n        vertical-align: top;\n    }\n\n    .dataframe thead th {\n        text-align: right;\n    }\n</style>\n<table border=\"1\" class=\"dataframe\">\n  <thead>\n    <tr style=\"text-align: right;\">\n      <th></th>\n      <th>country</th>\n      <th>description</th>\n      <th>designation</th>\n      <th>points</th>\n      <th>price</th>\n      <th>province</th>\n      <th>region_1</th>\n      <th>region_2</th>\n      <th>taster_name</th>\n      <th>taster_twitter_handle</th>\n      <th>title</th>\n      <th>variety</th>\n      <th>winery</th>\n    </tr>\n  </thead>\n  <tbody>\n    <tr>\n      <th>120</th>\n      <td>Italy</td>\n      <td>Slightly backward, particularly given the vint...</td>\n      <td>Bricco Rocche Prapó</td>\n      <td>92</td>\n      <td>70.0</td>\n      <td>Piedmont</td>\n      <td>Barolo</td>\n      <td>NaN</td>\n      <td>NaN</td>\n      <td>NaN</td>\n      <td>Ceretto 2003 Bricco Rocche Prapó  (Barolo)</td>\n      <td>Nebbiolo</td>\n      <td>Ceretto</td>\n    </tr>\n    <tr>\n      <th>130</th>\n      <td>Italy</td>\n      <td>At the first it was quite muted and subdued, b...</td>\n      <td>Bricco Rocche Brunate</td>\n      <td>91</td>\n      <td>70.0</td>\n      <td>Piedmont</td>\n      <td>Barolo</td>\n      <td>NaN</td>\n      <td>NaN</td>\n      <td>NaN</td>\n      <td>Ceretto 2003 Bricco Rocche Brunate  (Barolo)</td>\n      <td>Nebbiolo</td>\n      <td>Ceretto</td>\n    </tr>\n    <tr>\n      <th>...</th>\n      <td>...</td>\n      <td>...</td>\n      <td>...</td>\n      <td>...</td>\n      <td>...</td>\n      <td>...</td>\n      <td>...</td>\n      <td>...</td>\n      <td>...</td>\n      <td>...</td>\n      <td>...</td>\n      <td>...</td>\n      <td>...</td>\n    </tr>\n    <tr>\n      <th>129961</th>\n      <td>Italy</td>\n      <td>Intense aromas of wild cherry, baking spice, t...</td>\n      <td>NaN</td>\n      <td>90</td>\n      <td>30.0</td>\n      <td>Sicily &amp; Sardinia</td>\n      <td>Sicilia</td>\n      <td>NaN</td>\n      <td>Kerin O’Keefe</td>\n      <td>@kerinokeefe</td>\n      <td>COS 2013 Frappato (Sicilia)</td>\n      <td>Frappato</td>\n      <td>COS</td>\n    </tr>\n    <tr>\n      <th>129962</th>\n      <td>Italy</td>\n      <td>Blackberry, cassis, grilled herb and toasted a...</td>\n      <td>Sàgana Tenuta San Giacomo</td>\n      <td>90</td>\n      <td>40.0</td>\n      <td>Sicily &amp; Sardinia</td>\n      <td>Sicilia</td>\n      <td>NaN</td>\n      <td>Kerin O’Keefe</td>\n      <td>@kerinokeefe</td>\n      <td>Cusumano 2012 Sàgana Tenuta San Giacomo Nero d...</td>\n      <td>Nero d'Avola</td>\n      <td>Cusumano</td>\n    </tr>\n  </tbody>\n</table>\n<p>6648 rows × 13 columns</p>\n</div>"
     },
     "metadata": {},
     "execution_count": 32
    }
   ],
   "source": [
    "reviews.loc[(reviews.country == 'Italy') & (reviews.points >= 90)]"
   ]
  },
  {
   "cell_type": "markdown",
   "metadata": {},
   "source": [
    "Suppose we'll buy any wine that's made in Italy _or_ which is rated above average. For this we use a pipe (`|`):"
   ]
  },
  {
   "cell_type": "code",
   "execution_count": 30,
   "metadata": {
    "collapsed": true
   },
   "outputs": [
    {
     "output_type": "execute_result",
     "data": {
      "text/plain": "       country                                        description  \\\n0        Italy  Aromas include tropical fruit, broom, brimston...   \n6        Italy  Here's a bright, informal red that opens with ...   \n...        ...                                                ...   \n129969  France  A dry style of Pinot Gris, this is crisp with ...   \n129970  France  Big, rich and off-dry, this is powered by inte...   \n\n                          designation  points  price           province  \\\n0                        Vulkà Bianco      87    NaN  Sicily & Sardinia   \n6                             Belsito      87   16.0  Sicily & Sardinia   \n...                               ...     ...    ...                ...   \n129969                            NaN      90   32.0             Alsace   \n129970  Lieu-dit Harth Cuvée Caroline      90   21.0             Alsace   \n\n        region_1 region_2    taster_name taster_twitter_handle  \\\n0           Etna      NaN  Kerin O’Keefe          @kerinokeefe   \n6       Vittoria      NaN  Kerin O’Keefe          @kerinokeefe   \n...          ...      ...            ...                   ...   \n129969    Alsace      NaN     Roger Voss            @vossroger   \n129970    Alsace      NaN     Roger Voss            @vossroger   \n\n                                                    title         variety  \\\n0                       Nicosia 2013 Vulkà Bianco  (Etna)     White Blend   \n6        Terre di Giurfo 2013 Belsito Frappato (Vittoria)        Frappato   \n...                                                   ...             ...   \n129969      Domaine Marcel Deiss 2012 Pinot Gris (Alsace)      Pinot Gris   \n129970  Domaine Schoffit 2012 Lieu-dit Harth Cuvée Car...  Gewürztraminer   \n\n                      winery  \n0                    Nicosia  \n6            Terre di Giurfo  \n...                      ...  \n129969  Domaine Marcel Deiss  \n129970      Domaine Schoffit  \n\n[61937 rows x 13 columns]",
      "text/html": "<div>\n<style scoped>\n    .dataframe tbody tr th:only-of-type {\n        vertical-align: middle;\n    }\n\n    .dataframe tbody tr th {\n        vertical-align: top;\n    }\n\n    .dataframe thead th {\n        text-align: right;\n    }\n</style>\n<table border=\"1\" class=\"dataframe\">\n  <thead>\n    <tr style=\"text-align: right;\">\n      <th></th>\n      <th>country</th>\n      <th>description</th>\n      <th>designation</th>\n      <th>points</th>\n      <th>price</th>\n      <th>province</th>\n      <th>region_1</th>\n      <th>region_2</th>\n      <th>taster_name</th>\n      <th>taster_twitter_handle</th>\n      <th>title</th>\n      <th>variety</th>\n      <th>winery</th>\n    </tr>\n  </thead>\n  <tbody>\n    <tr>\n      <th>0</th>\n      <td>Italy</td>\n      <td>Aromas include tropical fruit, broom, brimston...</td>\n      <td>Vulkà Bianco</td>\n      <td>87</td>\n      <td>NaN</td>\n      <td>Sicily &amp; Sardinia</td>\n      <td>Etna</td>\n      <td>NaN</td>\n      <td>Kerin O’Keefe</td>\n      <td>@kerinokeefe</td>\n      <td>Nicosia 2013 Vulkà Bianco  (Etna)</td>\n      <td>White Blend</td>\n      <td>Nicosia</td>\n    </tr>\n    <tr>\n      <th>6</th>\n      <td>Italy</td>\n      <td>Here's a bright, informal red that opens with ...</td>\n      <td>Belsito</td>\n      <td>87</td>\n      <td>16.0</td>\n      <td>Sicily &amp; Sardinia</td>\n      <td>Vittoria</td>\n      <td>NaN</td>\n      <td>Kerin O’Keefe</td>\n      <td>@kerinokeefe</td>\n      <td>Terre di Giurfo 2013 Belsito Frappato (Vittoria)</td>\n      <td>Frappato</td>\n      <td>Terre di Giurfo</td>\n    </tr>\n    <tr>\n      <th>...</th>\n      <td>...</td>\n      <td>...</td>\n      <td>...</td>\n      <td>...</td>\n      <td>...</td>\n      <td>...</td>\n      <td>...</td>\n      <td>...</td>\n      <td>...</td>\n      <td>...</td>\n      <td>...</td>\n      <td>...</td>\n      <td>...</td>\n    </tr>\n    <tr>\n      <th>129969</th>\n      <td>France</td>\n      <td>A dry style of Pinot Gris, this is crisp with ...</td>\n      <td>NaN</td>\n      <td>90</td>\n      <td>32.0</td>\n      <td>Alsace</td>\n      <td>Alsace</td>\n      <td>NaN</td>\n      <td>Roger Voss</td>\n      <td>@vossroger</td>\n      <td>Domaine Marcel Deiss 2012 Pinot Gris (Alsace)</td>\n      <td>Pinot Gris</td>\n      <td>Domaine Marcel Deiss</td>\n    </tr>\n    <tr>\n      <th>129970</th>\n      <td>France</td>\n      <td>Big, rich and off-dry, this is powered by inte...</td>\n      <td>Lieu-dit Harth Cuvée Caroline</td>\n      <td>90</td>\n      <td>21.0</td>\n      <td>Alsace</td>\n      <td>Alsace</td>\n      <td>NaN</td>\n      <td>Roger Voss</td>\n      <td>@vossroger</td>\n      <td>Domaine Schoffit 2012 Lieu-dit Harth Cuvée Car...</td>\n      <td>Gewürztraminer</td>\n      <td>Domaine Schoffit</td>\n    </tr>\n  </tbody>\n</table>\n<p>61937 rows × 13 columns</p>\n</div>"
     },
     "metadata": {},
     "execution_count": 30
    }
   ],
   "source": [
    "reviews.loc[(reviews.country == 'Italy') | (reviews.points >= 90)]"
   ]
  },
  {
   "cell_type": "markdown",
   "metadata": {},
   "source": [
    "Pandas comes with a few built-in conditional selectors, two of which we will highlight here. \n",
    "\n",
    "The first is `isin`. `isin` is lets you select data whose value \"is in\" a list of values. For example, here's how we can use it to select wines only from Italy or France:"
   ]
  },
  {
   "cell_type": "code",
   "execution_count": 33,
   "metadata": {
    "collapsed": true
   },
   "outputs": [
    {
     "output_type": "execute_result",
     "data": {
      "text/plain": "       country                                        description  \\\n0        Italy  Aromas include tropical fruit, broom, brimston...   \n6        Italy  Here's a bright, informal red that opens with ...   \n...        ...                                                ...   \n129969  France  A dry style of Pinot Gris, this is crisp with ...   \n129970  France  Big, rich and off-dry, this is powered by inte...   \n\n                          designation  points  price           province  \\\n0                        Vulkà Bianco      87    NaN  Sicily & Sardinia   \n6                             Belsito      87   16.0  Sicily & Sardinia   \n...                               ...     ...    ...                ...   \n129969                            NaN      90   32.0             Alsace   \n129970  Lieu-dit Harth Cuvée Caroline      90   21.0             Alsace   \n\n        region_1 region_2    taster_name taster_twitter_handle  \\\n0           Etna      NaN  Kerin O’Keefe          @kerinokeefe   \n6       Vittoria      NaN  Kerin O’Keefe          @kerinokeefe   \n...          ...      ...            ...                   ...   \n129969    Alsace      NaN     Roger Voss            @vossroger   \n129970    Alsace      NaN     Roger Voss            @vossroger   \n\n                                                    title         variety  \\\n0                       Nicosia 2013 Vulkà Bianco  (Etna)     White Blend   \n6        Terre di Giurfo 2013 Belsito Frappato (Vittoria)        Frappato   \n...                                                   ...             ...   \n129969      Domaine Marcel Deiss 2012 Pinot Gris (Alsace)      Pinot Gris   \n129970  Domaine Schoffit 2012 Lieu-dit Harth Cuvée Car...  Gewürztraminer   \n\n                      winery  \n0                    Nicosia  \n6            Terre di Giurfo  \n...                      ...  \n129969  Domaine Marcel Deiss  \n129970      Domaine Schoffit  \n\n[41633 rows x 13 columns]",
      "text/html": "<div>\n<style scoped>\n    .dataframe tbody tr th:only-of-type {\n        vertical-align: middle;\n    }\n\n    .dataframe tbody tr th {\n        vertical-align: top;\n    }\n\n    .dataframe thead th {\n        text-align: right;\n    }\n</style>\n<table border=\"1\" class=\"dataframe\">\n  <thead>\n    <tr style=\"text-align: right;\">\n      <th></th>\n      <th>country</th>\n      <th>description</th>\n      <th>designation</th>\n      <th>points</th>\n      <th>price</th>\n      <th>province</th>\n      <th>region_1</th>\n      <th>region_2</th>\n      <th>taster_name</th>\n      <th>taster_twitter_handle</th>\n      <th>title</th>\n      <th>variety</th>\n      <th>winery</th>\n    </tr>\n  </thead>\n  <tbody>\n    <tr>\n      <th>0</th>\n      <td>Italy</td>\n      <td>Aromas include tropical fruit, broom, brimston...</td>\n      <td>Vulkà Bianco</td>\n      <td>87</td>\n      <td>NaN</td>\n      <td>Sicily &amp; Sardinia</td>\n      <td>Etna</td>\n      <td>NaN</td>\n      <td>Kerin O’Keefe</td>\n      <td>@kerinokeefe</td>\n      <td>Nicosia 2013 Vulkà Bianco  (Etna)</td>\n      <td>White Blend</td>\n      <td>Nicosia</td>\n    </tr>\n    <tr>\n      <th>6</th>\n      <td>Italy</td>\n      <td>Here's a bright, informal red that opens with ...</td>\n      <td>Belsito</td>\n      <td>87</td>\n      <td>16.0</td>\n      <td>Sicily &amp; Sardinia</td>\n      <td>Vittoria</td>\n      <td>NaN</td>\n      <td>Kerin O’Keefe</td>\n      <td>@kerinokeefe</td>\n      <td>Terre di Giurfo 2013 Belsito Frappato (Vittoria)</td>\n      <td>Frappato</td>\n      <td>Terre di Giurfo</td>\n    </tr>\n    <tr>\n      <th>...</th>\n      <td>...</td>\n      <td>...</td>\n      <td>...</td>\n      <td>...</td>\n      <td>...</td>\n      <td>...</td>\n      <td>...</td>\n      <td>...</td>\n      <td>...</td>\n      <td>...</td>\n      <td>...</td>\n      <td>...</td>\n      <td>...</td>\n    </tr>\n    <tr>\n      <th>129969</th>\n      <td>France</td>\n      <td>A dry style of Pinot Gris, this is crisp with ...</td>\n      <td>NaN</td>\n      <td>90</td>\n      <td>32.0</td>\n      <td>Alsace</td>\n      <td>Alsace</td>\n      <td>NaN</td>\n      <td>Roger Voss</td>\n      <td>@vossroger</td>\n      <td>Domaine Marcel Deiss 2012 Pinot Gris (Alsace)</td>\n      <td>Pinot Gris</td>\n      <td>Domaine Marcel Deiss</td>\n    </tr>\n    <tr>\n      <th>129970</th>\n      <td>France</td>\n      <td>Big, rich and off-dry, this is powered by inte...</td>\n      <td>Lieu-dit Harth Cuvée Caroline</td>\n      <td>90</td>\n      <td>21.0</td>\n      <td>Alsace</td>\n      <td>Alsace</td>\n      <td>NaN</td>\n      <td>Roger Voss</td>\n      <td>@vossroger</td>\n      <td>Domaine Schoffit 2012 Lieu-dit Harth Cuvée Car...</td>\n      <td>Gewürztraminer</td>\n      <td>Domaine Schoffit</td>\n    </tr>\n  </tbody>\n</table>\n<p>41633 rows × 13 columns</p>\n</div>"
     },
     "metadata": {},
     "execution_count": 33
    }
   ],
   "source": [
    "reviews.loc[reviews.country.isin(['Italy', 'France'])]"
   ]
  },
  {
   "cell_type": "markdown",
   "metadata": {},
   "source": [
    "The second is `isnull` (and its companion `notnull`). These methods let you highlight values which are (or are not) empty (`NaN`). For example, to filter out wines lacking a price tag in the dataset, here's what we would do:"
   ]
  },
  {
   "cell_type": "code",
   "execution_count": 38,
   "metadata": {
    "collapsed": true
   },
   "outputs": [
    {
     "output_type": "execute_result",
     "data": {
      "text/plain": "         country                                        description  \\\n1       Portugal  This is ripe and fruity, a wine that is smooth...   \n2             US  Tart and snappy, the flavors of lime flesh and...   \n...          ...                                                ...   \n129969    France  A dry style of Pinot Gris, this is crisp with ...   \n129970    France  Big, rich and off-dry, this is powered by inte...   \n\n                          designation  points  price province  \\\n1                            Avidagos      87   15.0    Douro   \n2                                 NaN      87   14.0   Oregon   \n...                               ...     ...    ...      ...   \n129969                            NaN      90   32.0   Alsace   \n129970  Lieu-dit Harth Cuvée Caroline      90   21.0   Alsace   \n\n                 region_1           region_2   taster_name  \\\n1                     NaN                NaN    Roger Voss   \n2       Willamette Valley  Willamette Valley  Paul Gregutt   \n...                   ...                ...           ...   \n129969             Alsace                NaN    Roger Voss   \n129970             Alsace                NaN    Roger Voss   \n\n       taster_twitter_handle  \\\n1                 @vossroger   \n2                @paulgwine    \n...                      ...   \n129969            @vossroger   \n129970            @vossroger   \n\n                                                    title         variety  \\\n1           Quinta dos Avidagos 2011 Avidagos Red (Douro)  Portuguese Red   \n2           Rainstorm 2013 Pinot Gris (Willamette Valley)      Pinot Gris   \n...                                                   ...             ...   \n129969      Domaine Marcel Deiss 2012 Pinot Gris (Alsace)      Pinot Gris   \n129970  Domaine Schoffit 2012 Lieu-dit Harth Cuvée Car...  Gewürztraminer   \n\n                      winery  \n1        Quinta dos Avidagos  \n2                  Rainstorm  \n...                      ...  \n129969  Domaine Marcel Deiss  \n129970      Domaine Schoffit  \n\n[120975 rows x 13 columns]",
      "text/html": "<div>\n<style scoped>\n    .dataframe tbody tr th:only-of-type {\n        vertical-align: middle;\n    }\n\n    .dataframe tbody tr th {\n        vertical-align: top;\n    }\n\n    .dataframe thead th {\n        text-align: right;\n    }\n</style>\n<table border=\"1\" class=\"dataframe\">\n  <thead>\n    <tr style=\"text-align: right;\">\n      <th></th>\n      <th>country</th>\n      <th>description</th>\n      <th>designation</th>\n      <th>points</th>\n      <th>price</th>\n      <th>province</th>\n      <th>region_1</th>\n      <th>region_2</th>\n      <th>taster_name</th>\n      <th>taster_twitter_handle</th>\n      <th>title</th>\n      <th>variety</th>\n      <th>winery</th>\n    </tr>\n  </thead>\n  <tbody>\n    <tr>\n      <th>1</th>\n      <td>Portugal</td>\n      <td>This is ripe and fruity, a wine that is smooth...</td>\n      <td>Avidagos</td>\n      <td>87</td>\n      <td>15.0</td>\n      <td>Douro</td>\n      <td>NaN</td>\n      <td>NaN</td>\n      <td>Roger Voss</td>\n      <td>@vossroger</td>\n      <td>Quinta dos Avidagos 2011 Avidagos Red (Douro)</td>\n      <td>Portuguese Red</td>\n      <td>Quinta dos Avidagos</td>\n    </tr>\n    <tr>\n      <th>2</th>\n      <td>US</td>\n      <td>Tart and snappy, the flavors of lime flesh and...</td>\n      <td>NaN</td>\n      <td>87</td>\n      <td>14.0</td>\n      <td>Oregon</td>\n      <td>Willamette Valley</td>\n      <td>Willamette Valley</td>\n      <td>Paul Gregutt</td>\n      <td>@paulgwine</td>\n      <td>Rainstorm 2013 Pinot Gris (Willamette Valley)</td>\n      <td>Pinot Gris</td>\n      <td>Rainstorm</td>\n    </tr>\n    <tr>\n      <th>...</th>\n      <td>...</td>\n      <td>...</td>\n      <td>...</td>\n      <td>...</td>\n      <td>...</td>\n      <td>...</td>\n      <td>...</td>\n      <td>...</td>\n      <td>...</td>\n      <td>...</td>\n      <td>...</td>\n      <td>...</td>\n      <td>...</td>\n    </tr>\n    <tr>\n      <th>129969</th>\n      <td>France</td>\n      <td>A dry style of Pinot Gris, this is crisp with ...</td>\n      <td>NaN</td>\n      <td>90</td>\n      <td>32.0</td>\n      <td>Alsace</td>\n      <td>Alsace</td>\n      <td>NaN</td>\n      <td>Roger Voss</td>\n      <td>@vossroger</td>\n      <td>Domaine Marcel Deiss 2012 Pinot Gris (Alsace)</td>\n      <td>Pinot Gris</td>\n      <td>Domaine Marcel Deiss</td>\n    </tr>\n    <tr>\n      <th>129970</th>\n      <td>France</td>\n      <td>Big, rich and off-dry, this is powered by inte...</td>\n      <td>Lieu-dit Harth Cuvée Caroline</td>\n      <td>90</td>\n      <td>21.0</td>\n      <td>Alsace</td>\n      <td>Alsace</td>\n      <td>NaN</td>\n      <td>Roger Voss</td>\n      <td>@vossroger</td>\n      <td>Domaine Schoffit 2012 Lieu-dit Harth Cuvée Car...</td>\n      <td>Gewürztraminer</td>\n      <td>Domaine Schoffit</td>\n    </tr>\n  </tbody>\n</table>\n<p>120975 rows × 13 columns</p>\n</div>"
     },
     "metadata": {},
     "execution_count": 38
    }
   ],
   "source": [
    "reviews.loc[reviews.price.notnull()]"
   ]
  },
  {
   "cell_type": "markdown",
   "metadata": {},
   "source": [
    "# Assigning data\n",
    "\n",
    "Going the other way, assigning data to a DataFrame is easy. You can assign either a constant value:"
   ]
  },
  {
   "cell_type": "code",
   "execution_count": 39,
   "metadata": {
    "collapsed": true
   },
   "outputs": [
    {
     "output_type": "execute_result",
     "data": {
      "text/plain": "0         everyone\n1         everyone\n            ...   \n129969    everyone\n129970    everyone\nName: critic, Length: 129971, dtype: object"
     },
     "metadata": {},
     "execution_count": 39
    }
   ],
   "source": [
    "reviews['critic'] = 'everyone'\n",
    "reviews['critic']"
   ]
  },
  {
   "cell_type": "markdown",
   "metadata": {},
   "source": [
    "Or with an iterable of values:"
   ]
  },
  {
   "cell_type": "code",
   "execution_count": 40,
   "metadata": {
    "collapsed": true
   },
   "outputs": [
    {
     "output_type": "execute_result",
     "data": {
      "text/plain": "0         129971\n1         129970\n           ...  \n129969         2\n129970         1\nName: index_backwards, Length: 129971, dtype: int32"
     },
     "metadata": {},
     "execution_count": 40
    }
   ],
   "source": [
    "reviews['index_backwards'] = range(len(reviews), 0, -1)\n",
    "reviews['index_backwards']"
   ]
  },
  {
   "cell_type": "markdown",
   "metadata": {},
   "source": [
    "# Your turn\n",
    "\n",
    "If you haven't started the exercise, you can **[get started here](#$NEXT_NOTEBOOK_URL$)**."
   ]
  }
 ],
 "metadata": {
  "kernelspec": {
   "display_name": "Python 3",
   "language": "python",
   "name": "python3"
  },
  "language_info": {
   "codemirror_mode": {
    "name": "ipython",
    "version": 3
   },
   "file_extension": ".py",
   "mimetype": "text/x-python",
   "name": "python",
   "nbconvert_exporter": "python",
   "pygments_lexer": "ipython3",
   "version": "3.8.2-final"
  }
 },
 "nbformat": 4,
 "nbformat_minor": 2
}