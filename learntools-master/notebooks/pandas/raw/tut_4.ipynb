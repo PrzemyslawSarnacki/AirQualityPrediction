{
 "cells": [
  {
   "cell_type": "markdown",
   "metadata": {},
   "source": [
    "# Introduction\n",
    "\n",
    "In this tutorial, you'll learn how to investigate data types within a DataFrame or Series.  You'll also learn how to find and replace entries.\n",
    "\n",
    "**To start the exercise for this topic, please click [here](#$NEXT_NOTEBOOK_URL$).**\n",
    "\n",
    "# Dtypes\n",
    "\n",
    "The data type for a column in a DataFrame or a Series is known as the **dtype**.\n",
    "\n",
    "You can use the `dtype` property to grab the type of a specific column.  For instance, we can get the dtype of the `price` column in the `reviews` DataFrame:"
   ]
  },
  {
   "cell_type": "code",
   "execution_count": 1,
   "metadata": {},
   "outputs": [],
   "source": [
    "#$HIDE_INPUT$\n",
    "import pandas as pd\n",
    "reviews = pd.read_csv(\"winemag-data-130k-v2.csv\", index_col=0)\n",
    "pd.set_option('max_rows', 5)"
   ]
  },
  {
   "cell_type": "code",
   "execution_count": 9,
   "metadata": {
    "collapsed": true,
    "scrolled": true
   },
   "outputs": [
    {
     "output_type": "execute_result",
     "data": {
      "text/plain": "dtype('float64')"
     },
     "metadata": {},
     "execution_count": 9
    }
   ],
   "source": [
    "reviews.price.dtype"
   ]
  },
  {
   "cell_type": "markdown",
   "metadata": {},
   "source": [
    "Alternatively, the `dtypes` property returns the `dtype` of _every_ column in the DataFrame:"
   ]
  },
  {
   "cell_type": "code",
   "execution_count": 3,
   "metadata": {
    "collapsed": true
   },
   "outputs": [
    {
     "output_type": "execute_result",
     "data": {
      "text/plain": "country        object\ndescription    object\n                ...  \nvariety        object\nwinery         object\nLength: 13, dtype: object"
     },
     "metadata": {},
     "execution_count": 3
    }
   ],
   "source": [
    "reviews.dtypes"
   ]
  },
  {
   "cell_type": "markdown",
   "metadata": {},
   "source": [
    "Data types tell us something about how pandas is storing the data internally. `float64` means that it's using a 64-bit floating point number; `int64` means a similarly sized integer instead, and so on.\n",
    "\n",
    "One peculiarity to keep in mind (and on display very clearly here) is that columns consisting entirely of strings do not get their own type; they are instead given the `object` type.\n",
    "\n",
    "It's possible to convert a column of one type into another wherever such a conversion makes sense by using the `astype()` function. For example, we may transform the `points` column from its existing `int64` data type into a `float64` data type:"
   ]
  },
  {
   "cell_type": "code",
   "execution_count": 4,
   "metadata": {
    "collapsed": true,
    "scrolled": true
   },
   "outputs": [
    {
     "output_type": "execute_result",
     "data": {
      "text/plain": "0         87.0\n1         87.0\n          ... \n129969    90.0\n129970    90.0\nName: points, Length: 129971, dtype: float64"
     },
     "metadata": {},
     "execution_count": 4
    }
   ],
   "source": [
    "reviews.points.astype('float64')"
   ]
  },
  {
   "cell_type": "markdown",
   "metadata": {},
   "source": [
    "A DataFrame or Series index has its own `dtype`, too:"
   ]
  },
  {
   "cell_type": "code",
   "execution_count": 5,
   "metadata": {
    "collapsed": true
   },
   "outputs": [
    {
     "output_type": "execute_result",
     "data": {
      "text/plain": "dtype('int64')"
     },
     "metadata": {},
     "execution_count": 5
    }
   ],
   "source": [
    "reviews.index.dtype"
   ]
  },
  {
   "cell_type": "markdown",
   "metadata": {},
   "source": [
    "Pandas also supports more exotic data types, such as categorical data and timeseries data. Because these data types are more rarely used, we will omit them until a much later section of this tutorial."
   ]
  },
  {
   "cell_type": "markdown",
   "metadata": {},
   "source": [
    "# Missing data\n",
    "\n",
    "Entries missing values are given the value `NaN`, short for \"Not a Number\". For technical reasons these `NaN` values are always of the `float64` dtype.\n",
    "\n",
    "Pandas provides some methods specific to missing data. To select `NaN` entries you can use `pd.isnull()` (or its companion `pd.notnull()`). This is meant to be used thusly:"
   ]
  },
  {
   "cell_type": "code",
   "execution_count": 6,
   "metadata": {
    "collapsed": true
   },
   "outputs": [
    {
     "output_type": "execute_result",
     "data": {
      "text/plain": "       country                                        description  \\\n913        NaN  Amber in color, this wine has aromas of peach ...   \n3131       NaN  Soft, fruity and juicy, this is a pleasant, si...   \n...        ...                                                ...   \n129590     NaN  A blend of 60% Syrah, 30% Cabernet Sauvignon a...   \n129900     NaN  This wine offers a delightful bouquet of black...   \n\n           designation  points  price province region_1 region_2  \\\n913     Asureti Valley      87   30.0      NaN      NaN      NaN   \n3131          Partager      83    NaN      NaN      NaN      NaN   \n...                ...     ...    ...      ...      ...      ...   \n129590            Shah      90   30.0      NaN      NaN      NaN   \n129900             NaN      91   32.0      NaN      NaN      NaN   \n\n          taster_name taster_twitter_handle  \\\n913     Mike DeSimone        @worldwineguys   \n3131       Roger Voss            @vossroger   \n...               ...                   ...   \n129590  Mike DeSimone        @worldwineguys   \n129900  Mike DeSimone        @worldwineguys   \n\n                                                 title    variety  \\\n913     Gotsa Family Wines 2014 Asureti Valley Chinuri    Chinuri   \n3131                 Barton & Guestier NV Partager Red  Red Blend   \n...                                                ...        ...   \n129590                         Büyülübağ 2012 Shah Red  Red Blend   \n129900                              Psagot 2014 Merlot     Merlot   \n\n                    winery  \n913     Gotsa Family Wines  \n3131     Barton & Guestier  \n...                    ...  \n129590           Büyülübağ  \n129900              Psagot  \n\n[63 rows x 13 columns]",
      "text/html": "<div>\n<style scoped>\n    .dataframe tbody tr th:only-of-type {\n        vertical-align: middle;\n    }\n\n    .dataframe tbody tr th {\n        vertical-align: top;\n    }\n\n    .dataframe thead th {\n        text-align: right;\n    }\n</style>\n<table border=\"1\" class=\"dataframe\">\n  <thead>\n    <tr style=\"text-align: right;\">\n      <th></th>\n      <th>country</th>\n      <th>description</th>\n      <th>designation</th>\n      <th>points</th>\n      <th>price</th>\n      <th>province</th>\n      <th>region_1</th>\n      <th>region_2</th>\n      <th>taster_name</th>\n      <th>taster_twitter_handle</th>\n      <th>title</th>\n      <th>variety</th>\n      <th>winery</th>\n    </tr>\n  </thead>\n  <tbody>\n    <tr>\n      <th>913</th>\n      <td>NaN</td>\n      <td>Amber in color, this wine has aromas of peach ...</td>\n      <td>Asureti Valley</td>\n      <td>87</td>\n      <td>30.0</td>\n      <td>NaN</td>\n      <td>NaN</td>\n      <td>NaN</td>\n      <td>Mike DeSimone</td>\n      <td>@worldwineguys</td>\n      <td>Gotsa Family Wines 2014 Asureti Valley Chinuri</td>\n      <td>Chinuri</td>\n      <td>Gotsa Family Wines</td>\n    </tr>\n    <tr>\n      <th>3131</th>\n      <td>NaN</td>\n      <td>Soft, fruity and juicy, this is a pleasant, si...</td>\n      <td>Partager</td>\n      <td>83</td>\n      <td>NaN</td>\n      <td>NaN</td>\n      <td>NaN</td>\n      <td>NaN</td>\n      <td>Roger Voss</td>\n      <td>@vossroger</td>\n      <td>Barton &amp; Guestier NV Partager Red</td>\n      <td>Red Blend</td>\n      <td>Barton &amp; Guestier</td>\n    </tr>\n    <tr>\n      <th>...</th>\n      <td>...</td>\n      <td>...</td>\n      <td>...</td>\n      <td>...</td>\n      <td>...</td>\n      <td>...</td>\n      <td>...</td>\n      <td>...</td>\n      <td>...</td>\n      <td>...</td>\n      <td>...</td>\n      <td>...</td>\n      <td>...</td>\n    </tr>\n    <tr>\n      <th>129590</th>\n      <td>NaN</td>\n      <td>A blend of 60% Syrah, 30% Cabernet Sauvignon a...</td>\n      <td>Shah</td>\n      <td>90</td>\n      <td>30.0</td>\n      <td>NaN</td>\n      <td>NaN</td>\n      <td>NaN</td>\n      <td>Mike DeSimone</td>\n      <td>@worldwineguys</td>\n      <td>Büyülübağ 2012 Shah Red</td>\n      <td>Red Blend</td>\n      <td>Büyülübağ</td>\n    </tr>\n    <tr>\n      <th>129900</th>\n      <td>NaN</td>\n      <td>This wine offers a delightful bouquet of black...</td>\n      <td>NaN</td>\n      <td>91</td>\n      <td>32.0</td>\n      <td>NaN</td>\n      <td>NaN</td>\n      <td>NaN</td>\n      <td>Mike DeSimone</td>\n      <td>@worldwineguys</td>\n      <td>Psagot 2014 Merlot</td>\n      <td>Merlot</td>\n      <td>Psagot</td>\n    </tr>\n  </tbody>\n</table>\n<p>63 rows × 13 columns</p>\n</div>"
     },
     "metadata": {},
     "execution_count": 6
    }
   ],
   "source": [
    "reviews[pd.isnull(reviews.country)]"
   ]
  },
  {
   "cell_type": "markdown",
   "metadata": {},
   "source": [
    "Replacing missing values is a common operation.  Pandas provides a really handy method for this problem: `fillna()`. `fillna()` provides a few different strategies for mitigating such data. For example, we can simply replace each `NaN` with an `\"Unknown\"`:"
   ]
  },
  {
   "cell_type": "code",
   "execution_count": 12,
   "metadata": {
    "collapsed": true
   },
   "outputs": [
    {
     "output_type": "execute_result",
     "data": {
      "text/plain": "0         Willamette Valley\n1         Willamette Valley\n                ...        \n129969                  NaN\n129970                  NaN\nName: region_2, Length: 129971, dtype: object"
     },
     "metadata": {},
     "execution_count": 12
    }
   ],
   "source": [
    "reviews.region_2.backfill()"
   ]
  },
  {
   "cell_type": "markdown",
   "metadata": {},
   "source": [
    "Or we could fill each missing value with the first non-null value that appears sometime after the given record in the database. This is known as the backfill strategy."
   ]
  },
  {
   "cell_type": "markdown",
   "metadata": {},
   "source": [
    "Alternatively, we may have a non-null value that we would like to replace. For example, suppose that since this dataset was published, reviewer Kerin O'Keefe has changed her Twitter handle from `@kerinokeefe` to `@kerino`. One way to reflect this in the dataset is using the `replace()` method:"
   ]
  },
  {
   "cell_type": "code",
   "execution_count": 13,
   "metadata": {
    "collapsed": true
   },
   "outputs": [
    {
     "output_type": "execute_result",
     "data": {
      "text/plain": "0            @kerino\n1         @vossroger\n             ...    \n129969    @vossroger\n129970    @vossroger\nName: taster_twitter_handle, Length: 129971, dtype: object"
     },
     "metadata": {},
     "execution_count": 13
    }
   ],
   "source": [
    "reviews.taster_twitter_handle.replace(\"@kerinokeefe\", \"@kerino\")"
   ]
  },
  {
   "cell_type": "markdown",
   "metadata": {},
   "source": [
    "The `replace()` method is worth mentioning here because it's handy for replacing missing data which is given some kind of sentinel value in the dataset: things like `\"Unknown\"`, `\"Undisclosed\"`, `\"Invalid\"`, and so on.\n",
    "\n",
    "# Your turn\n",
    "\n",
    "If you haven't started the exercise, you can **[get started here](#$NEXT_NOTEBOOK_URL$)**."
   ]
  }
 ],
 "metadata": {
  "kernelspec": {
   "display_name": "Python 3",
   "language": "python",
   "name": "python3"
  },
  "language_info": {
   "codemirror_mode": {
    "name": "ipython",
    "version": 3
   },
   "file_extension": ".py",
   "mimetype": "text/x-python",
   "name": "python",
   "nbconvert_exporter": "python",
   "pygments_lexer": "ipython3",
   "version": "3.8.2-final"
  }
 },
 "nbformat": 4,
 "nbformat_minor": 2
}