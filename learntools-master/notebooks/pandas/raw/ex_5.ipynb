{
 "cells": [
  {
   "cell_type": "markdown",
   "metadata": {},
   "source": [
    "# Introduction\n",
    "\n",
    "Run the following cell to load your data and some utility functions."
   ]
  },
  {
   "cell_type": "code",
   "execution_count": 38,
   "metadata": {
    "tags": []
   },
   "outputs": [
    {
     "output_type": "stream",
     "name": "stderr",
     "text": "WARNING:root:Ignoring repeated attempt to bind to globals\nSetup complete.\n"
    }
   ],
   "source": [
    "import pandas as pd\n",
    "\n",
    "reviews = pd.read_csv(\"winemag-data-130k-v2.csv\", index_col=0)\n",
    "\n",
    "from learntools.core import binder; binder.bind(globals())\n",
    "from learntools.pandas.renaming_and_combining import *\n",
    "print(\"Setup complete.\")"
   ]
  },
  {
   "cell_type": "markdown",
   "metadata": {},
   "source": [
    "# Exercises\n",
    "\n",
    "View the first several lines of your data by running the cell below:"
   ]
  },
  {
   "cell_type": "code",
   "execution_count": 29,
   "metadata": {},
   "outputs": [
    {
     "output_type": "execute_result",
     "data": {
      "text/plain": "    country                                        description  \\\n0     Italy  Aromas include tropical fruit, broom, brimston...   \n1  Portugal  This is ripe and fruity, a wine that is smooth...   \n2        US  Tart and snappy, the flavors of lime flesh and...   \n3        US  Pineapple rind, lemon pith and orange blossom ...   \n4        US  Much like the regular bottling from 2012, this...   \n\n                          designation  points  price           province  \\\n0                        Vulkà Bianco      87    NaN  Sicily & Sardinia   \n1                            Avidagos      87   15.0              Douro   \n2                                 NaN      87   14.0             Oregon   \n3                Reserve Late Harvest      87   13.0           Michigan   \n4  Vintner's Reserve Wild Child Block      87   65.0             Oregon   \n\n              region_1           region_2         taster_name  \\\n0                 Etna                NaN       Kerin O’Keefe   \n1                  NaN                NaN          Roger Voss   \n2    Willamette Valley  Willamette Valley        Paul Gregutt   \n3  Lake Michigan Shore                NaN  Alexander Peartree   \n4    Willamette Valley  Willamette Valley        Paul Gregutt   \n\n  taster_twitter_handle                                              title  \\\n0          @kerinokeefe                  Nicosia 2013 Vulkà Bianco  (Etna)   \n1            @vossroger      Quinta dos Avidagos 2011 Avidagos Red (Douro)   \n2           @paulgwine       Rainstorm 2013 Pinot Gris (Willamette Valley)   \n3                   NaN  St. Julian 2013 Reserve Late Harvest Riesling ...   \n4           @paulgwine   Sweet Cheeks 2012 Vintner's Reserve Wild Child...   \n\n          variety               winery  \n0     White Blend              Nicosia  \n1  Portuguese Red  Quinta dos Avidagos  \n2      Pinot Gris            Rainstorm  \n3        Riesling           St. Julian  \n4      Pinot Noir         Sweet Cheeks  ",
      "text/html": "<div>\n<style scoped>\n    .dataframe tbody tr th:only-of-type {\n        vertical-align: middle;\n    }\n\n    .dataframe tbody tr th {\n        vertical-align: top;\n    }\n\n    .dataframe thead th {\n        text-align: right;\n    }\n</style>\n<table border=\"1\" class=\"dataframe\">\n  <thead>\n    <tr style=\"text-align: right;\">\n      <th></th>\n      <th>country</th>\n      <th>description</th>\n      <th>designation</th>\n      <th>points</th>\n      <th>price</th>\n      <th>province</th>\n      <th>region_1</th>\n      <th>region_2</th>\n      <th>taster_name</th>\n      <th>taster_twitter_handle</th>\n      <th>title</th>\n      <th>variety</th>\n      <th>winery</th>\n    </tr>\n  </thead>\n  <tbody>\n    <tr>\n      <th>0</th>\n      <td>Italy</td>\n      <td>Aromas include tropical fruit, broom, brimston...</td>\n      <td>Vulkà Bianco</td>\n      <td>87</td>\n      <td>NaN</td>\n      <td>Sicily &amp; Sardinia</td>\n      <td>Etna</td>\n      <td>NaN</td>\n      <td>Kerin O’Keefe</td>\n      <td>@kerinokeefe</td>\n      <td>Nicosia 2013 Vulkà Bianco  (Etna)</td>\n      <td>White Blend</td>\n      <td>Nicosia</td>\n    </tr>\n    <tr>\n      <th>1</th>\n      <td>Portugal</td>\n      <td>This is ripe and fruity, a wine that is smooth...</td>\n      <td>Avidagos</td>\n      <td>87</td>\n      <td>15.0</td>\n      <td>Douro</td>\n      <td>NaN</td>\n      <td>NaN</td>\n      <td>Roger Voss</td>\n      <td>@vossroger</td>\n      <td>Quinta dos Avidagos 2011 Avidagos Red (Douro)</td>\n      <td>Portuguese Red</td>\n      <td>Quinta dos Avidagos</td>\n    </tr>\n    <tr>\n      <th>2</th>\n      <td>US</td>\n      <td>Tart and snappy, the flavors of lime flesh and...</td>\n      <td>NaN</td>\n      <td>87</td>\n      <td>14.0</td>\n      <td>Oregon</td>\n      <td>Willamette Valley</td>\n      <td>Willamette Valley</td>\n      <td>Paul Gregutt</td>\n      <td>@paulgwine</td>\n      <td>Rainstorm 2013 Pinot Gris (Willamette Valley)</td>\n      <td>Pinot Gris</td>\n      <td>Rainstorm</td>\n    </tr>\n    <tr>\n      <th>3</th>\n      <td>US</td>\n      <td>Pineapple rind, lemon pith and orange blossom ...</td>\n      <td>Reserve Late Harvest</td>\n      <td>87</td>\n      <td>13.0</td>\n      <td>Michigan</td>\n      <td>Lake Michigan Shore</td>\n      <td>NaN</td>\n      <td>Alexander Peartree</td>\n      <td>NaN</td>\n      <td>St. Julian 2013 Reserve Late Harvest Riesling ...</td>\n      <td>Riesling</td>\n      <td>St. Julian</td>\n    </tr>\n    <tr>\n      <th>4</th>\n      <td>US</td>\n      <td>Much like the regular bottling from 2012, this...</td>\n      <td>Vintner's Reserve Wild Child Block</td>\n      <td>87</td>\n      <td>65.0</td>\n      <td>Oregon</td>\n      <td>Willamette Valley</td>\n      <td>Willamette Valley</td>\n      <td>Paul Gregutt</td>\n      <td>@paulgwine</td>\n      <td>Sweet Cheeks 2012 Vintner's Reserve Wild Child...</td>\n      <td>Pinot Noir</td>\n      <td>Sweet Cheeks</td>\n    </tr>\n  </tbody>\n</table>\n</div>"
     },
     "metadata": {},
     "execution_count": 29
    }
   ],
   "source": [
    "reviews.head()"
   ]
  },
  {
   "cell_type": "markdown",
   "metadata": {},
   "source": [
    "## 1.\n",
    "`region_1` and `region_2` are pretty uninformative names for locale columns in the dataset. Create a copy of `reviews` with these columns renamed to `region` and `locale`, respectively."
   ]
  },
  {
   "cell_type": "code",
   "execution_count": 30,
   "metadata": {},
   "outputs": [
    {
     "output_type": "display_data",
     "data": {
      "text/plain": "<IPython.core.display.Javascript object>",
      "application/javascript": "parent.postMessage({\"jupyterEvent\": \"custom.exercise_interaction\", \"data\": {\"outcomeType\": 2, \"failureMessage\": \"Expected `renamed` to have column `locale`\", \"interactionType\": 1, \"questionType\": 1, \"questionId\": \"1_RenameCols\", \"learnToolsVersion\": \"0.3.4\", \"valueTowardsCompletion\": 0.0, \"exceptionClass\": \"\", \"trace\": \"\"}}, \"*\")"
     },
     "metadata": {}
    },
    {
     "output_type": "display_data",
     "data": {
      "text/plain": "Incorrect: Expected `renamed` to have column `locale`",
      "text/markdown": "<span style=\"color:#cc3333\">Incorrect:</span> Expected `renamed` to have column `locale`"
     },
     "metadata": {}
    }
   ],
   "source": [
    "# Your code here\n",
    "renamed = reviews.rename(columns={\"region_1\": \"region\", \"region_2\": \"locale \"})\n",
    "\n",
    "# Check your answer\n",
    "q1.check()"
   ]
  },
  {
   "cell_type": "code",
   "execution_count": 31,
   "metadata": {},
   "outputs": [
    {
     "output_type": "display_data",
     "data": {
      "text/plain": "<IPython.core.display.Javascript object>",
      "application/javascript": "parent.postMessage({\"jupyterEvent\": \"custom.exercise_interaction\", \"data\": {\"interactionType\": 2, \"questionType\": 1, \"questionId\": \"1_RenameCols\", \"learnToolsVersion\": \"0.3.4\", \"valueTowardsCompletion\": 0.0, \"failureMessage\": \"\", \"exceptionClass\": \"\", \"trace\": \"\", \"outcomeType\": 4}}, \"*\")"
     },
     "metadata": {}
    },
    {
     "output_type": "display_data",
     "data": {
      "text/plain": "Hint: Use `rename()`, and specify a `columns` parameter.",
      "text/markdown": "<span style=\"color:#3366cc\">Hint:</span> Use `rename()`, and specify a `columns` parameter."
     },
     "metadata": {}
    },
    {
     "output_type": "display_data",
     "data": {
      "text/plain": "<IPython.core.display.Javascript object>",
      "application/javascript": "parent.postMessage({\"jupyterEvent\": \"custom.exercise_interaction\", \"data\": {\"interactionType\": 3, \"questionType\": 1, \"questionId\": \"1_RenameCols\", \"learnToolsVersion\": \"0.3.4\", \"valueTowardsCompletion\": 0.0, \"failureMessage\": \"\", \"exceptionClass\": \"\", \"trace\": \"\", \"outcomeType\": 4}}, \"*\")"
     },
     "metadata": {}
    },
    {
     "output_type": "display_data",
     "data": {
      "text/plain": "Solution: \n```python\nrenamed = reviews.rename(columns=dict(region_1='region', region_2='locale'))\n```",
      "text/markdown": "<span style=\"color:#33cc99\">Solution:</span> \n```python\nrenamed = reviews.rename(columns=dict(region_1='region', region_2='locale'))\n```"
     },
     "metadata": {}
    }
   ],
   "source": [
    "#_COMMENT_IF(PROD)_\n",
    "q1.hint()\n",
    "#_COMMENT_IF(PROD)_\n",
    "q1.solution()"
   ]
  },
  {
   "cell_type": "markdown",
   "metadata": {},
   "source": [
    "## 2.\n",
    "Set the index name in the dataset to `wines`."
   ]
  },
  {
   "cell_type": "code",
   "execution_count": 32,
   "metadata": {},
   "outputs": [
    {
     "output_type": "display_data",
     "data": {
      "text/plain": "<IPython.core.display.Javascript object>",
      "application/javascript": "parent.postMessage({\"jupyterEvent\": \"custom.exercise_interaction\", \"data\": {\"outcomeType\": 1, \"valueTowardsCompletion\": 0.25, \"interactionType\": 1, \"questionType\": 1, \"questionId\": \"2_RenameIndex\", \"learnToolsVersion\": \"0.3.4\", \"failureMessage\": \"\", \"exceptionClass\": \"\", \"trace\": \"\"}}, \"*\")"
     },
     "metadata": {}
    },
    {
     "output_type": "display_data",
     "data": {
      "text/plain": "Correct",
      "text/markdown": "<span style=\"color:#33cc33\">Correct</span>"
     },
     "metadata": {}
    }
   ],
   "source": [
    "reindexed = reviews.rename_axis(\"wines\")\n",
    "\n",
    "# Check your answer\n",
    "q2.check()"
   ]
  },
  {
   "cell_type": "code",
   "execution_count": 33,
   "metadata": {},
   "outputs": [
    {
     "output_type": "display_data",
     "data": {
      "text/plain": "<IPython.core.display.Javascript object>",
      "application/javascript": "parent.postMessage({\"jupyterEvent\": \"custom.exercise_interaction\", \"data\": {\"interactionType\": 2, \"questionType\": 1, \"questionId\": \"2_RenameIndex\", \"learnToolsVersion\": \"0.3.4\", \"valueTowardsCompletion\": 0.0, \"failureMessage\": \"\", \"exceptionClass\": \"\", \"trace\": \"\", \"outcomeType\": 4}}, \"*\")"
     },
     "metadata": {}
    },
    {
     "output_type": "display_data",
     "data": {
      "text/plain": "Hint: Use the `rename_axis()` method.",
      "text/markdown": "<span style=\"color:#3366cc\">Hint:</span> Use the `rename_axis()` method."
     },
     "metadata": {}
    }
   ],
   "source": [
    "#_COMMENT_IF(PROD)_\n",
    "q2.hint()\n",
    "#_COMMENT_IF(PROD)_\n",
    "# q2.solution()"
   ]
  },
  {
   "cell_type": "markdown",
   "metadata": {},
   "source": [
    "## 3.\n",
    "The [Things on Reddit](https://www.kaggle.com/residentmario/things-on-reddit/data) dataset includes product links from a selection of top-ranked forums (\"subreddits\") on reddit.com. Run the cell below to load a dataframe of products mentioned on the */r/gaming* subreddit and another dataframe for products mentioned on the *r//movies* subreddit."
   ]
  },
  {
   "cell_type": "code",
   "execution_count": 34,
   "metadata": {},
   "outputs": [],
   "source": [
    "gaming_products = pd.read_csv(\"top-things/top-things/reddits/g/gaming.csv\")\n",
    "gaming_products['subreddit'] = \"r/gaming\"\n",
    "movie_products = pd.read_csv(\"top-things/top-things/reddits/m/movies.csv\")\n",
    "movie_products['subreddit'] = \"r/movies\""
   ]
  },
  {
   "cell_type": "markdown",
   "metadata": {},
   "source": [
    "Create a `DataFrame` of products mentioned on *either* subreddit."
   ]
  },
  {
   "cell_type": "code",
   "execution_count": 35,
   "metadata": {},
   "outputs": [
    {
     "output_type": "display_data",
     "data": {
      "text/plain": "<IPython.core.display.Javascript object>",
      "application/javascript": "parent.postMessage({\"jupyterEvent\": \"custom.exercise_interaction\", \"data\": {\"outcomeType\": 1, \"valueTowardsCompletion\": 0.25, \"interactionType\": 1, \"questionType\": 2, \"questionId\": \"3_ConcatReddit\", \"learnToolsVersion\": \"0.3.4\", \"failureMessage\": \"\", \"exceptionClass\": \"\", \"trace\": \"\"}}, \"*\")"
     },
     "metadata": {}
    },
    {
     "output_type": "display_data",
     "data": {
      "text/plain": "Correct",
      "text/markdown": "<span style=\"color:#33cc33\">Correct</span>"
     },
     "metadata": {}
    }
   ],
   "source": [
    "combined_products = pd.concat([gaming_products, movie_products])\n",
    "\n",
    "# Check your answer\n",
    "q3.check()"
   ]
  },
  {
   "cell_type": "code",
   "execution_count": 36,
   "metadata": {},
   "outputs": [
    {
     "output_type": "display_data",
     "data": {
      "text/plain": "<IPython.core.display.Javascript object>",
      "application/javascript": "parent.postMessage({\"jupyterEvent\": \"custom.exercise_interaction\", \"data\": {\"interactionType\": 2, \"questionType\": 2, \"questionId\": \"3_ConcatReddit\", \"learnToolsVersion\": \"0.3.4\", \"valueTowardsCompletion\": 0.0, \"failureMessage\": \"\", \"exceptionClass\": \"\", \"trace\": \"\", \"outcomeType\": 4}}, \"*\")"
     },
     "metadata": {}
    },
    {
     "output_type": "display_data",
     "data": {
      "text/plain": "Hint: Use `pd.concat()`",
      "text/markdown": "<span style=\"color:#3366cc\">Hint:</span> Use `pd.concat()`"
     },
     "metadata": {}
    },
    {
     "output_type": "display_data",
     "data": {
      "text/plain": "<IPython.core.display.Javascript object>",
      "application/javascript": "parent.postMessage({\"jupyterEvent\": \"custom.exercise_interaction\", \"data\": {\"interactionType\": 3, \"questionType\": 2, \"questionId\": \"3_ConcatReddit\", \"learnToolsVersion\": \"0.3.4\", \"valueTowardsCompletion\": 0.0, \"failureMessage\": \"\", \"exceptionClass\": \"\", \"trace\": \"\", \"outcomeType\": 4}}, \"*\")"
     },
     "metadata": {}
    },
    {
     "output_type": "display_data",
     "data": {
      "text/plain": "Solution: \n```python\ncombined_products = pd.concat([gaming_products, movie_products])\n```",
      "text/markdown": "<span style=\"color:#33cc99\">Solution:</span> \n```python\ncombined_products = pd.concat([gaming_products, movie_products])\n```"
     },
     "metadata": {}
    }
   ],
   "source": [
    "#_COMMENT_IF(PROD)_\n",
    "q3.hint()\n",
    "#_COMMENT_IF(PROD)_\n",
    "q3.solution()"
   ]
  },
  {
   "cell_type": "markdown",
   "metadata": {},
   "source": [
    "## 4.\n",
    "The [Powerlifting Database](https://www.kaggle.com/open-powerlifting/powerlifting-database) dataset on Kaggle includes one CSV table for powerlifting meets and a separate one for powerlifting competitors. Run the cell below to load these datasets into dataframes:"
   ]
  },
  {
   "cell_type": "code",
   "execution_count": 39,
   "metadata": {},
   "outputs": [],
   "source": [
    "powerlifting_meets = pd.read_csv(\"meets1.csv\")\n",
    "powerlifting_competitors = pd.read_csv(\"openpowerlifting.csv\")"
   ]
  },
  {
   "cell_type": "markdown",
   "metadata": {},
   "source": [
    "Both tables include references to a `MeetID`, a unique key for each meet (competition) included in the database. Using this, generate a dataset combining the two tables into one."
   ]
  },
  {
   "cell_type": "code",
   "execution_count": 48,
   "metadata": {},
   "outputs": [
    {
     "output_type": "execute_result",
     "data": {
      "text/plain": "   MeetID              Name Sex   Equipment   Age     Division  BodyweightKg  \\\n0       0  Angie Belk Terry   F       Wraps  47.0    Mst 45-49         59.60   \n1       0       Dawn Bogart   F  Single-ply  42.0    Mst 40-44         58.51   \n2       0       Dawn Bogart   F  Single-ply  42.0  Open Senior         58.51   \n3       0       Dawn Bogart   F         Raw  42.0  Open Senior         58.51   \n4       0      Destiny Dula   F         Raw  18.0   Teen 18-19         63.68   \n\n  WeightClassKg  Squat4Kg  BestSquatKg  Bench4Kg  BestBenchKg  Deadlift4Kg  \\\n0            60       NaN        47.63       NaN        20.41          NaN   \n1            60       NaN       142.88       NaN        95.25          NaN   \n2            60       NaN       142.88       NaN        95.25          NaN   \n3            60       NaN          NaN       NaN        95.25          NaN   \n4          67.5       NaN          NaN       NaN        31.75          NaN   \n\n   BestDeadliftKg  TotalKg Place   Wilks  \n0           70.31   138.35     1  155.05  \n1          163.29   401.42     1  456.38  \n2          163.29   401.42     1  456.38  \n3             NaN    95.25     1  108.29  \n4           90.72   122.47     1  130.47  ",
      "text/html": "<div>\n<style scoped>\n    .dataframe tbody tr th:only-of-type {\n        vertical-align: middle;\n    }\n\n    .dataframe tbody tr th {\n        vertical-align: top;\n    }\n\n    .dataframe thead th {\n        text-align: right;\n    }\n</style>\n<table border=\"1\" class=\"dataframe\">\n  <thead>\n    <tr style=\"text-align: right;\">\n      <th></th>\n      <th>MeetID</th>\n      <th>Name</th>\n      <th>Sex</th>\n      <th>Equipment</th>\n      <th>Age</th>\n      <th>Division</th>\n      <th>BodyweightKg</th>\n      <th>WeightClassKg</th>\n      <th>Squat4Kg</th>\n      <th>BestSquatKg</th>\n      <th>Bench4Kg</th>\n      <th>BestBenchKg</th>\n      <th>Deadlift4Kg</th>\n      <th>BestDeadliftKg</th>\n      <th>TotalKg</th>\n      <th>Place</th>\n      <th>Wilks</th>\n    </tr>\n  </thead>\n  <tbody>\n    <tr>\n      <th>0</th>\n      <td>0</td>\n      <td>Angie Belk Terry</td>\n      <td>F</td>\n      <td>Wraps</td>\n      <td>47.0</td>\n      <td>Mst 45-49</td>\n      <td>59.60</td>\n      <td>60</td>\n      <td>NaN</td>\n      <td>47.63</td>\n      <td>NaN</td>\n      <td>20.41</td>\n      <td>NaN</td>\n      <td>70.31</td>\n      <td>138.35</td>\n      <td>1</td>\n      <td>155.05</td>\n    </tr>\n    <tr>\n      <th>1</th>\n      <td>0</td>\n      <td>Dawn Bogart</td>\n      <td>F</td>\n      <td>Single-ply</td>\n      <td>42.0</td>\n      <td>Mst 40-44</td>\n      <td>58.51</td>\n      <td>60</td>\n      <td>NaN</td>\n      <td>142.88</td>\n      <td>NaN</td>\n      <td>95.25</td>\n      <td>NaN</td>\n      <td>163.29</td>\n      <td>401.42</td>\n      <td>1</td>\n      <td>456.38</td>\n    </tr>\n    <tr>\n      <th>2</th>\n      <td>0</td>\n      <td>Dawn Bogart</td>\n      <td>F</td>\n      <td>Single-ply</td>\n      <td>42.0</td>\n      <td>Open Senior</td>\n      <td>58.51</td>\n      <td>60</td>\n      <td>NaN</td>\n      <td>142.88</td>\n      <td>NaN</td>\n      <td>95.25</td>\n      <td>NaN</td>\n      <td>163.29</td>\n      <td>401.42</td>\n      <td>1</td>\n      <td>456.38</td>\n    </tr>\n    <tr>\n      <th>3</th>\n      <td>0</td>\n      <td>Dawn Bogart</td>\n      <td>F</td>\n      <td>Raw</td>\n      <td>42.0</td>\n      <td>Open Senior</td>\n      <td>58.51</td>\n      <td>60</td>\n      <td>NaN</td>\n      <td>NaN</td>\n      <td>NaN</td>\n      <td>95.25</td>\n      <td>NaN</td>\n      <td>NaN</td>\n      <td>95.25</td>\n      <td>1</td>\n      <td>108.29</td>\n    </tr>\n    <tr>\n      <th>4</th>\n      <td>0</td>\n      <td>Destiny Dula</td>\n      <td>F</td>\n      <td>Raw</td>\n      <td>18.0</td>\n      <td>Teen 18-19</td>\n      <td>63.68</td>\n      <td>67.5</td>\n      <td>NaN</td>\n      <td>NaN</td>\n      <td>NaN</td>\n      <td>31.75</td>\n      <td>NaN</td>\n      <td>90.72</td>\n      <td>122.47</td>\n      <td>1</td>\n      <td>130.47</td>\n    </tr>\n  </tbody>\n</table>\n</div>"
     },
     "metadata": {},
     "execution_count": 48
    }
   ],
   "source": [
    "powerlifting_competitors.head()"
   ]
  },
  {
   "cell_type": "code",
   "execution_count": 49,
   "metadata": {},
   "outputs": [
    {
     "output_type": "execute_result",
     "data": {
      "text/plain": "   MeetID        MeetPath Federation        Date MeetCountry MeetState  \\\n0       0  365strong/1601  365Strong  2016-10-29         USA        NC   \n1       1  365strong/1602  365Strong  2016-11-19         USA        MO   \n2       2  365strong/1603  365Strong  2016-07-09         USA        NC   \n3       3  365strong/1604  365Strong  2016-06-11         USA        SC   \n4       4  365strong/1605  365Strong  2016-04-10         USA        SC   \n\n    MeetTown                                           MeetName  \n0  Charlotte  2016 Junior & Senior National Powerlifting Cha...  \n1      Ozark                  Thanksgiving Powerlifting Classic  \n2  Charlotte                             Charlotte Europa Games  \n3  Rock Hill                   Carolina Cup Push Pull Challenge  \n4  Rock Hill                              Eastern USA Challenge  ",
      "text/html": "<div>\n<style scoped>\n    .dataframe tbody tr th:only-of-type {\n        vertical-align: middle;\n    }\n\n    .dataframe tbody tr th {\n        vertical-align: top;\n    }\n\n    .dataframe thead th {\n        text-align: right;\n    }\n</style>\n<table border=\"1\" class=\"dataframe\">\n  <thead>\n    <tr style=\"text-align: right;\">\n      <th></th>\n      <th>MeetID</th>\n      <th>MeetPath</th>\n      <th>Federation</th>\n      <th>Date</th>\n      <th>MeetCountry</th>\n      <th>MeetState</th>\n      <th>MeetTown</th>\n      <th>MeetName</th>\n    </tr>\n  </thead>\n  <tbody>\n    <tr>\n      <th>0</th>\n      <td>0</td>\n      <td>365strong/1601</td>\n      <td>365Strong</td>\n      <td>2016-10-29</td>\n      <td>USA</td>\n      <td>NC</td>\n      <td>Charlotte</td>\n      <td>2016 Junior &amp; Senior National Powerlifting Cha...</td>\n    </tr>\n    <tr>\n      <th>1</th>\n      <td>1</td>\n      <td>365strong/1602</td>\n      <td>365Strong</td>\n      <td>2016-11-19</td>\n      <td>USA</td>\n      <td>MO</td>\n      <td>Ozark</td>\n      <td>Thanksgiving Powerlifting Classic</td>\n    </tr>\n    <tr>\n      <th>2</th>\n      <td>2</td>\n      <td>365strong/1603</td>\n      <td>365Strong</td>\n      <td>2016-07-09</td>\n      <td>USA</td>\n      <td>NC</td>\n      <td>Charlotte</td>\n      <td>Charlotte Europa Games</td>\n    </tr>\n    <tr>\n      <th>3</th>\n      <td>3</td>\n      <td>365strong/1604</td>\n      <td>365Strong</td>\n      <td>2016-06-11</td>\n      <td>USA</td>\n      <td>SC</td>\n      <td>Rock Hill</td>\n      <td>Carolina Cup Push Pull Challenge</td>\n    </tr>\n    <tr>\n      <th>4</th>\n      <td>4</td>\n      <td>365strong/1605</td>\n      <td>365Strong</td>\n      <td>2016-04-10</td>\n      <td>USA</td>\n      <td>SC</td>\n      <td>Rock Hill</td>\n      <td>Eastern USA Challenge</td>\n    </tr>\n  </tbody>\n</table>\n</div>"
     },
     "metadata": {},
     "execution_count": 49
    }
   ],
   "source": [
    "powerlifting_meets.head()"
   ]
  },
  {
   "cell_type": "code",
   "execution_count": 47,
   "metadata": {},
   "outputs": [
    {
     "output_type": "error",
     "ename": "KeyError",
     "evalue": "\"None of ['MeetID'] are in the columns\"",
     "traceback": [
      "\u001b[1;31m---------------------------------------------------------------------------\u001b[0m",
      "\u001b[1;31mKeyError\u001b[0m                                  Traceback (most recent call last)",
      "\u001b[1;32m<ipython-input-47-facee41981fa>\u001b[0m in \u001b[0;36m<module>\u001b[1;34m\u001b[0m\n\u001b[0;32m      2\u001b[0m \u001b[1;33m\u001b[0m\u001b[0m\n\u001b[0;32m      3\u001b[0m \u001b[1;31m# Check your answer\u001b[0m\u001b[1;33m\u001b[0m\u001b[1;33m\u001b[0m\u001b[1;33m\u001b[0m\u001b[0m\n\u001b[1;32m----> 4\u001b[1;33m \u001b[0mq4\u001b[0m\u001b[1;33m.\u001b[0m\u001b[0mcheck\u001b[0m\u001b[1;33m(\u001b[0m\u001b[1;33m)\u001b[0m\u001b[1;33m\u001b[0m\u001b[1;33m\u001b[0m\u001b[0m\n\u001b[0m",
      "\u001b[1;32mc:\\Users\\Przemyslaw\\Projects\\AirQualityPrediction\\.venv\\lib\\site-packages\\learntools\\core\\problem_view.py\u001b[0m in \u001b[0;36mwrapped\u001b[1;34m(self, *args, **kwargs)\u001b[0m\n\u001b[0;32m     22\u001b[0m     \u001b[1;32mdef\u001b[0m \u001b[0mwrapped\u001b[0m\u001b[1;33m(\u001b[0m\u001b[0mself\u001b[0m\u001b[1;33m,\u001b[0m \u001b[1;33m*\u001b[0m\u001b[0margs\u001b[0m\u001b[1;33m,\u001b[0m \u001b[1;33m**\u001b[0m\u001b[0mkwargs\u001b[0m\u001b[1;33m)\u001b[0m\u001b[1;33m:\u001b[0m\u001b[1;33m\u001b[0m\u001b[1;33m\u001b[0m\u001b[0m\n\u001b[0;32m     23\u001b[0m         \u001b[0mself\u001b[0m\u001b[1;33m.\u001b[0m\u001b[0minteractions\u001b[0m\u001b[1;33m[\u001b[0m\u001b[0mmethod\u001b[0m\u001b[1;33m.\u001b[0m\u001b[0m__name__\u001b[0m\u001b[1;33m]\u001b[0m \u001b[1;33m+=\u001b[0m \u001b[1;36m1\u001b[0m\u001b[1;33m\u001b[0m\u001b[1;33m\u001b[0m\u001b[0m\n\u001b[1;32m---> 24\u001b[1;33m         \u001b[1;32mreturn\u001b[0m \u001b[0mmethod\u001b[0m\u001b[1;33m(\u001b[0m\u001b[0mself\u001b[0m\u001b[1;33m,\u001b[0m \u001b[1;33m*\u001b[0m\u001b[0margs\u001b[0m\u001b[1;33m,\u001b[0m \u001b[1;33m**\u001b[0m\u001b[0mkwargs\u001b[0m\u001b[1;33m)\u001b[0m\u001b[1;33m\u001b[0m\u001b[1;33m\u001b[0m\u001b[0m\n\u001b[0m\u001b[0;32m     25\u001b[0m     \u001b[1;32mreturn\u001b[0m \u001b[0mwrapped\u001b[0m\u001b[1;33m\u001b[0m\u001b[1;33m\u001b[0m\u001b[0m\n\u001b[0;32m     26\u001b[0m \u001b[1;33m\u001b[0m\u001b[0m\n",
      "\u001b[1;32mc:\\Users\\Przemyslaw\\Projects\\AirQualityPrediction\\.venv\\lib\\site-packages\\learntools\\core\\problem_view.py\u001b[0m in \u001b[0;36mwrapped\u001b[1;34m(*args, **kwargs)\u001b[0m\n\u001b[0;32m     13\u001b[0m     \u001b[1;33m@\u001b[0m\u001b[0mfunctools\u001b[0m\u001b[1;33m.\u001b[0m\u001b[0mwraps\u001b[0m\u001b[1;33m(\u001b[0m\u001b[0mfn\u001b[0m\u001b[1;33m)\u001b[0m\u001b[1;33m\u001b[0m\u001b[1;33m\u001b[0m\u001b[0m\n\u001b[0;32m     14\u001b[0m     \u001b[1;32mdef\u001b[0m \u001b[0mwrapped\u001b[0m\u001b[1;33m(\u001b[0m\u001b[1;33m*\u001b[0m\u001b[0margs\u001b[0m\u001b[1;33m,\u001b[0m \u001b[1;33m**\u001b[0m\u001b[0mkwargs\u001b[0m\u001b[1;33m)\u001b[0m\u001b[1;33m:\u001b[0m\u001b[1;33m\u001b[0m\u001b[1;33m\u001b[0m\u001b[0m\n\u001b[1;32m---> 15\u001b[1;33m         \u001b[0mres\u001b[0m \u001b[1;33m=\u001b[0m \u001b[0mfn\u001b[0m\u001b[1;33m(\u001b[0m\u001b[1;33m*\u001b[0m\u001b[0margs\u001b[0m\u001b[1;33m,\u001b[0m \u001b[1;33m**\u001b[0m\u001b[0mkwargs\u001b[0m\u001b[1;33m)\u001b[0m\u001b[1;33m\u001b[0m\u001b[1;33m\u001b[0m\u001b[0m\n\u001b[0m\u001b[0;32m     16\u001b[0m         \u001b[0mdisplay\u001b[0m\u001b[1;33m(\u001b[0m\u001b[0mres\u001b[0m\u001b[1;33m)\u001b[0m\u001b[1;33m\u001b[0m\u001b[1;33m\u001b[0m\u001b[0m\n\u001b[0;32m     17\u001b[0m         \u001b[1;31m# Don't propagate the return to avoid double printing.\u001b[0m\u001b[1;33m\u001b[0m\u001b[1;33m\u001b[0m\u001b[1;33m\u001b[0m\u001b[0m\n",
      "\u001b[1;32mc:\\Users\\Przemyslaw\\Projects\\AirQualityPrediction\\.venv\\lib\\site-packages\\learntools\\core\\problem_view.py\u001b[0m in \u001b[0;36mcheck\u001b[1;34m(self)\u001b[0m\n\u001b[0;32m     89\u001b[0m                 \u001b[0margs\u001b[0m \u001b[1;33m=\u001b[0m \u001b[1;33m(\u001b[0m\u001b[1;33m)\u001b[0m\u001b[1;33m\u001b[0m\u001b[1;33m\u001b[0m\u001b[0m\n\u001b[0;32m     90\u001b[0m             \u001b[0mself\u001b[0m\u001b[1;33m.\u001b[0m\u001b[0mproblem\u001b[0m\u001b[1;33m.\u001b[0m\u001b[0mcheck_whether_attempted\u001b[0m\u001b[1;33m(\u001b[0m\u001b[1;33m*\u001b[0m\u001b[0margs\u001b[0m\u001b[1;33m)\u001b[0m\u001b[1;33m\u001b[0m\u001b[1;33m\u001b[0m\u001b[0m\n\u001b[1;32m---> 91\u001b[1;33m             \u001b[0mself\u001b[0m\u001b[1;33m.\u001b[0m\u001b[0mproblem\u001b[0m\u001b[1;33m.\u001b[0m\u001b[0mcheck\u001b[0m\u001b[1;33m(\u001b[0m\u001b[1;33m*\u001b[0m\u001b[0margs\u001b[0m\u001b[1;33m)\u001b[0m\u001b[1;33m\u001b[0m\u001b[1;33m\u001b[0m\u001b[0m\n\u001b[0m\u001b[0;32m     92\u001b[0m         \u001b[1;32mexcept\u001b[0m \u001b[0mNotAttempted\u001b[0m \u001b[1;32mas\u001b[0m \u001b[0me\u001b[0m\u001b[1;33m:\u001b[0m\u001b[1;33m\u001b[0m\u001b[1;33m\u001b[0m\u001b[0m\n\u001b[0;32m     93\u001b[0m             \u001b[0mself\u001b[0m\u001b[1;33m.\u001b[0m\u001b[0m_track_check\u001b[0m\u001b[1;33m(\u001b[0m\u001b[0mtracking\u001b[0m\u001b[1;33m.\u001b[0m\u001b[0mOutcomeType\u001b[0m\u001b[1;33m.\u001b[0m\u001b[0mUNATTEMPTED\u001b[0m\u001b[1;33m)\u001b[0m\u001b[1;33m\u001b[0m\u001b[1;33m\u001b[0m\u001b[0m\n",
      "\u001b[1;32mc:\\Users\\Przemyslaw\\Projects\\AirQualityPrediction\\.venv\\lib\\site-packages\\learntools\\pandas\\renaming_and_combining.py\u001b[0m in \u001b[0;36mcheck\u001b[1;34m(self, powerlifting_combined)\u001b[0m\n\u001b[0;32m     42\u001b[0m \u001b[1;33m\u001b[0m\u001b[0m\n\u001b[0;32m     43\u001b[0m     \u001b[1;32mdef\u001b[0m \u001b[0mcheck\u001b[0m\u001b[1;33m(\u001b[0m\u001b[0mself\u001b[0m\u001b[1;33m,\u001b[0m \u001b[0mpowerlifting_combined\u001b[0m\u001b[1;33m)\u001b[0m\u001b[1;33m:\u001b[0m\u001b[1;33m\u001b[0m\u001b[1;33m\u001b[0m\u001b[0m\n\u001b[1;32m---> 44\u001b[1;33m         \u001b[0m_expected\u001b[0m \u001b[1;33m=\u001b[0m \u001b[0mpowerlifting_meets\u001b[0m\u001b[1;33m.\u001b[0m\u001b[0mset_index\u001b[0m\u001b[1;33m(\u001b[0m\u001b[1;34m\"MeetID\"\u001b[0m\u001b[1;33m)\u001b[0m\u001b[1;33m.\u001b[0m\u001b[0mjoin\u001b[0m\u001b[1;33m(\u001b[0m\u001b[0mpowerlifting_competitors\u001b[0m\u001b[1;33m.\u001b[0m\u001b[0mset_index\u001b[0m\u001b[1;33m(\u001b[0m\u001b[1;34m\"MeetID\"\u001b[0m\u001b[1;33m)\u001b[0m\u001b[1;33m)\u001b[0m\u001b[1;33m\u001b[0m\u001b[1;33m\u001b[0m\u001b[0m\n\u001b[0m\u001b[0;32m     45\u001b[0m         \u001b[0m_expected2\u001b[0m \u001b[1;33m=\u001b[0m \u001b[0mpowerlifting_competitors\u001b[0m\u001b[1;33m.\u001b[0m\u001b[0mset_index\u001b[0m\u001b[1;33m(\u001b[0m\u001b[1;34m\"MeetID\"\u001b[0m\u001b[1;33m)\u001b[0m\u001b[1;33m.\u001b[0m\u001b[0mjoin\u001b[0m\u001b[1;33m(\u001b[0m\u001b[0mpowerlifting_meets\u001b[0m\u001b[1;33m.\u001b[0m\u001b[0mset_index\u001b[0m\u001b[1;33m(\u001b[0m\u001b[1;34m\"MeetID\"\u001b[0m\u001b[1;33m)\u001b[0m\u001b[1;33m)\u001b[0m\u001b[1;33m\u001b[0m\u001b[1;33m\u001b[0m\u001b[0m\n\u001b[0;32m     46\u001b[0m         \u001b[1;32massert\u001b[0m \u001b[1;33m(\u001b[0m\u001b[0mpowerlifting_combined\u001b[0m\u001b[1;33m.\u001b[0m\u001b[0mequals\u001b[0m\u001b[1;33m(\u001b[0m\u001b[0m_expected\u001b[0m\u001b[1;33m)\u001b[0m \u001b[1;32mor\u001b[0m \u001b[0mpowerlifting_combined\u001b[0m\u001b[1;33m.\u001b[0m\u001b[0mequals\u001b[0m\u001b[1;33m(\u001b[0m\u001b[0m_expected2\u001b[0m\u001b[1;33m)\u001b[0m\u001b[1;33m)\u001b[0m\u001b[1;33m,\u001b[0m \u001b[1;33m(\u001b[0m\u001b[1;34m\"Incorrect value for DataFrame `powerlifting_combined`\"\u001b[0m\u001b[1;33m)\u001b[0m\u001b[1;33m\u001b[0m\u001b[1;33m\u001b[0m\u001b[0m\n",
      "\u001b[1;32mc:\\Users\\Przemyslaw\\Projects\\AirQualityPrediction\\.venv\\lib\\site-packages\\pandas\\core\\frame.py\u001b[0m in \u001b[0;36mset_index\u001b[1;34m(self, keys, drop, append, inplace, verify_integrity)\u001b[0m\n\u001b[0;32m   4543\u001b[0m \u001b[1;33m\u001b[0m\u001b[0m\n\u001b[0;32m   4544\u001b[0m         \u001b[1;32mif\u001b[0m \u001b[0mmissing\u001b[0m\u001b[1;33m:\u001b[0m\u001b[1;33m\u001b[0m\u001b[1;33m\u001b[0m\u001b[0m\n\u001b[1;32m-> 4545\u001b[1;33m             \u001b[1;32mraise\u001b[0m \u001b[0mKeyError\u001b[0m\u001b[1;33m(\u001b[0m\u001b[1;34mf\"None of {missing} are in the columns\"\u001b[0m\u001b[1;33m)\u001b[0m\u001b[1;33m\u001b[0m\u001b[1;33m\u001b[0m\u001b[0m\n\u001b[0m\u001b[0;32m   4546\u001b[0m \u001b[1;33m\u001b[0m\u001b[0m\n\u001b[0;32m   4547\u001b[0m         \u001b[1;32mif\u001b[0m \u001b[0minplace\u001b[0m\u001b[1;33m:\u001b[0m\u001b[1;33m\u001b[0m\u001b[1;33m\u001b[0m\u001b[0m\n",
      "\u001b[1;31mKeyError\u001b[0m: \"None of ['MeetID'] are in the columns\""
     ]
    }
   ],
   "source": [
    "powerlifting_combined = powerlifting_meets.set_index(\"MeetID\").join(powerlifting_competitors.set_index(\"MeetID\"))\n",
    "\n",
    "# Check your answer\n",
    "q4.check()"
   ]
  },
  {
   "cell_type": "code",
   "execution_count": 51,
   "metadata": {},
   "outputs": [
    {
     "output_type": "execute_result",
     "data": {
      "text/plain": "               MeetPath Federation        Date MeetCountry MeetState  \\\nMeetID                                                                 \n0        365strong/1601  365Strong  2016-10-29         USA        NC   \n0        365strong/1601  365Strong  2016-10-29         USA        NC   \n0        365strong/1601  365Strong  2016-10-29         USA        NC   \n0        365strong/1601  365Strong  2016-10-29         USA        NC   \n0        365strong/1601  365Strong  2016-10-29         USA        NC   \n...                 ...        ...         ...         ...       ...   \n8481    xpc/2017-finals        XPC  2017-03-03         USA        OH   \n8481    xpc/2017-finals        XPC  2017-03-03         USA        OH   \n8481    xpc/2017-finals        XPC  2017-03-03         USA        OH   \n8481    xpc/2017-finals        XPC  2017-03-03         USA        OH   \n8481    xpc/2017-finals        XPC  2017-03-03         USA        OH   \n\n         MeetTown                                           MeetName  \\\nMeetID                                                                 \n0       Charlotte  2016 Junior & Senior National Powerlifting Cha...   \n0       Charlotte  2016 Junior & Senior National Powerlifting Cha...   \n0       Charlotte  2016 Junior & Senior National Powerlifting Cha...   \n0       Charlotte  2016 Junior & Senior National Powerlifting Cha...   \n0       Charlotte  2016 Junior & Senior National Powerlifting Cha...   \n...           ...                                                ...   \n8481     Columbus                                    2017 XPC Finals   \n8481     Columbus                                    2017 XPC Finals   \n8481     Columbus                                    2017 XPC Finals   \n8481     Columbus                                    2017 XPC Finals   \n8481     Columbus                                    2017 XPC Finals   \n\n                    Name Sex   Equipment  ...  WeightClassKg Squat4Kg  \\\nMeetID                                    ...                           \n0       Angie Belk Terry   F       Wraps  ...             60      NaN   \n0            Dawn Bogart   F  Single-ply  ...             60      NaN   \n0            Dawn Bogart   F  Single-ply  ...             60      NaN   \n0            Dawn Bogart   F         Raw  ...             60      NaN   \n0           Destiny Dula   F         Raw  ...           67.5      NaN   \n...                  ...  ..         ...  ...            ...      ...   \n8481     William Barabas   M   Multi-ply  ...            125      NaN   \n8481        Justin Zottl   M   Multi-ply  ...            125      NaN   \n8481       Jake Anderson   M   Multi-ply  ...            125      NaN   \n8481      Jeff Bumanglag   M   Multi-ply  ...            140      NaN   \n8481       Shane Hammock   M   Multi-ply  ...            140      NaN   \n\n        BestSquatKg Bench4Kg  BestBenchKg  Deadlift4Kg  BestDeadliftKg  \\\nMeetID                                                                   \n0             47.63      NaN        20.41          NaN           70.31   \n0            142.88      NaN        95.25          NaN          163.29   \n0            142.88      NaN        95.25          NaN          163.29   \n0               NaN      NaN        95.25          NaN             NaN   \n0               NaN      NaN        31.75          NaN           90.72   \n...             ...      ...          ...          ...             ...   \n8481            NaN      NaN          NaN          NaN          347.50   \n8481            NaN      NaN          NaN          NaN          322.50   \n8481            NaN      NaN          NaN          NaN          367.50   \n8481            NaN      NaN          NaN          NaN          320.00   \n8481            NaN      NaN          NaN          NaN          362.50   \n\n        TotalKg  Place   Wilks  \nMeetID                          \n0        138.35      1  155.05  \n0        401.42      1  456.38  \n0        401.42      1  456.38  \n0         95.25      1  108.29  \n0        122.47      1  130.47  \n...         ...    ...     ...  \n8481     347.50      2  202.60  \n8481     322.50      3  185.77  \n8481     367.50      1  211.17  \n8481     320.00      3  181.85  \n8481     362.50      2  205.18  \n\n[386414 rows x 23 columns]",
      "text/html": "<div>\n<style scoped>\n    .dataframe tbody tr th:only-of-type {\n        vertical-align: middle;\n    }\n\n    .dataframe tbody tr th {\n        vertical-align: top;\n    }\n\n    .dataframe thead th {\n        text-align: right;\n    }\n</style>\n<table border=\"1\" class=\"dataframe\">\n  <thead>\n    <tr style=\"text-align: right;\">\n      <th></th>\n      <th>MeetPath</th>\n      <th>Federation</th>\n      <th>Date</th>\n      <th>MeetCountry</th>\n      <th>MeetState</th>\n      <th>MeetTown</th>\n      <th>MeetName</th>\n      <th>Name</th>\n      <th>Sex</th>\n      <th>Equipment</th>\n      <th>...</th>\n      <th>WeightClassKg</th>\n      <th>Squat4Kg</th>\n      <th>BestSquatKg</th>\n      <th>Bench4Kg</th>\n      <th>BestBenchKg</th>\n      <th>Deadlift4Kg</th>\n      <th>BestDeadliftKg</th>\n      <th>TotalKg</th>\n      <th>Place</th>\n      <th>Wilks</th>\n    </tr>\n    <tr>\n      <th>MeetID</th>\n      <th></th>\n      <th></th>\n      <th></th>\n      <th></th>\n      <th></th>\n      <th></th>\n      <th></th>\n      <th></th>\n      <th></th>\n      <th></th>\n      <th></th>\n      <th></th>\n      <th></th>\n      <th></th>\n      <th></th>\n      <th></th>\n      <th></th>\n      <th></th>\n      <th></th>\n      <th></th>\n      <th></th>\n    </tr>\n  </thead>\n  <tbody>\n    <tr>\n      <th>0</th>\n      <td>365strong/1601</td>\n      <td>365Strong</td>\n      <td>2016-10-29</td>\n      <td>USA</td>\n      <td>NC</td>\n      <td>Charlotte</td>\n      <td>2016 Junior &amp; Senior National Powerlifting Cha...</td>\n      <td>Angie Belk Terry</td>\n      <td>F</td>\n      <td>Wraps</td>\n      <td>...</td>\n      <td>60</td>\n      <td>NaN</td>\n      <td>47.63</td>\n      <td>NaN</td>\n      <td>20.41</td>\n      <td>NaN</td>\n      <td>70.31</td>\n      <td>138.35</td>\n      <td>1</td>\n      <td>155.05</td>\n    </tr>\n    <tr>\n      <th>0</th>\n      <td>365strong/1601</td>\n      <td>365Strong</td>\n      <td>2016-10-29</td>\n      <td>USA</td>\n      <td>NC</td>\n      <td>Charlotte</td>\n      <td>2016 Junior &amp; Senior National Powerlifting Cha...</td>\n      <td>Dawn Bogart</td>\n      <td>F</td>\n      <td>Single-ply</td>\n      <td>...</td>\n      <td>60</td>\n      <td>NaN</td>\n      <td>142.88</td>\n      <td>NaN</td>\n      <td>95.25</td>\n      <td>NaN</td>\n      <td>163.29</td>\n      <td>401.42</td>\n      <td>1</td>\n      <td>456.38</td>\n    </tr>\n    <tr>\n      <th>0</th>\n      <td>365strong/1601</td>\n      <td>365Strong</td>\n      <td>2016-10-29</td>\n      <td>USA</td>\n      <td>NC</td>\n      <td>Charlotte</td>\n      <td>2016 Junior &amp; Senior National Powerlifting Cha...</td>\n      <td>Dawn Bogart</td>\n      <td>F</td>\n      <td>Single-ply</td>\n      <td>...</td>\n      <td>60</td>\n      <td>NaN</td>\n      <td>142.88</td>\n      <td>NaN</td>\n      <td>95.25</td>\n      <td>NaN</td>\n      <td>163.29</td>\n      <td>401.42</td>\n      <td>1</td>\n      <td>456.38</td>\n    </tr>\n    <tr>\n      <th>0</th>\n      <td>365strong/1601</td>\n      <td>365Strong</td>\n      <td>2016-10-29</td>\n      <td>USA</td>\n      <td>NC</td>\n      <td>Charlotte</td>\n      <td>2016 Junior &amp; Senior National Powerlifting Cha...</td>\n      <td>Dawn Bogart</td>\n      <td>F</td>\n      <td>Raw</td>\n      <td>...</td>\n      <td>60</td>\n      <td>NaN</td>\n      <td>NaN</td>\n      <td>NaN</td>\n      <td>95.25</td>\n      <td>NaN</td>\n      <td>NaN</td>\n      <td>95.25</td>\n      <td>1</td>\n      <td>108.29</td>\n    </tr>\n    <tr>\n      <th>0</th>\n      <td>365strong/1601</td>\n      <td>365Strong</td>\n      <td>2016-10-29</td>\n      <td>USA</td>\n      <td>NC</td>\n      <td>Charlotte</td>\n      <td>2016 Junior &amp; Senior National Powerlifting Cha...</td>\n      <td>Destiny Dula</td>\n      <td>F</td>\n      <td>Raw</td>\n      <td>...</td>\n      <td>67.5</td>\n      <td>NaN</td>\n      <td>NaN</td>\n      <td>NaN</td>\n      <td>31.75</td>\n      <td>NaN</td>\n      <td>90.72</td>\n      <td>122.47</td>\n      <td>1</td>\n      <td>130.47</td>\n    </tr>\n    <tr>\n      <th>...</th>\n      <td>...</td>\n      <td>...</td>\n      <td>...</td>\n      <td>...</td>\n      <td>...</td>\n      <td>...</td>\n      <td>...</td>\n      <td>...</td>\n      <td>...</td>\n      <td>...</td>\n      <td>...</td>\n      <td>...</td>\n      <td>...</td>\n      <td>...</td>\n      <td>...</td>\n      <td>...</td>\n      <td>...</td>\n      <td>...</td>\n      <td>...</td>\n      <td>...</td>\n      <td>...</td>\n    </tr>\n    <tr>\n      <th>8481</th>\n      <td>xpc/2017-finals</td>\n      <td>XPC</td>\n      <td>2017-03-03</td>\n      <td>USA</td>\n      <td>OH</td>\n      <td>Columbus</td>\n      <td>2017 XPC Finals</td>\n      <td>William Barabas</td>\n      <td>M</td>\n      <td>Multi-ply</td>\n      <td>...</td>\n      <td>125</td>\n      <td>NaN</td>\n      <td>NaN</td>\n      <td>NaN</td>\n      <td>NaN</td>\n      <td>NaN</td>\n      <td>347.50</td>\n      <td>347.50</td>\n      <td>2</td>\n      <td>202.60</td>\n    </tr>\n    <tr>\n      <th>8481</th>\n      <td>xpc/2017-finals</td>\n      <td>XPC</td>\n      <td>2017-03-03</td>\n      <td>USA</td>\n      <td>OH</td>\n      <td>Columbus</td>\n      <td>2017 XPC Finals</td>\n      <td>Justin Zottl</td>\n      <td>M</td>\n      <td>Multi-ply</td>\n      <td>...</td>\n      <td>125</td>\n      <td>NaN</td>\n      <td>NaN</td>\n      <td>NaN</td>\n      <td>NaN</td>\n      <td>NaN</td>\n      <td>322.50</td>\n      <td>322.50</td>\n      <td>3</td>\n      <td>185.77</td>\n    </tr>\n    <tr>\n      <th>8481</th>\n      <td>xpc/2017-finals</td>\n      <td>XPC</td>\n      <td>2017-03-03</td>\n      <td>USA</td>\n      <td>OH</td>\n      <td>Columbus</td>\n      <td>2017 XPC Finals</td>\n      <td>Jake Anderson</td>\n      <td>M</td>\n      <td>Multi-ply</td>\n      <td>...</td>\n      <td>125</td>\n      <td>NaN</td>\n      <td>NaN</td>\n      <td>NaN</td>\n      <td>NaN</td>\n      <td>NaN</td>\n      <td>367.50</td>\n      <td>367.50</td>\n      <td>1</td>\n      <td>211.17</td>\n    </tr>\n    <tr>\n      <th>8481</th>\n      <td>xpc/2017-finals</td>\n      <td>XPC</td>\n      <td>2017-03-03</td>\n      <td>USA</td>\n      <td>OH</td>\n      <td>Columbus</td>\n      <td>2017 XPC Finals</td>\n      <td>Jeff Bumanglag</td>\n      <td>M</td>\n      <td>Multi-ply</td>\n      <td>...</td>\n      <td>140</td>\n      <td>NaN</td>\n      <td>NaN</td>\n      <td>NaN</td>\n      <td>NaN</td>\n      <td>NaN</td>\n      <td>320.00</td>\n      <td>320.00</td>\n      <td>3</td>\n      <td>181.85</td>\n    </tr>\n    <tr>\n      <th>8481</th>\n      <td>xpc/2017-finals</td>\n      <td>XPC</td>\n      <td>2017-03-03</td>\n      <td>USA</td>\n      <td>OH</td>\n      <td>Columbus</td>\n      <td>2017 XPC Finals</td>\n      <td>Shane Hammock</td>\n      <td>M</td>\n      <td>Multi-ply</td>\n      <td>...</td>\n      <td>140</td>\n      <td>NaN</td>\n      <td>NaN</td>\n      <td>NaN</td>\n      <td>NaN</td>\n      <td>NaN</td>\n      <td>362.50</td>\n      <td>362.50</td>\n      <td>2</td>\n      <td>205.18</td>\n    </tr>\n  </tbody>\n</table>\n<p>386414 rows × 23 columns</p>\n</div>"
     },
     "metadata": {},
     "execution_count": 51
    }
   ],
   "source": [
    "powerlifting_meets.set_index(\"MeetID\").join(powerlifting_competitors.set_index(\"MeetID\"))"
   ]
  },
  {
   "cell_type": "code",
   "execution_count": 50,
   "metadata": {},
   "outputs": [
    {
     "output_type": "display_data",
     "data": {
      "text/plain": "<IPython.core.display.Javascript object>",
      "application/javascript": "parent.postMessage({\"jupyterEvent\": \"custom.exercise_interaction\", \"data\": {\"interactionType\": 2, \"questionType\": 2, \"questionId\": \"4_JoinLifting\", \"learnToolsVersion\": \"0.3.4\", \"valueTowardsCompletion\": 0.0, \"failureMessage\": \"\", \"exceptionClass\": \"\", \"trace\": \"\", \"outcomeType\": 4}}, \"*\")"
     },
     "metadata": {}
    },
    {
     "output_type": "display_data",
     "data": {
      "text/plain": "Hint: Use `pd.Dataframe.join()`.",
      "text/markdown": "<span style=\"color:#3366cc\">Hint:</span> Use `pd.Dataframe.join()`."
     },
     "metadata": {}
    },
    {
     "output_type": "display_data",
     "data": {
      "text/plain": "<IPython.core.display.Javascript object>",
      "application/javascript": "parent.postMessage({\"jupyterEvent\": \"custom.exercise_interaction\", \"data\": {\"interactionType\": 3, \"questionType\": 2, \"questionId\": \"4_JoinLifting\", \"learnToolsVersion\": \"0.3.4\", \"valueTowardsCompletion\": 0.0, \"failureMessage\": \"\", \"exceptionClass\": \"\", \"trace\": \"\", \"outcomeType\": 4}}, \"*\")"
     },
     "metadata": {}
    },
    {
     "output_type": "display_data",
     "data": {
      "text/plain": "Solution: \n```python\npowerlifting_combined = powerlifting_meets.set_index(\"MeetID\").join(powerlifting_competitors.set_index(\"MeetID\"))\n```",
      "text/markdown": "<span style=\"color:#33cc99\">Solution:</span> \n```python\npowerlifting_combined = powerlifting_meets.set_index(\"MeetID\").join(powerlifting_competitors.set_index(\"MeetID\"))\n```"
     },
     "metadata": {}
    }
   ],
   "source": [
    "#_COMMENT_IF(PROD)_\n",
    "q4.hint()\n",
    "#_COMMENT_IF(PROD)_\n",
    "q4.solution()"
   ]
  },
  {
   "cell_type": "markdown",
   "metadata": {},
   "source": [
    "# Congratulations!\n",
    "\n",
    "You've finished the Pandas micro-course.  Many data scientists feel efficiency with Pandas is the most useful and practical skill they have, because it allows you to progress quickly in any project you have.\n",
    "\n",
    "If you'd like to apply your new skills to examining geospatial data, you're encouraged to check out our **[Geospatial Analysis](https://www.kaggle.com/learn/geospatial-analysis)** micro-course.\n",
    "\n",
    "You can also take advantage of your Pandas skills by entering a **[Kaggle Competition](https://www.kaggle.com/competitions)** or by answering a question you find interesting using **[Kaggle Datasets](https://www.kaggle.com/datasets)**."
   ]
  }
 ],
 "metadata": {
  "kernelspec": {
   "display_name": "Python 3",
   "language": "python",
   "name": "python3"
  },
  "language_info": {
   "codemirror_mode": {
    "name": "ipython",
    "version": 3
   },
   "file_extension": ".py",
   "mimetype": "text/x-python",
   "name": "python",
   "nbconvert_exporter": "python",
   "pygments_lexer": "ipython3",
   "version": "3.8.2-final"
  }
 },
 "nbformat": 4,
 "nbformat_minor": 2
}