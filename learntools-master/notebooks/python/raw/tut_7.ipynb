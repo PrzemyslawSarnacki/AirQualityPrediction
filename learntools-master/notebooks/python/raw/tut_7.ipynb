{
 "cells": [
  {
   "cell_type": "markdown",
   "metadata": {},
   "source": [
    "In this lesson, I'll be talking about **imports** in Python, giving some tips for working with unfamiliar libraries (and the objects they return), and digging into the guts of Python just a bit to talk about **operator overloading**."
   ]
  },
  {
   "cell_type": "markdown",
   "metadata": {},
   "source": [
    "## Imports\n",
    "\n",
    "So far we've talked about types and functions which are built-in to the language. \n",
    "\n",
    "But one of the best things about Python (especially if you're a data scientist) is the vast number of high-quality custom libraries that have been written for it. \n",
    "\n",
    "Some of these libraries are in the \"standard library\", meaning you can find them anywhere you run Python. Others libraries can be easily added, even if they aren't always shipped with Python.\n",
    "\n",
    "Either way, we'll access this code with **imports**.\n",
    "\n",
    "We'll start our example by importing `math` from the standard library."
   ]
  },
  {
   "cell_type": "code",
   "execution_count": 1,
   "metadata": {
    "tags": []
   },
   "outputs": [
    {
     "output_type": "stream",
     "name": "stdout",
     "text": "It's math! It has type <class 'module'>\n"
    }
   ],
   "source": [
    "import math\n",
    "\n",
    "print(\"It's math! It has type {}\".format(type(math)))"
   ]
  },
  {
   "cell_type": "markdown",
   "metadata": {},
   "source": [
    "`math` is a module. A module is just a collection of variables (a *namespace*, if you like) defined by someone else. We can see all the names in `math` using the built-in function `dir()`."
   ]
  },
  {
   "cell_type": "code",
   "execution_count": 2,
   "metadata": {
    "tags": []
   },
   "outputs": [
    {
     "output_type": "stream",
     "name": "stdout",
     "text": "['__doc__', '__loader__', '__name__', '__package__', '__spec__', 'acos', 'acosh', 'asin', 'asinh', 'atan', 'atan2', 'atanh', 'ceil', 'comb', 'copysign', 'cos', 'cosh', 'degrees', 'dist', 'e', 'erf', 'erfc', 'exp', 'expm1', 'fabs', 'factorial', 'floor', 'fmod', 'frexp', 'fsum', 'gamma', 'gcd', 'hypot', 'inf', 'isclose', 'isfinite', 'isinf', 'isnan', 'isqrt', 'ldexp', 'lgamma', 'log', 'log10', 'log1p', 'log2', 'modf', 'nan', 'perm', 'pi', 'pow', 'prod', 'radians', 'remainder', 'sin', 'sinh', 'sqrt', 'tan', 'tanh', 'tau', 'trunc']\n"
    }
   ],
   "source": [
    "print(dir(math))"
   ]
  },
  {
   "cell_type": "markdown",
   "metadata": {},
   "source": [
    "We can access these variables using dot syntax. Some of them refer to simple values, like `math.pi`:"
   ]
  },
  {
   "cell_type": "code",
   "execution_count": 8,
   "metadata": {
    "tags": []
   },
   "outputs": [
    {
     "output_type": "stream",
     "name": "stdout",
     "text": "pi to 4 significant digits = 3.142\n"
    }
   ],
   "source": [
    "print(\"pi to 4 significant digits = {:.4}\".format(math.pi))"
   ]
  },
  {
   "cell_type": "markdown",
   "metadata": {},
   "source": [
    "But most of what we'll find in the module are functions, like `math.log`:"
   ]
  },
  {
   "cell_type": "code",
   "execution_count": 9,
   "metadata": {},
   "outputs": [
    {
     "output_type": "execute_result",
     "data": {
      "text/plain": "5.0"
     },
     "metadata": {},
     "execution_count": 9
    }
   ],
   "source": [
    "math.log(32, 2)"
   ]
  },
  {
   "cell_type": "markdown",
   "metadata": {},
   "source": [
    "Of course, if we don't know what `math.log` does, we can call `help()` on it:"
   ]
  },
  {
   "cell_type": "code",
   "execution_count": 11,
   "metadata": {
    "tags": []
   },
   "outputs": [
    {
     "output_type": "stream",
     "name": "stdout",
     "text": "Help on built-in function log in module math:\n\nlog(...)\n    log(x, [base=math.e])\n    Return the logarithm of x to the given base.\n    \n    If the base not specified, returns the natural logarithm (base e) of x.\n\n"
    }
   ],
   "source": [
    "help(math.log)"
   ]
  },
  {
   "cell_type": "markdown",
   "metadata": {},
   "source": [
    "We can also call `help()` on the module itself. This will give us the combined documentation for *all* the functions and values in the module (as well as a high-level description of the module). Click the \"output\" button to see the whole `math` help page."
   ]
  },
  {
   "cell_type": "code",
   "execution_count": 13,
   "metadata": {
    "_kg_hide-output": true,
    "tags": []
   },
   "outputs": [
    {
     "output_type": "stream",
     "name": "stdout",
     "text": "Help on built-in module math:\n\nNAME\n    math\n\nDESCRIPTION\n    This module provides access to the mathematical functions\n    defined by the C standard.\n\nFUNCTIONS\n    acos(x, /)\n        Return the arc cosine (measured in radians) of x.\n    \n    acosh(x, /)\n        Return the inverse hyperbolic cosine of x.\n    \n    asin(x, /)\n        Return the arc sine (measured in radians) of x.\n    \n    asinh(x, /)\n        Return the inverse hyperbolic sine of x.\n    \n    atan(x, /)\n        Return the arc tangent (measured in radians) of x.\n    \n    atan2(y, x, /)\n        Return the arc tangent (measured in radians) of y/x.\n        \n        Unlike atan(y/x), the signs of both x and y are considered.\n    \n    atanh(x, /)\n        Return the inverse hyperbolic tangent of x.\n    \n    ceil(x, /)\n        Return the ceiling of x as an Integral.\n        \n        This is the smallest integer >= x.\n    \n    comb(n, k, /)\n        Number of ways to choose k items from n items without repetition and without order.\n        \n        Evaluates to n! / (k! * (n - k)!) when k <= n and evaluates\n        to zero when k > n.\n        \n        Also called the binomial coefficient because it is equivalent\n        to the coefficient of k-th term in polynomial expansion of the\n        expression (1 + x)**n.\n        \n        Raises TypeError if either of the arguments are not integers.\n        Raises ValueError if either of the arguments are negative.\n    \n    copysign(x, y, /)\n        Return a float with the magnitude (absolute value) of x but the sign of y.\n        \n        On platforms that support signed zeros, copysign(1.0, -0.0)\n        returns -1.0.\n    \n    cos(x, /)\n        Return the cosine of x (measured in radians).\n    \n    cosh(x, /)\n        Return the hyperbolic cosine of x.\n    \n    degrees(x, /)\n        Convert angle x from radians to degrees.\n    \n    dist(p, q, /)\n        Return the Euclidean distance between two points p and q.\n        \n        The points should be specified as sequences (or iterables) of\n        coordinates.  Both inputs must have the same dimension.\n        \n        Roughly equivalent to:\n            sqrt(sum((px - qx) ** 2.0 for px, qx in zip(p, q)))\n    \n    erf(x, /)\n        Error function at x.\n    \n    erfc(x, /)\n        Complementary error function at x.\n    \n    exp(x, /)\n        Return e raised to the power of x.\n    \n    expm1(x, /)\n        Return exp(x)-1.\n        \n        This function avoids the loss of precision involved in the direct evaluation of exp(x)-1 for small x.\n    \n    fabs(x, /)\n        Return the absolute value of the float x.\n    \n    factorial(x, /)\n        Find x!.\n        \n        Raise a ValueError if x is negative or non-integral.\n    \n    floor(x, /)\n        Return the floor of x as an Integral.\n        \n        This is the largest integer <= x.\n    \n    fmod(x, y, /)\n        Return fmod(x, y), according to platform C.\n        \n        x % y may differ.\n    \n    frexp(x, /)\n        Return the mantissa and exponent of x, as pair (m, e).\n        \n        m is a float and e is an int, such that x = m * 2.**e.\n        If x is 0, m and e are both 0.  Else 0.5 <= abs(m) < 1.0.\n    \n    fsum(seq, /)\n        Return an accurate floating point sum of values in the iterable seq.\n        \n        Assumes IEEE-754 floating point arithmetic.\n    \n    gamma(x, /)\n        Gamma function at x.\n    \n    gcd(x, y, /)\n        greatest common divisor of x and y\n    \n    hypot(...)\n        hypot(*coordinates) -> value\n        \n        Multidimensional Euclidean distance from the origin to a point.\n        \n        Roughly equivalent to:\n            sqrt(sum(x**2 for x in coordinates))\n        \n        For a two dimensional point (x, y), gives the hypotenuse\n        using the Pythagorean theorem:  sqrt(x*x + y*y).\n        \n        For example, the hypotenuse of a 3/4/5 right triangle is:\n        \n            >>> hypot(3.0, 4.0)\n            5.0\n    \n    isclose(a, b, *, rel_tol=1e-09, abs_tol=0.0)\n        Determine whether two floating point numbers are close in value.\n        \n          rel_tol\n            maximum difference for being considered \"close\", relative to the\n            magnitude of the input values\n          abs_tol\n            maximum difference for being considered \"close\", regardless of the\n            magnitude of the input values\n        \n        Return True if a is close in value to b, and False otherwise.\n        \n        For the values to be considered close, the difference between them\n        must be smaller than at least one of the tolerances.\n        \n        -inf, inf and NaN behave similarly to the IEEE 754 Standard.  That\n        is, NaN is not close to anything, even itself.  inf and -inf are\n        only close to themselves.\n    \n    isfinite(x, /)\n        Return True if x is neither an infinity nor a NaN, and False otherwise.\n    \n    isinf(x, /)\n        Return True if x is a positive or negative infinity, and False otherwise.\n    \n    isnan(x, /)\n        Return True if x is a NaN (not a number), and False otherwise.\n    \n    isqrt(n, /)\n        Return the integer part of the square root of the input.\n    \n    ldexp(x, i, /)\n        Return x * (2**i).\n        \n        This is essentially the inverse of frexp().\n    \n    lgamma(x, /)\n        Natural logarithm of absolute value of Gamma function at x.\n    \n    log(...)\n        log(x, [base=math.e])\n        Return the logarithm of x to the given base.\n        \n        If the base not specified, returns the natural logarithm (base e) of x.\n    \n    log10(x, /)\n        Return the base 10 logarithm of x.\n    \n    log1p(x, /)\n        Return the natural logarithm of 1+x (base e).\n        \n        The result is computed in a way which is accurate for x near zero.\n    \n    log2(x, /)\n        Return the base 2 logarithm of x.\n    \n    modf(x, /)\n        Return the fractional and integer parts of x.\n        \n        Both results carry the sign of x and are floats.\n    \n    perm(n, k=None, /)\n        Number of ways to choose k items from n items without repetition and with order.\n        \n        Evaluates to n! / (n - k)! when k <= n and evaluates\n        to zero when k > n.\n        \n        If k is not specified or is None, then k defaults to n\n        and the function returns n!.\n        \n        Raises TypeError if either of the arguments are not integers.\n        Raises ValueError if either of the arguments are negative.\n    \n    pow(x, y, /)\n        Return x**y (x to the power of y).\n    \n    prod(iterable, /, *, start=1)\n        Calculate the product of all the elements in the input iterable.\n        \n        The default start value for the product is 1.\n        \n        When the iterable is empty, return the start value.  This function is\n        intended specifically for use with numeric values and may reject\n        non-numeric types.\n    \n    radians(x, /)\n        Convert angle x from degrees to radians.\n    \n    remainder(x, y, /)\n        Difference between x and the closest integer multiple of y.\n        \n        Return x - n*y where n*y is the closest integer multiple of y.\n        In the case where x is exactly halfway between two multiples of\n        y, the nearest even value of n is used. The result is always exact.\n    \n    sin(x, /)\n        Return the sine of x (measured in radians).\n    \n    sinh(x, /)\n        Return the hyperbolic sine of x.\n    \n    sqrt(x, /)\n        Return the square root of x.\n    \n    tan(x, /)\n        Return the tangent of x (measured in radians).\n    \n    tanh(x, /)\n        Return the hyperbolic tangent of x.\n    \n    trunc(x, /)\n        Truncates the Real x to the nearest Integral toward 0.\n        \n        Uses the __trunc__ magic method.\n\nDATA\n    e = 2.718281828459045\n    inf = inf\n    nan = nan\n    pi = 3.141592653589793\n    tau = 6.283185307179586\n\nFILE\n    (built-in)\n\n\n"
    }
   ],
   "source": [
    "help(math)"
   ]
  },
  {
   "cell_type": "markdown",
   "metadata": {},
   "source": [
    "### Other import syntax\n",
    "\n",
    "If we know we'll be using functions in `math` frequently we can import it under a shorter alias to save some typing (though in this case \"math\" is already pretty short)."
   ]
  },
  {
   "cell_type": "code",
   "execution_count": 14,
   "metadata": {},
   "outputs": [
    {
     "output_type": "execute_result",
     "data": {
      "text/plain": "3.141592653589793"
     },
     "metadata": {},
     "execution_count": 14
    }
   ],
   "source": [
    "import math as mt\n",
    "mt.pi"
   ]
  },
  {
   "cell_type": "markdown",
   "metadata": {},
   "source": [
    "> You may have seen code that does this with certain popular libraries like Pandas, Numpy, Tensorflow, or Matplotlib. For example, it's a common convention to `import numpy as np` and `import pandas as pd`."
   ]
  },
  {
   "cell_type": "markdown",
   "metadata": {},
   "source": [
    "The `as` simply renames the imported module. It's equivalent to doing something like:"
   ]
  },
  {
   "cell_type": "code",
   "execution_count": 15,
   "metadata": {
    "collapsed": true
   },
   "outputs": [],
   "source": [
    "import math\n",
    "mt = math"
   ]
  },
  {
   "cell_type": "markdown",
   "metadata": {},
   "source": [
    "Wouldn't it be great if we could refer to all the variables in the `math` module by themselves? i.e. if we could just refer to `pi` instead of `math.pi` or `mt.pi`? Good news: we can do that."
   ]
  },
  {
   "cell_type": "code",
   "execution_count": 16,
   "metadata": {
    "tags": []
   },
   "outputs": [
    {
     "output_type": "stream",
     "name": "stdout",
     "text": "3.141592653589793 5.0\n"
    }
   ],
   "source": [
    "from math import *\n",
    "print(pi, log(32, 2))"
   ]
  },
  {
   "cell_type": "markdown",
   "metadata": {},
   "source": [
    "`import *` makes all the module's variables directly accessible to you (without any dotted prefix).\n",
    "\n",
    "Bad news: some purists might grumble at you for doing this.\n",
    "\n",
    "Worse: they kind of have a point."
   ]
  },
  {
   "cell_type": "code",
   "execution_count": 17,
   "metadata": {
    "tags": [
     "raises-exception"
    ]
   },
   "outputs": [
    {
     "output_type": "error",
     "ename": "TypeError",
     "evalue": "return arrays must be of ArrayType",
     "traceback": [
      "\u001b[1;31m---------------------------------------------------------------------------\u001b[0m",
      "\u001b[1;31mTypeError\u001b[0m                                 Traceback (most recent call last)",
      "\u001b[1;32m<ipython-input-17-5045b296ad83>\u001b[0m in \u001b[0;36m<module>\u001b[1;34m\u001b[0m\n\u001b[0;32m      1\u001b[0m \u001b[1;32mfrom\u001b[0m \u001b[0mmath\u001b[0m \u001b[1;32mimport\u001b[0m \u001b[1;33m*\u001b[0m\u001b[1;33m\u001b[0m\u001b[1;33m\u001b[0m\u001b[0m\n\u001b[0;32m      2\u001b[0m \u001b[1;32mfrom\u001b[0m \u001b[0mnumpy\u001b[0m \u001b[1;32mimport\u001b[0m \u001b[1;33m*\u001b[0m\u001b[1;33m\u001b[0m\u001b[1;33m\u001b[0m\u001b[0m\n\u001b[1;32m----> 3\u001b[1;33m \u001b[0mprint\u001b[0m\u001b[1;33m(\u001b[0m\u001b[0mpi\u001b[0m\u001b[1;33m,\u001b[0m \u001b[0mlog\u001b[0m\u001b[1;33m(\u001b[0m\u001b[1;36m32\u001b[0m\u001b[1;33m,\u001b[0m \u001b[1;36m2\u001b[0m\u001b[1;33m)\u001b[0m\u001b[1;33m)\u001b[0m\u001b[1;33m\u001b[0m\u001b[1;33m\u001b[0m\u001b[0m\n\u001b[0m",
      "\u001b[1;31mTypeError\u001b[0m: return arrays must be of ArrayType"
     ]
    }
   ],
   "source": [
    "from math import *\n",
    "from numpy import *\n",
    "print(pi, log(32, 2))"
   ]
  },
  {
   "cell_type": "markdown",
   "metadata": {},
   "source": [
    "What the what? But it worked before!\n",
    "\n",
    "These kinds of \"star imports\" can occasionally lead to weird, difficult-to-debug situations.\n",
    "\n",
    "The problem in this case is that the `math` and `numpy` modules both have functions called `log`, but they have different semantics. Because we import from `numpy` second, its `log` overwrites (or \"shadows\") the `log` variable we imported from `math`.\n",
    "\n",
    "A good compromise is to import only the specific things we'll need from each module:"
   ]
  },
  {
   "cell_type": "code",
   "execution_count": 18,
   "metadata": {
    "collapsed": true
   },
   "outputs": [],
   "source": [
    "from math import log, pi\n",
    "from numpy import asarray"
   ]
  },
  {
   "cell_type": "markdown",
   "metadata": {},
   "source": [
    "### Submodules\n",
    "\n",
    "We've seen that modules contain variables which can refer to functions or values. Something to be aware of is that they can also have variables referring to *other modules*. "
   ]
  },
  {
   "cell_type": "code",
   "execution_count": 21,
   "metadata": {
    "tags": []
   },
   "outputs": [
    {
     "output_type": "stream",
     "name": "stdout",
     "text": "numpy.random is a <class 'module'>\nit contains names such as... ['seed', 'set_state', 'shuffle', 'standard_cauchy', 'standard_exponential', 'standard_gamma', 'standard_normal', 'standard_t', 'test', 'triangular', 'uniform', 'vonmises', 'wald', 'weibull', 'zipf']\n"
    }
   ],
   "source": [
    "import numpy\n",
    "print(\"numpy.random is a\", type(numpy.random))\n",
    "print(\"it contains names such as...\",\n",
    "      dir(numpy.random)[-15:]\n",
    "     )"
   ]
  },
  {
   "cell_type": "markdown",
   "metadata": {},
   "source": [
    "So if we import `numpy` as above, then calling a function in the `random` \"submodule\" will require *two* dots."
   ]
  },
  {
   "cell_type": "code",
   "execution_count": 22,
   "metadata": {},
   "outputs": [
    {
     "output_type": "execute_result",
     "data": {
      "text/plain": "array([4, 4, 5, 4, 1, 4, 4, 1, 3, 5])"
     },
     "metadata": {},
     "execution_count": 22
    }
   ],
   "source": [
    "# Roll 10 dice\n",
    "rolls = numpy.random.randint(low=1, high=6, size=10)\n",
    "rolls"
   ]
  },
  {
   "cell_type": "markdown",
   "metadata": {},
   "source": [
    "# Oh the places you'll go, oh the objects you'll see\n",
    "\n",
    "So after 6 lessons, you're a pro with ints, floats, bools, lists, strings, and dicts (right?). \n",
    "\n",
    "Even if that were true, it doesn't end there. As you work with various libraries for specialized tasks, you'll find that they define their own types which you'll have to learn to work with. For example, if you work with the graphing library `matplotlib`, you'll be coming into contact with objects it defines which represent Subplots, Figures, TickMarks, and Annotations. `pandas` functions will give you DataFrames and Series. \n",
    "\n",
    "In this section, I want to share with you a quick survival guide for working with strange types.\n",
    "\n",
    "## Three tools for understanding strange objects\n",
    "\n",
    "In the cell above, we saw that calling a `numpy` function gave us an \"array\". We've never seen anything like this before (not in this course anyways). But don't panic: we have three familiar builtin functions to help us here.\n",
    "\n",
    "**1: `type()`** (what is this thing?)"
   ]
  },
  {
   "cell_type": "code",
   "execution_count": 24,
   "metadata": {},
   "outputs": [
    {
     "output_type": "execute_result",
     "data": {
      "text/plain": "numpy.ndarray"
     },
     "metadata": {},
     "execution_count": 24
    }
   ],
   "source": [
    "type(rolls)"
   ]
  },
  {
   "cell_type": "markdown",
   "metadata": {},
   "source": [
    "**2: `dir()`** (what can I do with it?)"
   ]
  },
  {
   "cell_type": "code",
   "execution_count": 25,
   "metadata": {
    "tags": []
   },
   "outputs": [
    {
     "output_type": "stream",
     "name": "stdout",
     "text": "['T', '__abs__', '__add__', '__and__', '__array__', '__array_finalize__', '__array_function__', '__array_interface__', '__array_prepare__', '__array_priority__', '__array_struct__', '__array_ufunc__', '__array_wrap__', '__bool__', '__class__', '__complex__', '__contains__', '__copy__', '__deepcopy__', '__delattr__', '__delitem__', '__dir__', '__divmod__', '__doc__', '__eq__', '__float__', '__floordiv__', '__format__', '__ge__', '__getattribute__', '__getitem__', '__gt__', '__hash__', '__iadd__', '__iand__', '__ifloordiv__', '__ilshift__', '__imatmul__', '__imod__', '__imul__', '__index__', '__init__', '__init_subclass__', '__int__', '__invert__', '__ior__', '__ipow__', '__irshift__', '__isub__', '__iter__', '__itruediv__', '__ixor__', '__le__', '__len__', '__lshift__', '__lt__', '__matmul__', '__mod__', '__mul__', '__ne__', '__neg__', '__new__', '__or__', '__pos__', '__pow__', '__radd__', '__rand__', '__rdivmod__', '__reduce__', '__reduce_ex__', '__repr__', '__rfloordiv__', '__rlshift__', '__rmatmul__', '__rmod__', '__rmul__', '__ror__', '__rpow__', '__rrshift__', '__rshift__', '__rsub__', '__rtruediv__', '__rxor__', '__setattr__', '__setitem__', '__setstate__', '__sizeof__', '__str__', '__sub__', '__subclasshook__', '__truediv__', '__xor__', 'all', 'any', 'argmax', 'argmin', 'argpartition', 'argsort', 'astype', 'base', 'byteswap', 'choose', 'clip', 'compress', 'conj', 'conjugate', 'copy', 'ctypes', 'cumprod', 'cumsum', 'data', 'diagonal', 'dot', 'dtype', 'dump', 'dumps', 'fill', 'flags', 'flat', 'flatten', 'getfield', 'imag', 'item', 'itemset', 'itemsize', 'max', 'mean', 'min', 'nbytes', 'ndim', 'newbyteorder', 'nonzero', 'partition', 'prod', 'ptp', 'put', 'ravel', 'real', 'repeat', 'reshape', 'resize', 'round', 'searchsorted', 'setfield', 'setflags', 'shape', 'size', 'sort', 'squeeze', 'std', 'strides', 'sum', 'swapaxes', 'take', 'tobytes', 'tofile', 'tolist', 'tostring', 'trace', 'transpose', 'var', 'view']\n"
    }
   ],
   "source": [
    "print(dir(rolls))"
   ]
  },
  {
   "cell_type": "code",
   "execution_count": 26,
   "metadata": {},
   "outputs": [
    {
     "output_type": "execute_result",
     "data": {
      "text/plain": "3.5"
     },
     "metadata": {},
     "execution_count": 26
    }
   ],
   "source": [
    "# What am I trying to do with this dice roll data? Maybe I want the average roll, in which case the \"mean\"\n",
    "# method looks promising...\n",
    "rolls.mean()"
   ]
  },
  {
   "cell_type": "code",
   "execution_count": 27,
   "metadata": {},
   "outputs": [
    {
     "output_type": "execute_result",
     "data": {
      "text/plain": "[4, 4, 5, 4, 1, 4, 4, 1, 3, 5]"
     },
     "metadata": {},
     "execution_count": 27
    }
   ],
   "source": [
    "# Or maybe I just want to get back on familiar ground, in which case I might want to check out \"tolist\"\n",
    "rolls.tolist()"
   ]
  },
  {
   "cell_type": "markdown",
   "metadata": {},
   "source": [
    "**3: `help()`** (tell me more)"
   ]
  },
  {
   "cell_type": "code",
   "execution_count": 28,
   "metadata": {
    "tags": []
   },
   "outputs": [
    {
     "output_type": "stream",
     "name": "stdout",
     "text": "Help on built-in function ravel:\n\nravel(...) method of numpy.ndarray instance\n    a.ravel([order])\n    \n    Return a flattened array.\n    \n    Refer to `numpy.ravel` for full documentation.\n    \n    See Also\n    --------\n    numpy.ravel : equivalent function\n    \n    ndarray.flat : a flat iterator on the array.\n\n"
    }
   ],
   "source": [
    "# That \"ravel\" attribute sounds interesting. I'm a big classical music fan.\n",
    "help(rolls.ravel)"
   ]
  },
  {
   "cell_type": "code",
   "execution_count": 29,
   "metadata": {
    "_kg_hide-output": true,
    "tags": [
     "outputPrepend"
    ]
   },
   "outputs": [
    {
     "output_type": "stream",
     "name": "stdout",
     "text": "s a \"convenience\" alternative to the tuple form)\n |      \n |      Returns\n |      -------\n |      out : ndarray\n |          View of `a`, with axes suitably permuted.\n |      \n |      See Also\n |      --------\n |      ndarray.T : Array property returning the array transposed.\n |      ndarray.reshape : Give a new shape to an array without changing its data.\n |      \n |      Examples\n |      --------\n |      >>> a = np.array([[1, 2], [3, 4]])\n |      >>> a\n |      array([[1, 2],\n |             [3, 4]])\n |      >>> a.transpose()\n |      array([[1, 3],\n |             [2, 4]])\n |      >>> a.transpose((1, 0))\n |      array([[1, 3],\n |             [2, 4]])\n |      >>> a.transpose(1, 0)\n |      array([[1, 3],\n |             [2, 4]])\n |  \n |  var(...)\n |      a.var(axis=None, dtype=None, out=None, ddof=0, keepdims=False)\n |      \n |      Returns the variance of the array elements, along given axis.\n |      \n |      Refer to `numpy.var` for full documentation.\n |      \n |      See Also\n |      --------\n |      numpy.var : equivalent function\n |  \n |  view(...)\n |      a.view(dtype=None, type=None)\n |      \n |      New view of array with the same data.\n |      \n |      Parameters\n |      ----------\n |      dtype : data-type or ndarray sub-class, optional\n |          Data-type descriptor of the returned view, e.g., float32 or int16. The\n |          default, None, results in the view having the same data-type as `a`.\n |          This argument can also be specified as an ndarray sub-class, which\n |          then specifies the type of the returned object (this is equivalent to\n |          setting the ``type`` parameter).\n |      type : Python type, optional\n |          Type of the returned view, e.g., ndarray or matrix.  Again, the\n |          default None results in type preservation.\n |      \n |      Notes\n |      -----\n |      ``a.view()`` is used two different ways:\n |      \n |      ``a.view(some_dtype)`` or ``a.view(dtype=some_dtype)`` constructs a view\n |      of the array's memory with a different data-type.  This can cause a\n |      reinterpretation of the bytes of memory.\n |      \n |      ``a.view(ndarray_subclass)`` or ``a.view(type=ndarray_subclass)`` just\n |      returns an instance of `ndarray_subclass` that looks at the same array\n |      (same shape, dtype, etc.)  This does not cause a reinterpretation of the\n |      memory.\n |      \n |      For ``a.view(some_dtype)``, if ``some_dtype`` has a different number of\n |      bytes per entry than the previous dtype (for example, converting a\n |      regular array to a structured array), then the behavior of the view\n |      cannot be predicted just from the superficial appearance of ``a`` (shown\n |      by ``print(a)``). It also depends on exactly how ``a`` is stored in\n |      memory. Therefore if ``a`` is C-ordered versus fortran-ordered, versus\n |      defined as a slice or transpose, etc., the view may give different\n |      results.\n |      \n |      \n |      Examples\n |      --------\n |      >>> x = np.array([(1, 2)], dtype=[('a', np.int8), ('b', np.int8)])\n |      \n |      Viewing array data using a different type and dtype:\n |      \n |      >>> y = x.view(dtype=np.int16, type=np.matrix)\n |      >>> y\n |      matrix([[513]], dtype=int16)\n |      >>> print(type(y))\n |      <class 'numpy.matrix'>\n |      \n |      Creating a view on a structured array so it can be used in calculations\n |      \n |      >>> x = np.array([(1, 2),(3,4)], dtype=[('a', np.int8), ('b', np.int8)])\n |      >>> xv = x.view(dtype=np.int8).reshape(-1,2)\n |      >>> xv\n |      array([[1, 2],\n |             [3, 4]], dtype=int8)\n |      >>> xv.mean(0)\n |      array([2.,  3.])\n |      \n |      Making changes to the view changes the underlying array\n |      \n |      >>> xv[0,1] = 20\n |      >>> x\n |      array([(1, 20), (3,  4)], dtype=[('a', 'i1'), ('b', 'i1')])\n |      \n |      Using a view to convert an array to a recarray:\n |      \n |      >>> z = x.view(np.recarray)\n |      >>> z.a\n |      array([1, 3], dtype=int8)\n |      \n |      Views share data:\n |      \n |      >>> x[0] = (9, 10)\n |      >>> z[0]\n |      (9, 10)\n |      \n |      Views that change the dtype size (bytes per entry) should normally be\n |      avoided on arrays defined by slices, transposes, fortran-ordering, etc.:\n |      \n |      >>> x = np.array([[1,2,3],[4,5,6]], dtype=np.int16)\n |      >>> y = x[:, 0:2]\n |      >>> y\n |      array([[1, 2],\n |             [4, 5]], dtype=int16)\n |      >>> y.view(dtype=[('width', np.int16), ('length', np.int16)])\n |      Traceback (most recent call last):\n |          ...\n |      ValueError: To change to a dtype of a different size, the array must be C-contiguous\n |      >>> z = y.copy()\n |      >>> z.view(dtype=[('width', np.int16), ('length', np.int16)])\n |      array([[(1, 2)],\n |             [(4, 5)]], dtype=[('width', '<i2'), ('length', '<i2')])\n |  \n |  ----------------------------------------------------------------------\n |  Static methods defined here:\n |  \n |  __new__(*args, **kwargs) from builtins.type\n |      Create and return a new object.  See help(type) for accurate signature.\n |  \n |  ----------------------------------------------------------------------\n |  Data descriptors defined here:\n |  \n |  T\n |      The transposed array.\n |      \n |      Same as ``self.transpose()``.\n |      \n |      Examples\n |      --------\n |      >>> x = np.array([[1.,2.],[3.,4.]])\n |      >>> x\n |      array([[ 1.,  2.],\n |             [ 3.,  4.]])\n |      >>> x.T\n |      array([[ 1.,  3.],\n |             [ 2.,  4.]])\n |      >>> x = np.array([1.,2.,3.,4.])\n |      >>> x\n |      array([ 1.,  2.,  3.,  4.])\n |      >>> x.T\n |      array([ 1.,  2.,  3.,  4.])\n |      \n |      See Also\n |      --------\n |      transpose\n |  \n |  __array_finalize__\n |      None.\n |  \n |  __array_interface__\n |      Array protocol: Python side.\n |  \n |  __array_priority__\n |      Array priority.\n |  \n |  __array_struct__\n |      Array protocol: C-struct side.\n |  \n |  base\n |      Base object if memory is from some other object.\n |      \n |      Examples\n |      --------\n |      The base of an array that owns its memory is None:\n |      \n |      >>> x = np.array([1,2,3,4])\n |      >>> x.base is None\n |      True\n |      \n |      Slicing creates a view, whose memory is shared with x:\n |      \n |      >>> y = x[2:]\n |      >>> y.base is x\n |      True\n |  \n |  ctypes\n |      An object to simplify the interaction of the array with the ctypes\n |      module.\n |      \n |      This attribute creates an object that makes it easier to use arrays\n |      when calling shared libraries with the ctypes module. The returned\n |      object has, among others, data, shape, and strides attributes (see\n |      Notes below) which themselves return ctypes objects that can be used\n |      as arguments to a shared library.\n |      \n |      Parameters\n |      ----------\n |      None\n |      \n |      Returns\n |      -------\n |      c : Python object\n |          Possessing attributes data, shape, strides, etc.\n |      \n |      See Also\n |      --------\n |      numpy.ctypeslib\n |      \n |      Notes\n |      -----\n |      Below are the public attributes of this object which were documented\n |      in \"Guide to NumPy\" (we have omitted undocumented public attributes,\n |      as well as documented private attributes):\n |      \n |      .. autoattribute:: numpy.core._internal._ctypes.data\n |          :noindex:\n |      \n |      .. autoattribute:: numpy.core._internal._ctypes.shape\n |          :noindex:\n |      \n |      .. autoattribute:: numpy.core._internal._ctypes.strides\n |          :noindex:\n |      \n |      .. automethod:: numpy.core._internal._ctypes.data_as\n |          :noindex:\n |      \n |      .. automethod:: numpy.core._internal._ctypes.shape_as\n |          :noindex:\n |      \n |      .. automethod:: numpy.core._internal._ctypes.strides_as\n |          :noindex:\n |      \n |      If the ctypes module is not available, then the ctypes attribute\n |      of array objects still returns something useful, but ctypes objects\n |      are not returned and errors may be raised instead. In particular,\n |      the object will still have the ``as_parameter`` attribute which will\n |      return an integer equal to the data attribute.\n |      \n |      Examples\n |      --------\n |      >>> import ctypes\n |      >>> x\n |      array([[0, 1],\n |             [2, 3]])\n |      >>> x.ctypes.data\n |      30439712\n |      >>> x.ctypes.data_as(ctypes.POINTER(ctypes.c_long))\n |      <ctypes.LP_c_long object at 0x01F01300>\n |      >>> x.ctypes.data_as(ctypes.POINTER(ctypes.c_long)).contents\n |      c_long(0)\n |      >>> x.ctypes.data_as(ctypes.POINTER(ctypes.c_longlong)).contents\n |      c_longlong(4294967296L)\n |      >>> x.ctypes.shape\n |      <numpy.core._internal.c_long_Array_2 object at 0x01FFD580>\n |      >>> x.ctypes.shape_as(ctypes.c_long)\n |      <numpy.core._internal.c_long_Array_2 object at 0x01FCE620>\n |      >>> x.ctypes.strides\n |      <numpy.core._internal.c_long_Array_2 object at 0x01FCE620>\n |      >>> x.ctypes.strides_as(ctypes.c_longlong)\n |      <numpy.core._internal.c_longlong_Array_2 object at 0x01F01300>\n |  \n |  data\n |      Python buffer object pointing to the start of the array's data.\n |  \n |  dtype\n |      Data-type of the array's elements.\n |      \n |      Parameters\n |      ----------\n |      None\n |      \n |      Returns\n |      -------\n |      d : numpy dtype object\n |      \n |      See Also\n |      --------\n |      numpy.dtype\n |      \n |      Examples\n |      --------\n |      >>> x\n |      array([[0, 1],\n |             [2, 3]])\n |      >>> x.dtype\n |      dtype('int32')\n |      >>> type(x.dtype)\n |      <type 'numpy.dtype'>\n |  \n |  flags\n |      Information about the memory layout of the array.\n |      \n |      Attributes\n |      ----------\n |      C_CONTIGUOUS (C)\n |          The data is in a single, C-style contiguous segment.\n |      F_CONTIGUOUS (F)\n |          The data is in a single, Fortran-style contiguous segment.\n |      OWNDATA (O)\n |          The array owns the memory it uses or borrows it from another object.\n |      WRITEABLE (W)\n |          The data area can be written to.  Setting this to False locks\n |          the data, making it read-only.  A view (slice, etc.) inherits WRITEABLE\n |          from its base array at creation time, but a view of a writeable\n |          array may be subsequently locked while the base array remains writeable.\n |          (The opposite is not true, in that a view of a locked array may not\n |          be made writeable.  However, currently, locking a base object does not\n |          lock any views that already reference it, so under that circumstance it\n |          is possible to alter the contents of a locked array via a previously\n |          created writeable view onto it.)  Attempting to change a non-writeable\n |          array raises a RuntimeError exception.\n |      ALIGNED (A)\n |          The data and all elements are aligned appropriately for the hardware.\n |      WRITEBACKIFCOPY (X)\n |          This array is a copy of some other array. The C-API function\n |          PyArray_ResolveWritebackIfCopy must be called before deallocating\n |          to the base array will be updated with the contents of this array.\n |      UPDATEIFCOPY (U)\n |          (Deprecated, use WRITEBACKIFCOPY) This array is a copy of some other array.\n |          When this array is\n |          deallocated, the base array will be updated with the contents of\n |          this array.\n |      FNC\n |          F_CONTIGUOUS and not C_CONTIGUOUS.\n |      FORC\n |          F_CONTIGUOUS or C_CONTIGUOUS (one-segment test).\n |      BEHAVED (B)\n |          ALIGNED and WRITEABLE.\n |      CARRAY (CA)\n |          BEHAVED and C_CONTIGUOUS.\n |      FARRAY (FA)\n |          BEHAVED and F_CONTIGUOUS and not C_CONTIGUOUS.\n |      \n |      Notes\n |      -----\n |      The `flags` object can be accessed dictionary-like (as in ``a.flags['WRITEABLE']``),\n |      or by using lowercased attribute names (as in ``a.flags.writeable``). Short flag\n |      names are only supported in dictionary access.\n |      \n |      Only the WRITEBACKIFCOPY, UPDATEIFCOPY, WRITEABLE, and ALIGNED flags can be\n |      changed by the user, via direct assignment to the attribute or dictionary\n |      entry, or by calling `ndarray.setflags`.\n |      \n |      The array flags cannot be set arbitrarily:\n |      \n |      - UPDATEIFCOPY can only be set ``False``.\n |      - WRITEBACKIFCOPY can only be set ``False``.\n |      - ALIGNED can only be set ``True`` if the data is truly aligned.\n |      - WRITEABLE can only be set ``True`` if the array owns its own memory\n |        or the ultimate owner of the memory exposes a writeable buffer\n |        interface or is a string.\n |      \n |      Arrays can be both C-style and Fortran-style contiguous simultaneously.\n |      This is clear for 1-dimensional arrays, but can also be true for higher\n |      dimensional arrays.\n |      \n |      Even for contiguous arrays a stride for a given dimension\n |      ``arr.strides[dim]`` may be *arbitrary* if ``arr.shape[dim] == 1``\n |      or the array has no elements.\n |      It does *not* generally hold that ``self.strides[-1] == self.itemsize``\n |      for C-style contiguous arrays or ``self.strides[0] == self.itemsize`` for\n |      Fortran-style contiguous arrays is true.\n |  \n |  flat\n |      A 1-D iterator over the array.\n |      \n |      This is a `numpy.flatiter` instance, which acts similarly to, but is not\n |      a subclass of, Python's built-in iterator object.\n |      \n |      See Also\n |      --------\n |      flatten : Return a copy of the array collapsed into one dimension.\n |      \n |      flatiter\n |      \n |      Examples\n |      --------\n |      >>> x = np.arange(1, 7).reshape(2, 3)\n |      >>> x\n |      array([[1, 2, 3],\n |             [4, 5, 6]])\n |      >>> x.flat[3]\n |      4\n |      >>> x.T\n |      array([[1, 4],\n |             [2, 5],\n |             [3, 6]])\n |      >>> x.T.flat[3]\n |      5\n |      >>> type(x.flat)\n |      <class 'numpy.flatiter'>\n |      \n |      An assignment example:\n |      \n |      >>> x.flat = 3; x\n |      array([[3, 3, 3],\n |             [3, 3, 3]])\n |      >>> x.flat[[1,4]] = 1; x\n |      array([[3, 1, 3],\n |             [3, 1, 3]])\n |  \n |  imag\n |      The imaginary part of the array.\n |      \n |      Examples\n |      --------\n |      >>> x = np.sqrt([1+0j, 0+1j])\n |      >>> x.imag\n |      array([ 0.        ,  0.70710678])\n |      >>> x.imag.dtype\n |      dtype('float64')\n |  \n |  itemsize\n |      Length of one array element in bytes.\n |      \n |      Examples\n |      --------\n |      >>> x = np.array([1,2,3], dtype=np.float64)\n |      >>> x.itemsize\n |      8\n |      >>> x = np.array([1,2,3], dtype=np.complex128)\n |      >>> x.itemsize\n |      16\n |  \n |  nbytes\n |      Total bytes consumed by the elements of the array.\n |      \n |      Notes\n |      -----\n |      Does not include memory consumed by non-element attributes of the\n |      array object.\n |      \n |      Examples\n |      --------\n |      >>> x = np.zeros((3,5,2), dtype=np.complex128)\n |      >>> x.nbytes\n |      480\n |      >>> np.prod(x.shape) * x.itemsize\n |      480\n |  \n |  ndim\n |      Number of array dimensions.\n |      \n |      Examples\n |      --------\n |      >>> x = np.array([1, 2, 3])\n |      >>> x.ndim\n |      1\n |      >>> y = np.zeros((2, 3, 4))\n |      >>> y.ndim\n |      3\n |  \n |  real\n |      The real part of the array.\n |      \n |      Examples\n |      --------\n |      >>> x = np.sqrt([1+0j, 0+1j])\n |      >>> x.real\n |      array([ 1.        ,  0.70710678])\n |      >>> x.real.dtype\n |      dtype('float64')\n |      \n |      See Also\n |      --------\n |      numpy.real : equivalent function\n |  \n |  shape\n |      Tuple of array dimensions.\n |      \n |      The shape property is usually used to get the current shape of an array,\n |      but may also be used to reshape the array in-place by assigning a tuple of\n |      array dimensions to it.  As with `numpy.reshape`, one of the new shape\n |      dimensions can be -1, in which case its value is inferred from the size of\n |      the array and the remaining dimensions. Reshaping an array in-place will\n |      fail if a copy is required.\n |      \n |      Examples\n |      --------\n |      >>> x = np.array([1, 2, 3, 4])\n |      >>> x.shape\n |      (4,)\n |      >>> y = np.zeros((2, 3, 4))\n |      >>> y.shape\n |      (2, 3, 4)\n |      >>> y.shape = (3, 8)\n |      >>> y\n |      array([[ 0.,  0.,  0.,  0.,  0.,  0.,  0.,  0.],\n |             [ 0.,  0.,  0.,  0.,  0.,  0.,  0.,  0.],\n |             [ 0.,  0.,  0.,  0.,  0.,  0.,  0.,  0.]])\n |      >>> y.shape = (3, 6)\n |      Traceback (most recent call last):\n |        File \"<stdin>\", line 1, in <module>\n |      ValueError: total size of new array must be unchanged\n |      >>> np.zeros((4,2))[::2].shape = (-1,)\n |      Traceback (most recent call last):\n |        File \"<stdin>\", line 1, in <module>\n |      AttributeError: incompatible shape for a non-contiguous array\n |      \n |      See Also\n |      --------\n |      numpy.reshape : similar function\n |      ndarray.reshape : similar method\n |  \n |  size\n |      Number of elements in the array.\n |      \n |      Equal to ``np.prod(a.shape)``, i.e., the product of the array's\n |      dimensions.\n |      \n |      Notes\n |      -----\n |      `a.size` returns a standard arbitrary precision Python integer. This\n |      may not be the case with other methods of obtaining the same value\n |      (like the suggested ``np.prod(a.shape)``, which returns an instance\n |      of ``np.int_``), and may be relevant if the value is used further in\n |      calculations that may overflow a fixed size integer type.\n |      \n |      Examples\n |      --------\n |      >>> x = np.zeros((3, 5, 2), dtype=np.complex128)\n |      >>> x.size\n |      30\n |      >>> np.prod(x.shape)\n |      30\n |  \n |  strides\n |      Tuple of bytes to step in each dimension when traversing an array.\n |      \n |      The byte offset of element ``(i[0], i[1], ..., i[n])`` in an array `a`\n |      is::\n |      \n |          offset = sum(np.array(i) * a.strides)\n |      \n |      A more detailed explanation of strides can be found in the\n |      \"ndarray.rst\" file in the NumPy reference guide.\n |      \n |      Notes\n |      -----\n |      Imagine an array of 32-bit integers (each 4 bytes)::\n |      \n |        x = np.array([[0, 1, 2, 3, 4],\n |                      [5, 6, 7, 8, 9]], dtype=np.int32)\n |      \n |      This array is stored in memory as 40 bytes, one after the other\n |      (known as a contiguous block of memory).  The strides of an array tell\n |      us how many bytes we have to skip in memory to move to the next position\n |      along a certain axis.  For example, we have to skip 4 bytes (1 value) to\n |      move to the next column, but 20 bytes (5 values) to get to the same\n |      position in the next row.  As such, the strides for the array `x` will be\n |      ``(20, 4)``.\n |      \n |      See Also\n |      --------\n |      numpy.lib.stride_tricks.as_strided\n |      \n |      Examples\n |      --------\n |      >>> y = np.reshape(np.arange(2*3*4), (2,3,4))\n |      >>> y\n |      array([[[ 0,  1,  2,  3],\n |              [ 4,  5,  6,  7],\n |              [ 8,  9, 10, 11]],\n |             [[12, 13, 14, 15],\n |              [16, 17, 18, 19],\n |              [20, 21, 22, 23]]])\n |      >>> y.strides\n |      (48, 16, 4)\n |      >>> y[1,1,1]\n |      17\n |      >>> offset=sum(y.strides * np.array((1,1,1)))\n |      >>> offset/y.itemsize\n |      17\n |      \n |      >>> x = np.reshape(np.arange(5*6*7*8), (5,6,7,8)).transpose(2,3,1,0)\n |      >>> x.strides\n |      (32, 4, 224, 1344)\n |      >>> i = np.array([3,5,2,2])\n |      >>> offset = sum(i * x.strides)\n |      >>> x[3,5,2,2]\n |      813\n |      >>> offset / x.itemsize\n |      813\n |  \n |  ----------------------------------------------------------------------\n |  Data and other attributes defined here:\n |  \n |  __hash__ = None\n\n"
    }
   ],
   "source": [
    "# Okay, just tell me everything there is to know about numpy.ndarray\n",
    "# (Click the \"output\" button to see the novel-length output)\n",
    "help(rolls)"
   ]
  },
  {
   "cell_type": "markdown",
   "metadata": {},
   "source": [
    "(Of course, you might also prefer to check out [the online docs](https://docs.scipy.org/doc/numpy-1.14.0/reference/generated/numpy.ndarray.html))"
   ]
  },
  {
   "cell_type": "markdown",
   "metadata": {},
   "source": [
    "### Operator overloading\n",
    "\n",
    "What's the value of the below expression?"
   ]
  },
  {
   "cell_type": "code",
   "execution_count": 30,
   "metadata": {
    "tags": [
     "raises-exception"
    ]
   },
   "outputs": [
    {
     "output_type": "error",
     "ename": "TypeError",
     "evalue": "can only concatenate list (not \"int\") to list",
     "traceback": [
      "\u001b[1;31m---------------------------------------------------------------------------\u001b[0m",
      "\u001b[1;31mTypeError\u001b[0m                                 Traceback (most recent call last)",
      "\u001b[1;32m<ipython-input-30-a2508fc27c2b>\u001b[0m in \u001b[0;36m<module>\u001b[1;34m\u001b[0m\n\u001b[1;32m----> 1\u001b[1;33m \u001b[1;33m[\u001b[0m\u001b[1;36m3\u001b[0m\u001b[1;33m,\u001b[0m \u001b[1;36m4\u001b[0m\u001b[1;33m,\u001b[0m \u001b[1;36m1\u001b[0m\u001b[1;33m,\u001b[0m \u001b[1;36m2\u001b[0m\u001b[1;33m,\u001b[0m \u001b[1;36m2\u001b[0m\u001b[1;33m,\u001b[0m \u001b[1;36m1\u001b[0m\u001b[1;33m]\u001b[0m \u001b[1;33m+\u001b[0m \u001b[1;36m10\u001b[0m\u001b[1;33m\u001b[0m\u001b[1;33m\u001b[0m\u001b[0m\n\u001b[0m",
      "\u001b[1;31mTypeError\u001b[0m: can only concatenate list (not \"int\") to list"
     ]
    }
   ],
   "source": [
    "[3, 4, 1, 2, 2, 1] + 10"
   ]
  },
  {
   "cell_type": "markdown",
   "metadata": {},
   "source": [
    "What a silly question. Of course it's an error. \n",
    "\n",
    "But what about..."
   ]
  },
  {
   "cell_type": "code",
   "execution_count": 31,
   "metadata": {},
   "outputs": [
    {
     "output_type": "execute_result",
     "data": {
      "text/plain": "array([14, 14, 15, 14, 11, 14, 14, 11, 13, 15])"
     },
     "metadata": {},
     "execution_count": 31
    }
   ],
   "source": [
    "rolls + 10"
   ]
  },
  {
   "cell_type": "markdown",
   "metadata": {},
   "source": [
    "We might think that Python strictly polices how pieces of its core syntax behave such as `+`, `<`, `in`, `==`, or square brackets for indexing and slicing. But in fact, it takes a very hands-off approach. When you define a new type, you can choose how addition works for it, or what it means for an object of that type to be equal to something else.\n",
    "\n",
    "The designers of lists decided that adding them to numbers wasn't allowed. The designers of `numpy` arrays went a different way (adding the number to each element of the array).\n",
    "\n",
    "Here are a few more examples of how `numpy` arrays interact unexpectedly with Python operators (or at least differently from lists)."
   ]
  },
  {
   "cell_type": "code",
   "execution_count": 32,
   "metadata": {},
   "outputs": [
    {
     "output_type": "execute_result",
     "data": {
      "text/plain": "array([False, False, False, False,  True, False, False,  True,  True,\n       False])"
     },
     "metadata": {},
     "execution_count": 32
    }
   ],
   "source": [
    "# At which indices are the dice less than or equal to 3?\n",
    "rolls <= 3"
   ]
  },
  {
   "cell_type": "code",
   "execution_count": 33,
   "metadata": {
    "tags": []
   },
   "outputs": [
    {
     "output_type": "stream",
     "name": "stdout",
     "text": "xlist = [[1, 2, 3], [2, 4, 6]]\nx =\n[[1 2 3]\n [2 4 6]]\n"
    }
   ],
   "source": [
    "xlist = [[1,2,3],[2,4,6],]\n",
    "# Create a 2-dimensional array\n",
    "x = numpy.asarray(xlist)\n",
    "print(\"xlist = {}\\nx =\\n{}\".format(xlist, x))"
   ]
  },
  {
   "cell_type": "code",
   "execution_count": 34,
   "metadata": {},
   "outputs": [
    {
     "output_type": "execute_result",
     "data": {
      "text/plain": "6"
     },
     "metadata": {},
     "execution_count": 34
    }
   ],
   "source": [
    "# Get the last element of the second row of our numpy array\n",
    "x[1,-1]"
   ]
  },
  {
   "cell_type": "code",
   "execution_count": 35,
   "metadata": {
    "tags": [
     "raises-exception"
    ]
   },
   "outputs": [
    {
     "output_type": "error",
     "ename": "TypeError",
     "evalue": "list indices must be integers or slices, not tuple",
     "traceback": [
      "\u001b[1;31m---------------------------------------------------------------------------\u001b[0m",
      "\u001b[1;31mTypeError\u001b[0m                                 Traceback (most recent call last)",
      "\u001b[1;32m<ipython-input-35-e2f4c7f35788>\u001b[0m in \u001b[0;36m<module>\u001b[1;34m\u001b[0m\n\u001b[0;32m      1\u001b[0m \u001b[1;31m# Get the last element of the second sublist of our nested list?\u001b[0m\u001b[1;33m\u001b[0m\u001b[1;33m\u001b[0m\u001b[1;33m\u001b[0m\u001b[0m\n\u001b[1;32m----> 2\u001b[1;33m \u001b[0mxlist\u001b[0m\u001b[1;33m[\u001b[0m\u001b[1;36m1\u001b[0m\u001b[1;33m,\u001b[0m\u001b[1;33m-\u001b[0m\u001b[1;36m1\u001b[0m\u001b[1;33m]\u001b[0m\u001b[1;33m\u001b[0m\u001b[1;33m\u001b[0m\u001b[0m\n\u001b[0m",
      "\u001b[1;31mTypeError\u001b[0m: list indices must be integers or slices, not tuple"
     ]
    }
   ],
   "source": [
    "# Get the last element of the second sublist of our nested list?\n",
    "xlist[1,-1]"
   ]
  },
  {
   "cell_type": "markdown",
   "metadata": {},
   "source": [
    "numpy's `ndarray` type is specialized for working with multi-dimensional data, so it defines its own logic for indexing, allowing us to index by a tuple to specify the index at each dimension.\n",
    "\n",
    "### When does 1 + 1 not equal 2?\n",
    "\n",
    "Things can get weirder than this. You may have heard of (or even used) tensorflow, a Python library popularly used for deep learning. It makes extensive use of operator overloading."
   ]
  },
  {
   "cell_type": "code",
   "execution_count": 36,
   "metadata": {},
   "outputs": [
    {
     "output_type": "execute_result",
     "data": {
      "text/plain": "<tf.Tensor: shape=(), dtype=int32, numpy=2>"
     },
     "metadata": {},
     "execution_count": 36
    }
   ],
   "source": [
    "import tensorflow as tf\n",
    "# Create two constants, each with value 1\n",
    "a = tf.constant(1)\n",
    "b = tf.constant(1)\n",
    "# Add them together to get...\n",
    "a + b"
   ]
  },
  {
   "cell_type": "markdown",
   "metadata": {},
   "source": [
    "`a + b` isn't 2, it is (to quote tensorflow's documentation)...\n",
    "\n",
    "> a symbolic handle to one of the outputs of an `Operation`. It does not hold the values of that operation's output, but instead provides a means of computing those values in a TensorFlow `tf.Session`.\n",
    "\n"
   ]
  },
  {
   "cell_type": "markdown",
   "metadata": {},
   "source": [
    "It's important just to be aware of the fact that this sort of thing is possible and that libraries will often use operator overloading in non-obvious or magical-seeming ways.\n",
    "\n",
    "Understanding how Python's operators work when applied to ints, strings, and lists is no guarantee that you'll be able to immediately understand what they do when applied to a tensorflow `Tensor`, or a numpy `ndarray`, or a pandas `DataFrame`.\n",
    "\n",
    "Once you've had a little taste of DataFrames, for example, an expression like the one below starts to look appealingly intuitive:\n",
    "\n",
    "```python\n",
    "# Get the rows with population over 1m in South America\n",
    "df[(df['population'] > 10**6) & (df['continent'] == 'South America')]\n",
    "```\n",
    "\n",
    "But why does it work? The example above features something like **5** different overloaded operators. What's each of those operations doing? It can help to know the answer when things start going wrong."
   ]
  },
  {
   "cell_type": "markdown",
   "metadata": {},
   "source": [
    "#### Curious how it all works?\n",
    "\n",
    "Have you ever called `help()` or `dir()` on an object and wondered what the heck all those names with the double-underscores were?"
   ]
  },
  {
   "cell_type": "code",
   "execution_count": 37,
   "metadata": {
    "tags": []
   },
   "outputs": [
    {
     "output_type": "stream",
     "name": "stdout",
     "text": "['__add__', '__class__', '__contains__', '__delattr__', '__delitem__', '__dir__', '__doc__', '__eq__', '__format__', '__ge__', '__getattribute__', '__getitem__', '__gt__', '__hash__', '__iadd__', '__imul__', '__init__', '__init_subclass__', '__iter__', '__le__', '__len__', '__lt__', '__mul__', '__ne__', '__new__', '__reduce__', '__reduce_ex__', '__repr__', '__reversed__', '__rmul__', '__setattr__', '__setitem__', '__sizeof__', '__str__', '__subclasshook__', 'append', 'clear', 'copy', 'count', 'extend', 'index', 'insert', 'pop', 'remove', 'reverse', 'sort']\n"
    }
   ],
   "source": [
    "print(dir(list))"
   ]
  },
  {
   "cell_type": "markdown",
   "metadata": {},
   "source": [
    "This turns out to be directly related to operator overloading.\n",
    "\n",
    "When Python programmers want to define how operators behave on their types, they do so by implementing methods with special names beginning and ending with 2 underscores such as `__lt__`, `__setattr__`, or `__contains__`. Generally, names that follow this double-underscore format have a special meaning to Python.\n",
    "\n",
    "So, for example, the expression `x in [1, 2, 3]` is actually calling the list method `__contains__` behind-the-scenes. It's equivalent to (the much uglier) `[1, 2, 3].__contains__(x)`. \n",
    "\n",
    "If you're curious to learn more, you can check out [Python's official documentation](https://docs.python.org/3.4/reference/datamodel.html#special-method-names), which describes many, many more of these special \"underscores\" methods.\n",
    "\n",
    "We won't be defining our own types in these lessons (if only there was time!), but I hope you'll get to experience the joys of defining your own wonderful, weird types later down the road."
   ]
  },
  {
   "cell_type": "markdown",
   "metadata": {},
   "source": [
    "# Your turn!\n",
    "\n",
    "Head over to **[the final coding exercise](#$NEXT_NOTEBOOK_URL$)** for one more round of coding questions involving imports, working with unfamiliar objects, and, of course, more gambling."
   ]
  }
 ],
 "metadata": {
  "kernelspec": {
   "display_name": "Python 3",
   "language": "python",
   "name": "python3"
  },
  "language_info": {
   "codemirror_mode": {
    "name": "ipython",
    "version": 3
   },
   "file_extension": ".py",
   "mimetype": "text/x-python",
   "name": "python",
   "nbconvert_exporter": "python",
   "pygments_lexer": "ipython3",
   "version": "3.8.2-final"
  },
  "learntools_metadata": {
   "lesson_index": 6,
   "type": "tutorial"
  }
 },
 "nbformat": 4,
 "nbformat_minor": 2
}