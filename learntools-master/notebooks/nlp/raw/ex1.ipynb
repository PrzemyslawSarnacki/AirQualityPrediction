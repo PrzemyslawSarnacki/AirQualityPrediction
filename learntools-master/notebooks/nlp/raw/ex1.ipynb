{
 "cells": [
  {
   "cell_type": "markdown",
   "metadata": {},
   "source": [
    "# Basic Text Processing with Spacy\n",
    "    \n",
    "You're a consultant for [DelFalco's Italian Restaurant](https://defalcosdeli.com/index.html).\n",
    "The owner asked you to identify whether there are any foods on their menu that diners find disappointing. \n",
    "\n",
    "<img src=\"https://i.imgur.com/8DZunAQ.jpg\" alt=\"Meatball Sub\" width=\"250\"/>\n",
    "\n",
    "Before getting started, run the following cell to set up code checking."
   ]
  },
  {
   "cell_type": "code",
   "execution_count": 2,
   "metadata": {},
   "outputs": [
    {
     "name": "stdout",
     "output_type": "stream",
     "text": [
      "Setup Complete\n"
     ]
    }
   ],
   "source": [
    "import pandas as pd\n",
    "\n",
    "# Set up code checking\n",
    "from learntools.core import binder\n",
    "binder.bind(globals())\n",
    "from learntools.nlp.ex1 import *\n",
    "print('Setup Complete')"
   ]
  },
  {
   "cell_type": "markdown",
   "metadata": {},
   "source": [
    "The business owner suggested you use diner reviews from the Yelp website to determine which dishes people liked and disliked. You pulled the data from Yelp. Before you get to analysis, run the code cell below for a quick look at the data you have to work with."
   ]
  },
  {
   "cell_type": "code",
   "execution_count": 3,
   "metadata": {},
   "outputs": [
    {
     "data": {
      "text/html": "<div>\n<style scoped>\n    .dataframe tbody tr th:only-of-type {\n        vertical-align: middle;\n    }\n\n    .dataframe tbody tr th {\n        vertical-align: top;\n    }\n\n    .dataframe thead th {\n        text-align: right;\n    }\n</style>\n<table border=\"1\" class=\"dataframe\">\n  <thead>\n    <tr style=\"text-align: right;\">\n      <th></th>\n      <th>review_id</th>\n      <th>user_id</th>\n      <th>business_id</th>\n      <th>stars</th>\n      <th>useful</th>\n      <th>funny</th>\n      <th>cool</th>\n      <th>text</th>\n      <th>date</th>\n    </tr>\n  </thead>\n  <tbody>\n    <tr>\n      <th>109</th>\n      <td>lDJIaF4eYRF4F7g6Zb9euw</td>\n      <td>lb0QUR5bc4O-Am4hNq9ZGg</td>\n      <td>r5PLDU-4mSbde5XekTXSCA</td>\n      <td>4</td>\n      <td>2</td>\n      <td>0</td>\n      <td>0</td>\n      <td>I used to work food service and my manager at ...</td>\n      <td>2013-01-27 17:54:54</td>\n    </tr>\n    <tr>\n      <th>1013</th>\n      <td>vvIzf3pr8lTqE_AOsxmgaA</td>\n      <td>MAmijW4ooUzujkufYYLMeQ</td>\n      <td>r5PLDU-4mSbde5XekTXSCA</td>\n      <td>4</td>\n      <td>0</td>\n      <td>0</td>\n      <td>0</td>\n      <td>We have been trying Eggplant sandwiches all ov...</td>\n      <td>2015-04-15 04:50:56</td>\n    </tr>\n    <tr>\n      <th>1204</th>\n      <td>UF-JqzMczZ8vvp_4tPK3bQ</td>\n      <td>slfi6gf_qEYTXy90Sw93sg</td>\n      <td>r5PLDU-4mSbde5XekTXSCA</td>\n      <td>5</td>\n      <td>1</td>\n      <td>0</td>\n      <td>0</td>\n      <td>Amazing Steak and Cheese... Better than any Ph...</td>\n      <td>2011-03-20 00:57:45</td>\n    </tr>\n    <tr>\n      <th>1251</th>\n      <td>geUJGrKhXynxDC2uvERsLw</td>\n      <td>N_-UepOzAsuDQwOUtfRFGw</td>\n      <td>r5PLDU-4mSbde5XekTXSCA</td>\n      <td>1</td>\n      <td>0</td>\n      <td>0</td>\n      <td>0</td>\n      <td>Although I have been going to DeFalco's for ye...</td>\n      <td>2018-07-17 01:48:23</td>\n    </tr>\n    <tr>\n      <th>1354</th>\n      <td>aPctXPeZW3kDq36TRm-CqA</td>\n      <td>139hD7gkZVzSvSzDPwhNNw</td>\n      <td>r5PLDU-4mSbde5XekTXSCA</td>\n      <td>2</td>\n      <td>0</td>\n      <td>0</td>\n      <td>0</td>\n      <td>Highs: Ambience, value, pizza and deserts. Thi...</td>\n      <td>2018-01-21 10:52:58</td>\n    </tr>\n  </tbody>\n</table>\n</div>",
      "text/plain": "                   review_id                 user_id             business_id  \\\n109   lDJIaF4eYRF4F7g6Zb9euw  lb0QUR5bc4O-Am4hNq9ZGg  r5PLDU-4mSbde5XekTXSCA   \n1013  vvIzf3pr8lTqE_AOsxmgaA  MAmijW4ooUzujkufYYLMeQ  r5PLDU-4mSbde5XekTXSCA   \n1204  UF-JqzMczZ8vvp_4tPK3bQ  slfi6gf_qEYTXy90Sw93sg  r5PLDU-4mSbde5XekTXSCA   \n1251  geUJGrKhXynxDC2uvERsLw  N_-UepOzAsuDQwOUtfRFGw  r5PLDU-4mSbde5XekTXSCA   \n1354  aPctXPeZW3kDq36TRm-CqA  139hD7gkZVzSvSzDPwhNNw  r5PLDU-4mSbde5XekTXSCA   \n\n      stars  useful  funny  cool  \\\n109       4       2      0     0   \n1013      4       0      0     0   \n1204      5       1      0     0   \n1251      1       0      0     0   \n1354      2       0      0     0   \n\n                                                   text                date  \n109   I used to work food service and my manager at ... 2013-01-27 17:54:54  \n1013  We have been trying Eggplant sandwiches all ov... 2015-04-15 04:50:56  \n1204  Amazing Steak and Cheese... Better than any Ph... 2011-03-20 00:57:45  \n1251  Although I have been going to DeFalco's for ye... 2018-07-17 01:48:23  \n1354  Highs: Ambience, value, pizza and deserts. Thi... 2018-01-21 10:52:58  "
     },
     "execution_count": 3,
     "metadata": {},
     "output_type": "execute_result"
    }
   ],
   "source": [
    "# Load in the data from JSON file\n",
    "data = pd.read_json('../input/nlp-course/restaurant.json')\n",
    "data.head()"
   ]
  },
  {
   "cell_type": "markdown",
   "metadata": {},
   "source": [
    "The owner also gave you this list of menu items and common alternate spellings."
   ]
  },
  {
   "cell_type": "code",
   "execution_count": 4,
   "metadata": {},
   "outputs": [],
   "source": [
    "menu = [\"Cheese Steak\", \"Cheesesteak\", \"Steak and Cheese\", \"Italian Combo\", \"Tiramisu\", \"Cannoli\",\n",
    "        \"Chicken Salad\", \"Chicken Spinach Salad\", \"Meatball\", \"Pizza\", \"Pizzas\", \"Spaghetti\",\n",
    "        \"Bruchetta\", \"Eggplant\", \"Italian Beef\", \"Purista\", \"Pasta\", \"Calzones\",  \"Calzone\",\n",
    "        \"Italian Sausage\", \"Chicken Cutlet\", \"Chicken Parm\", \"Chicken Parmesan\", \"Gnocchi\",\n",
    "        \"Chicken Pesto\", \"Turkey Sandwich\", \"Turkey Breast\", \"Ziti\", \"Portobello\", \"Reuben\",\n",
    "        \"Mozzarella Caprese\",  \"Corned Beef\", \"Garlic Bread\", \"Pastrami\", \"Roast Beef\",\n",
    "        \"Tuna Salad\", \"Lasagna\", \"Artichoke Salad\", \"Fettuccini Alfredo\", \"Chicken Parmigiana\",\n",
    "        \"Grilled Veggie\", \"Grilled Veggies\", \"Grilled Vegetable\", \"Mac and Cheese\", \"Macaroni\",  \n",
    "         \"Prosciutto\", \"Salami\"]"
   ]
  },
  {
   "cell_type": "markdown",
   "metadata": {},
   "source": [
    "# Step 1: Plan Your Analysis"
   ]
  },
  {
   "cell_type": "markdown",
   "metadata": {},
   "source": [
    "Given the data from Yelp and the list of menu items, do you have any ideas for how you could find which menu items have disappointed diners?\n",
    "\n",
    "Think about your answer. Then run the cell below to see one approach."
   ]
  },
  {
   "cell_type": "code",
   "execution_count": 5,
   "metadata": {},
   "outputs": [
    {
     "data": {
      "application/javascript": "parent.postMessage({\"jupyterEvent\": \"custom.exercise_interaction\", \"data\": {\"interactionType\": 3, \"questionType\": 4, \"questionId\": \"1_MenuAnalysisPlan\", \"learnToolsVersion\": \"0.3.4\", \"valueTowardsCompletion\": 0.0, \"failureMessage\": \"\", \"exceptionClass\": \"\", \"trace\": \"\", \"outcomeType\": 4}}, \"*\")",
      "text/plain": "<IPython.core.display.Javascript object>"
     },
     "metadata": {},
     "output_type": "display_data"
    },
    {
     "data": {
      "text/markdown": "<span style=\"color:#33cc99\">Solution:</span> You could group reviews by what menu items they mention, and then calculate the average rating\n    for reviews that mentioned each item. You can tell which foods are mentioned in reviews with low scores,\n    so the restaurant can fix the recipe or remove those foods from the menu.",
      "text/plain": "Solution: You could group reviews by what menu items they mention, and then calculate the average rating\n    for reviews that mentioned each item. You can tell which foods are mentioned in reviews with low scores,\n    so the restaurant can fix the recipe or remove those foods from the menu."
     },
     "metadata": {},
     "output_type": "display_data"
    }
   ],
   "source": [
    "# Check your answer (Run this code cell to receive credit!)\n",
    "q_1.solution()"
   ]
  },
  {
   "cell_type": "markdown",
   "metadata": {},
   "source": [
    "# Step 2: Find items in one review\n",
    "\n",
    "You'll pursue this plan of calculating average scores of the reviews mentioning each menu item.\n",
    "\n",
    "As a first step, you'll write code to extract the foods mentioned in a single review.\n",
    "\n",
    "Since menu items are multiple tokens long, you'll use `PhraseMatcher` which can match series of tokens.\n",
    "\n",
    "Fill in the `____` values below to get a list of items matching a single menu item."
   ]
  },
  {
   "cell_type": "code",
   "execution_count": 6,
   "metadata": {
    "vscode": {}
   },
   "outputs": [
    {
     "data": {
      "application/javascript": "parent.postMessage({\"jupyterEvent\": \"custom.exercise_interaction\", \"data\": {\"outcomeType\": 1, \"valueTowardsCompletion\": 0.2, \"interactionType\": 1, \"questionType\": 2, \"questionId\": \"2_SingleReviewMatch\", \"learnToolsVersion\": \"0.3.4\", \"failureMessage\": \"\", \"exceptionClass\": \"\", \"trace\": \"\"}}, \"*\")",
      "text/plain": "<IPython.core.display.Javascript object>"
     },
     "metadata": {},
     "output_type": "display_data"
    },
    {
     "data": {
      "text/markdown": "<span style=\"color:#33cc33\">Correct</span>",
      "text/plain": "Correct"
     },
     "metadata": {},
     "output_type": "display_data"
    },
    {
     "data": {
      "text/markdown": "<span style=\"color:#33cc33\">Correct</span>",
      "text/plain": "Correct"
     },
     "metadata": {},
     "output_type": "display_data"
    }
   ],
   "source": [
    "import spacy\r\n",
    "from spacy.matcher import PhraseMatcher\r\n",
    "\r\n",
    "# nlp = en_core_web_sm.load()\r\n",
    "nlp = spacy.blank('en')\r\n",
    "\r\n",
    "index_of_review_to_test_on = 14\r\n",
    "text_to_test_on = data.text.iloc[index_of_review_to_test_on]\r\n",
    "\r\n",
    "# Load the SpaCy model\r\n",
    "\r\n",
    "# Create the tokenized version of text_to_test_on\r\n",
    "review_doc = nlp(text_to_test_on)\r\n",
    "\r\n",
    "# Create the PhraseMatcher object. The tokenizer is the first argument. Use attr = 'LOWER' to make consistent capitalization\r\n",
    "matcher = PhraseMatcher(nlp.vocab, attr='LOWER')\r\n",
    "\r\n",
    "# Create a list of tokens for each item in the menu\r\n",
    "menu_tokens_list = [nlp(item) for item in menu]\r\n",
    "\r\n",
    "# Add the item patterns to the matcher. \r\n",
    "# Look at https://spacy.io/api/phrasematcher#add in the docs for help with this step\r\n",
    "# Then uncomment the lines below \r\n",
    "\r\n",
    "# \r\n",
    "matcher.add(\"MENU\", menu_tokens_list)\r\n",
    "\r\n",
    "# Find matches in the review_doc\r\n",
    "matches = matcher(review_doc)\r\n",
    "\r\n",
    "# Uncomment to check your work\r\n",
    "q_2.check()"
   ]
  },
  {
   "cell_type": "code",
   "execution_count": null,
   "metadata": {},
   "outputs": [],
   "source": [
    "# Lines below will give you a hint or solution code\n",
    "#_COMMENT_IF(PROD)_\n",
    "q_2.hint()\n",
    "#_COMMENT_IF(PROD)_\n",
    "q_2.solution()"
   ]
  },
  {
   "cell_type": "markdown",
   "metadata": {},
   "source": [
    "After implementing the above cell, uncomment the following cell to print the matches."
   ]
  },
  {
   "cell_type": "code",
   "execution_count": 7,
   "metadata": {},
   "outputs": [
    {
     "name": "stdout",
     "output_type": "stream",
     "text": [
      "Token number 2: Purista\n",
      "Token number 16: prosciutto\n",
      "Token number 58: meatball\n"
     ]
    }
   ],
   "source": [
    "for match in matches:\r\n",
    "   print(f\"Token number {match[1]}: {review_doc[match[1]:match[2]]}\")"
   ]
  },
  {
   "cell_type": "markdown",
   "metadata": {},
   "source": [
    "# Step 3: Matching on the whole dataset\n",
    "\n",
    "Now run this matcher over the whole dataset and collect ratings for each menu item. Each review has a rating, `review.stars`. For each item that appears in the review text (`review.text`), append the review's rating to a list of ratings for that item. The lists are kept in a dictionary `item_ratings`.\n",
    "\n",
    "To get the matched phrases, you can reference the `PhraseMatcher` documentation for the structure of each match object:\n",
    "\n",
    ">A list of `(match_id, start, end)` tuples, describing the matches. A match tuple describes a span `doc[start:end]`. The `match_id` is the ID of the added match pattern."
   ]
  },
  {
   "cell_type": "code",
   "execution_count": 8,
   "metadata": {},
   "outputs": [
    {
     "data": {
      "application/javascript": "parent.postMessage({\"jupyterEvent\": \"custom.exercise_interaction\", \"data\": {\"outcomeType\": 1, \"valueTowardsCompletion\": 0.2, \"interactionType\": 1, \"questionType\": 2, \"questionId\": \"3_MatchAllDataset\", \"learnToolsVersion\": \"0.3.4\", \"failureMessage\": \"\", \"exceptionClass\": \"\", \"trace\": \"\"}}, \"*\")",
      "text/plain": "<IPython.core.display.Javascript object>"
     },
     "metadata": {},
     "output_type": "display_data"
    },
    {
     "data": {
      "text/markdown": "<span style=\"color:#33cc33\">Correct</span>",
      "text/plain": "Correct"
     },
     "metadata": {},
     "output_type": "display_data"
    },
    {
     "data": {
      "text/markdown": "<span style=\"color:#33cc33\">Correct</span>",
      "text/plain": "Correct"
     },
     "metadata": {},
     "output_type": "display_data"
    }
   ],
   "source": [
    "from collections import defaultdict\r\n",
    "\r\n",
    "# item_ratings is a dictionary of lists. If a key doesn't exist in item_ratings,\r\n",
    "# the key is added with an empty list as the value.\r\n",
    "item_ratings = defaultdict(list)\r\n",
    "\r\n",
    "for idx, review in data.iterrows():\r\n",
    "    doc = nlp(review.text)\r\n",
    "    # Using the matcher from the previous exercise\r\n",
    "    matches = matcher(doc)\r\n",
    "    \r\n",
    "    # Create a set of the items found in the review text\r\n",
    "    found_items = set([doc[match[1]:match[2]].lower_ for match in matches])\r\n",
    "    \r\n",
    "    # Update item_ratings with rating for each item in found_items\r\n",
    "    # Transform the item strings to lowercase to make it case insensitive\r\n",
    "    for item in found_items:\r\n",
    "        item_ratings[item].append(review.stars)\r\n",
    "\r\n",
    "q_3.check()"
   ]
  },
  {
   "cell_type": "code",
   "execution_count": 9,
   "metadata": {},
   "outputs": [
    {
     "data": {
      "application/javascript": "parent.postMessage({\"jupyterEvent\": \"custom.exercise_interaction\", \"data\": {\"interactionType\": 2, \"questionType\": 2, \"questionId\": \"3_MatchAllDataset\", \"learnToolsVersion\": \"0.3.4\", \"valueTowardsCompletion\": 0.0, \"failureMessage\": \"\", \"exceptionClass\": \"\", \"trace\": \"\", \"outcomeType\": 4}}, \"*\")",
      "text/plain": "<IPython.core.display.Javascript object>"
     },
     "metadata": {},
     "output_type": "display_data"
    },
    {
     "data": {
      "text/markdown": "<span style=\"color:#3366cc\">Hint:</span> For each review, use the `nlp` model to convert the text to a document. Then use the matcher from exercise 1 to extract the item matches from the review text. The matches you get from the matcher are tuples (match_id, start, end), so you can do doc[start:end] to get the text phrase for that match. To get all of the unique items in the review, create a list of all the matched phrases, and convert that into a set. Finally for each of those items, append the review's rating to item_ratings. Make sure to add the item string in lowercase. ",
      "text/plain": "Hint: For each review, use the `nlp` model to convert the text to a document. Then use the matcher from exercise 1 to extract the item matches from the review text. The matches you get from the matcher are tuples (match_id, start, end), so you can do doc[start:end] to get the text phrase for that match. To get all of the unique items in the review, create a list of all the matched phrases, and convert that into a set. Finally for each of those items, append the review's rating to item_ratings. Make sure to add the item string in lowercase. "
     },
     "metadata": {},
     "output_type": "display_data"
    },
    {
     "data": {
      "application/javascript": "parent.postMessage({\"jupyterEvent\": \"custom.exercise_interaction\", \"data\": {\"interactionType\": 3, \"questionType\": 2, \"questionId\": \"3_MatchAllDataset\", \"learnToolsVersion\": \"0.3.4\", \"valueTowardsCompletion\": 0.0, \"failureMessage\": \"\", \"exceptionClass\": \"\", \"trace\": \"\", \"outcomeType\": 4}}, \"*\")",
      "text/plain": "<IPython.core.display.Javascript object>"
     },
     "metadata": {},
     "output_type": "display_data"
    },
    {
     "data": {
      "text/markdown": "<span style=\"color:#33cc99\">Solution:</span> \n```python\n\nfrom collections import defaultdict\n\nitem_ratings = defaultdict(list)\n\nfor idx, review in data.iterrows():\n    doc = nlp(review.text)\n    matches = matcher(doc)\n\n    found_items = set([doc[match[1]:match[2]].lower_ for match in matches])\n\n    for item in found_items:\n        item_ratings[item].append(review.stars)\n\n```",
      "text/plain": "Solution: \n```python\n\nfrom collections import defaultdict\n\nitem_ratings = defaultdict(list)\n\nfor idx, review in data.iterrows():\n    doc = nlp(review.text)\n    matches = matcher(doc)\n\n    found_items = set([doc[match[1]:match[2]].lower_ for match in matches])\n\n    for item in found_items:\n        item_ratings[item].append(review.stars)\n\n```"
     },
     "metadata": {},
     "output_type": "display_data"
    }
   ],
   "source": [
    "# Lines below will give you a hint or solution code\n",
    "#_COMMENT_IF(PROD)_\n",
    "q_3.hint()\n",
    "#_COMMENT_IF(PROD)_\n",
    "q_3.solution()"
   ]
  },
  {
   "cell_type": "markdown",
   "metadata": {},
   "source": [
    "# Step 4: What's the worst reviewed item?\n",
    "\n",
    "Using these item ratings, find the menu item with the worst average rating."
   ]
  },
  {
   "cell_type": "code",
   "execution_count": 9,
   "metadata": {
    "vscode": {}
   },
   "outputs": [
    {
     "data": {
      "application/javascript": "parent.postMessage({\"jupyterEvent\": \"custom.exercise_interaction\", \"data\": {\"outcomeType\": 1, \"valueTowardsCompletion\": 0.2, \"interactionType\": 1, \"questionType\": 1, \"questionId\": \"4_WorstReviewedItem\", \"learnToolsVersion\": \"0.3.4\", \"failureMessage\": \"\", \"exceptionClass\": \"\", \"trace\": \"\"}}, \"*\")",
      "text/plain": "<IPython.core.display.Javascript object>"
     },
     "metadata": {},
     "output_type": "display_data"
    },
    {
     "data": {
      "text/markdown": "<span style=\"color:#33cc33\">Correct</span>",
      "text/plain": "Correct"
     },
     "metadata": {},
     "output_type": "display_data"
    }
   ],
   "source": [
    "# Calculate the mean ratings for each menu item as a dictionary\r\n",
    "mean_ratings = {item: sum(ratings)/len(ratings) for item, ratings in item_ratings.items()}\r\n",
    "\r\n",
    "# Find the worst item, and write it as a string in worst_text. This can be multiple lines of code if you want.\r\n",
    "worst_item = min(mean_ratings, key=mean_ratings.get)\r\n",
    "\r\n",
    "q_4.check()"
   ]
  },
  {
   "cell_type": "code",
   "execution_count": 18,
   "metadata": {},
   "outputs": [
    {
     "data": {
      "text/plain": "['artichoke salad',\n 'calzone',\n 'calzones',\n 'cannoli',\n 'cheese steak',\n 'cheesesteak',\n 'chicken cutlet',\n 'chicken parm',\n 'chicken parmesan',\n 'chicken parmigiana',\n 'chicken pesto',\n 'chicken salad',\n 'chicken spinach salad',\n 'corned beef',\n 'eggplant',\n 'fettuccini alfredo',\n 'garlic bread',\n 'gnocchi',\n 'grilled veggie',\n 'italian beef',\n 'italian combo',\n 'italian sausage',\n 'lasagna',\n 'mac and cheese',\n 'macaroni',\n 'meatball',\n 'pasta',\n 'pastrami',\n 'pizza',\n 'pizzas',\n 'portobello',\n 'prosciutto',\n 'purista',\n 'reuben',\n 'roast beef',\n 'salami',\n 'spaghetti',\n 'steak and cheese',\n 'tiramisu',\n 'tuna salad',\n 'turkey breast',\n 'turkey sandwich',\n 'ziti']"
     },
     "execution_count": 18,
     "metadata": {},
     "output_type": "execute_result"
    }
   ],
   "source": [
    "(mean_ratings)"
   ]
  },
  {
   "cell_type": "code",
   "execution_count": 19,
   "metadata": {},
   "outputs": [
    {
     "data": {
      "application/javascript": "parent.postMessage({\"jupyterEvent\": \"custom.exercise_interaction\", \"data\": {\"interactionType\": 2, \"questionType\": 1, \"questionId\": \"4_WorstReviewedItem\", \"learnToolsVersion\": \"0.3.4\", \"valueTowardsCompletion\": 0.0, \"failureMessage\": \"\", \"exceptionClass\": \"\", \"trace\": \"\", \"outcomeType\": 4}}, \"*\")",
      "text/plain": "<IPython.core.display.Javascript object>"
     },
     "metadata": {},
     "output_type": "display_data"
    },
    {
     "data": {
      "text/markdown": "<span style=\"color:#3366cc\">Hint:</span> Loop through each item in item_ratings and calculate the mean, the sum of the ratings divided by the number of ratings. This is easiest using a dictionary comprehension. Then use the `sorted` function to sort the dictionary keys based on the dictionary values.",
      "text/plain": "Hint: Loop through each item in item_ratings and calculate the mean, the sum of the ratings divided by the number of ratings. This is easiest using a dictionary comprehension. Then use the `sorted` function to sort the dictionary keys based on the dictionary values."
     },
     "metadata": {},
     "output_type": "display_data"
    },
    {
     "data": {
      "application/javascript": "parent.postMessage({\"jupyterEvent\": \"custom.exercise_interaction\", \"data\": {\"interactionType\": 3, \"questionType\": 1, \"questionId\": \"4_WorstReviewedItem\", \"learnToolsVersion\": \"0.3.4\", \"valueTowardsCompletion\": 0.0, \"failureMessage\": \"\", \"exceptionClass\": \"\", \"trace\": \"\", \"outcomeType\": 4}}, \"*\")",
      "text/plain": "<IPython.core.display.Javascript object>"
     },
     "metadata": {},
     "output_type": "display_data"
    },
    {
     "data": {
      "text/markdown": "<span style=\"color:#33cc99\">Solution:</span> \n```python\n\n# There are many ways to do this. Here is one.\nmean_ratings = {item: sum(ratings)/len(ratings) for item, ratings in item_ratings.items()}\nworst_item = sorted(mean_ratings, key=mean_ratings.get)[0]\n\n```",
      "text/plain": "Solution: \n```python\n\n# There are many ways to do this. Here is one.\nmean_ratings = {item: sum(ratings)/len(ratings) for item, ratings in item_ratings.items()}\nworst_item = sorted(mean_ratings, key=mean_ratings.get)[0]\n\n```"
     },
     "metadata": {},
     "output_type": "display_data"
    }
   ],
   "source": [
    "# Lines below will give you a hint or solution code\n",
    "#_COMMENT_IF(PROD)_\n",
    "q_4.hint()\n",
    "#_COMMENT_IF(PROD)_\n",
    "q_4.solution()"
   ]
  },
  {
   "cell_type": "code",
   "execution_count": 10,
   "metadata": {
    "vscode": {}
   },
   "outputs": [
    {
     "name": "stdout",
     "output_type": "stream",
     "text": [
      "chicken cutlet\n",
      "3.4\n"
     ]
    }
   ],
   "source": [
    "# After implementing the above cell, uncomment and run this to print \r\n",
    "# out the worst item, along with its average rating. \r\n",
    "\r\n",
    "print(worst_item)\r\n",
    "print(mean_ratings[worst_item])"
   ]
  },
  {
   "cell_type": "markdown",
   "metadata": {},
   "source": [
    "# Step 5: Are counts important here?\n",
    "\n",
    "Similar to the mean ratings, you can calculate the number of reviews for each item."
   ]
  },
  {
   "cell_type": "code",
   "execution_count": 11,
   "metadata": {},
   "outputs": [
    {
     "name": "stdout",
     "output_type": "stream",
     "text": [
      "pizza  265\n",
      "                    pasta  206\n",
      "                 meatball  128\n",
      "              cheesesteak   97\n",
      "             cheese steak   76\n",
      "                  cannoli   72\n",
      "                  calzone   72\n",
      "                 eggplant   69\n",
      "                  purista   63\n",
      "                  lasagna   59\n",
      "          italian sausage   53\n",
      "               prosciutto   50\n",
      "             chicken parm   50\n",
      "             garlic bread   39\n",
      "                  gnocchi   37\n",
      "                spaghetti   36\n",
      "                 calzones   35\n",
      "                   pizzas   32\n",
      "                   salami   28\n",
      "            chicken pesto   27\n",
      "             italian beef   25\n",
      "                 tiramisu   21\n",
      "            italian combo   21\n",
      "                     ziti   21\n",
      "         chicken parmesan   19\n",
      "       chicken parmigiana   17\n",
      "               portobello   14\n",
      "           mac and cheese   11\n",
      "           chicken cutlet   10\n",
      "         steak and cheese    9\n",
      "                 pastrami    9\n",
      "               roast beef    7\n",
      "       fettuccini alfredo    6\n",
      "           grilled veggie    6\n",
      "          turkey sandwich    5\n",
      "               tuna salad    5\n",
      "          artichoke salad    5\n",
      "                 macaroni    5\n",
      "            chicken salad    5\n",
      "                   reuben    4\n",
      "    chicken spinach salad    2\n",
      "              corned beef    2\n",
      "            turkey breast    1\n"
     ]
    }
   ],
   "source": [
    "counts = {item: len(ratings) for item, ratings in item_ratings.items()}\n",
    "\n",
    "item_counts = sorted(counts, key=counts.get, reverse=True)\n",
    "for item in item_counts:\n",
    "    print(f\"{item:>25}{counts[item]:>5}\")"
   ]
  },
  {
   "cell_type": "markdown",
   "metadata": {},
   "source": [
    "Here is code to print the 10 best and 10 worst rated items. Look at the results, and decide whether you think it's important to consider the number of reviews when interpreting scores of which items are best and worst."
   ]
  },
  {
   "cell_type": "code",
   "execution_count": 12,
   "metadata": {},
   "outputs": [
    {
     "name": "stdout",
     "output_type": "stream",
     "text": [
      "Worst rated menu items:\n",
      "chicken cutlet       Ave rating: 3.40 \tcount: 10\n",
      "turkey sandwich      Ave rating: 3.80 \tcount: 5\n",
      "spaghetti            Ave rating: 3.89 \tcount: 36\n",
      "italian beef         Ave rating: 3.92 \tcount: 25\n",
      "tuna salad           Ave rating: 4.00 \tcount: 5\n",
      "macaroni             Ave rating: 4.00 \tcount: 5\n",
      "italian combo        Ave rating: 4.05 \tcount: 21\n",
      "garlic bread         Ave rating: 4.13 \tcount: 39\n",
      "roast beef           Ave rating: 4.14 \tcount: 7\n",
      "eggplant             Ave rating: 4.16 \tcount: 69\n",
      "\n",
      "\n",
      "Best rated menu items:\n",
      "chicken pesto        Ave rating: 4.56 \tcount: 27\n",
      "chicken salad        Ave rating: 4.60 \tcount: 5\n",
      "purista              Ave rating: 4.67 \tcount: 63\n",
      "prosciutto           Ave rating: 4.68 \tcount: 50\n",
      "reuben               Ave rating: 4.75 \tcount: 4\n",
      "steak and cheese     Ave rating: 4.89 \tcount: 9\n",
      "artichoke salad      Ave rating: 5.00 \tcount: 5\n",
      "fettuccini alfredo   Ave rating: 5.00 \tcount: 6\n",
      "turkey breast        Ave rating: 5.00 \tcount: 1\n",
      "corned beef          Ave rating: 5.00 \tcount: 2\n"
     ]
    }
   ],
   "source": [
    "sorted_ratings = sorted(mean_ratings, key=mean_ratings.get)\n",
    "\n",
    "print(\"Worst rated menu items:\")\n",
    "for item in sorted_ratings[:10]:\n",
    "    print(f\"{item:20} Ave rating: {mean_ratings[item]:.2f} \\tcount: {counts[item]}\")\n",
    "    \n",
    "print(\"\\n\\nBest rated menu items:\")\n",
    "for item in sorted_ratings[-10:]:\n",
    "    print(f\"{item:20} Ave rating: {mean_ratings[item]:.2f} \\tcount: {counts[item]}\")"
   ]
  },
  {
   "cell_type": "markdown",
   "metadata": {},
   "source": [
    "Run the following line after you've decided your answer."
   ]
  },
  {
   "cell_type": "code",
   "execution_count": 13,
   "metadata": {},
   "outputs": [
    {
     "data": {
      "application/javascript": "parent.postMessage({\"jupyterEvent\": \"custom.exercise_interaction\", \"data\": {\"interactionType\": 3, \"questionType\": 4, \"questionId\": \"5_CountImportanceQuestion\", \"learnToolsVersion\": \"0.3.4\", \"valueTowardsCompletion\": 0.0, \"failureMessage\": \"\", \"exceptionClass\": \"\", \"trace\": \"\", \"outcomeType\": 4}}, \"*\")",
      "text/plain": "<IPython.core.display.Javascript object>"
     },
     "metadata": {},
     "output_type": "display_data"
    },
    {
     "data": {
      "text/markdown": "<span style=\"color:#33cc99\">Solution:</span> \n    The less data you have for any specific item, the less you can trust that the average rating is the \"real\" sentiment of the customers. This is fairly common sense. If more people tell you the same thing, you're more likely to believe it. It's also mathematically sound. As the number of data points increases, the error on the mean decreases as 1 / sqrt(n).\n    ",
      "text/plain": "Solution: \n    The less data you have for any specific item, the less you can trust that the average rating is the \"real\" sentiment of the customers. This is fairly common sense. If more people tell you the same thing, you're more likely to believe it. It's also mathematically sound. As the number of data points increases, the error on the mean decreases as 1 / sqrt(n).\n    "
     },
     "metadata": {},
     "output_type": "display_data"
    }
   ],
   "source": [
    "# Check your answer (Run this code cell to receive credit!)\n",
    "q_5.solution()"
   ]
  },
  {
   "cell_type": "markdown",
   "metadata": {},
   "source": [
    "# Keep Going\n",
    "\n",
    "Now that you are ready to combine your NLP skills with your ML skills, **[see how it's done](#$NEXT_NOTEBOOK_URL$)**."
   ]
  }
 ],
 "metadata": {
  "kernelspec": {
   "display_name": "Python 3.8.2 64-bit",
   "language": "python",
   "name": "python_defaultSpec_1600806574207"
  },
  "language_info": {
   "codemirror_mode": {
    "name": "ipython",
    "version": 3
   },
   "file_extension": ".py",
   "mimetype": "text/x-python",
   "name": "python",
   "nbconvert_exporter": "python",
   "pygments_lexer": "ipython3",
   "version": "3.8.2-final"
  }
 },
 "nbformat": 4,
 "nbformat_minor": 4
}