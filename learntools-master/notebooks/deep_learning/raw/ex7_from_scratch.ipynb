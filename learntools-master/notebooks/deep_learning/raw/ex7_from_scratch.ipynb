{
 "cells": [
  {
   "cell_type": "markdown",
   "metadata": {},
   "source": [
    "# Introduction\n",
    "\n",
    "You've seen how to build a model from scratch to identify handwritten digits.  You'll now build a model to identify different types of clothing.  To make models that train quickly, we'll work with very small (low-resolution) images. \n",
    "\n",
    "As an example, your model will take an images like this and identify it as a shoe:\n",
    "\n",
    "![Imgur](https://i.imgur.com/GyXOnSB.png)"
   ]
  },
  {
   "cell_type": "markdown",
   "metadata": {},
   "source": [
    "# Data Preparation\n",
    "This code is supplied, and you don't need to change it. Just run the cell below."
   ]
  },
  {
   "cell_type": "code",
   "execution_count": 1,
   "metadata": {
    "collapsed": true
   },
   "outputs": [
    {
     "name": "stdout",
     "output_type": "stream",
     "text": [
      "Using TensorFlow version 2.3.0\n",
      "Setup Complete\n"
     ]
    }
   ],
   "source": [
    "import numpy as np\n",
    "from sklearn.model_selection import train_test_split\n",
    "from tensorflow import keras\n",
    "\n",
    "img_rows, img_cols = 28, 28\n",
    "num_classes = 10\n",
    "\n",
    "def prep_data(raw):\n",
    "    y = raw[:, 0]\n",
    "    out_y = keras.utils.to_categorical(y, num_classes)\n",
    "    \n",
    "    x = raw[:,1:]\n",
    "    num_images = raw.shape[0]\n",
    "    out_x = x.reshape(num_images, img_rows, img_cols, 1)\n",
    "    out_x = out_x / 255\n",
    "    return out_x, out_y\n",
    "\n",
    "fashion_file = \"../input/fashionmnist/fashion-mnist_train.csv\"\n",
    "fashion_data = np.loadtxt(fashion_file, skiprows=1, delimiter=',')\n",
    "x, y = prep_data(fashion_data)\n",
    "\n",
    "# Set up code checking\n",
    "from learntools.core import binder\n",
    "binder.bind(globals())\n",
    "from learntools.deep_learning.exercise_7 import *\n",
    "print(\"Setup Complete\")"
   ]
  },
  {
   "cell_type": "markdown",
   "metadata": {},
   "source": [
    "# 1) Start the model\n",
    "Create a `Sequential` model called `fashion_model`. Don't add layers yet."
   ]
  },
  {
   "cell_type": "code",
   "execution_count": 18,
   "metadata": {
    "collapsed": true
   },
   "outputs": [
    {
     "data": {
      "application/javascript": "parent.postMessage({\"jupyterEvent\": \"custom.exercise_interaction\", \"data\": {\"outcomeType\": 1, \"valueTowardsCompletion\": 0.16666666666666666, \"interactionType\": 1, \"questionType\": 2, \"questionId\": \"1_StartSequentialModel\", \"learnToolsVersion\": \"0.3.4\", \"failureMessage\": \"\", \"exceptionClass\": \"\", \"trace\": \"\"}}, \"*\")",
      "text/plain": "<IPython.core.display.Javascript object>"
     },
     "metadata": {},
     "output_type": "display_data"
    },
    {
     "data": {
      "text/markdown": "<span style=\"color:#33cc33\">Correct</span>",
      "text/plain": "Correct"
     },
     "metadata": {},
     "output_type": "display_data"
    }
   ],
   "source": [
    "from tensorflow import keras\r\n",
    "from tensorflow.keras.models import Sequential\r\n",
    "from tensorflow.keras.layers import Dense, Flatten, Conv2D\r\n",
    "\r\n",
    "# Your Code Here\r\n",
    "fashion_model = Sequential()\r\n",
    "\r\n",
    "# Check your answer\r\n",
    "q_1.check()"
   ]
  },
  {
   "cell_type": "code",
   "execution_count": 3,
   "metadata": {},
   "outputs": [
    {
     "data": {
      "application/javascript": "parent.postMessage({\"jupyterEvent\": \"custom.exercise_interaction\", \"data\": {\"interactionType\": 3, \"questionType\": 2, \"questionId\": \"1_StartSequentialModel\", \"learnToolsVersion\": \"0.3.4\", \"valueTowardsCompletion\": 0.0, \"failureMessage\": \"\", \"exceptionClass\": \"\", \"trace\": \"\", \"outcomeType\": 4}}, \"*\")",
      "text/plain": "<IPython.core.display.Javascript object>"
     },
     "metadata": {},
     "output_type": "display_data"
    },
    {
     "data": {
      "text/markdown": "<span style=\"color:#33cc99\">Solution:</span> \n```python\n\nfashion_model = Sequential()\n\n```",
      "text/plain": "Solution: \n```python\n\nfashion_model = Sequential()\n\n```"
     },
     "metadata": {},
     "output_type": "display_data"
    }
   ],
   "source": [
    "#_COMMENT_IF(PROD)_\n",
    "q_1.solution()"
   ]
  },
  {
   "cell_type": "markdown",
   "metadata": {},
   "source": [
    "# 2) Add the first layer\n",
    "\n",
    "Add the first `Conv2D` layer to `fashion_model`. It should have 12 filters, a kernel_size of 3 and the `relu` activation function. The first layer always requires that you specify the `input_shape`.  We have saved the number of rows and columns to the variables `img_rows` and `img_cols` respectively, so the input shape in this case is `(img_rows, img_cols, 1)`."
   ]
  },
  {
   "cell_type": "code",
   "execution_count": 19,
   "metadata": {
    "vscode": {}
   },
   "outputs": [
    {
     "data": {
      "application/javascript": "parent.postMessage({\"jupyterEvent\": \"custom.exercise_interaction\", \"data\": {\"outcomeType\": 1, \"valueTowardsCompletion\": 0.16666666666666666, \"interactionType\": 1, \"questionType\": 2, \"questionId\": \"2_AddFirstLayer\", \"learnToolsVersion\": \"0.3.4\", \"failureMessage\": \"\", \"exceptionClass\": \"\", \"trace\": \"\"}}, \"*\")",
      "text/plain": "<IPython.core.display.Javascript object>"
     },
     "metadata": {},
     "output_type": "display_data"
    },
    {
     "data": {
      "text/markdown": "<span style=\"color:#33cc33\">Correct</span>",
      "text/plain": "Correct"
     },
     "metadata": {},
     "output_type": "display_data"
    }
   ],
   "source": [
    "# Your code here\r\n",
    "\r\n",
    "fashion_model.add(Conv2D(filters=12, kernel_size=3, activation='relu',input_shape=(img_rows, img_cols, 1)))\r\n",
    "\r\n",
    "# Check your answer\r\n",
    "q_2.check()"
   ]
  },
  {
   "cell_type": "code",
   "execution_count": 20,
   "metadata": {},
   "outputs": [
    {
     "data": {
      "application/javascript": "parent.postMessage({\"jupyterEvent\": \"custom.exercise_interaction\", \"data\": {\"interactionType\": 3, \"questionType\": 2, \"questionId\": \"2_AddFirstLayer\", \"learnToolsVersion\": \"0.3.4\", \"valueTowardsCompletion\": 0.0, \"failureMessage\": \"\", \"exceptionClass\": \"\", \"trace\": \"\", \"outcomeType\": 4}}, \"*\")",
      "text/plain": "<IPython.core.display.Javascript object>"
     },
     "metadata": {},
     "output_type": "display_data"
    },
    {
     "data": {
      "text/markdown": "<span style=\"color:#33cc99\">Solution:</span> \n```python\n\nfashion_model.add(Conv2D(12,\n                         activation='relu',\n                         kernel_size=3,\n                         input_shape = (img_rows, img_cols, 1)))\n\n```",
      "text/plain": "Solution: \n```python\n\nfashion_model.add(Conv2D(12,\n                         activation='relu',\n                         kernel_size=3,\n                         input_shape = (img_rows, img_cols, 1)))\n\n```"
     },
     "metadata": {},
     "output_type": "display_data"
    }
   ],
   "source": [
    "# q_2.hint()\n",
    "#_COMMENT_IF(PROD)_\n",
    "q_2.solution()"
   ]
  },
  {
   "cell_type": "markdown",
   "metadata": {},
   "source": [
    "# 3) Add the remaining layers\n",
    "\n",
    "1. Add 2 more convolutional (`Conv2D layers`) with 20 filters each, 'relu' activation, and a kernel size of 3. Follow that with a `Flatten` layer, and then a `Dense` layer with 100 neurons. \n",
    "2. Add your prediction layer to `fashion_model`.  This is a `Dense` layer.  We alrady have a variable called `num_classes`.  Use this variable when specifying the number of nodes in this layer. The activation should be `softmax` (or you will have problems later)."
   ]
  },
  {
   "cell_type": "code",
   "execution_count": 21,
   "metadata": {
    "vscode": {}
   },
   "outputs": [
    {
     "data": {
      "application/javascript": "parent.postMessage({\"jupyterEvent\": \"custom.exercise_interaction\", \"data\": {\"outcomeType\": 1, \"valueTowardsCompletion\": 0.16666666666666666, \"interactionType\": 1, \"questionType\": 2, \"questionId\": \"3_AddMoreLayers\", \"learnToolsVersion\": \"0.3.4\", \"failureMessage\": \"\", \"exceptionClass\": \"\", \"trace\": \"\"}}, \"*\")",
      "text/plain": "<IPython.core.display.Javascript object>"
     },
     "metadata": {},
     "output_type": "display_data"
    },
    {
     "data": {
      "text/markdown": "<span style=\"color:#33cc33\">Correct</span>",
      "text/plain": "Correct"
     },
     "metadata": {},
     "output_type": "display_data"
    }
   ],
   "source": [
    "# Your code here\r\n",
    "from tensorflow.python.keras.layers.convolutional import Conv2D\r\n",
    "from tensorflow.python.keras.layers.core import Dense, Flatten\r\n",
    "\r\n",
    "\r\n",
    "fashion_model.add(Conv2D(filters=20, activation='relu', kernel_size=3))\r\n",
    "fashion_model.add(Conv2D(filters=20, activation='relu', kernel_size=3))\r\n",
    "fashion_model.add(Flatten())\r\n",
    "fashion_model.add(Dense(100, activation='relu'))\r\n",
    "fashion_model.add(Dense(10, activation='softmax'))\r\n",
    "\r\n",
    "# Check your answer\r\n",
    "q_3.check()"
   ]
  },
  {
   "cell_type": "code",
   "execution_count": 22,
   "metadata": {},
   "outputs": [
    {
     "data": {
      "application/javascript": "parent.postMessage({\"jupyterEvent\": \"custom.exercise_interaction\", \"data\": {\"interactionType\": 3, \"questionType\": 2, \"questionId\": \"3_AddMoreLayers\", \"learnToolsVersion\": \"0.3.4\", \"valueTowardsCompletion\": 0.0, \"failureMessage\": \"\", \"exceptionClass\": \"\", \"trace\": \"\", \"outcomeType\": 4}}, \"*\")",
      "text/plain": "<IPython.core.display.Javascript object>"
     },
     "metadata": {},
     "output_type": "display_data"
    },
    {
     "data": {
      "text/markdown": "<span style=\"color:#33cc99\">Solution:</span> \n```python\n\nfashion_model.add(Conv2D(20, activation='relu', kernel_size=3))\nfashion_model.add(Conv2D(20, activation='relu', kernel_size=3))\nfashion_model.add(Flatten())\nfashion_model.add(Dense(100, activation='relu'))\nfashion_model.add(Dense(10, activation='softmax'))\n\n```",
      "text/plain": "Solution: \n```python\n\nfashion_model.add(Conv2D(20, activation='relu', kernel_size=3))\nfashion_model.add(Conv2D(20, activation='relu', kernel_size=3))\nfashion_model.add(Flatten())\nfashion_model.add(Dense(100, activation='relu'))\nfashion_model.add(Dense(10, activation='softmax'))\n\n```"
     },
     "metadata": {},
     "output_type": "display_data"
    }
   ],
   "source": [
    "q_3.solution()"
   ]
  },
  {
   "cell_type": "markdown",
   "metadata": {},
   "source": [
    "# 4) Compile Your Model\n",
    "Compile fashion_model with the `compile` method.  Specify the following arguments:\n",
    "1. `loss = \"categorical_crossentropy\"`\n",
    "2. `optimizer = 'adam'`\n",
    "3. `metrics = ['accuracy']`"
   ]
  },
  {
   "cell_type": "code",
   "execution_count": 28,
   "metadata": {
    "collapsed": true
   },
   "outputs": [
    {
     "data": {
      "application/javascript": "parent.postMessage({\"jupyterEvent\": \"custom.exercise_interaction\", \"data\": {\"outcomeType\": 1, \"valueTowardsCompletion\": 0.16666666666666666, \"interactionType\": 1, \"questionType\": 2, \"questionId\": \"4_CompileModel\", \"learnToolsVersion\": \"0.3.4\", \"failureMessage\": \"\", \"exceptionClass\": \"\", \"trace\": \"\"}}, \"*\")",
      "text/plain": "<IPython.core.display.Javascript object>"
     },
     "metadata": {},
     "output_type": "display_data"
    },
    {
     "data": {
      "text/markdown": "<span style=\"color:#33cc33\">Correct</span>",
      "text/plain": "Correct"
     },
     "metadata": {},
     "output_type": "display_data"
    }
   ],
   "source": [
    "# Your code to compile the model in this cell\r\n",
    "fashion_model.compile(loss='categorical_crossentropy', optimizer='adam', metrics=['accuracy'])\r\n",
    "\r\n",
    "# Check your answer\r\n",
    "q_4.check()"
   ]
  },
  {
   "cell_type": "code",
   "execution_count": 29,
   "metadata": {},
   "outputs": [
    {
     "data": {
      "application/javascript": "parent.postMessage({\"jupyterEvent\": \"custom.exercise_interaction\", \"data\": {\"interactionType\": 3, \"questionType\": 2, \"questionId\": \"4_CompileModel\", \"learnToolsVersion\": \"0.3.4\", \"valueTowardsCompletion\": 0.0, \"failureMessage\": \"\", \"exceptionClass\": \"\", \"trace\": \"\", \"outcomeType\": 4}}, \"*\")",
      "text/plain": "<IPython.core.display.Javascript object>"
     },
     "metadata": {},
     "output_type": "display_data"
    },
    {
     "data": {
      "text/markdown": "<span style=\"color:#33cc99\">Solution:</span> \n```python\n\nfashion_model.compile(loss='categorical_crossentropy',\n                      optimizer='adam',\n                      metrics=['accuracy'])\n\n```",
      "text/plain": "Solution: \n```python\n\nfashion_model.compile(loss='categorical_crossentropy',\n                      optimizer='adam',\n                      metrics=['accuracy'])\n\n```"
     },
     "metadata": {},
     "output_type": "display_data"
    }
   ],
   "source": [
    "q_4.solution()"
   ]
  },
  {
   "cell_type": "markdown",
   "metadata": {},
   "source": [
    "# 5) Fit The Model\n",
    "Run the command `fashion_model.fit`. The arguments you will use are\n",
    "1. The data used to fit the model. First comes the data holding the images, and second is the data with the class labels to be predicted. Look at the first code cell (which was supplied to you) where we called `prep_data` to find the variable names for these.\n",
    "2. `batch_size = 100`\n",
    "3. `epochs = 4`\n",
    "4. `validation_split = 0.2`\n",
    "\n",
    "When you run this command, you can watch your model start improving.  You will see validation accuracies after each epoch."
   ]
  },
  {
   "cell_type": "code",
   "execution_count": 30,
   "metadata": {
    "collapsed": true,
    "vscode": {}
   },
   "outputs": [
    {
     "name": "stdout",
     "output_type": "stream",
     "text": [
      "Epoch 1/4\n",
      "480/480 [==============================] - 88s 183ms/step - loss: 0.4792 - accuracy: 0.8267 - val_loss: 0.3546 - val_accuracy: 0.8759\n",
      "Epoch 2/4\n",
      "480/480 [==============================] - 81s 169ms/step - loss: 0.3087 - accuracy: 0.8894 - val_loss: 0.3039 - val_accuracy: 0.8930\n",
      "Epoch 3/4\n",
      "480/480 [==============================] - 81s 169ms/step - loss: 0.2514 - accuracy: 0.9082 - val_loss: 0.2777 - val_accuracy: 0.9008\n",
      "Epoch 4/4\n",
      "480/480 [==============================] - 86s 179ms/step - loss: 0.2091 - accuracy: 0.9237 - val_loss: 0.2447 - val_accuracy: 0.9150\n"
     ]
    },
    {
     "data": {
      "application/javascript": "parent.postMessage({\"jupyterEvent\": \"custom.exercise_interaction\", \"data\": {\"outcomeType\": 1, \"valueTowardsCompletion\": 0.16666666666666666, \"interactionType\": 1, \"questionType\": 2, \"questionId\": \"5_FitFullDLModel\", \"learnToolsVersion\": \"0.3.4\", \"failureMessage\": \"\", \"exceptionClass\": \"\", \"trace\": \"\"}}, \"*\")",
      "text/plain": "<IPython.core.display.Javascript object>"
     },
     "metadata": {},
     "output_type": "display_data"
    },
    {
     "data": {
      "text/markdown": "<span style=\"color:#33cc33\">Correct</span>",
      "text/plain": "Correct"
     },
     "metadata": {},
     "output_type": "display_data"
    }
   ],
   "source": [
    "# Your code to fit the model here\r\n",
    "fashion_moddel.fit(x, y, batch_size=100, epochs=4, validation_split=0.2)\r\n",
    "\r\n",
    "# Ck your answer\r\n",
    "q_5.check()  "
   ]
  },
  {
   "cell_type": "code",
   "execution_count": 31,
   "metadata": {},
   "outputs": [
    {
     "data": {
      "application/javascript": "parent.postMessage({\"jupyterEvent\": \"custom.exercise_interaction\", \"data\": {\"interactionType\": 3, \"questionType\": 2, \"questionId\": \"5_FitFullDLModel\", \"learnToolsVersion\": \"0.3.4\", \"valueTowardsCompletion\": 0.0, \"failureMessage\": \"\", \"exceptionClass\": \"\", \"trace\": \"\", \"outcomeType\": 4}}, \"*\")",
      "text/plain": "<IPython.core.display.Javascript object>"
     },
     "metadata": {},
     "output_type": "display_data"
    },
    {
     "data": {
      "text/markdown": "<span style=\"color:#33cc99\">Solution:</span> \n```python\n\nfashion_model.fit(x, y, batch_size=100, epochs=4, validation_split=0.2)\n\n```",
      "text/plain": "Solution: \n```python\n\nfashion_model.fit(x, y, batch_size=100, epochs=4, validation_split=0.2)\n\n```"
     },
     "metadata": {},
     "output_type": "display_data"
    }
   ],
   "source": [
    "#_COMMENT_IF(PROD)_\n",
    "q_5.solution()"
   ]
  },
  {
   "cell_type": "markdown",
   "metadata": {},
   "source": [
    "# 6) Create A New Model\n",
    "\n",
    "Create a new model called `second_fashion_model` in the cell below.  Make some changes so it is different than `fashion_model` that you've trained above. The change could be using a different number of layers, different number of convolutions in the layers, etc.\n",
    "\n",
    "Define the model, compile it and fit it in the cell below.  See how its validation score compares to that of the original model."
   ]
  },
  {
   "cell_type": "code",
   "execution_count": 32,
   "metadata": {},
   "outputs": [
    {
     "name": "stdout",
     "output_type": "stream",
     "text": [
      "Epoch 1/4\n",
      "480/480 [==============================] - 127s 264ms/step - loss: 0.5079 - accuracy: 0.8164 - val_loss: 0.3575 - val_accuracy: 0.8732\n",
      "Epoch 2/4\n",
      "480/480 [==============================] - 152s 318ms/step - loss: 0.3200 - accuracy: 0.8834 - val_loss: 0.3024 - val_accuracy: 0.8910\n",
      "Epoch 3/4\n",
      "480/480 [==============================] - 169s 353ms/step - loss: 0.2679 - accuracy: 0.9020 - val_loss: 0.2925 - val_accuracy: 0.9009\n",
      "Epoch 4/4\n",
      "480/480 [==============================] - 146s 303ms/step - loss: 0.2327 - accuracy: 0.9133 - val_loss: 0.2547 - val_accuracy: 0.9132\n",
      "Model summary from second_fashion_model.summary()\n",
      "Model: \"sequential_3\"\n",
      "_________________________________________________________________\n",
      "Layer (type)                 Output Shape              Param #   \n",
      "=================================================================\n",
      "conv2d_12 (Conv2D)           (None, 26, 26, 12)        120       \n",
      "_________________________________________________________________\n",
      "conv2d_13 (Conv2D)           (None, 24, 24, 20)        2180      \n",
      "_________________________________________________________________\n",
      "conv2d_14 (Conv2D)           (None, 22, 22, 20)        3620      \n",
      "_________________________________________________________________\n",
      "conv2d_15 (Conv2D)           (None, 20, 20, 20)        3620      \n",
      "_________________________________________________________________\n",
      "flatten_2 (Flatten)          (None, 8000)              0         \n",
      "_________________________________________________________________\n",
      "dense_3 (Dense)              (None, 100)               800100    \n",
      "_________________________________________________________________\n",
      "dense_4 (Dense)              (None, 10)                1010      \n",
      "=================================================================\n",
      "Total params: 810,650\n",
      "Trainable params: 810,650\n",
      "Non-trainable params: 0\n",
      "_________________________________________________________________\n",
      "None\n"
     ]
    },
    {
     "data": {
      "application/javascript": "parent.postMessage({\"jupyterEvent\": \"custom.exercise_interaction\", \"data\": {\"outcomeType\": 1, \"valueTowardsCompletion\": 0.16666666666666666, \"interactionType\": 1, \"questionType\": 2, \"questionId\": \"6_CreateNewDLModelFromScratch\", \"learnToolsVersion\": \"0.3.4\", \"failureMessage\": \"\", \"exceptionClass\": \"\", \"trace\": \"\"}}, \"*\")",
      "text/plain": "<IPython.core.display.Javascript object>"
     },
     "metadata": {},
     "output_type": "display_data"
    },
    {
     "data": {
      "text/markdown": "<span style=\"color:#33cc33\">Correct</span>",
      "text/plain": "Correct"
     },
     "metadata": {},
     "output_type": "display_data"
    }
   ],
   "source": [
    "# Your code below\r\n",
    "\r\n",
    "\r\n",
    "second_fashion_model = Sequential([\r\n",
    "    Conv2D(filters=12, kernel_size=3, activation='relu',input_shape=(img_rows, img_cols, 1)),\r\n",
    "    Conv2D(filters=20, activation='relu', kernel_size=3),\r\n",
    "    Conv2D(filters=20, activation='relu', kernel_size=3),\r\n",
    "    Conv2D(filters=20, activation='relu', kernel_size=3),\r\n",
    "    Flatten(),\r\n",
    "    Dense(100, activation='relu'),\r\n",
    "    Dense(10, activation='softmax'),\r\n",
    "])\r\n",
    "\r\n",
    "second_fashion_model.compile(loss='categorical_crossentropy', optimizer='adam', metrics=['accuracy'])\r\n",
    "second_fashion_model.fit(x, y, batch_size=100, epochs=4, validation_split=0.2)\r\n",
    "\r\n",
    "# Don't remove this line (ensures comptibility with tensorflow 2.0)\r\n",
    "second_fashion_model.history.history['val_acc'] = second_fashion_model.history.history['val_accuracy']\r\n",
    "# Check your answer\r\n",
    "q_6.check()"
   ]
  },
  {
   "cell_type": "code",
   "execution_count": 33,
   "metadata": {},
   "outputs": [
    {
     "data": {
      "application/javascript": "parent.postMessage({\"jupyterEvent\": \"custom.exercise_interaction\", \"data\": {\"interactionType\": 3, \"questionType\": 2, \"questionId\": \"6_CreateNewDLModelFromScratch\", \"learnToolsVersion\": \"0.3.4\", \"valueTowardsCompletion\": 0.0, \"failureMessage\": \"\", \"exceptionClass\": \"\", \"trace\": \"\", \"outcomeType\": 4}}, \"*\")",
      "text/plain": "<IPython.core.display.Javascript object>"
     },
     "metadata": {},
     "output_type": "display_data"
    },
    {
     "data": {
      "text/markdown": "<span style=\"color:#33cc99\">Solution:</span> \n```python\n\nsecond_fashion_model = Sequential()\nsecond_fashion_model.add(Conv2D(12,\n                         activation='relu',\n                         kernel_size=3,\n                         input_shape = (img_rows, img_cols, 1)))\n# Changed kernel sizes to be 2\nsecond_fashion_model.add(Conv2D(20, activation='relu', kernel_size=2))\nsecond_fashion_model.add(Conv2D(20, activation='relu', kernel_size=2))\n# added an addition Conv2D layer\nsecond_fashion_model.add(Conv2D(20, activation='relu', kernel_size=2))\nsecond_fashion_model.add(Flatten())\nsecond_fashion_model.add(Dense(100, activation='relu'))\n# It is important not to change the last layer. First argument matches number of classes. Softmax guarantees we get reasonable probabilities\nsecond_fashion_model.add(Dense(10, activation='softmax'))\n\nsecond_fashion_model.compile(loss='categorical_crossentropy',\n                             optimizer='adam',\n                             metrics=['accuracy'])\n\nsecond_fashion_model.fit(x, y, batch_size=100, epochs=4, validation_split=0.2)\n\n```",
      "text/plain": "Solution: \n```python\n\nsecond_fashion_model = Sequential()\nsecond_fashion_model.add(Conv2D(12,\n                         activation='relu',\n                         kernel_size=3,\n                         input_shape = (img_rows, img_cols, 1)))\n# Changed kernel sizes to be 2\nsecond_fashion_model.add(Conv2D(20, activation='relu', kernel_size=2))\nsecond_fashion_model.add(Conv2D(20, activation='relu', kernel_size=2))\n# added an addition Conv2D layer\nsecond_fashion_model.add(Conv2D(20, activation='relu', kernel_size=2))\nsecond_fashion_model.add(Flatten())\nsecond_fashion_model.add(Dense(100, activation='relu'))\n# It is important not to change the last layer. First argument matches number of classes. Softmax guarantees we get reasonable probabilities\nsecond_fashion_model.add(Dense(10, activation='softmax'))\n\nsecond_fashion_model.compile(loss='categorical_crossentropy',\n                             optimizer='adam',\n                             metrics=['accuracy'])\n\nsecond_fashion_model.fit(x, y, batch_size=100, epochs=4, validation_split=0.2)\n\n```"
     },
     "metadata": {},
     "output_type": "display_data"
    }
   ],
   "source": [
    "#_COMMENT_IF(PROD)_\n",
    "q_6.solution()"
   ]
  },
  {
   "cell_type": "markdown",
   "metadata": {},
   "source": [
    "# Keep Going\n",
    "You are ready to learn about **[strides and dropout](https://www.kaggle.com/dansbecker/dropout-and-strides-for-larger-models)**, which become important as you start using bigger and more powerful models.\n"
   ]
  }
 ],
 "metadata": {
  "kernelspec": {
   "display_name": "Python 3.8.2 64-bit",
   "language": "python",
   "name": "python_defaultSpec_1600435619493"
  },
  "language_info": {
   "codemirror_mode": {
    "name": "ipython",
    "version": 3
   },
   "file_extension": ".py",
   "mimetype": "text/x-python",
   "name": "python",
   "nbconvert_exporter": "python",
   "pygments_lexer": "ipython3",
   "version": "3.8.2-final"
  }
 },
 "nbformat": 4,
 "nbformat_minor": 2
}