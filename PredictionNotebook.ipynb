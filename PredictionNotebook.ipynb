{
 "cells": [
  {
   "cell_type": "markdown",
   "metadata": {},
   "source": [
    "<a href=\"https://colab.research.google.com/github/PrzemyslawSarnacki/AirQualityPrediction/blob/master/PredictionNotebook.ipynb\" target=\"_parent\">\r\n",
    "  <img src=\"https://colab.research.google.com/assets/colab-badge.svg\" alt=\"Open In Colab\"/>\r\n",
    "</a> "
   ]
  },
  {
   "cell_type": "code",
   "execution_count": 3,
   "metadata": {
    "tags": []
   },
   "outputs": [],
   "source": [
    "import pandas as pd\r\n",
    "import seaborn as sns\r\n",
    "import matplotlib as mpl\r\n",
    "import matplotlib.pyplot as plt\r\n",
    "import openaq\r\n",
    "import warnings\r\n",
    "\r\n",
    "warnings.simplefilter('ignore')\r\n",
    "\r\n",
    "%matplotlib inline\r\n",
    "\r\n",
    "# Set major seaborn asthetics\r\n",
    "sns.set(\"notebook\", style='ticks', font_scale=1.0)\r\n",
    "\r\n",
    "# Increase the quality of inline plots\r\n",
    "mpl.rcParams['figure.dpi']= 500\r\n"
   ]
  },
  {
   "cell_type": "code",
   "execution_count": 4,
   "metadata": {},
   "outputs": [
    {
     "data": {
      "text/html": "<div>\n<style scoped>\n    .dataframe tbody tr th:only-of-type {\n        vertical-align: middle;\n    }\n\n    .dataframe tbody tr th {\n        vertical-align: top;\n    }\n\n    .dataframe thead th {\n        text-align: right;\n    }\n</style>\n<table border=\"1\" class=\"dataframe\">\n  <thead>\n    <tr style=\"text-align: right;\">\n      <th></th>\n      <th>country</th>\n      <th>name</th>\n      <th>city</th>\n      <th>count</th>\n      <th>locations</th>\n    </tr>\n  </thead>\n  <tbody>\n    <tr>\n      <th>2001</th>\n      <td>PL</td>\n      <td>Augustów</td>\n      <td>Augustów</td>\n      <td>88266</td>\n      <td>2</td>\n    </tr>\n    <tr>\n      <th>2002</th>\n      <td>PL</td>\n      <td>Belsk</td>\n      <td>Belsk</td>\n      <td>32105</td>\n      <td>1</td>\n    </tr>\n    <tr>\n      <th>2003</th>\n      <td>PL</td>\n      <td>Belsk Duży</td>\n      <td>Belsk Duży</td>\n      <td>87034</td>\n      <td>1</td>\n    </tr>\n    <tr>\n      <th>2004</th>\n      <td>PL</td>\n      <td>Biała</td>\n      <td>Biała</td>\n      <td>27573</td>\n      <td>1</td>\n    </tr>\n    <tr>\n      <th>2005</th>\n      <td>PL</td>\n      <td>Biała Podlaska</td>\n      <td>Biała Podlaska</td>\n      <td>106955</td>\n      <td>1</td>\n    </tr>\n    <tr>\n      <th>...</th>\n      <td>...</td>\n      <td>...</td>\n      <td>...</td>\n      <td>...</td>\n      <td>...</td>\n    </tr>\n    <tr>\n      <th>2171</th>\n      <td>PL</td>\n      <td>Zielonka</td>\n      <td>Zielonka</td>\n      <td>98239</td>\n      <td>1</td>\n    </tr>\n    <tr>\n      <th>2172</th>\n      <td>PL</td>\n      <td>Złoty Potok</td>\n      <td>Złoty Potok</td>\n      <td>133381</td>\n      <td>1</td>\n    </tr>\n    <tr>\n      <th>2173</th>\n      <td>PL</td>\n      <td>Żory</td>\n      <td>Żory</td>\n      <td>48437</td>\n      <td>1</td>\n    </tr>\n    <tr>\n      <th>2174</th>\n      <td>PL</td>\n      <td>Żyrardów</td>\n      <td>Żyrardów</td>\n      <td>45537</td>\n      <td>1</td>\n    </tr>\n    <tr>\n      <th>2175</th>\n      <td>PL</td>\n      <td>Żywiec</td>\n      <td>Żywiec</td>\n      <td>71510</td>\n      <td>1</td>\n    </tr>\n  </tbody>\n</table>\n<p>175 rows × 5 columns</p>\n</div>",
      "text/plain": "     country            name            city   count  locations\n2001      PL        Augustów        Augustów   88266          2\n2002      PL           Belsk           Belsk   32105          1\n2003      PL      Belsk Duży      Belsk Duży   87034          1\n2004      PL           Biała           Biała   27573          1\n2005      PL  Biała Podlaska  Biała Podlaska  106955          1\n...      ...             ...             ...     ...        ...\n2171      PL        Zielonka        Zielonka   98239          1\n2172      PL     Złoty Potok     Złoty Potok  133381          1\n2173      PL            Żory            Żory   48437          1\n2174      PL        Żyrardów        Żyrardów   45537          1\n2175      PL          Żywiec          Żywiec   71510          1\n\n[175 rows x 5 columns]"
     },
     "execution_count": 4,
     "metadata": {},
     "output_type": "execute_result"
    }
   ],
   "source": [
    "api = openaq.OpenAQ()\r\n",
    "resp = api.cities(df=True, limit=10000)\r\n",
    "\r\n",
    "# display the first 10 rows\r\n",
    "resp.query(\"country == 'PL'\")"
   ]
  },
  {
   "cell_type": "code",
   "execution_count": 5,
   "metadata": {},
   "outputs": [],
   "source": [
    "CITIES = [\"Warszawa\", \"Kraków\", \"Poznań\", \"Katowice\", \"Białystok\"]\r\n",
    "PARAMETERS = ['pm25', 'pm10', 'no2', 'so2', 'o3', 'co']\r\n",
    "LOCATIONS = [\"Warszawa-Śródmieście\", \"Kraków-\", \"Poznań\", \"Katowice\", \"Białystok-Miejska\", \"WIOŚ Elbląg ul. Bażyńskiego\"]"
   ]
  },
  {
   "cell_type": "code",
   "execution_count": 6,
   "metadata": {},
   "outputs": [],
   "source": [
    "import unicodedata\r\n",
    "\r\n",
    "def strip_accents(text):\r\n",
    "    return ''.join(c for c in unicodedata.normalize('NFKD', text.lower().replace(\"ł\",\"l\")) if unicodedata.category(c) != 'Mn')\r\n"
   ]
  },
  {
   "cell_type": "code",
   "execution_count": 7,
   "metadata": {},
   "outputs": [
    {
     "name": "stdout",
     "output_type": "stream",
     "text": [
      "Warszawa\n",
      "True\n",
      "True\n",
      "True\n",
      "True\n",
      "True\n",
      "True\n",
      "True\n",
      "True\n",
      "True\n",
      "True\n",
      "Kraków\n",
      "True\n",
      "True\n",
      "True\n",
      "True\n",
      "True\n",
      "True\n",
      "True\n",
      "True\n",
      "True\n",
      "True\n",
      "Poznań\n",
      "True\n",
      "True\n",
      "True\n",
      "True\n",
      "True\n",
      "True\n",
      "True\n",
      "True\n",
      "True\n",
      "True\n",
      "Katowice\n",
      "True\n",
      "True\n",
      "True\n",
      "True\n",
      "True\n",
      "True\n",
      "True\n",
      "True\n",
      "True\n",
      "True\n",
      "Białystok\n",
      "True\n",
      "True\n",
      "True\n",
      "True\n",
      "True\n",
      "True\n",
      "True\n",
      "True\n",
      "True\n",
      "False\n"
     ]
    }
   ],
   "source": [
    "def check_params():\r\n",
    "    return all(param in res.parameter.unique() for param in PARAMETERS) \r\n",
    "\r\n",
    "dfs = {}\r\n",
    "\r\n",
    "for city in CITIES:\r\n",
    "    print(city)\r\n",
    "    dfs[strip_accents(city)] = pd.DataFrame()\r\n",
    "    for page in range(1,11):\r\n",
    "        res = api.measurements(city=city, page=page, limit=10000, df=True)\r\n",
    "        print(check_params())\r\n",
    "        if check_params():\r\n",
    "            dfs[strip_accents(city)] = dfs[strip_accents(city)].append(res)\r\n"
   ]
  },
  {
   "cell_type": "code",
   "execution_count": 8,
   "metadata": {},
   "outputs": [
    {
     "data": {
      "text/html": "<div>\n<style scoped>\n    .dataframe tbody tr th:only-of-type {\n        vertical-align: middle;\n    }\n\n    .dataframe tbody tr th {\n        vertical-align: top;\n    }\n\n    .dataframe thead th {\n        text-align: right;\n    }\n</style>\n<table border=\"1\" class=\"dataframe\">\n  <thead>\n    <tr style=\"text-align: right;\">\n      <th></th>\n      <th>location</th>\n      <th>parameter</th>\n      <th>value</th>\n      <th>unit</th>\n      <th>country</th>\n      <th>city</th>\n      <th>date.utc</th>\n      <th>coordinates.latitude</th>\n      <th>coordinates.longitude</th>\n    </tr>\n    <tr>\n      <th>date.local</th>\n      <th></th>\n      <th></th>\n      <th></th>\n      <th></th>\n      <th></th>\n      <th></th>\n      <th></th>\n      <th></th>\n      <th></th>\n    </tr>\n  </thead>\n  <tbody>\n    <tr>\n      <th>2020-12-22 16:00:00</th>\n      <td>Białystok-Warszawska</td>\n      <td>o3</td>\n      <td>22.00</td>\n      <td>b'\\xc2\\xb5g/m\\xc2\\xb3'</td>\n      <td>PL</td>\n      <td>Białystok</td>\n      <td>2020-12-22 15:00:00+00:00</td>\n      <td>53.129306</td>\n      <td>23.181744</td>\n    </tr>\n    <tr>\n      <th>2020-12-22 16:00:00</th>\n      <td>Białystok-Miejska</td>\n      <td>no2</td>\n      <td>10.10</td>\n      <td>b'\\xc2\\xb5g/m\\xc2\\xb3'</td>\n      <td>PL</td>\n      <td>Białystok</td>\n      <td>2020-12-22 15:00:00+00:00</td>\n      <td>53.126689</td>\n      <td>23.155869</td>\n    </tr>\n    <tr>\n      <th>2020-12-22 16:00:00</th>\n      <td>Białystok-Miejska</td>\n      <td>co</td>\n      <td>417.00</td>\n      <td>b'\\xc2\\xb5g/m\\xc2\\xb3'</td>\n      <td>PL</td>\n      <td>Białystok</td>\n      <td>2020-12-22 15:00:00+00:00</td>\n      <td>53.126689</td>\n      <td>23.155869</td>\n    </tr>\n    <tr>\n      <th>2020-12-22 16:00:00</th>\n      <td>Białystok-Miejska</td>\n      <td>bc</td>\n      <td>0.84</td>\n      <td>b'\\xc2\\xb5g/m\\xc2\\xb3'</td>\n      <td>PL</td>\n      <td>Białystok</td>\n      <td>2020-12-22 15:00:00+00:00</td>\n      <td>53.126689</td>\n      <td>23.155869</td>\n    </tr>\n    <tr>\n      <th>2020-12-22 16:00:00</th>\n      <td>Białystok-Warszawska</td>\n      <td>pm10</td>\n      <td>26.28</td>\n      <td>b'\\xc2\\xb5g/m\\xc2\\xb3'</td>\n      <td>PL</td>\n      <td>Białystok</td>\n      <td>2020-12-22 15:00:00+00:00</td>\n      <td>53.129306</td>\n      <td>23.181744</td>\n    </tr>\n  </tbody>\n</table>\n</div>",
      "text/plain": "                                 location parameter   value  \\\ndate.local                                                    \n2020-12-22 16:00:00  Białystok-Warszawska        o3   22.00   \n2020-12-22 16:00:00     Białystok-Miejska       no2   10.10   \n2020-12-22 16:00:00     Białystok-Miejska        co  417.00   \n2020-12-22 16:00:00     Białystok-Miejska        bc    0.84   \n2020-12-22 16:00:00  Białystok-Warszawska      pm10   26.28   \n\n                                       unit country       city  \\\ndate.local                                                       \n2020-12-22 16:00:00  b'\\xc2\\xb5g/m\\xc2\\xb3'      PL  Białystok   \n2020-12-22 16:00:00  b'\\xc2\\xb5g/m\\xc2\\xb3'      PL  Białystok   \n2020-12-22 16:00:00  b'\\xc2\\xb5g/m\\xc2\\xb3'      PL  Białystok   \n2020-12-22 16:00:00  b'\\xc2\\xb5g/m\\xc2\\xb3'      PL  Białystok   \n2020-12-22 16:00:00  b'\\xc2\\xb5g/m\\xc2\\xb3'      PL  Białystok   \n\n                                     date.utc  coordinates.latitude  \\\ndate.local                                                            \n2020-12-22 16:00:00 2020-12-22 15:00:00+00:00             53.129306   \n2020-12-22 16:00:00 2020-12-22 15:00:00+00:00             53.126689   \n2020-12-22 16:00:00 2020-12-22 15:00:00+00:00             53.126689   \n2020-12-22 16:00:00 2020-12-22 15:00:00+00:00             53.126689   \n2020-12-22 16:00:00 2020-12-22 15:00:00+00:00             53.129306   \n\n                     coordinates.longitude  \ndate.local                                  \n2020-12-22 16:00:00              23.181744  \n2020-12-22 16:00:00              23.155869  \n2020-12-22 16:00:00              23.155869  \n2020-12-22 16:00:00              23.155869  \n2020-12-22 16:00:00              23.181744  "
     },
     "execution_count": 8,
     "metadata": {},
     "output_type": "execute_result"
    }
   ],
   "source": [
    "dfs[\"bialystok\"].head()"
   ]
  },
  {
   "cell_type": "code",
   "execution_count": 9,
   "metadata": {},
   "outputs": [],
   "source": [
    "organized_dfs = {}\r\n",
    "\r\n",
    "for city in CITIES:    \r\n",
    "    df_avg = pd.DataFrame()\r\n",
    "    for param in PARAMETERS:\r\n",
    "        df_avg[param] = dfs[strip_accents(city)].loc[dfs[strip_accents(city)][\"parameter\"] == param].resample('D').mean()[\"value\"]\r\n",
    "        organized_dfs[strip_accents(city)] = df_avg\r\n",
    "        # .drop(columns=[\"coordinates.latitude\", \"coordinates.longitude\"])\r\n",
    "    "
   ]
  },
  {
   "cell_type": "code",
   "execution_count": 10,
   "metadata": {},
   "outputs": [
    {
     "data": {
      "text/plain": "{'warszawa':                  pm25       pm10        no2       so2         o3           co\n date.local                                                                   \n 2020-05-09  22.713636  48.241250  73.736667  3.100000  18.837143   870.000000\n 2020-05-10  16.482353  23.090882  23.814167  5.457083  64.008687   717.166667\n 2020-05-11  16.649850  25.342030  24.885432  6.765833  65.633646   815.083333\n 2020-05-12   3.088226   3.746377  11.982917  4.730833  57.013125   709.500000\n 2020-05-13  12.944483  19.946897  30.575556  3.646667  65.377778   755.333333\n ...               ...        ...        ...       ...        ...          ...\n 2020-12-18  37.777281  42.442982  29.465543  6.770435   6.868626  1334.217391\n 2020-12-19  36.421228  40.852895  23.945761  4.084348   8.846803  1185.043478\n 2020-12-20  30.318833  31.197000  17.121458  4.358333  18.062042   988.041667\n 2020-12-21  30.687833  32.746083  23.669479  5.507917  15.765789  1196.083333\n 2020-12-22  34.622824  35.597882  23.795000  4.892353  10.893922  1093.941176\n \n [228 rows x 6 columns],\n 'krakow':                  pm25       pm10        no2       so2         o3           co\n date.local                                                                   \n 2020-05-03  15.359992  19.020074  23.696878  2.686022  39.798900   638.040000\n 2020-05-04  22.410796  30.211097  32.043899  3.379675  45.382187   639.160870\n 2020-05-05  13.499425  21.800434  32.404854  2.685626  50.303708   480.504792\n 2020-05-06  17.401796  21.399353  25.153866  3.555176  45.449663   440.752766\n 2020-05-07  13.493658  23.363300  26.514167  4.196310  60.412496   436.120638\n ...               ...        ...        ...       ...        ...          ...\n 2020-12-18  57.178692  56.157754  36.203333  6.707035   4.178436  1165.494375\n 2020-12-19  55.509320  49.275682  35.201456  4.930196   4.064935  1178.724783\n 2020-12-20  51.287302  46.543194  34.504582  4.095306   4.360334  1111.594894\n 2020-12-21  60.078052  66.137564  37.446857  4.402537   3.357017  1207.890208\n 2020-12-22  86.629241  89.683336  37.939641  4.785282   3.505523  1549.196471\n \n [234 rows x 6 columns],\n 'poznan':                  pm25       pm10        no2       so2         o3          co\n date.local                                                                  \n 2019-11-29   4.218372   8.731537  14.902683  7.082469  45.275557  313.746429\n 2019-11-30  11.880328  16.139000  19.018742  6.000249  39.571808  342.697234\n 2019-12-01  31.790998  36.353702  18.083768  5.595508  26.155192  437.370213\n 2019-12-02  25.413275  30.129265  26.857190  6.941262  24.857900  440.190667\n 2019-12-03  18.329508  21.454578  22.830703  5.395442  37.439717  362.619149\n ...               ...        ...        ...       ...        ...         ...\n 2020-12-18  33.335704  37.207404  27.131924  5.639712   2.906450  659.574583\n 2020-12-19  35.224991  36.644704  19.510162  3.780952   8.037169  638.464783\n 2020-12-20  47.337267  49.410513  21.235826  4.482264   3.349049  858.995217\n 2020-12-21  36.252542  38.491775  24.510426  5.056295   2.119315  823.948750\n 2020-12-22  19.623176  21.020406  19.864011  7.223665   9.623811  708.667222\n \n [390 rows x 6 columns],\n 'katowice':                  pm25       pm10        no2        so2         o3           co\n date.local                                                                    \n 2019-07-03   7.689020  16.799650  24.282370   4.857108  71.110461   404.878261\n 2019-07-04   8.975631  18.590008  38.888245   6.297627  65.465210   233.946250\n 2019-07-05   9.812030  22.447542  58.200983   5.195986  50.737774   218.611250\n 2019-07-06   9.300271  20.353258  46.121204   4.639730  80.756450   255.408947\n 2019-07-07  11.236288  16.778017  24.102881   5.616290  60.756996   111.794375\n ...               ...        ...        ...        ...        ...          ...\n 2020-12-18  41.311377  46.791573  40.456008  11.768558   6.028642   825.807500\n 2020-12-19  42.187145  44.115025  36.882057  18.730509   7.927854   722.030909\n 2020-12-20  49.151962  52.488948  34.697202  17.109275   7.847905   816.536250\n 2020-12-21  52.692263  56.658537  43.341965  15.779304   7.252557   962.726250\n 2020-12-22  66.598535  76.094808  44.326406  14.896881   7.021939  1030.512222\n \n [539 rows x 6 columns],\n 'bialystok':                  pm25       pm10        no2       so2         o3          co\n date.local                                                                  \n 2019-04-26  15.055556  41.340000  14.757895  1.888889        NaN  375.444444\n 2019-04-27  22.875000  53.963750   9.058333  1.683333        NaN  389.583333\n 2019-04-28  21.333333  40.565833   7.516667  1.004167        NaN  364.250000\n 2019-04-29  16.291667  31.296667  10.083333  1.362500        NaN  294.875000\n 2019-04-30  12.791667  29.183333  15.266667  1.066667        NaN  269.958333\n ...               ...        ...        ...       ...        ...         ...\n 2020-12-18  34.000000  38.865217  16.882609  0.300000   7.913043  529.434783\n 2020-12-19  33.400000  38.681739  15.480000  0.830000  18.217391  404.400000\n 2020-12-20        NaN  21.634167        NaN       NaN  27.826087         NaN\n 2020-12-21  24.916667  26.481250   9.007692  2.346154  31.625000  377.538462\n 2020-12-22  27.647059  34.318235   8.758824  1.917647  22.529412  404.647059\n \n [607 rows x 6 columns]}"
     },
     "execution_count": 10,
     "metadata": {},
     "output_type": "execute_result"
    }
   ],
   "source": [
    "organized_dfs"
   ]
  },
  {
   "cell_type": "code",
   "execution_count": 16,
   "metadata": {},
   "outputs": [
    {
     "name": "stdout",
     "output_type": "stream",
     "text": [
      "warszawa\n",
      "krakow\n",
      "poznan\n",
      "katowice\n",
      "bialystok\n"
     ]
    }
   ],
   "source": [
    "for i in organized_dfs:\r\n",
    "    print(i)"
   ]
  }
 ],
 "metadata": {
  "kernelspec": {
   "display_name": "Python 3.8.2 64-bit ('.venv')",
   "metadata": {
    "interpreter": {
     "hash": "c72aa234833b301e2f3682b00c720ead16def47389b468b3b25c2ea5dfc1217d"
    }
   },
   "name": "python3"
  },
  "language_info": {
   "codemirror_mode": {
    "name": "ipython",
    "version": 3
   },
   "file_extension": ".py",
   "mimetype": "text/x-python",
   "name": "python",
   "nbconvert_exporter": "python",
   "pygments_lexer": "ipython3",
   "version": "3.8.2"
  },
  "orig_nbformat": 2
 },
 "nbformat": 4,
 "nbformat_minor": 2
}