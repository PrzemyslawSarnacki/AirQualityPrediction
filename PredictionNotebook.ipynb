{
 "cells": [
  {
   "cell_type": "code",
   "execution_count": 1,
   "metadata": {
    "tags": []
   },
   "outputs": [
    {
     "name": "stdout",
     "output_type": "stream",
     "text": [
      "pandas v1.1.0\n",
      "matplotlib v3.3.0\n",
      "seaborn v0.11.0\n",
      "openaq v1.1.0\n"
     ]
    }
   ],
   "source": [
    "import pandas as pd\r\n",
    "import seaborn as sns\r\n",
    "import matplotlib as mpl\r\n",
    "import matplotlib.pyplot as plt\r\n",
    "import openaq\r\n",
    "import warnings\r\n",
    "\r\n",
    "warnings.simplefilter('ignore')\r\n",
    "\r\n",
    "%matplotlib inline\r\n",
    "\r\n",
    "# Set major seaborn asthetics\r\n",
    "sns.set(\"notebook\", style='ticks', font_scale=1.0)\r\n",
    "\r\n",
    "# Increase the quality of inline plots\r\n",
    "mpl.rcParams['figure.dpi']= 500\r\n"
   ]
  },
  {
   "cell_type": "code",
   "execution_count": 7,
   "metadata": {},
   "outputs": [
    {
     "data": {
      "text/html": "<div>\n<style scoped>\n    .dataframe tbody tr th:only-of-type {\n        vertical-align: middle;\n    }\n\n    .dataframe tbody tr th {\n        vertical-align: top;\n    }\n\n    .dataframe thead th {\n        text-align: right;\n    }\n</style>\n<table border=\"1\" class=\"dataframe\">\n  <thead>\n    <tr style=\"text-align: right;\">\n      <th></th>\n      <th>country</th>\n      <th>name</th>\n      <th>city</th>\n      <th>count</th>\n      <th>locations</th>\n    </tr>\n  </thead>\n  <tbody>\n    <tr>\n      <th>2000</th>\n      <td>PL</td>\n      <td>Augustów</td>\n      <td>Augustów</td>\n      <td>87721</td>\n      <td>2</td>\n    </tr>\n    <tr>\n      <th>2001</th>\n      <td>PL</td>\n      <td>Belsk</td>\n      <td>Belsk</td>\n      <td>32105</td>\n      <td>1</td>\n    </tr>\n    <tr>\n      <th>2002</th>\n      <td>PL</td>\n      <td>Belsk Duży</td>\n      <td>Belsk Duży</td>\n      <td>86602</td>\n      <td>1</td>\n    </tr>\n    <tr>\n      <th>2003</th>\n      <td>PL</td>\n      <td>Biała</td>\n      <td>Biała</td>\n      <td>27538</td>\n      <td>1</td>\n    </tr>\n    <tr>\n      <th>2004</th>\n      <td>PL</td>\n      <td>Biała Podlaska</td>\n      <td>Biała Podlaska</td>\n      <td>106519</td>\n      <td>1</td>\n    </tr>\n    <tr>\n      <th>...</th>\n      <td>...</td>\n      <td>...</td>\n      <td>...</td>\n      <td>...</td>\n      <td>...</td>\n    </tr>\n    <tr>\n      <th>2170</th>\n      <td>PL</td>\n      <td>Zielonka</td>\n      <td>Zielonka</td>\n      <td>97764</td>\n      <td>1</td>\n    </tr>\n    <tr>\n      <th>2171</th>\n      <td>PL</td>\n      <td>Złoty Potok</td>\n      <td>Złoty Potok</td>\n      <td>132849</td>\n      <td>1</td>\n    </tr>\n    <tr>\n      <th>2172</th>\n      <td>PL</td>\n      <td>Żory</td>\n      <td>Żory</td>\n      <td>48221</td>\n      <td>1</td>\n    </tr>\n    <tr>\n      <th>2173</th>\n      <td>PL</td>\n      <td>Żyrardów</td>\n      <td>Żyrardów</td>\n      <td>45330</td>\n      <td>1</td>\n    </tr>\n    <tr>\n      <th>2174</th>\n      <td>PL</td>\n      <td>Żywiec</td>\n      <td>Żywiec</td>\n      <td>71244</td>\n      <td>1</td>\n    </tr>\n  </tbody>\n</table>\n<p>175 rows × 5 columns</p>\n</div>",
      "text/plain": "     country            name            city   count  locations\n2000      PL        Augustów        Augustów   87721          2\n2001      PL           Belsk           Belsk   32105          1\n2002      PL      Belsk Duży      Belsk Duży   86602          1\n2003      PL           Biała           Biała   27538          1\n2004      PL  Biała Podlaska  Biała Podlaska  106519          1\n...      ...             ...             ...     ...        ...\n2170      PL        Zielonka        Zielonka   97764          1\n2171      PL     Złoty Potok     Złoty Potok  132849          1\n2172      PL            Żory            Żory   48221          1\n2173      PL        Żyrardów        Żyrardów   45330          1\n2174      PL          Żywiec          Żywiec   71244          1\n\n[175 rows x 5 columns]"
     },
     "execution_count": 7,
     "metadata": {},
     "output_type": "execute_result"
    }
   ],
   "source": [
    "api = openaq.OpenAQ()\r\n",
    "resp = api.cities(df=True, limit=10000)\r\n",
    "\r\n",
    "# display the first 10 rows\r\n",
    "resp.query(\"country == 'PL'\")"
   ]
  },
  {
   "cell_type": "code",
   "execution_count": 72,
   "metadata": {},
   "outputs": [],
   "source": [
    "CITIES = [\"Warszawa\", \"Kraków\", \"Poznań\", \"Katowice\", \"Białystok\", \"Elbląg\"]"
   ]
  },
  {
   "cell_type": "code",
   "execution_count": null,
   "metadata": {},
   "outputs": [],
   "source": [
    "LOCATIONS = [\"Warszawa-Śródmieście\", \"Kraków-\", \"Poznań\", \"Katowice\", \"Białystok-Miejska\", \"WIOŚ Elbląg ul. Bażyńskiego\"]"
   ]
  },
  {
   "cell_type": "code",
   "execution_count": 58,
   "metadata": {},
   "outputs": [
    {
     "data": {
      "text/plain": "array(['so2', 'o3', 'co', 'no2', 'pm10', 'pm25', 'bc'], dtype=object)"
     },
     "execution_count": 58,
     "metadata": {},
     "output_type": "execute_result"
    }
   ],
   "source": [
    "res = api.measurements(city=\"Warszawa\", limit=100, df=True)\r\n",
    "res.parameter.unique()"
   ]
  },
  {
   "cell_type": "code",
   "execution_count": 66,
   "metadata": {},
   "outputs": [],
   "source": [
    "PARAMETERS = ['pm25', 'pm10', 'no2', 'so2', 'o3', 'co']"
   ]
  },
  {
   "cell_type": "code",
   "execution_count": 88,
   "metadata": {},
   "outputs": [],
   "source": [
    "import unicodedata\r\n",
    "\r\n",
    "def strip_accents(text):\r\n",
    "    return ''.join(c for c in unicodedata.normalize('NFKD', text.lower().replace(\"ł\",\"l\")) if unicodedata.category(c) != 'Mn')\r\n"
   ]
  },
  {
   "cell_type": "code",
   "execution_count": 120,
   "metadata": {},
   "outputs": [],
   "source": [
    "res = api.locations(city=\"Warszawa\", df=True)\r\n",
    "\r\n",
    "res.iloc[0].location\r\n",
    "res = api.measurements(city=\"Warszawa\", location=\"Warszawa-Ursynów\", df=True)"
   ]
  },
  {
   "cell_type": "code",
   "execution_count": 133,
   "metadata": {},
   "outputs": [
    {
     "name": "stdout",
     "output_type": "stream",
     "text": [
      "True\n",
      "True\n",
      "True\n",
      "True\n",
      "True\n",
      "True\n"
     ]
    }
   ],
   "source": [
    "def check_params():\r\n",
    "    return all(param in res.parameter.unique() for param in PARAMETERS) \r\n",
    "\r\n",
    "dfs = {}\r\n",
    "\r\n",
    "for city in CITIES:\r\n",
    "    # res = api.locations(city=\"Warszawa\", df=True)\r\n",
    "\r\n",
    "]\r\n",
    "    res = api.measurements(city=city,limit=100, df=True)\r\n",
    "    print(check_params())\r\n",
    "    if check_params():\r\n",
    "\r\n",
    "        dfs[strip_accents(city)] = res\r\n"
   ]
  },
  {
   "cell_type": "code",
   "execution_count": 176,
   "metadata": {},
   "outputs": [
    {
     "data": {
      "text/plain": "array(['Poznan-Dabrowskiego', 'Poznań - RatajeMOB', 'Poznan-Polanka'],\n      dtype=object)"
     },
     "execution_count": 176,
     "metadata": {},
     "output_type": "execute_result"
    }
   ],
   "source": [
    "dfs[\"poznan\"].location.unique()"
   ]
  },
  {
   "cell_type": "code",
   "execution_count": 180,
   "metadata": {},
   "outputs": [
    {
     "data": {
      "text/plain": "False"
     },
     "execution_count": 180,
     "metadata": {},
     "output_type": "execute_result"
    }
   ],
   "source": [
    "params = dfs[\"poznan\"].loc[dfs[\"poznan\"][\"location\"] == \"Poznan-Polanka\"][\"parameter\"].unique()\r\n",
    "all(param in params for param in PARAMETERS)"
   ]
  }
 ],
 "metadata": {
  "kernelspec": {
   "display_name": "Python 3.8.2 64-bit ('.venv')",
   "metadata": {
    "interpreter": {
     "hash": "c72aa234833b301e2f3682b00c720ead16def47389b468b3b25c2ea5dfc1217d"
    }
   },
   "name": "python3"
  },
  "language_info": {
   "codemirror_mode": {
    "name": "ipython",
    "version": 3
   },
   "file_extension": ".py",
   "mimetype": "text/x-python",
   "name": "python",
   "nbconvert_exporter": "python",
   "pygments_lexer": "ipython3",
   "version": "3.8.2"
  },
  "orig_nbformat": 2
 },
 "nbformat": 4,
 "nbformat_minor": 2
}