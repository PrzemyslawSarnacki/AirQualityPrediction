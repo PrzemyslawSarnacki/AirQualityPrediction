{
  "nbformat": 4,
  "nbformat_minor": 0,
  "metadata": {
    "kernelspec": {
      "display_name": "Python 3.8.2 64-bit ('.venv')",
      "metadata": {
        "interpreter": {
          "hash": "c72aa234833b301e2f3682b00c720ead16def47389b468b3b25c2ea5dfc1217d"
        }
      },
      "name": "python3"
    },
    "language_info": {
      "codemirror_mode": {
        "name": "ipython",
        "version": 3
      },
      "file_extension": ".py",
      "mimetype": "text/x-python",
      "name": "python",
      "nbconvert_exporter": "python",
      "pygments_lexer": "ipython3",
      "version": "3.8.2-final"
    },
    "orig_nbformat": 2,
    "colab": {
      "name": "update_data.ipynb",
      "provenance": []
    }
  },
  "cells": [
    {
      "cell_type": "markdown",
      "metadata": {
        "id": "4skL1KxS0OTY"
      },
      "source": [
        "<a href=\"https://colab.research.google.com/github/PrzemyslawSarnacki/AirQualityPrediction/blob/master/update_data.ipynb\" target=\"_parent\">\r\n",
        "  <img src=\"https://colab.research.google.com/assets/colab-badge.svg\" alt=\"Open In Colab\"/>\r\n",
        "</a> "
      ]
    },
    {
      "cell_type": "code",
      "metadata": {
        "id": "BSbGYjHN0OTi",
        "outputId": "3cae31d8-f08e-4cff-cacc-da4a0042b55e",
        "colab": {
          "base_uri": "https://localhost:8080/"
        }
      },
      "source": [
        "!pip install py-openaq"
      ],
      "execution_count": 1,
      "outputs": [
        {
          "output_type": "stream",
          "text": [
            "Collecting py-openaq\n",
            "  Downloading https://files.pythonhosted.org/packages/28/8f/80d874a1ea7abee6c788cc6e33fc2ef982be82a9d30156c4ac122ac0ffe2/py-openaq-1.1.0.tar.gz\n",
            "Building wheels for collected packages: py-openaq\n",
            "  Building wheel for py-openaq (setup.py) ... \u001b[?25l\u001b[?25hdone\n",
            "  Created wheel for py-openaq: filename=py_openaq-1.1.0-cp36-none-any.whl size=9039 sha256=33a1d19ed9c28841a7640fe57ea29f8ad14618a903b8aff112a6f858e342d492\n",
            "  Stored in directory: /root/.cache/pip/wheels/d1/0a/63/debef9801434e608f1a1b7c3dc5a2d508b293d76c4eefba481\n",
            "Successfully built py-openaq\n",
            "Installing collected packages: py-openaq\n",
            "Successfully installed py-openaq-1.1.0\n"
          ],
          "name": "stdout"
        }
      ]
    },
    {
      "cell_type": "code",
      "metadata": {
        "tags": [],
        "id": "-EiQ1I1I0OTj"
      },
      "source": [
        "import pandas as pd\r\n",
        "import seaborn as sns\r\n",
        "import matplotlib as mpl\r\n",
        "import matplotlib.pyplot as plt\r\n",
        "import openaq\r\n",
        "import warnings\r\n",
        "from datetime import timedelta\r\n",
        "\r\n",
        "warnings.simplefilter('ignore')\r\n",
        "\r\n",
        "%matplotlib inline\r\n",
        "\r\n",
        "# Set major seaborn asthetics\r\n",
        "sns.set(\"notebook\", style='ticks', font_scale=1.0)\r\n",
        "\r\n",
        "# Increase the quality of inline plots\r\n",
        "mpl.rcParams['figure.dpi']= 500\r\n"
      ],
      "execution_count": 2,
      "outputs": []
    },
    {
      "cell_type": "code",
      "metadata": {
        "id": "IJxXUG8F0OTk",
        "outputId": "f17ea88d-f9e7-44a9-d2f9-13ea86971d68",
        "colab": {
          "base_uri": "https://localhost:8080/",
          "height": 419
        }
      },
      "source": [
        "api = openaq.OpenAQ()\r\n",
        "resp = api.cities(df=True, limit=10000)\r\n",
        "\r\n",
        "# display the first 10 rows\r\n",
        "resp.query(\"country == 'PL'\")"
      ],
      "execution_count": 3,
      "outputs": [
        {
          "output_type": "execute_result",
          "data": {
            "text/html": [
              "<div>\n",
              "<style scoped>\n",
              "    .dataframe tbody tr th:only-of-type {\n",
              "        vertical-align: middle;\n",
              "    }\n",
              "\n",
              "    .dataframe tbody tr th {\n",
              "        vertical-align: top;\n",
              "    }\n",
              "\n",
              "    .dataframe thead th {\n",
              "        text-align: right;\n",
              "    }\n",
              "</style>\n",
              "<table border=\"1\" class=\"dataframe\">\n",
              "  <thead>\n",
              "    <tr style=\"text-align: right;\">\n",
              "      <th></th>\n",
              "      <th>country</th>\n",
              "      <th>name</th>\n",
              "      <th>city</th>\n",
              "      <th>count</th>\n",
              "      <th>locations</th>\n",
              "    </tr>\n",
              "  </thead>\n",
              "  <tbody>\n",
              "    <tr>\n",
              "      <th>151</th>\n",
              "      <td>PL</td>\n",
              "      <td>Augustów</td>\n",
              "      <td>Augustów</td>\n",
              "      <td>161132871.0</td>\n",
              "      <td>2</td>\n",
              "    </tr>\n",
              "    <tr>\n",
              "      <th>223</th>\n",
              "      <td>PL</td>\n",
              "      <td>Belsk</td>\n",
              "      <td>Belsk</td>\n",
              "      <td>21770.0</td>\n",
              "      <td>1</td>\n",
              "    </tr>\n",
              "    <tr>\n",
              "      <th>224</th>\n",
              "      <td>PL</td>\n",
              "      <td>Belsk Duży</td>\n",
              "      <td>Belsk Duży</td>\n",
              "      <td>125822709.0</td>\n",
              "      <td>2</td>\n",
              "    </tr>\n",
              "    <tr>\n",
              "      <th>248</th>\n",
              "      <td>PL</td>\n",
              "      <td>Biała</td>\n",
              "      <td>Biała</td>\n",
              "      <td>94279227.0</td>\n",
              "      <td>1</td>\n",
              "    </tr>\n",
              "    <tr>\n",
              "      <th>249</th>\n",
              "      <td>PL</td>\n",
              "      <td>Biała Podlaska</td>\n",
              "      <td>Biała Podlaska</td>\n",
              "      <td>128518539.0</td>\n",
              "      <td>1</td>\n",
              "    </tr>\n",
              "    <tr>\n",
              "      <th>...</th>\n",
              "      <td>...</td>\n",
              "      <td>...</td>\n",
              "      <td>...</td>\n",
              "      <td>...</td>\n",
              "      <td>...</td>\n",
              "    </tr>\n",
              "    <tr>\n",
              "      <th>2449</th>\n",
              "      <td>PL</td>\n",
              "      <td>Zielonka</td>\n",
              "      <td>Zielonka</td>\n",
              "      <td>158649172.0</td>\n",
              "      <td>1</td>\n",
              "    </tr>\n",
              "    <tr>\n",
              "      <th>2454</th>\n",
              "      <td>PL</td>\n",
              "      <td>Złoty Potok</td>\n",
              "      <td>Złoty Potok</td>\n",
              "      <td>184236679.0</td>\n",
              "      <td>1</td>\n",
              "    </tr>\n",
              "    <tr>\n",
              "      <th>2456</th>\n",
              "      <td>PL</td>\n",
              "      <td>Żory</td>\n",
              "      <td>Żory</td>\n",
              "      <td>63993420.0</td>\n",
              "      <td>1</td>\n",
              "    </tr>\n",
              "    <tr>\n",
              "      <th>2458</th>\n",
              "      <td>PL</td>\n",
              "      <td>Żyrardów</td>\n",
              "      <td>Żyrardów</td>\n",
              "      <td>64404821.0</td>\n",
              "      <td>2</td>\n",
              "    </tr>\n",
              "    <tr>\n",
              "      <th>2459</th>\n",
              "      <td>PL</td>\n",
              "      <td>Żywiec</td>\n",
              "      <td>Żywiec</td>\n",
              "      <td>119365612.0</td>\n",
              "      <td>1</td>\n",
              "    </tr>\n",
              "  </tbody>\n",
              "</table>\n",
              "<p>193 rows × 5 columns</p>\n",
              "</div>"
            ],
            "text/plain": [
              "     country            name            city        count  locations\n",
              "151       PL        Augustów        Augustów  161132871.0          2\n",
              "223       PL           Belsk           Belsk      21770.0          1\n",
              "224       PL      Belsk Duży      Belsk Duży  125822709.0          2\n",
              "248       PL           Biała           Biała   94279227.0          1\n",
              "249       PL  Biała Podlaska  Biała Podlaska  128518539.0          1\n",
              "...      ...             ...             ...          ...        ...\n",
              "2449      PL        Zielonka        Zielonka  158649172.0          1\n",
              "2454      PL     Złoty Potok     Złoty Potok  184236679.0          1\n",
              "2456      PL            Żory            Żory   63993420.0          1\n",
              "2458      PL        Żyrardów        Żyrardów   64404821.0          2\n",
              "2459      PL          Żywiec          Żywiec  119365612.0          1\n",
              "\n",
              "[193 rows x 5 columns]"
            ]
          },
          "metadata": {
            "tags": []
          },
          "execution_count": 3
        }
      ]
    },
    {
      "cell_type": "code",
      "metadata": {
        "id": "-so5i6MT0OTm"
      },
      "source": [
        "CITIES = [\"Warszawa\", \"Kraków\", \"Poznań\", \"Katowice\", \"Białystok\"]\r\n",
        "PARAMETERS = ['pm25', 'pm10', 'no2', 'so2', 'o3', 'co']\r\n",
        "LOCATIONS = [\"Warszawa-Śródmieście\", \"Kraków-\", \"Poznań\", \"Katowice\", \"Białystok-Miejska\", \"WIOŚ Elbląg ul. Bażyńskiego\"]"
      ],
      "execution_count": 4,
      "outputs": []
    },
    {
      "cell_type": "code",
      "metadata": {
        "id": "14xxod0w0OTn"
      },
      "source": [
        "import unicodedata\r\n",
        "\r\n",
        "def strip_accents(text):\r\n",
        "    return ''.join(c for c in unicodedata.normalize('NFKD', text.lower().replace(\"ł\",\"l\")) if unicodedata.category(c) != 'Mn')\r\n"
      ],
      "execution_count": 5,
      "outputs": []
    },
    {
      "cell_type": "code",
      "metadata": {
        "id": "t1TfqRns0bvU"
      },
      "source": [
        "data = {}\r\n",
        "indices = [\"\"] + [f\".{i}\" for i in range(1, 6)]\r\n",
        "\r\n",
        "df = pd.read_csv(\"https://raw.githubusercontent.com/PrzemyslawSarnacki/AirQualityPrediction/master/data/airq_data_2.csv\", index_col=0, parse_dates=True)\r\n",
        "\r\n",
        "for city in CITIES:\r\n",
        "    data[strip_accents(city)] = pd.DataFrame(df, columns=[f\"{strip_accents(city)}{item}\" for item in indices])\r\n",
        "    data[strip_accents(city)] = data[strip_accents(city)].rename(columns=data[strip_accents(city)].iloc[0]).drop(data[strip_accents(city)].index[0])\r\n",
        "    data[strip_accents(city)] = data[strip_accents(city)].astype(float).interpolate(method=\"linear\")\r\n",
        "    data[strip_accents(city)].index = pd.to_datetime(data[strip_accents(city)].index)\r\n",
        "\r\n",
        "for city in CITIES:\r\n",
        "  helper_df = pd.DataFrame()\r\n",
        "  for param in PARAMETERS:\r\n",
        "    last_date = data[strip_accents(city)].index[-1] + timedelta(days=1) \r\n",
        "    last_date_str = last_date.strftime(\"%Y-%m-%d\")\r\n",
        "    res = api.measurements(city=city, parameter=param, date_from=last_date_str, limit=100000, df=True)\r\n",
        "    helper_df[param] = res.resample('D').mean()[\"value\"]\r\n",
        "  data[strip_accents(city)] = data[strip_accents(city)].append(helper_df)\r\n",
        "\r\n",
        "output = pd.concat([data[strip_accents(city)] for city in CITIES], axis=1, keys=[strip_accents(city) for city in CITIES])\r\n",
        "output.to_csv(\"airq_data_2.csv\")"
      ],
      "execution_count": 6,
      "outputs": []
    }
  ]
}