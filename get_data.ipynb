{
  "nbformat": 4,
  "nbformat_minor": 0,
  "metadata": {
    "kernelspec": {
      "display_name": "Python 3.8.2 64-bit ('.venv')",
      "metadata": {
        "interpreter": {
          "hash": "c72aa234833b301e2f3682b00c720ead16def47389b468b3b25c2ea5dfc1217d"
        }
      },
      "name": "python3"
    },
    "language_info": {
      "codemirror_mode": {
        "name": "ipython",
        "version": 3
      },
      "file_extension": ".py",
      "mimetype": "text/x-python",
      "name": "python",
      "nbconvert_exporter": "python",
      "pygments_lexer": "ipython3",
      "version": "3.8.2-final"
    },
    "orig_nbformat": 2,
    "colab": {
      "name": "get_data.ipynb",
      "provenance": [],
      "toc_visible": true
    }
  },
  "cells": [
    {
      "cell_type": "markdown",
      "metadata": {
        "id": "-seGOyyPI2kD"
      },
      "source": [
        "<a href=\"https://colab.research.google.com/github/PrzemyslawSarnacki/AirQualityPrediction/blob/master/get_data.ipynb\" target=\"_parent\">\r\n",
        "  <img src=\"https://colab.research.google.com/assets/colab-badge.svg\" alt=\"Open In Colab\"/>\r\n",
        "</a> "
      ]
    },
    {
      "cell_type": "code",
      "metadata": {
        "id": "KwQ5CN1wI2kR",
        "outputId": "3c03f758-a140-4fdf-f201-f252dbeab219",
        "colab": {
          "base_uri": "https://localhost:8080/"
        }
      },
      "source": [
        "!pip install py-openaq"
      ],
      "execution_count": 3,
      "outputs": [
        {
          "output_type": "stream",
          "text": [
            "Requirement already satisfied: py-openaq in /usr/local/lib/python3.6/dist-packages (1.1.0)\n"
          ],
          "name": "stdout"
        }
      ]
    },
    {
      "cell_type": "code",
      "metadata": {
        "tags": [],
        "id": "C_EzYB4pI2kT"
      },
      "source": [
        "import pandas as pd\r\n",
        "import seaborn as sns\r\n",
        "import matplotlib as mpl\r\n",
        "import matplotlib.pyplot as plt\r\n",
        "import openaq\r\n",
        "import warnings\r\n",
        "\r\n",
        "warnings.simplefilter('ignore')\r\n",
        "\r\n",
        "%matplotlib inline\r\n",
        "\r\n",
        "# Set major seaborn asthetics\r\n",
        "sns.set(\"notebook\", style='ticks', font_scale=1.0)\r\n",
        "\r\n",
        "# Increase the quality of inline plots\r\n",
        "mpl.rcParams['figure.dpi']= 500\r\n"
      ],
      "execution_count": 4,
      "outputs": []
    },
    {
      "cell_type": "code",
      "metadata": {
        "id": "L--mGrH1I2kU",
        "outputId": "49edbc35-1919-4cab-b043-97406616bf00",
        "colab": {
          "base_uri": "https://localhost:8080/",
          "height": 419
        }
      },
      "source": [
        "api = openaq.OpenAQ()\r\n",
        "resp = api.cities(df=True, limit=10000)\r\n",
        "\r\n",
        "# display the first 10 rows\r\n",
        "resp.query(\"country == 'PL'\")"
      ],
      "execution_count": 5,
      "outputs": [
        {
          "output_type": "execute_result",
          "data": {
            "text/html": [
              "<div>\n",
              "<style scoped>\n",
              "    .dataframe tbody tr th:only-of-type {\n",
              "        vertical-align: middle;\n",
              "    }\n",
              "\n",
              "    .dataframe tbody tr th {\n",
              "        vertical-align: top;\n",
              "    }\n",
              "\n",
              "    .dataframe thead th {\n",
              "        text-align: right;\n",
              "    }\n",
              "</style>\n",
              "<table border=\"1\" class=\"dataframe\">\n",
              "  <thead>\n",
              "    <tr style=\"text-align: right;\">\n",
              "      <th></th>\n",
              "      <th>country</th>\n",
              "      <th>name</th>\n",
              "      <th>city</th>\n",
              "      <th>count</th>\n",
              "      <th>locations</th>\n",
              "    </tr>\n",
              "  </thead>\n",
              "  <tbody>\n",
              "    <tr>\n",
              "      <th>151</th>\n",
              "      <td>PL</td>\n",
              "      <td>Augustów</td>\n",
              "      <td>Augustów</td>\n",
              "      <td>161132871.0</td>\n",
              "      <td>2</td>\n",
              "    </tr>\n",
              "    <tr>\n",
              "      <th>223</th>\n",
              "      <td>PL</td>\n",
              "      <td>Belsk</td>\n",
              "      <td>Belsk</td>\n",
              "      <td>21770.0</td>\n",
              "      <td>1</td>\n",
              "    </tr>\n",
              "    <tr>\n",
              "      <th>224</th>\n",
              "      <td>PL</td>\n",
              "      <td>Belsk Duży</td>\n",
              "      <td>Belsk Duży</td>\n",
              "      <td>125822709.0</td>\n",
              "      <td>2</td>\n",
              "    </tr>\n",
              "    <tr>\n",
              "      <th>248</th>\n",
              "      <td>PL</td>\n",
              "      <td>Biała</td>\n",
              "      <td>Biała</td>\n",
              "      <td>94279227.0</td>\n",
              "      <td>1</td>\n",
              "    </tr>\n",
              "    <tr>\n",
              "      <th>249</th>\n",
              "      <td>PL</td>\n",
              "      <td>Biała Podlaska</td>\n",
              "      <td>Biała Podlaska</td>\n",
              "      <td>128518539.0</td>\n",
              "      <td>1</td>\n",
              "    </tr>\n",
              "    <tr>\n",
              "      <th>...</th>\n",
              "      <td>...</td>\n",
              "      <td>...</td>\n",
              "      <td>...</td>\n",
              "      <td>...</td>\n",
              "      <td>...</td>\n",
              "    </tr>\n",
              "    <tr>\n",
              "      <th>2449</th>\n",
              "      <td>PL</td>\n",
              "      <td>Zielonka</td>\n",
              "      <td>Zielonka</td>\n",
              "      <td>158649172.0</td>\n",
              "      <td>1</td>\n",
              "    </tr>\n",
              "    <tr>\n",
              "      <th>2454</th>\n",
              "      <td>PL</td>\n",
              "      <td>Złoty Potok</td>\n",
              "      <td>Złoty Potok</td>\n",
              "      <td>184236679.0</td>\n",
              "      <td>1</td>\n",
              "    </tr>\n",
              "    <tr>\n",
              "      <th>2456</th>\n",
              "      <td>PL</td>\n",
              "      <td>Żory</td>\n",
              "      <td>Żory</td>\n",
              "      <td>63993420.0</td>\n",
              "      <td>1</td>\n",
              "    </tr>\n",
              "    <tr>\n",
              "      <th>2458</th>\n",
              "      <td>PL</td>\n",
              "      <td>Żyrardów</td>\n",
              "      <td>Żyrardów</td>\n",
              "      <td>64404821.0</td>\n",
              "      <td>2</td>\n",
              "    </tr>\n",
              "    <tr>\n",
              "      <th>2459</th>\n",
              "      <td>PL</td>\n",
              "      <td>Żywiec</td>\n",
              "      <td>Żywiec</td>\n",
              "      <td>119365612.0</td>\n",
              "      <td>1</td>\n",
              "    </tr>\n",
              "  </tbody>\n",
              "</table>\n",
              "<p>193 rows × 5 columns</p>\n",
              "</div>"
            ],
            "text/plain": [
              "     country            name            city        count  locations\n",
              "151       PL        Augustów        Augustów  161132871.0          2\n",
              "223       PL           Belsk           Belsk      21770.0          1\n",
              "224       PL      Belsk Duży      Belsk Duży  125822709.0          2\n",
              "248       PL           Biała           Biała   94279227.0          1\n",
              "249       PL  Biała Podlaska  Biała Podlaska  128518539.0          1\n",
              "...      ...             ...             ...          ...        ...\n",
              "2449      PL        Zielonka        Zielonka  158649172.0          1\n",
              "2454      PL     Złoty Potok     Złoty Potok  184236679.0          1\n",
              "2456      PL            Żory            Żory   63993420.0          1\n",
              "2458      PL        Żyrardów        Żyrardów   64404821.0          2\n",
              "2459      PL          Żywiec          Żywiec  119365612.0          1\n",
              "\n",
              "[193 rows x 5 columns]"
            ]
          },
          "metadata": {
            "tags": []
          },
          "execution_count": 5
        }
      ]
    },
    {
      "cell_type": "code",
      "metadata": {
        "id": "Guad8XmtI2kZ"
      },
      "source": [
        "CITIES = [\"Warszawa\", \"Kraków\", \"Poznań\", \"Katowice\", \"Białystok\"]\r\n",
        "PARAMETERS = ['pm25', 'pm10', 'no2', 'so2', 'o3', 'co']\r\n",
        "LOCATIONS = [\"Warszawa-Śródmieście\", \"Kraków-\", \"Poznań\", \"Katowice\", \"Białystok-Miejska\", \"WIOŚ Elbląg ul. Bażyńskiego\"]"
      ],
      "execution_count": 28,
      "outputs": []
    },
    {
      "cell_type": "code",
      "metadata": {
        "id": "hu0SGzVLI2ka"
      },
      "source": [
        "import unicodedata\r\n",
        "\r\n",
        "def strip_accents(text):\r\n",
        "    return ''.join(c for c in unicodedata.normalize('NFKD', text.lower().replace(\"ł\",\"l\")) if unicodedata.category(c) != 'Mn')\r\n"
      ],
      "execution_count": 29,
      "outputs": []
    },
    {
      "cell_type": "code",
      "metadata": {
        "id": "o78jSymoI2kb"
      },
      "source": [
        "def check_params():\r\n",
        "    return all(param in res.parameter.unique() for param in PARAMETERS) \r\n",
        "\r\n",
        "dfs = {}\r\n",
        "\r\n",
        "for city in CITIES:\r\n",
        "    print(city)\r\n",
        "    dfs[strip_accents(city)] = pd.DataFrame()\r\n",
        "    for page in range(1, 25):\r\n",
        "        if (city == \"Katowice\" or city == \"Poznań\" ) and page > 15:\r\n",
        "            continue\r\n",
        "        if city == \"Białystok\" and page > 12:\r\n",
        "            continue\r\n",
        "        res = api.measurements(city=city, page=page, limit=10000, df=True)\r\n",
        "        print(check_params())\r\n",
        "        if check_params():\r\n",
        "            dfs[strip_accents(city)] = dfs[strip_accents(city)].append(res)\r\n"
      ],
      "execution_count": null,
      "outputs": []
    },
    {
      "cell_type": "code",
      "metadata": {
        "id": "3N90JmLZI2kc"
      },
      "source": [
        "dfs[\"bialystok\"].head()"
      ],
      "execution_count": null,
      "outputs": []
    },
    {
      "cell_type": "code",
      "metadata": {
        "id": "3CvHjghII2kd"
      },
      "source": [
        "organized_dfs = {}\r\n",
        "\r\n",
        "for city in CITIES:    \r\n",
        "    df_avg = pd.DataFrame()\r\n",
        "    for param in PARAMETERS:\r\n",
        "        df_avg[param] = dfs[strip_accents(city)].loc[dfs[strip_accents(city)][\"parameter\"] == param].resample('D').mean()[\"value\"]\r\n",
        "        organized_dfs[strip_accents(city)] = df_avg\r\n",
        "        "
      ],
      "execution_count": null,
      "outputs": []
    },
    {
      "cell_type": "code",
      "metadata": {
        "id": "yNkqBuakI2kd"
      },
      "source": [
        "output = pd.concat([organized_dfs[strip_accents(city)] for city in CITIES], axis=1, keys=[strip_accents(city) for city in CITIES])"
      ],
      "execution_count": null,
      "outputs": []
    },
    {
      "cell_type": "code",
      "metadata": {
        "id": "UutF5tTZI2ke"
      },
      "source": [
        "output.to_csv(\"data/airq_data_1.csv\")"
      ],
      "execution_count": null,
      "outputs": []
    },
    {
      "cell_type": "markdown",
      "metadata": {
        "id": "r2BBhlFuhs24"
      },
      "source": [
        "# Uzupełnienie danych"
      ]
    },
    {
      "cell_type": "code",
      "metadata": {
        "id": "m7eDtoDahsBH"
      },
      "source": [
        "import pandas as pd\r\n",
        "\r\n",
        "df = pd.read_csv(\"https://raw.githubusercontent.com/PrzemyslawSarnacki/AirQualityPrediction/master/data/airq_data_1.csv\", index_col=0, parse_dates=True)\r\n",
        "\r\n",
        "data = {}\r\n",
        "indices = [\"\"] + [f\".{i}\" for i in range(1, 6)]\r\n",
        "\r\n",
        "# fill columns with data\r\n",
        "for city in CITIES:\r\n",
        "    data[strip_accents(city)] = pd.DataFrame(df, columns=[f\"{strip_accents(city)}{item}\" for item in indices])\r\n",
        "    data[strip_accents(city)] = data[strip_accents(city)].rename(columns=data[strip_accents(city)].iloc[0]).drop(data[strip_accents(city)].index[0])\r\n",
        "    data[strip_accents(city)] = data[strip_accents(city)].drop(index=\"date.local\").astype(float).interpolate(method=\"linear\")\r\n",
        "    data[strip_accents(city)].index = pd.to_datetime(data[strip_accents(city)].index)"
      ],
      "execution_count": 34,
      "outputs": []
    },
    {
      "cell_type": "code",
      "metadata": {
        "id": "w6NTkEG7iGV-",
        "outputId": "8d2efff7-b5d9-4617-aaf2-71da1cd68c11",
        "colab": {
          "base_uri": "https://localhost:8080/",
          "height": 419
        }
      },
      "source": [
        "data[\"warszawa\"].head(263)"
      ],
      "execution_count": 72,
      "outputs": [
        {
          "output_type": "execute_result",
          "data": {
            "text/html": [
              "<div>\n",
              "<style scoped>\n",
              "    .dataframe tbody tr th:only-of-type {\n",
              "        vertical-align: middle;\n",
              "    }\n",
              "\n",
              "    .dataframe tbody tr th {\n",
              "        vertical-align: top;\n",
              "    }\n",
              "\n",
              "    .dataframe thead th {\n",
              "        text-align: right;\n",
              "    }\n",
              "</style>\n",
              "<table border=\"1\" class=\"dataframe\">\n",
              "  <thead>\n",
              "    <tr style=\"text-align: right;\">\n",
              "      <th></th>\n",
              "      <th>pm25</th>\n",
              "      <th>pm10</th>\n",
              "      <th>no2</th>\n",
              "      <th>so2</th>\n",
              "      <th>o3</th>\n",
              "      <th>co</th>\n",
              "    </tr>\n",
              "  </thead>\n",
              "  <tbody>\n",
              "    <tr>\n",
              "      <th>2018-11-21</th>\n",
              "      <td>NaN</td>\n",
              "      <td>NaN</td>\n",
              "      <td>NaN</td>\n",
              "      <td>NaN</td>\n",
              "      <td>NaN</td>\n",
              "      <td>NaN</td>\n",
              "    </tr>\n",
              "    <tr>\n",
              "      <th>2018-11-22</th>\n",
              "      <td>NaN</td>\n",
              "      <td>NaN</td>\n",
              "      <td>NaN</td>\n",
              "      <td>NaN</td>\n",
              "      <td>NaN</td>\n",
              "      <td>NaN</td>\n",
              "    </tr>\n",
              "    <tr>\n",
              "      <th>2018-11-23</th>\n",
              "      <td>NaN</td>\n",
              "      <td>NaN</td>\n",
              "      <td>NaN</td>\n",
              "      <td>NaN</td>\n",
              "      <td>NaN</td>\n",
              "      <td>NaN</td>\n",
              "    </tr>\n",
              "    <tr>\n",
              "      <th>2018-11-24</th>\n",
              "      <td>NaN</td>\n",
              "      <td>NaN</td>\n",
              "      <td>NaN</td>\n",
              "      <td>NaN</td>\n",
              "      <td>NaN</td>\n",
              "      <td>NaN</td>\n",
              "    </tr>\n",
              "    <tr>\n",
              "      <th>2018-11-25</th>\n",
              "      <td>NaN</td>\n",
              "      <td>NaN</td>\n",
              "      <td>NaN</td>\n",
              "      <td>NaN</td>\n",
              "      <td>NaN</td>\n",
              "      <td>NaN</td>\n",
              "    </tr>\n",
              "    <tr>\n",
              "      <th>...</th>\n",
              "      <td>...</td>\n",
              "      <td>...</td>\n",
              "      <td>...</td>\n",
              "      <td>...</td>\n",
              "      <td>...</td>\n",
              "      <td>...</td>\n",
              "    </tr>\n",
              "    <tr>\n",
              "      <th>2019-08-06</th>\n",
              "      <td>NaN</td>\n",
              "      <td>NaN</td>\n",
              "      <td>NaN</td>\n",
              "      <td>NaN</td>\n",
              "      <td>NaN</td>\n",
              "      <td>NaN</td>\n",
              "    </tr>\n",
              "    <tr>\n",
              "      <th>2019-08-07</th>\n",
              "      <td>NaN</td>\n",
              "      <td>NaN</td>\n",
              "      <td>NaN</td>\n",
              "      <td>NaN</td>\n",
              "      <td>NaN</td>\n",
              "      <td>NaN</td>\n",
              "    </tr>\n",
              "    <tr>\n",
              "      <th>2019-08-08</th>\n",
              "      <td>NaN</td>\n",
              "      <td>NaN</td>\n",
              "      <td>NaN</td>\n",
              "      <td>NaN</td>\n",
              "      <td>NaN</td>\n",
              "      <td>NaN</td>\n",
              "    </tr>\n",
              "    <tr>\n",
              "      <th>2019-08-09</th>\n",
              "      <td>NaN</td>\n",
              "      <td>NaN</td>\n",
              "      <td>NaN</td>\n",
              "      <td>NaN</td>\n",
              "      <td>NaN</td>\n",
              "      <td>NaN</td>\n",
              "    </tr>\n",
              "    <tr>\n",
              "      <th>2019-08-10</th>\n",
              "      <td>NaN</td>\n",
              "      <td>NaN</td>\n",
              "      <td>NaN</td>\n",
              "      <td>NaN</td>\n",
              "      <td>NaN</td>\n",
              "      <td>NaN</td>\n",
              "    </tr>\n",
              "  </tbody>\n",
              "</table>\n",
              "<p>263 rows × 6 columns</p>\n",
              "</div>"
            ],
            "text/plain": [
              "            pm25  pm10  no2  so2  o3  co\n",
              "2018-11-21   NaN   NaN  NaN  NaN NaN NaN\n",
              "2018-11-22   NaN   NaN  NaN  NaN NaN NaN\n",
              "2018-11-23   NaN   NaN  NaN  NaN NaN NaN\n",
              "2018-11-24   NaN   NaN  NaN  NaN NaN NaN\n",
              "2018-11-25   NaN   NaN  NaN  NaN NaN NaN\n",
              "...          ...   ...  ...  ...  ..  ..\n",
              "2019-08-06   NaN   NaN  NaN  NaN NaN NaN\n",
              "2019-08-07   NaN   NaN  NaN  NaN NaN NaN\n",
              "2019-08-08   NaN   NaN  NaN  NaN NaN NaN\n",
              "2019-08-09   NaN   NaN  NaN  NaN NaN NaN\n",
              "2019-08-10   NaN   NaN  NaN  NaN NaN NaN\n",
              "\n",
              "[263 rows x 6 columns]"
            ]
          },
          "metadata": {
            "tags": []
          },
          "execution_count": 72
        }
      ]
    },
    {
      "cell_type": "code",
      "metadata": {
        "id": "YD7sdXHIiGKg"
      },
      "source": [
        "# Replace Nan values with missing data from date 2018-11-21 to 2019-08-10\r\n",
        "for city in CITIES:\r\n",
        "  for param in PARAMETERS:\r\n",
        "    res = api.measurements(city=city, parameter=param, date_from=\"2018-11-21\", date_to=\"2019-08-10\", limit=100000, df=True)\r\n",
        "    res.resample('D').mean()[\"value\"]\r\n",
        "    data[strip_accents(city)].head(263)[param] = res.resample('D').mean()[\"value\"]\r\n"
      ],
      "execution_count": null,
      "outputs": []
    },
    {
      "cell_type": "code",
      "metadata": {
        "id": "eOCRSaC3uIg2"
      },
      "source": [
        "output = pd.concat([data[strip_accents(city)] for city in CITIES], axis=1, keys=[strip_accents(city) for city in CITIES])\r\n",
        "output.to_csv(\"airq_data_2.csv\")"
      ],
      "execution_count": 151,
      "outputs": []
    },
    {
      "cell_type": "markdown",
      "metadata": {
        "id": "rd3DLUBp_kCX"
      },
      "source": [
        "# Aktualizacja nowych danych"
      ]
    },
    {
      "cell_type": "code",
      "metadata": {
        "id": "lh-utj_gyMY-"
      },
      "source": [
        "import pandas as pd\r\n",
        "from datetime import timedelta\r\n",
        "\r\n",
        "data = {}\r\n",
        "indices = [\"\"] + [f\".{i}\" for i in range(1, 6)]\r\n",
        "CITIES = [\"Warszawa\", \"Kraków\", \"Poznań\", \"Katowice\", \"Białystok\"]\r\n",
        "PARAMETERS = ['pm25', 'pm10', 'no2', 'so2', 'o3', 'co']\r\n",
        "\r\n",
        "import unicodedata\r\n",
        "\r\n",
        "def strip_accents(text):\r\n",
        "    return ''.join(c for c in unicodedata.normalize('NFKD', text.lower().replace(\"ł\",\"l\")) if unicodedata.category(c) != 'Mn')\r\n",
        "\r\n",
        "\r\n",
        "df = pd.read_csv(\"https://raw.githubusercontent.com/PrzemyslawSarnacki/AirQualityPrediction/master/data/airq_data_2.csv\", index_col=0, parse_dates=True)\r\n",
        "\r\n",
        "for city in CITIES:\r\n",
        "    data[strip_accents(city)] = pd.DataFrame(df, columns=[f\"{strip_accents(city)}{item}\" for item in indices])\r\n",
        "    data[strip_accents(city)] = data[strip_accents(city)].rename(columns=data[strip_accents(city)].iloc[0]).drop(data[strip_accents(city)].index[0])\r\n",
        "    data[strip_accents(city)] = data[strip_accents(city)].astype(float).interpolate(method=\"linear\")\r\n",
        "    data[strip_accents(city)].index = pd.to_datetime(data[strip_accents(city)].index)\r\n",
        "\r\n",
        "for city in CITIES:\r\n",
        "  helper_df = pd.DataFrame()\r\n",
        "  for param in PARAMETERS:\r\n",
        "    last_date = data[strip_accents(city)].index[-1] + timedelta(days=1) \r\n",
        "    last_date_str = last_date.strftime(\"%Y-%m-%d\")\r\n",
        "    res = api.measurements(city=city, parameter=param, date_from=last_date_str, limit=100000, df=True)\r\n",
        "    helper_df[param] = res.resample('D').mean()[\"value\"]\r\n",
        "  data[strip_accents(city)] = data[strip_accents(city)].append(helper_df)\r\n",
        "\r\n",
        "output = pd.concat([data[strip_accents(city)] for city in CITIES], axis=1, keys=[strip_accents(city) for city in CITIES])\r\n",
        "output.to_csv(\"airq_data_2.csv\")"
      ],
      "execution_count": 6,
      "outputs": []
    }
  ]
}