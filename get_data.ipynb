{
 "cells": [
  {
   "cell_type": "markdown",
   "metadata": {},
   "source": [
    "<a href=\"https://colab.research.google.com/github/PrzemyslawSarnacki/AirQualityPrediction/blob/master/PredictionNotebook.ipynb\" target=\"_parent\">\r\n",
    "  <img src=\"https://colab.research.google.com/assets/colab-badge.svg\" alt=\"Open In Colab\"/>\r\n",
    "</a> "
   ]
  },
  {
   "cell_type": "code",
   "execution_count": null,
   "metadata": {},
   "outputs": [],
   "source": [
    "!pip install py-openaq"
   ]
  },
  {
   "cell_type": "code",
   "execution_count": 3,
   "metadata": {
    "tags": []
   },
   "outputs": [],
   "source": [
    "import pandas as pd\r\n",
    "import seaborn as sns\r\n",
    "import matplotlib as mpl\r\n",
    "import matplotlib.pyplot as plt\r\n",
    "import openaq\r\n",
    "import warnings\r\n",
    "\r\n",
    "warnings.simplefilter('ignore')\r\n",
    "\r\n",
    "%matplotlib inline\r\n",
    "\r\n",
    "# Set major seaborn asthetics\r\n",
    "sns.set(\"notebook\", style='ticks', font_scale=1.0)\r\n",
    "\r\n",
    "# Increase the quality of inline plots\r\n",
    "mpl.rcParams['figure.dpi']= 500\r\n"
   ]
  },
  {
   "cell_type": "code",
   "execution_count": 4,
   "metadata": {},
   "outputs": [
    {
     "data": {
      "text/html": "<div>\n<style scoped>\n    .dataframe tbody tr th:only-of-type {\n        vertical-align: middle;\n    }\n\n    .dataframe tbody tr th {\n        vertical-align: top;\n    }\n\n    .dataframe thead th {\n        text-align: right;\n    }\n</style>\n<table border=\"1\" class=\"dataframe\">\n  <thead>\n    <tr style=\"text-align: right;\">\n      <th></th>\n      <th>country</th>\n      <th>name</th>\n      <th>city</th>\n      <th>count</th>\n      <th>locations</th>\n    </tr>\n  </thead>\n  <tbody>\n    <tr>\n      <th>2001</th>\n      <td>PL</td>\n      <td>Augustów</td>\n      <td>Augustów</td>\n      <td>88266</td>\n      <td>2</td>\n    </tr>\n    <tr>\n      <th>2002</th>\n      <td>PL</td>\n      <td>Belsk</td>\n      <td>Belsk</td>\n      <td>32105</td>\n      <td>1</td>\n    </tr>\n    <tr>\n      <th>2003</th>\n      <td>PL</td>\n      <td>Belsk Duży</td>\n      <td>Belsk Duży</td>\n      <td>87034</td>\n      <td>1</td>\n    </tr>\n    <tr>\n      <th>2004</th>\n      <td>PL</td>\n      <td>Biała</td>\n      <td>Biała</td>\n      <td>27573</td>\n      <td>1</td>\n    </tr>\n    <tr>\n      <th>2005</th>\n      <td>PL</td>\n      <td>Biała Podlaska</td>\n      <td>Biała Podlaska</td>\n      <td>106955</td>\n      <td>1</td>\n    </tr>\n    <tr>\n      <th>...</th>\n      <td>...</td>\n      <td>...</td>\n      <td>...</td>\n      <td>...</td>\n      <td>...</td>\n    </tr>\n    <tr>\n      <th>2171</th>\n      <td>PL</td>\n      <td>Zielonka</td>\n      <td>Zielonka</td>\n      <td>98239</td>\n      <td>1</td>\n    </tr>\n    <tr>\n      <th>2172</th>\n      <td>PL</td>\n      <td>Złoty Potok</td>\n      <td>Złoty Potok</td>\n      <td>133381</td>\n      <td>1</td>\n    </tr>\n    <tr>\n      <th>2173</th>\n      <td>PL</td>\n      <td>Żory</td>\n      <td>Żory</td>\n      <td>48437</td>\n      <td>1</td>\n    </tr>\n    <tr>\n      <th>2174</th>\n      <td>PL</td>\n      <td>Żyrardów</td>\n      <td>Żyrardów</td>\n      <td>45537</td>\n      <td>1</td>\n    </tr>\n    <tr>\n      <th>2175</th>\n      <td>PL</td>\n      <td>Żywiec</td>\n      <td>Żywiec</td>\n      <td>71510</td>\n      <td>1</td>\n    </tr>\n  </tbody>\n</table>\n<p>175 rows × 5 columns</p>\n</div>",
      "text/plain": "     country            name            city   count  locations\n2001      PL        Augustów        Augustów   88266          2\n2002      PL           Belsk           Belsk   32105          1\n2003      PL      Belsk Duży      Belsk Duży   87034          1\n2004      PL           Biała           Biała   27573          1\n2005      PL  Biała Podlaska  Biała Podlaska  106955          1\n...      ...             ...             ...     ...        ...\n2171      PL        Zielonka        Zielonka   98239          1\n2172      PL     Złoty Potok     Złoty Potok  133381          1\n2173      PL            Żory            Żory   48437          1\n2174      PL        Żyrardów        Żyrardów   45537          1\n2175      PL          Żywiec          Żywiec   71510          1\n\n[175 rows x 5 columns]"
     },
     "execution_count": 4,
     "metadata": {},
     "output_type": "execute_result"
    }
   ],
   "source": [
    "api = openaq.OpenAQ()\r\n",
    "resp = api.cities(df=True, limit=10000)\r\n",
    "\r\n",
    "# display the first 10 rows\r\n",
    "resp.query(\"country == 'PL'\")"
   ]
  },
  {
   "cell_type": "code",
   "execution_count": 5,
   "metadata": {},
   "outputs": [],
   "source": [
    "CITIES = [\"Warszawa\", \"Kraków\", \"Poznań\", \"Katowice\", \"Białystok\"]\r\n",
    "PARAMETERS = ['pm25', 'pm10', 'no2', 'so2', 'o3', 'co']\r\n",
    "LOCATIONS = [\"Warszawa-Śródmieście\", \"Kraków-\", \"Poznań\", \"Katowice\", \"Białystok-Miejska\", \"WIOŚ Elbląg ul. Bażyńskiego\"]"
   ]
  },
  {
   "cell_type": "code",
   "execution_count": 6,
   "metadata": {},
   "outputs": [],
   "source": [
    "import unicodedata\r\n",
    "\r\n",
    "def strip_accents(text):\r\n",
    "    return ''.join(c for c in unicodedata.normalize('NFKD', text.lower().replace(\"ł\",\"l\")) if unicodedata.category(c) != 'Mn')\r\n"
   ]
  },
  {
   "cell_type": "code",
   "execution_count": 7,
   "metadata": {},
   "outputs": [
    {
     "name": "stdout",
     "output_type": "stream",
     "text": [
      "Warszawa\n",
      "True\n",
      "True\n",
      "True\n",
      "True\n",
      "True\n",
      "True\n",
      "True\n",
      "True\n",
      "True\n",
      "True\n",
      "Kraków\n",
      "True\n",
      "True\n",
      "True\n",
      "True\n",
      "True\n",
      "True\n",
      "True\n",
      "True\n",
      "True\n",
      "True\n",
      "Poznań\n",
      "True\n",
      "True\n",
      "True\n",
      "True\n",
      "True\n",
      "True\n",
      "True\n",
      "True\n",
      "True\n",
      "True\n",
      "Katowice\n",
      "True\n",
      "True\n",
      "True\n",
      "True\n",
      "True\n",
      "True\n",
      "True\n",
      "True\n",
      "True\n",
      "True\n",
      "Białystok\n",
      "True\n",
      "True\n",
      "True\n",
      "True\n",
      "True\n",
      "True\n",
      "True\n",
      "True\n",
      "True\n",
      "False\n"
     ]
    }
   ],
   "source": [
    "def check_params():\r\n",
    "    return all(param in res.parameter.unique() for param in PARAMETERS) \r\n",
    "\r\n",
    "dfs = {}\r\n",
    "\r\n",
    "for city in CITIES:\r\n",
    "    print(city)\r\n",
    "    dfs[strip_accents(city)] = pd.DataFrame()\r\n",
    "    for page in range(1, 25):\r\n",
    "        if (city == \"Katowice\" or city == \"Poznań\" ) and page > 15:\r\n",
    "            continue\r\n",
    "        if city == \"Białystok\" and page > 12:\r\n",
    "            continue\r\n",
    "        res = api.measurements(city=city, page=page, limit=10000, df=True)\r\n",
    "        print(check_params())\r\n",
    "        if check_params():\r\n",
    "            dfs[strip_accents(city)] = dfs[strip_accents(city)].append(res)\r\n"
   ]
  },
  {
   "cell_type": "code",
   "execution_count": 8,
   "metadata": {},
   "outputs": [
    {
     "data": {
      "text/html": "<div>\n<style scoped>\n    .dataframe tbody tr th:only-of-type {\n        vertical-align: middle;\n    }\n\n    .dataframe tbody tr th {\n        vertical-align: top;\n    }\n\n    .dataframe thead th {\n        text-align: right;\n    }\n</style>\n<table border=\"1\" class=\"dataframe\">\n  <thead>\n    <tr style=\"text-align: right;\">\n      <th></th>\n      <th>location</th>\n      <th>parameter</th>\n      <th>value</th>\n      <th>unit</th>\n      <th>country</th>\n      <th>city</th>\n      <th>date.utc</th>\n      <th>coordinates.latitude</th>\n      <th>coordinates.longitude</th>\n    </tr>\n    <tr>\n      <th>date.local</th>\n      <th></th>\n      <th></th>\n      <th></th>\n      <th></th>\n      <th></th>\n      <th></th>\n      <th></th>\n      <th></th>\n      <th></th>\n    </tr>\n  </thead>\n  <tbody>\n    <tr>\n      <th>2020-12-22 16:00:00</th>\n      <td>Białystok-Warszawska</td>\n      <td>o3</td>\n      <td>22.00</td>\n      <td>b'\\xc2\\xb5g/m\\xc2\\xb3'</td>\n      <td>PL</td>\n      <td>Białystok</td>\n      <td>2020-12-22 15:00:00+00:00</td>\n      <td>53.129306</td>\n      <td>23.181744</td>\n    </tr>\n    <tr>\n      <th>2020-12-22 16:00:00</th>\n      <td>Białystok-Miejska</td>\n      <td>no2</td>\n      <td>10.10</td>\n      <td>b'\\xc2\\xb5g/m\\xc2\\xb3'</td>\n      <td>PL</td>\n      <td>Białystok</td>\n      <td>2020-12-22 15:00:00+00:00</td>\n      <td>53.126689</td>\n      <td>23.155869</td>\n    </tr>\n    <tr>\n      <th>2020-12-22 16:00:00</th>\n      <td>Białystok-Miejska</td>\n      <td>co</td>\n      <td>417.00</td>\n      <td>b'\\xc2\\xb5g/m\\xc2\\xb3'</td>\n      <td>PL</td>\n      <td>Białystok</td>\n      <td>2020-12-22 15:00:00+00:00</td>\n      <td>53.126689</td>\n      <td>23.155869</td>\n    </tr>\n    <tr>\n      <th>2020-12-22 16:00:00</th>\n      <td>Białystok-Miejska</td>\n      <td>bc</td>\n      <td>0.84</td>\n      <td>b'\\xc2\\xb5g/m\\xc2\\xb3'</td>\n      <td>PL</td>\n      <td>Białystok</td>\n      <td>2020-12-22 15:00:00+00:00</td>\n      <td>53.126689</td>\n      <td>23.155869</td>\n    </tr>\n    <tr>\n      <th>2020-12-22 16:00:00</th>\n      <td>Białystok-Warszawska</td>\n      <td>pm10</td>\n      <td>26.28</td>\n      <td>b'\\xc2\\xb5g/m\\xc2\\xb3'</td>\n      <td>PL</td>\n      <td>Białystok</td>\n      <td>2020-12-22 15:00:00+00:00</td>\n      <td>53.129306</td>\n      <td>23.181744</td>\n    </tr>\n  </tbody>\n</table>\n</div>",
      "text/plain": "                                 location parameter   value  \\\ndate.local                                                    \n2020-12-22 16:00:00  Białystok-Warszawska        o3   22.00   \n2020-12-22 16:00:00     Białystok-Miejska       no2   10.10   \n2020-12-22 16:00:00     Białystok-Miejska        co  417.00   \n2020-12-22 16:00:00     Białystok-Miejska        bc    0.84   \n2020-12-22 16:00:00  Białystok-Warszawska      pm10   26.28   \n\n                                       unit country       city  \\\ndate.local                                                       \n2020-12-22 16:00:00  b'\\xc2\\xb5g/m\\xc2\\xb3'      PL  Białystok   \n2020-12-22 16:00:00  b'\\xc2\\xb5g/m\\xc2\\xb3'      PL  Białystok   \n2020-12-22 16:00:00  b'\\xc2\\xb5g/m\\xc2\\xb3'      PL  Białystok   \n2020-12-22 16:00:00  b'\\xc2\\xb5g/m\\xc2\\xb3'      PL  Białystok   \n2020-12-22 16:00:00  b'\\xc2\\xb5g/m\\xc2\\xb3'      PL  Białystok   \n\n                                     date.utc  coordinates.latitude  \\\ndate.local                                                            \n2020-12-22 16:00:00 2020-12-22 15:00:00+00:00             53.129306   \n2020-12-22 16:00:00 2020-12-22 15:00:00+00:00             53.126689   \n2020-12-22 16:00:00 2020-12-22 15:00:00+00:00             53.126689   \n2020-12-22 16:00:00 2020-12-22 15:00:00+00:00             53.126689   \n2020-12-22 16:00:00 2020-12-22 15:00:00+00:00             53.129306   \n\n                     coordinates.longitude  \ndate.local                                  \n2020-12-22 16:00:00              23.181744  \n2020-12-22 16:00:00              23.155869  \n2020-12-22 16:00:00              23.155869  \n2020-12-22 16:00:00              23.155869  \n2020-12-22 16:00:00              23.181744  "
     },
     "execution_count": 8,
     "metadata": {},
     "output_type": "execute_result"
    }
   ],
   "source": [
    "dfs[\"bialystok\"].head()"
   ]
  },
  {
   "cell_type": "code",
   "execution_count": 9,
   "metadata": {},
   "outputs": [],
   "source": [
    "organized_dfs = {}\r\n",
    "\r\n",
    "for city in CITIES:    \r\n",
    "    df_avg = pd.DataFrame()\r\n",
    "    for param in PARAMETERS:\r\n",
    "        df_avg[param] = dfs[strip_accents(city)].loc[dfs[strip_accents(city)][\"parameter\"] == param].resample('D').mean()[\"value\"]\r\n",
    "        organized_dfs[strip_accents(city)] = df_avg\r\n",
    "        "
   ]
  },
  {
   "cell_type": "code",
   "execution_count": null,
   "metadata": {},
   "outputs": [],
   "source": [
    "output = pd.concat([organized_dfs[strip_accents(city)] for city in CITIES], axis=1, keys=[strip_accents(city) for city in CITIES])"
   ]
  },
  {
   "cell_type": "code",
   "execution_count": null,
   "metadata": {},
   "outputs": [],
   "source": [
    "output.to_csv(\"airq_data_1.csv\")"
   ]
  }
 ],
 "metadata": {
  "kernelspec": {
   "display_name": "Python 3.8.2 64-bit ('.venv')",
   "metadata": {
    "interpreter": {
     "hash": "c72aa234833b301e2f3682b00c720ead16def47389b468b3b25c2ea5dfc1217d"
    }
   },
   "name": "python3"
  },
  "language_info": {
   "codemirror_mode": {
    "name": "ipython",
    "version": 3
   },
   "file_extension": ".py",
   "mimetype": "text/x-python",
   "name": "python",
   "nbconvert_exporter": "python",
   "pygments_lexer": "ipython3",
   "version": "3.8.2-final"
  },
  "orig_nbformat": 2
 },
 "nbformat": 4,
 "nbformat_minor": 2
}